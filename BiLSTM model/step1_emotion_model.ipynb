{
 "cells": [
  {
   "cell_type": "code",
   "execution_count": 1,
   "metadata": {},
   "outputs": [
    {
     "name": "stdout",
     "output_type": "stream",
     "text": [
      "1236\n",
      "138\n"
     ]
    }
   ],
   "source": [
    "from encoder_paths import *\n",
    "import json\n",
    "from pprint import pprint\n",
    "TRAIN_FILE_PATH = \"/tmp/semeval24_task3/SemEval-2024_Task3/official_data/Training_data/text/training.json\"\n",
    "VALIDATION_FILE_PATH = \"/tmp/semeval24_task3/SemEval-2024_Task3/official_data/Training_data/text/testing.json\"\n",
    "with open(TRAIN_FILE_PATH) as f:\n",
    "    train_data = json.load(f)\n",
    "with open(VALIDATION_FILE_PATH) as f:\n",
    "    validation_data = json.load(f)\n",
    "\n",
    "pprint(len(train_data))\n",
    "pprint(len(validation_data))"
   ]
  },
  {
   "cell_type": "code",
   "execution_count": 2,
   "metadata": {},
   "outputs": [
    {
     "name": "stdout",
     "output_type": "stream",
     "text": [
      "[2059, 1024, 1472, 5282, 1647, 369, 326]\n",
      "[0.00048567265662943174, 0.0009765625, 0.0006793478260869565, 0.0001893222264293828, 0.0006071645415907711, 0.0027100271002710027, 0.003067484662576687]\n"
     ]
    }
   ],
   "source": [
    "class EmotionIndexer:\n",
    "    def __init__(self):\n",
    "        self.emotion_to_index = {\n",
    "            'joy': 0,\n",
    "            'sadness': 1,\n",
    "            'anger': 2,\n",
    "            'neutral': 3,\n",
    "            'surprise': 4,\n",
    "            'disgust': 5,\n",
    "            'fear': 6,\n",
    "            'pad': 7,\n",
    "        }\n",
    "        self.emotion_freq = [0]*7\n",
    "        self.weights = None\n",
    "\n",
    "        self.index_to_emotion = {index: emotion for emotion, index in self.emotion_to_index.items()}\n",
    "\n",
    "    def emotion_to_idx(self, emotion):\n",
    "        return self.emotion_to_index.get(emotion, None)\n",
    "\n",
    "    def idx_to_emotion(self, index):\n",
    "        return self.index_to_emotion.get(index, None)\n",
    "    \n",
    "    def compute_weights(self, data):\n",
    "        for conversation in data:\n",
    "            conversation = conversation['conversation']\n",
    "            for utterance in conversation:\n",
    "                emotion = utterance['emotion']\n",
    "                self.emotion_freq[self.emotion_to_index[emotion]] += 1\n",
    "        print(self.emotion_freq)\n",
    "        self.weights = [1/freq for freq in self.emotion_freq]\n",
    "\n",
    "# Example usage\n",
    "indexer = EmotionIndexer()\n",
    "indexer.compute_weights(train_data)\n",
    "print(indexer.weights)"
   ]
  },
  {
   "cell_type": "code",
   "execution_count": 3,
   "metadata": {},
   "outputs": [
    {
     "name": "stdout",
     "output_type": "stream",
     "text": [
      "{'disgust', 'sadness', 'fear', 'joy', 'neutral', 'anger', 'surprise'}\n"
     ]
    }
   ],
   "source": [
    "all_emotions = set()\n",
    "for conversation in train_data:\n",
    "    conversation = conversation[\"conversation\"]\n",
    "    for utterance in conversation:\n",
    "        all_emotions.add(utterance[\"emotion\"])\n",
    "pprint(all_emotions)"
   ]
  },
  {
   "cell_type": "code",
   "execution_count": null,
   "metadata": {},
   "outputs": [],
   "source": []
  },
  {
   "cell_type": "code",
   "execution_count": 4,
   "metadata": {},
   "outputs": [
    {
     "name": "stderr",
     "output_type": "stream",
     "text": [
      "/home2/suyash.mathur/anaconda3/envs/mindeye/lib/python3.10/site-packages/tqdm/auto.py:21: TqdmWarning: IProgress not found. Please update jupyter and ipywidgets. See https://ipywidgets.readthedocs.io/en/stable/user_install.html\n",
      "  from .autonotebook import tqdm as notebook_tqdm\n"
     ]
    }
   ],
   "source": [
    "import torch\n",
    "import json\n",
    "import os\n",
    "from torch.utils.data import Dataset, DataLoader\n",
    "from torchvision.io import read_video\n",
    "from torchvision.transforms import functional as F\n",
    "from PIL import Image\n",
    "import numpy as np"
   ]
  },
  {
   "cell_type": "code",
   "execution_count": 5,
   "metadata": {
    "collapsed": true,
    "jupyter": {
     "outputs_hidden": true
    },
    "tags": []
   },
   "outputs": [],
   "source": [
    "# video_id_mapping = np.load(\"/home2/akshett.jindal/research/semeval24/task3/MECPE/data/video_id_mapping.npy\", allow_pickle=True)\n",
    "# print(video_id_mapping)\n",
    "# video_id_mapping = video_id_mapping.item()"
   ]
  },
  {
   "cell_type": "code",
   "execution_count": 6,
   "metadata": {},
   "outputs": [],
   "source": [
    "import torch\n",
    "import pickle\n",
    "\n",
    "class YourAudioEncoder():\n",
    "    def __init__(self, audio_embeddings_path):\n",
    "        with open(audio_embeddings_path, \"rb\") as f:\n",
    "            self.audio_embeddings = pickle.load(f)\n",
    "\n",
    "    def lmao(self, audio_name):\n",
    "        audio_name = audio_name.split(\".\")[0]\n",
    "        audio_embedding = self.audio_embeddings[audio_name]\n",
    "        audio_embedding = audio_embedding.squeeze()\n",
    "        return torch.from_numpy(audio_embedding)\n",
    "    \n",
    "class YourVideoEncoder():\n",
    "    def __init__(self, video_embeddings_path):\n",
    "        with open(video_embeddings_path, \"rb\") as f:\n",
    "            self.video_embeddings = pickle.load(f)\n",
    "\n",
    "    def lmao(self, video_name):\n",
    "        # video_name = video_name.split(\".\")[0]\n",
    "        video_embedding = self.video_embeddings[video_name].reshape((16,-1))\n",
    "        video_embedding = np.mean(video_embedding, axis=0)\n",
    "        return torch.from_numpy(video_embedding)\n",
    "\n",
    "class YourTextEncoder():\n",
    "    def __init__(self, text_embeddings_path):\n",
    "        with open(text_embeddings_path, \"rb\") as f:\n",
    "            self.text_embeddings = pickle.load(f)\n",
    "\n",
    "    def lmao(self, video_name):\n",
    "        text_embedding = self.text_embeddings[video_name]\n",
    "        return torch.from_numpy(text_embedding)\n"
   ]
  },
  {
   "cell_type": "code",
   "execution_count": 7,
   "metadata": {},
   "outputs": [],
   "source": [
    "class ConversationDataset(Dataset):\n",
    "    def __init__(self, json_file, audio_encoder, video_encoder, text_encoder, max_seq_len):\n",
    "        self.max_seq_len = max_seq_len\n",
    "        self.data = self.load_data(json_file)\n",
    "        self.audio_encoder = audio_encoder\n",
    "        self.video_encoder = video_encoder\n",
    "        self.text_encoder = text_encoder\n",
    "\n",
    "    def load_data(self, json_file):\n",
    "        with open(json_file, 'r') as f:\n",
    "            data = json.load(f)\n",
    "        return data\n",
    "\n",
    "    def __len__(self):\n",
    "        return len(self.data)\n",
    "\n",
    "    def __getitem__(self, idx):\n",
    "        conversation = self.data[idx]['conversation']\n",
    "        emotion_labels = [utterance['emotion'] for utterance in conversation]\n",
    "        audio_paths = [utterance['video_name'].replace('mp4', 'wav') for utterance in conversation]\n",
    "        video_paths = [utterance['video_name'] for utterance in conversation]\n",
    "        texts = [utterance['video_name'] for utterance in conversation]\n",
    "\n",
    "        audio_embeddings = [self.audio_encoder.lmao(audio_path) for audio_path in audio_paths]\n",
    "        video_embeddings = [self.video_encoder.lmao(video_path) for video_path in video_paths]\n",
    "        text_embeddings = [self.text_encoder.lmao(text) for text in texts]\n",
    "\n",
    "        # Pad or truncate conversations to the maximum sequence length\n",
    "        if len(conversation) < self.max_seq_len:\n",
    "            pad_length = self.max_seq_len - len(conversation)\n",
    "            audio_embeddings += [torch.zeros_like(audio_embeddings[0])] * pad_length\n",
    "            video_embeddings += [torch.zeros_like(video_embeddings[0])] * pad_length\n",
    "            text_embeddings += [torch.zeros_like(text_embeddings[0])] * pad_length\n",
    "            emotion_labels += ['pad'] * pad_length\n",
    "            pad_mask = [1] * len(conversation) + [0] * pad_length\n",
    "        else:\n",
    "            audio_embeddings = audio_embeddings[:self.max_seq_len]\n",
    "            video_embeddings = video_embeddings[:self.max_seq_len]\n",
    "            text_embeddings = text_embeddings[:self.max_seq_len]\n",
    "            emotion_labels = emotion_labels[:self.max_seq_len]\n",
    "            pad_mask = [1] * self.max_seq_len\n",
    "\n",
    "        emotion_indices = [indexer.emotion_to_idx(emotion) for emotion in emotion_labels]\n",
    "        \n",
    "        audio_embeddings = torch.stack(audio_embeddings)\n",
    "        video_embeddings = torch.stack(video_embeddings)\n",
    "        text_embeddings = torch.stack(text_embeddings)\n",
    "        emotion_indices = torch.from_numpy(np.array(emotion_indices))\n",
    "        pad_mask = torch.from_numpy(np.array(pad_mask))\n",
    "        \n",
    "        return {\n",
    "            'audio': audio_embeddings,\n",
    "            'video': video_embeddings,\n",
    "            'text': text_embeddings,\n",
    "            'emotion_labels': emotion_indices,\n",
    "            'pad_mask': pad_mask,\n",
    "        }\n",
    "# Example usage\n",
    "# You need to define your audio, video, and text encoders accordingly\n",
    "\n",
    "# Define your data paths\n",
    "# DATA_DIR = \"/tmp/semeval24_task3\"\n",
    "\n",
    "# AUDIO_EMBEDDINGS_FILEPATH = \"/tmp/semeval24_task3/og_paper_embeddings/audio_embedding_6373.npy\"\n",
    "# VIDEO_EMBEDDINGS_FILEPATH = \"/tmp/semeval24_task3/og_paper_embeddings/video_embedding_4096.npy\"\n",
    "# TEXT_EMBEDDINGS_FILEPATH = os.path.join(DATA_DIR, \"text_embeddings\", \"text_embeddings_bert_base.pkl\")\n",
    "\n",
    "audio_encoder = YourAudioEncoder(AUDIO_EMBEDDINGS_FILEPATH)\n",
    "video_encoder = YourVideoEncoder(VIDEO_EMBEDDINGS_FILEPATH)\n",
    "text_encoder = YourTextEncoder(TEXT_EMBEDDINGS_FILEPATH)\n",
    "max_seq_len = 40  # Adjust this according to your needs\n",
    "\n",
    "# Create the dataset and dataloader\n",
    "train_dataset = ConversationDataset(TRAIN_FILE_PATH, audio_encoder, video_encoder, text_encoder, max_seq_len)\n",
    "train_dataloader = DataLoader(train_dataset, batch_size=16, shuffle=True)\n",
    "\n",
    "validation_dataset = ConversationDataset(VALIDATION_FILE_PATH, audio_encoder, video_encoder, text_encoder, max_seq_len)\n",
    "validation_dataloader = DataLoader(validation_dataset, batch_size=16, shuffle=True)\n",
    "\n",
    "# Example of iterating through batches\n",
    "# for batch in dataloader:\n",
    "#     audio = batch['audio']  # Shape: (batch_size, max_seq_len, audio_embedding_size)\n",
    "#     video = batch['video']  # Shape: (batch_size, max_seq_len, video_embedding_size)\n",
    "#     text = batch['text']    # Shape: (batch_size, max_seq_len, text_embedding_size)\n",
    "#     emotions = batch['emotion_labels']  # List of emotion labels for each utterance in the batch\n"
   ]
  },
  {
   "cell_type": "code",
   "execution_count": 8,
   "metadata": {},
   "outputs": [],
   "source": [
    "# import torch\n",
    "# import torch.nn as nn\n",
    "# from torch.nn import TransformerEncoder, TransformerEncoderLayer\n",
    "\n",
    "# class EmotionClassifier(nn.Module):\n",
    "#     def __init__(self, input_size, hidden_size, num_layers, num_heads, dropout, num_emotions):\n",
    "#         super(EmotionClassifier, self).__init__()\n",
    "        \n",
    "#         self.first_linear = nn.Linear(input_size, hidden_size, dtype=torch.float32)\n",
    "\n",
    "#         self.transformer_encoder = TransformerEncoder(\n",
    "#             TransformerEncoderLayer(hidden_size, num_heads, hidden_size, dropout),\n",
    "#             num_layers\n",
    "#         )\n",
    "        \n",
    "#         self.linear = nn.Linear(hidden_size, num_emotions)\n",
    "\n",
    "#     def forward(self, audio_encoding, video_encoding, text_encoding):\n",
    "\n",
    "#         # Concatenate or combine the audio, video, and text encodings here\n",
    "#         # You can use any method like concatenation, addition, or other fusion techniques\n",
    "#         # Combine the encodings (you can customize this part)\n",
    "#         audio_encoding = audio_encoding.float()\n",
    "#         video_encoding = video_encoding.float()\n",
    "#         text_encoding = text_encoding.float().squeeze()\n",
    "#         combined_encoding = torch.cat((audio_encoding, video_encoding, text_encoding), dim=2)\n",
    "        \n",
    "#         combined_encoding = self.first_linear(combined_encoding)\n",
    "        \n",
    "        \n",
    "#         combined_encoding = combined_encoding.permute(1, 0, 2)  # Transformer expects (seq_len, batch_size, input_size)\n",
    "        \n",
    "        \n",
    "#         transformer_output = self.transformer_encoder(combined_encoding)\n",
    "\n",
    "#         # Take the output of the Transformer encoder for the last position as the summary\n",
    "#         emotion_logits = self.linear(transformer_output.permute(1, 0, 2))\n",
    "#         # Apply a softmax layer\n",
    "#         emotion_logits = torch.softmax(emotion_logits, dim=2)\n",
    "\n",
    "#         return emotion_logits"
   ]
  },
  {
   "cell_type": "code",
   "execution_count": 9,
   "metadata": {},
   "outputs": [],
   "source": [
    "import torch\n",
    "import torch.nn as nn\n",
    "\n",
    "class EmotionClassifier(nn.Module):\n",
    "    def __init__(self, input_size, hidden_size, num_layers, dropout, num_emotions, embedding_dropout=0.2):\n",
    "        super(EmotionClassifier, self).__init__()\n",
    "        \n",
    "        self.audio_dropout = nn.Dropout(embedding_dropout)\n",
    "        self.video_dropout = nn.Dropout(embedding_dropout)\n",
    "        self.text_dropout = nn.Dropout(embedding_dropout)\n",
    "\n",
    "        # self.first_linear = nn.Linear(input_size, hidden_size, dtype=torch.float32)\n",
    "        self.relu = nn.ReLU()\n",
    "        \n",
    "        # self.second_linear_layer = nn.Linear(hidden_size, hidden_size, dtype=torch.float32)\n",
    "        # Replace Transformer with BiLSTM\n",
    "        self.bilstm = nn.LSTM(input_size, input_size // 2, num_layers, \n",
    "                              dropout=dropout, bidirectional=True, batch_first=True)\n",
    "        \n",
    "        self.linear = nn.Linear(input_size, hidden_size)\n",
    "        self.final_linear = nn.Linear(hidden_size, num_emotions)\n",
    "\n",
    "    def forward(self, audio_encoding, video_encoding, text_encoding):\n",
    "        # Concatenate or combine the audio, video, and text encodings\n",
    "        audio_encoding = audio_encoding.float()\n",
    "        video_encoding = video_encoding.float()\n",
    "        text_encoding = text_encoding.float().squeeze()\n",
    "        \n",
    "        audio_encoding = self.audio_dropout(audio_encoding)\n",
    "        video_encoding = self.video_dropout(video_encoding)\n",
    "        text_encoding = self.text_dropout(text_encoding)\n",
    "        \n",
    "        combined_encoding = torch.cat((audio_encoding, video_encoding, text_encoding), dim=2)\n",
    "        \n",
    "        # Pass through BiLSTM\n",
    "        lstm_output, _ = self.bilstm(combined_encoding)\n",
    "\n",
    "        # Take the output of the BiLSTM\n",
    "        emotion_logits = self.linear(lstm_output)\n",
    "        emotion_logits = self.relu(emotion_logits)\n",
    "        emotion_logits = self.final_linear(emotion_logits)\n",
    "        # Apply a softmax layer\n",
    "        emotion_logits = torch.softmax(emotion_logits, dim=2)\n",
    "\n",
    "        return emotion_logits"
   ]
  },
  {
   "cell_type": "code",
   "execution_count": 10,
   "metadata": {},
   "outputs": [],
   "source": [
    "from typing import Optional, Sequence\n",
    "\n",
    "import torch\n",
    "from torch import Tensor\n",
    "from torch import nn\n",
    "from torch.nn import functional as F\n",
    "\n",
    "\n",
    "class FocalLoss(nn.Module):\n",
    "    \"\"\" Focal Loss, as described in https://arxiv.org/abs/1708.02002.\n",
    "\n",
    "    It is essentially an enhancement to cross entropy loss and is\n",
    "    useful for classification tasks when there is a large class imbalance.\n",
    "    x is expected to contain raw, unnormalized scores for each class.\n",
    "    y is expected to contain class labels.\n",
    "\n",
    "    Shape:\n",
    "        - x: (batch_size, C) or (batch_size, C, d1, d2, ..., dK), K > 0.\n",
    "        - y: (batch_size,) or (batch_size, d1, d2, ..., dK), K > 0.\n",
    "    \"\"\"\n",
    "\n",
    "    def __init__(self,\n",
    "                 alpha: Optional[Tensor] = None,\n",
    "                 gamma: float = 0.,\n",
    "                 reduction: str = 'mean',\n",
    "                 ignore_index: int = -100):\n",
    "        \"\"\"Constructor.\n",
    "\n",
    "        Args:\n",
    "            alpha (Tensor, optional): Weights for each class. Defaults to None.\n",
    "            gamma (float, optional): A constant, as described in the paper.\n",
    "                Defaults to 0.\n",
    "            reduction (str, optional): 'mean', 'sum' or 'none'.\n",
    "                Defaults to 'mean'.\n",
    "            ignore_index (int, optional): class label to ignore.\n",
    "                Defaults to -100.\n",
    "        \"\"\"\n",
    "        if reduction not in ('mean', 'sum', 'none'):\n",
    "            raise ValueError(\n",
    "                'Reduction must be one of: \"mean\", \"sum\", \"none\".')\n",
    "\n",
    "        super().__init__()\n",
    "        self.alpha = alpha\n",
    "        self.gamma = gamma\n",
    "        self.ignore_index = ignore_index\n",
    "        self.reduction = reduction\n",
    "\n",
    "        self.nll_loss = nn.NLLLoss(\n",
    "            weight=alpha, reduction='none', ignore_index=ignore_index)\n",
    "\n",
    "    def __repr__(self):\n",
    "        arg_keys = ['alpha', 'gamma', 'ignore_index', 'reduction']\n",
    "        arg_vals = [self.__dict__[k] for k in arg_keys]\n",
    "        arg_strs = [f'{k}={v!r}' for k, v in zip(arg_keys, arg_vals)]\n",
    "        arg_str = ', '.join(arg_strs)\n",
    "        return f'{type(self).__name__}({arg_str})'\n",
    "\n",
    "    def forward(self, x: Tensor, y: Tensor) -> Tensor:\n",
    "        if x.ndim > 2:\n",
    "            # (N, C, d1, d2, ..., dK) --> (N * d1 * ... * dK, C)\n",
    "            c = x.shape[1]\n",
    "            x = x.permute(0, *range(2, x.ndim), 1).reshape(-1, c)\n",
    "            # (N, d1, d2, ..., dK) --> (N * d1 * ... * dK,)\n",
    "            y = y.view(-1)\n",
    "\n",
    "        unignored_mask = y != self.ignore_index\n",
    "        y = y[unignored_mask]\n",
    "        if len(y) == 0:\n",
    "            return torch.tensor(0.)\n",
    "        x = x[unignored_mask]\n",
    "\n",
    "        # compute weighted cross entropy term: -alpha * log(pt)\n",
    "        # (alpha is already part of self.nll_loss)\n",
    "        log_p = F.log_softmax(x, dim=-1)\n",
    "        ce = self.nll_loss(log_p, y)\n",
    "\n",
    "        # get true class column from each row\n",
    "        all_rows = torch.arange(len(x))\n",
    "        log_pt = log_p[all_rows, y]\n",
    "\n",
    "        # compute focal term: (1 - pt)^gamma\n",
    "        pt = log_pt.exp()\n",
    "        focal_term = (1 - pt)**self.gamma\n",
    "\n",
    "        # the full loss: -alpha * ((1 - pt)^gamma) * log(pt)\n",
    "        loss = focal_term * ce\n",
    "\n",
    "        if self.reduction == 'mean':\n",
    "            loss = loss.mean()\n",
    "        elif self.reduction == 'sum':\n",
    "            loss = loss.sum()\n",
    "\n",
    "        return loss\n",
    "\n",
    "\n",
    "# def focal_loss(alpha: Optional[Sequence] = None,\n",
    "#                gamma: float = 0.,\n",
    "#                reduction: str = 'mean',\n",
    "#                ignore_index: int = -100,\n",
    "#                device='cpu',\n",
    "#                dtype=torch.float32) -> FocalLoss:\n",
    "#     \"\"\"Factory function for FocalLoss.\n",
    "\n",
    "#     Args:\n",
    "#         alpha (Sequence, optional): Weights for each class. Will be converted\n",
    "#             to a Tensor if not None. Defaults to None.\n",
    "#         gamma (float, optional): A constant, as described in the paper.\n",
    "#             Defaults to 0.\n",
    "#         reduction (str, optional): 'mean', 'sum' or 'none'.\n",
    "#             Defaults to 'mean'.\n",
    "#         ignore_index (int, optional): class label to ignore.\n",
    "#             Defaults to -100.\n",
    "#         device (str, optional): Device to move alpha to. Defaults to 'cpu'.\n",
    "#         dtype (torch.dtype, optional): dtype to cast alpha to.\n",
    "#             Defaults to torch.float32.\n",
    "\n",
    "#     Returns:\n",
    "#         A FocalLoss object\n",
    "#     \"\"\"\n",
    "#     if alpha is not None:\n",
    "#         if not isinstance(alpha, Tensor):\n",
    "#             alpha = torch.tensor(alpha)\n",
    "#         alpha = alpha.to(device=device, dtype=dtype)\n",
    "\n",
    "#     fl = FocalLoss(\n",
    "#         alpha=alpha,\n",
    "#         gamma=gamma,\n",
    "#         reduction=reduction,\n",
    "#         ignore_index=ignore_index)\n",
    "#     return fl"
   ]
  },
  {
   "cell_type": "code",
   "execution_count": 11,
   "metadata": {},
   "outputs": [],
   "source": [
    "# # Define Focal Loss\n",
    "# import torch.nn.functional as F\n",
    "\n",
    "# class FocalLoss(nn.Module):\n",
    "#     def __init__(self, gamma=2.0, reduction='mean'):\n",
    "#         super(FocalLoss, self).__init__()\n",
    "#         self.gamma = gamma\n",
    "#         self.reduction = reduction\n",
    "\n",
    "#     def forward(self, input, target):\n",
    "#         # Calculate Cross-Entropy Loss, but do not reduce (keep the same shape as input)\n",
    "#         ce_loss = F.cross_entropy(input, target, reduction='none') \n",
    "#         pt = torch.exp(-ce_loss)  # Calculate p_t\n",
    "#         focal_loss = ((1 - pt) ** self.gamma * ce_loss).mean()  # Calculate Focal Loss\n",
    "\n",
    "#         if self.reduction == 'mean':\n",
    "#             return focal_loss.mean()\n",
    "#         elif self.reduction == 'sum':\n",
    "#             return focal_loss.sum()\n",
    "#         else:\n",
    "#             return focal_loss\n",
    "\n",
    "# # Replace the loss function with Focal Loss"
   ]
  },
  {
   "cell_type": "code",
   "execution_count": 12,
   "metadata": {
    "tags": []
   },
   "outputs": [
    {
     "name": "stdout",
     "output_type": "stream",
     "text": [
      "[2059, 1024, 1472, 5282, 1647, 369, 326]\n"
     ]
    }
   ],
   "source": [
    "print(indexer.emotion_freq)"
   ]
  },
  {
   "cell_type": "code",
   "execution_count": 13,
   "metadata": {
    "tags": []
   },
   "outputs": [
    {
     "name": "stdout",
     "output_type": "stream",
     "text": [
      "{'joy': 0, 'sadness': 1, 'anger': 2, 'neutral': 3, 'surprise': 4, 'disgust': 5, 'fear': 6, 'pad': 7}\n"
     ]
    }
   ],
   "source": [
    "print(indexer.emotion_to_index)\n",
    "# 1 1 1 0.25 1 3 3"
   ]
  },
  {
   "cell_type": "code",
   "execution_count": 14,
   "metadata": {
    "collapsed": true,
    "jupyter": {
     "outputs_hidden": true
    },
    "tags": []
   },
   "outputs": [
    {
     "name": "stdout",
     "output_type": "stream",
     "text": [
      "/tmp/semeval24_task3/text_embeddings/text_embeddings_roberta_base_emotion.pkl\n",
      "/tmp/semeval24_task3/audio_embeddings/audio_embeddings_microsoft_wavlm-base-plus-sd.pkl\n",
      "/tmp/semeval24_task3/video_embeddings/final_embeddings.pkl\n"
     ]
    },
    {
     "name": "stderr",
     "output_type": "stream",
     "text": [
      "100%|██████████| 78/78 [00:09<00:00,  8.33it/s]\n",
      "100%|██████████| 9/9 [00:00<00:00, 19.71it/s]\n",
      "/home2/suyash.mathur/anaconda3/envs/mindeye/lib/python3.10/site-packages/sklearn/metrics/_classification.py:1471: UndefinedMetricWarning: Precision and F-score are ill-defined and being set to 0.0 in labels with no predicted samples. Use `zero_division` parameter to control this behavior.\n",
      "  _warn_prf(average, modifier, msg_start, len(result))\n",
      "/home2/suyash.mathur/anaconda3/envs/mindeye/lib/python3.10/site-packages/sklearn/metrics/_classification.py:1471: UndefinedMetricWarning: Precision and F-score are ill-defined and being set to 0.0 in labels with no predicted samples. Use `zero_division` parameter to control this behavior.\n",
      "  _warn_prf(average, modifier, msg_start, len(result))\n",
      "/home2/suyash.mathur/anaconda3/envs/mindeye/lib/python3.10/site-packages/sklearn/metrics/_classification.py:1471: UndefinedMetricWarning: Precision and F-score are ill-defined and being set to 0.0 in labels with no predicted samples. Use `zero_division` parameter to control this behavior.\n",
      "  _warn_prf(average, modifier, msg_start, len(result))\n"
     ]
    },
    {
     "name": "stdout",
     "output_type": "stream",
     "text": [
      "Epoch [1/60] Training Loss: 0.012293574433969213\n",
      "Epoch [1/60] Validation Loss: 0.011747000697586272\n",
      "              precision    recall  f1-score   support\n",
      "\n",
      "           0       0.30      0.70      0.42       242\n",
      "           1       0.09      0.02      0.03       123\n",
      "           2       0.19      0.50      0.27       143\n",
      "           3       0.55      0.02      0.03       647\n",
      "           4       0.24      0.55      0.34       193\n",
      "           5       0.00      0.00      0.00        45\n",
      "           6       0.00      0.00      0.00        47\n",
      "\n",
      "    accuracy                           0.25      1440\n",
      "   macro avg       0.20      0.26      0.16      1440\n",
      "weighted avg       0.36      0.25      0.16      1440\n",
      "\n",
      "Epoch [1/60] Accuracy: 0.1968\n"
     ]
    },
    {
     "name": "stderr",
     "output_type": "stream",
     "text": [
      "100%|██████████| 78/78 [00:09<00:00,  8.43it/s]\n",
      "100%|██████████| 9/9 [00:00<00:00, 20.33it/s]\n"
     ]
    },
    {
     "name": "stdout",
     "output_type": "stream",
     "text": [
      "Epoch [2/60] Training Loss: 0.011759639060382764\n",
      "Epoch [2/60] Validation Loss: 0.011341487202379439\n",
      "              precision    recall  f1-score   support\n",
      "\n",
      "           0       0.35      0.73      0.48       242\n",
      "           1       0.33      0.32      0.32       123\n",
      "           2       0.24      0.36      0.29       143\n",
      "           3       0.64      0.20      0.30       647\n",
      "           4       0.38      0.68      0.49       193\n",
      "           5       0.05      0.07      0.05        45\n",
      "           6       0.00      0.00      0.00        47\n",
      "\n",
      "    accuracy                           0.37      1440\n",
      "   macro avg       0.28      0.34      0.28      1440\n",
      "weighted avg       0.45      0.37      0.34      1440\n",
      "\n",
      "Epoch [2/60] Accuracy: 0.3490\n"
     ]
    },
    {
     "name": "stderr",
     "output_type": "stream",
     "text": [
      "100%|██████████| 78/78 [00:09<00:00,  8.43it/s]\n",
      "100%|██████████| 9/9 [00:00<00:00, 19.50it/s]\n"
     ]
    },
    {
     "name": "stdout",
     "output_type": "stream",
     "text": [
      "Epoch [3/60] Training Loss: 0.011444623388673629\n",
      "Epoch [3/60] Validation Loss: 0.011225676867696974\n",
      "              precision    recall  f1-score   support\n",
      "\n",
      "           0       0.45      0.62      0.53       242\n",
      "           1       0.21      0.63      0.32       123\n",
      "           2       0.24      0.06      0.10       143\n",
      "           3       0.69      0.25      0.37       647\n",
      "           4       0.40      0.71      0.51       193\n",
      "           5       0.05      0.02      0.03        45\n",
      "           6       0.07      0.15      0.09        47\n",
      "\n",
      "    accuracy                           0.38      1440\n",
      "   macro avg       0.30      0.35      0.28      1440\n",
      "weighted avg       0.49      0.38      0.36      1440\n",
      "\n",
      "Epoch [3/60] Accuracy: 0.4093\n"
     ]
    },
    {
     "name": "stderr",
     "output_type": "stream",
     "text": [
      "100%|██████████| 78/78 [00:09<00:00,  8.28it/s]\n",
      "100%|██████████| 9/9 [00:00<00:00, 19.61it/s]\n"
     ]
    },
    {
     "name": "stdout",
     "output_type": "stream",
     "text": [
      "Epoch [4/60] Training Loss: 0.01129603106964397\n",
      "Epoch [4/60] Validation Loss: 0.011122188965479533\n",
      "              precision    recall  f1-score   support\n",
      "\n",
      "           0       0.43      0.68      0.53       242\n",
      "           1       0.31      0.57      0.40       123\n",
      "           2       0.36      0.10      0.16       143\n",
      "           3       0.69      0.44      0.53       647\n",
      "           4       0.52      0.46      0.49       193\n",
      "           5       0.10      0.20      0.13        45\n",
      "           6       0.09      0.23      0.13        47\n",
      "\n",
      "    accuracy                           0.45      1440\n",
      "   macro avg       0.36      0.38      0.34      1440\n",
      "weighted avg       0.52      0.45      0.45      1440\n",
      "\n",
      "Epoch [4/60] Accuracy: 0.4302\n"
     ]
    },
    {
     "name": "stderr",
     "output_type": "stream",
     "text": [
      "100%|██████████| 78/78 [00:09<00:00,  8.42it/s]\n",
      "100%|██████████| 9/9 [00:00<00:00, 19.96it/s]\n"
     ]
    },
    {
     "name": "stdout",
     "output_type": "stream",
     "text": [
      "Epoch [5/60] Training Loss: 0.01122186376559283\n",
      "Epoch [5/60] Validation Loss: 0.011213367101218966\n",
      "              precision    recall  f1-score   support\n",
      "\n",
      "           0       0.50      0.62      0.56       242\n",
      "           1       0.35      0.39      0.37       123\n",
      "           2       0.27      0.13      0.17       143\n",
      "           3       0.73      0.25      0.37       647\n",
      "           4       0.44      0.58      0.50       193\n",
      "           5       0.05      0.27      0.09        45\n",
      "           6       0.06      0.32      0.11        47\n",
      "\n",
      "    accuracy                           0.36      1440\n",
      "   macro avg       0.34      0.36      0.31      1440\n",
      "weighted avg       0.53      0.36      0.38      1440\n",
      "\n",
      "Epoch [5/60] Accuracy: 0.4380\n"
     ]
    },
    {
     "name": "stderr",
     "output_type": "stream",
     "text": [
      "100%|██████████| 78/78 [00:09<00:00,  8.34it/s]\n",
      "100%|██████████| 9/9 [00:00<00:00, 19.39it/s]\n"
     ]
    },
    {
     "name": "stdout",
     "output_type": "stream",
     "text": [
      "Epoch [6/60] Training Loss: 0.011107278238210843\n",
      "Epoch [6/60] Validation Loss: 0.011146343251069387\n",
      "              precision    recall  f1-score   support\n",
      "\n",
      "           0       0.51      0.61      0.56       242\n",
      "           1       0.30      0.51      0.38       123\n",
      "           2       0.26      0.31      0.28       143\n",
      "           3       0.71      0.43      0.54       647\n",
      "           4       0.47      0.54      0.50       193\n",
      "           5       0.07      0.18      0.10        45\n",
      "           6       0.10      0.06      0.08        47\n",
      "\n",
      "    accuracy                           0.45      1440\n",
      "   macro avg       0.34      0.38      0.35      1440\n",
      "weighted avg       0.52      0.45      0.47      1440\n",
      "\n",
      "Epoch [6/60] Accuracy: 0.4430\n"
     ]
    },
    {
     "name": "stderr",
     "output_type": "stream",
     "text": [
      "100%|██████████| 78/78 [00:09<00:00,  8.28it/s]\n",
      "100%|██████████| 9/9 [00:00<00:00, 19.34it/s]\n"
     ]
    },
    {
     "name": "stdout",
     "output_type": "stream",
     "text": [
      "Epoch [7/60] Training Loss: 0.010939211884158832\n",
      "Epoch [7/60] Validation Loss: 0.011119260970089171\n",
      "              precision    recall  f1-score   support\n",
      "\n",
      "           0       0.49      0.62      0.54       242\n",
      "           1       0.40      0.28      0.33       123\n",
      "           2       0.24      0.39      0.30       143\n",
      "           3       0.71      0.50      0.59       647\n",
      "           4       0.46      0.60      0.52       193\n",
      "           5       0.13      0.20      0.16        45\n",
      "           6       0.06      0.04      0.05        47\n",
      "\n",
      "    accuracy                           0.48      1440\n",
      "   macro avg       0.35      0.38      0.36      1440\n",
      "weighted avg       0.53      0.48      0.49      1440\n",
      "\n",
      "Epoch [7/60] Accuracy: 0.4727\n"
     ]
    },
    {
     "name": "stderr",
     "output_type": "stream",
     "text": [
      "100%|██████████| 78/78 [00:09<00:00,  8.44it/s]\n",
      "100%|██████████| 9/9 [00:00<00:00, 19.64it/s]\n"
     ]
    },
    {
     "name": "stdout",
     "output_type": "stream",
     "text": [
      "Epoch [8/60] Training Loss: 0.010898460424908551\n",
      "Epoch [8/60] Validation Loss: 0.011055579450395371\n",
      "              precision    recall  f1-score   support\n",
      "\n",
      "           0       0.54      0.56      0.55       242\n",
      "           1       0.32      0.46      0.38       123\n",
      "           2       0.22      0.22      0.22       143\n",
      "           3       0.71      0.43      0.53       647\n",
      "           4       0.41      0.64      0.50       193\n",
      "           5       0.08      0.18      0.11        45\n",
      "           6       0.15      0.28      0.19        47\n",
      "\n",
      "    accuracy                           0.45      1440\n",
      "   macro avg       0.35      0.39      0.36      1440\n",
      "weighted avg       0.52      0.45      0.46      1440\n",
      "\n",
      "Epoch [8/60] Accuracy: 0.4728\n"
     ]
    },
    {
     "name": "stderr",
     "output_type": "stream",
     "text": [
      "100%|██████████| 78/78 [00:09<00:00,  8.45it/s]\n",
      "100%|██████████| 9/9 [00:00<00:00, 19.84it/s]\n"
     ]
    },
    {
     "name": "stdout",
     "output_type": "stream",
     "text": [
      "Epoch [9/60] Training Loss: 0.010715959508466606\n",
      "Epoch [9/60] Validation Loss: 0.011021359927124448\n",
      "              precision    recall  f1-score   support\n",
      "\n",
      "           0       0.48      0.64      0.55       242\n",
      "           1       0.27      0.65      0.38       123\n",
      "           2       0.27      0.22      0.25       143\n",
      "           3       0.73      0.36      0.48       647\n",
      "           4       0.45      0.60      0.51       193\n",
      "           5       0.08      0.16      0.11        45\n",
      "           6       0.17      0.17      0.17        47\n",
      "\n",
      "    accuracy                           0.44      1440\n",
      "   macro avg       0.35      0.40      0.35      1440\n",
      "weighted avg       0.53      0.44      0.44      1440\n",
      "\n",
      "Epoch [9/60] Accuracy: 0.4919\n"
     ]
    },
    {
     "name": "stderr",
     "output_type": "stream",
     "text": [
      "100%|██████████| 78/78 [00:09<00:00,  8.34it/s]\n",
      "100%|██████████| 9/9 [00:00<00:00, 18.93it/s]\n"
     ]
    },
    {
     "name": "stdout",
     "output_type": "stream",
     "text": [
      "Epoch [10/60] Training Loss: 0.010622669758003073\n",
      "Epoch [10/60] Validation Loss: 0.010967819475465351\n",
      "              precision    recall  f1-score   support\n",
      "\n",
      "           0       0.49      0.62      0.55       242\n",
      "           1       0.35      0.46      0.40       123\n",
      "           2       0.37      0.22      0.28       143\n",
      "           3       0.71      0.45      0.55       647\n",
      "           4       0.42      0.65      0.51       193\n",
      "           5       0.11      0.13      0.12        45\n",
      "           6       0.10      0.26      0.14        47\n",
      "\n",
      "    accuracy                           0.47      1440\n",
      "   macro avg       0.36      0.40      0.36      1440\n",
      "weighted avg       0.53      0.47      0.48      1440\n",
      "\n",
      "Epoch [10/60] Accuracy: 0.5012\n"
     ]
    },
    {
     "name": "stderr",
     "output_type": "stream",
     "text": [
      "100%|██████████| 78/78 [00:09<00:00,  8.27it/s]\n",
      "100%|██████████| 9/9 [00:00<00:00, 19.65it/s]\n"
     ]
    },
    {
     "name": "stdout",
     "output_type": "stream",
     "text": [
      "Epoch [11/60] Training Loss: 0.01055549783398927\n",
      "Epoch [11/60] Validation Loss: 0.01093751879201995\n",
      "              precision    recall  f1-score   support\n",
      "\n",
      "           0       0.57      0.54      0.55       242\n",
      "           1       0.39      0.39      0.39       123\n",
      "           2       0.32      0.15      0.21       143\n",
      "           3       0.68      0.58      0.62       647\n",
      "           4       0.49      0.54      0.51       193\n",
      "           5       0.11      0.40      0.17        45\n",
      "           6       0.14      0.26      0.18        47\n",
      "\n",
      "    accuracy                           0.49      1440\n",
      "   macro avg       0.39      0.41      0.38      1440\n",
      "weighted avg       0.54      0.49      0.51      1440\n",
      "\n",
      "Epoch [11/60] Accuracy: 0.5238\n"
     ]
    },
    {
     "name": "stderr",
     "output_type": "stream",
     "text": [
      "100%|██████████| 78/78 [00:09<00:00,  8.42it/s]\n",
      "100%|██████████| 9/9 [00:00<00:00, 19.83it/s]\n"
     ]
    },
    {
     "name": "stdout",
     "output_type": "stream",
     "text": [
      "Epoch [12/60] Training Loss: 0.010455941182950984\n",
      "Epoch [12/60] Validation Loss: 0.010982220454348459\n",
      "              precision    recall  f1-score   support\n",
      "\n",
      "           0       0.43      0.67      0.53       242\n",
      "           1       0.40      0.45      0.42       123\n",
      "           2       0.30      0.27      0.28       143\n",
      "           3       0.75      0.29      0.42       647\n",
      "           4       0.39      0.68      0.50       193\n",
      "           5       0.09      0.27      0.13        45\n",
      "           6       0.14      0.21      0.17        47\n",
      "\n",
      "    accuracy                           0.42      1440\n",
      "   macro avg       0.36      0.41      0.35      1440\n",
      "weighted avg       0.54      0.42      0.42      1440\n",
      "\n",
      "Epoch [12/60] Accuracy: 0.5208\n"
     ]
    },
    {
     "name": "stderr",
     "output_type": "stream",
     "text": [
      "100%|██████████| 78/78 [00:09<00:00,  8.32it/s]\n",
      "100%|██████████| 9/9 [00:00<00:00, 19.30it/s]\n"
     ]
    },
    {
     "name": "stdout",
     "output_type": "stream",
     "text": [
      "Epoch [13/60] Training Loss: 0.010390790521496574\n",
      "Epoch [13/60] Validation Loss: 0.011035763886239794\n",
      "              precision    recall  f1-score   support\n",
      "\n",
      "           0       0.46      0.64      0.54       242\n",
      "           1       0.42      0.44      0.43       123\n",
      "           2       0.25      0.32      0.28       143\n",
      "           3       0.75      0.34      0.47       647\n",
      "           4       0.43      0.64      0.52       193\n",
      "           5       0.06      0.16      0.09        45\n",
      "           6       0.15      0.30      0.20        47\n",
      "\n",
      "    accuracy                           0.43      1440\n",
      "   macro avg       0.36      0.41      0.36      1440\n",
      "weighted avg       0.54      0.43      0.45      1440\n",
      "\n",
      "Epoch [13/60] Accuracy: 0.5271\n"
     ]
    },
    {
     "name": "stderr",
     "output_type": "stream",
     "text": [
      "100%|██████████| 78/78 [00:09<00:00,  8.24it/s]\n",
      "100%|██████████| 9/9 [00:00<00:00, 18.79it/s]\n"
     ]
    },
    {
     "name": "stdout",
     "output_type": "stream",
     "text": [
      "Epoch [14/60] Training Loss: 0.010282507053550334\n",
      "Epoch [14/60] Validation Loss: 0.010911496480305989\n",
      "              precision    recall  f1-score   support\n",
      "\n",
      "           0       0.52      0.62      0.57       242\n",
      "           1       0.42      0.37      0.39       123\n",
      "           2       0.29      0.35      0.32       143\n",
      "           3       0.72      0.52      0.60       647\n",
      "           4       0.48      0.56      0.52       193\n",
      "           5       0.11      0.27      0.16        45\n",
      "           6       0.19      0.30      0.23        47\n",
      "\n",
      "    accuracy                           0.50      1440\n",
      "   macro avg       0.39      0.43      0.40      1440\n",
      "weighted avg       0.55      0.50      0.51      1440\n",
      "\n",
      "Epoch [14/60] Accuracy: 0.5460\n"
     ]
    },
    {
     "name": "stderr",
     "output_type": "stream",
     "text": [
      "100%|██████████| 78/78 [00:09<00:00,  8.37it/s]\n",
      "100%|██████████| 9/9 [00:00<00:00, 19.80it/s]\n"
     ]
    },
    {
     "name": "stdout",
     "output_type": "stream",
     "text": [
      "Epoch [15/60] Training Loss: 0.010179585850251525\n",
      "Epoch [15/60] Validation Loss: 0.011064032713572184\n",
      "              precision    recall  f1-score   support\n",
      "\n",
      "           0       0.52      0.60      0.56       242\n",
      "           1       0.39      0.45      0.42       123\n",
      "           2       0.30      0.31      0.31       143\n",
      "           3       0.68      0.52      0.59       647\n",
      "           4       0.50      0.55      0.52       193\n",
      "           5       0.07      0.20      0.10        45\n",
      "           6       0.23      0.17      0.20        47\n",
      "\n",
      "    accuracy                           0.49      1440\n",
      "   macro avg       0.39      0.40      0.39      1440\n",
      "weighted avg       0.54      0.49      0.51      1440\n",
      "\n",
      "Epoch [15/60] Accuracy: 0.5585\n"
     ]
    },
    {
     "name": "stderr",
     "output_type": "stream",
     "text": [
      "100%|██████████| 78/78 [00:09<00:00,  8.33it/s]\n",
      "100%|██████████| 9/9 [00:00<00:00, 19.37it/s]\n"
     ]
    },
    {
     "name": "stdout",
     "output_type": "stream",
     "text": [
      "Epoch [16/60] Training Loss: 0.010152604351079722\n",
      "Epoch [16/60] Validation Loss: 0.01093715810113483\n",
      "              precision    recall  f1-score   support\n",
      "\n",
      "           0       0.55      0.54      0.54       242\n",
      "           1       0.31      0.56      0.40       123\n",
      "           2       0.36      0.32      0.34       143\n",
      "           3       0.68      0.51      0.59       647\n",
      "           4       0.46      0.51      0.48       193\n",
      "           5       0.10      0.13      0.11        45\n",
      "           6       0.14      0.26      0.18        47\n",
      "\n",
      "    accuracy                           0.48      1440\n",
      "   macro avg       0.37      0.41      0.38      1440\n",
      "weighted avg       0.53      0.48      0.50      1440\n",
      "\n",
      "Epoch [16/60] Accuracy: 0.5607\n"
     ]
    },
    {
     "name": "stderr",
     "output_type": "stream",
     "text": [
      "100%|██████████| 78/78 [00:09<00:00,  8.39it/s]\n",
      "100%|██████████| 9/9 [00:00<00:00, 19.48it/s]\n"
     ]
    },
    {
     "name": "stdout",
     "output_type": "stream",
     "text": [
      "Epoch [17/60] Training Loss: 0.010110457637096844\n",
      "Epoch [17/60] Validation Loss: 0.01088512647483084\n",
      "              precision    recall  f1-score   support\n",
      "\n",
      "           0       0.53      0.55      0.54       242\n",
      "           1       0.36      0.49      0.41       123\n",
      "           2       0.33      0.31      0.32       143\n",
      "           3       0.71      0.46      0.56       647\n",
      "           4       0.46      0.64      0.53       193\n",
      "           5       0.07      0.20      0.11        45\n",
      "           6       0.17      0.26      0.20        47\n",
      "\n",
      "    accuracy                           0.47      1440\n",
      "   macro avg       0.37      0.41      0.38      1440\n",
      "weighted avg       0.54      0.47      0.49      1440\n",
      "\n",
      "Epoch [17/60] Accuracy: 0.5714\n"
     ]
    },
    {
     "name": "stderr",
     "output_type": "stream",
     "text": [
      "100%|██████████| 78/78 [00:09<00:00,  8.37it/s]\n",
      "100%|██████████| 9/9 [00:00<00:00, 19.22it/s]\n"
     ]
    },
    {
     "name": "stdout",
     "output_type": "stream",
     "text": [
      "Epoch [18/60] Training Loss: 0.01007340374090018\n",
      "Epoch [18/60] Validation Loss: 0.010926744838555654\n",
      "              precision    recall  f1-score   support\n",
      "\n",
      "           0       0.46      0.64      0.54       242\n",
      "           1       0.35      0.58      0.44       123\n",
      "           2       0.34      0.27      0.30       143\n",
      "           3       0.71      0.44      0.54       647\n",
      "           4       0.48      0.57      0.52       193\n",
      "           5       0.09      0.22      0.13        45\n",
      "           6       0.19      0.21      0.20        47\n",
      "\n",
      "    accuracy                           0.47      1440\n",
      "   macro avg       0.38      0.42      0.38      1440\n",
      "weighted avg       0.53      0.47      0.48      1440\n",
      "\n",
      "Epoch [18/60] Accuracy: 0.5778\n"
     ]
    },
    {
     "name": "stderr",
     "output_type": "stream",
     "text": [
      "100%|██████████| 78/78 [00:09<00:00,  8.25it/s]\n",
      "100%|██████████| 9/9 [00:00<00:00, 19.24it/s]\n"
     ]
    },
    {
     "name": "stdout",
     "output_type": "stream",
     "text": [
      "Epoch [19/60] Training Loss: 0.009967505417978913\n",
      "Epoch [19/60] Validation Loss: 0.010946874568859736\n",
      "              precision    recall  f1-score   support\n",
      "\n",
      "           0       0.43      0.70      0.53       242\n",
      "           1       0.43      0.41      0.42       123\n",
      "           2       0.22      0.43      0.29       143\n",
      "           3       0.74      0.39      0.51       647\n",
      "           4       0.49      0.52      0.50       193\n",
      "           5       0.16      0.20      0.18        45\n",
      "           6       0.20      0.21      0.21        47\n",
      "\n",
      "    accuracy                           0.45      1440\n",
      "   macro avg       0.38      0.41      0.38      1440\n",
      "weighted avg       0.54      0.45      0.46      1440\n",
      "\n",
      "Epoch [19/60] Accuracy: 0.5926\n"
     ]
    },
    {
     "name": "stderr",
     "output_type": "stream",
     "text": [
      "100%|██████████| 78/78 [00:09<00:00,  8.32it/s]\n",
      "100%|██████████| 9/9 [00:00<00:00, 19.60it/s]\n"
     ]
    },
    {
     "name": "stdout",
     "output_type": "stream",
     "text": [
      "Epoch [20/60] Training Loss: 0.009925648970149383\n",
      "Epoch [20/60] Validation Loss: 0.01098008876045545\n",
      "              precision    recall  f1-score   support\n",
      "\n",
      "           0       0.56      0.55      0.56       242\n",
      "           1       0.28      0.62      0.38       123\n",
      "           2       0.26      0.42      0.32       143\n",
      "           3       0.71      0.43      0.54       647\n",
      "           4       0.47      0.59      0.53       193\n",
      "           5       0.17      0.11      0.13        45\n",
      "           6       0.17      0.15      0.16        47\n",
      "\n",
      "    accuracy                           0.47      1440\n",
      "   macro avg       0.38      0.41      0.37      1440\n",
      "weighted avg       0.54      0.47      0.48      1440\n",
      "\n",
      "Epoch [20/60] Accuracy: 0.6028\n"
     ]
    },
    {
     "name": "stderr",
     "output_type": "stream",
     "text": [
      "100%|██████████| 78/78 [00:09<00:00,  8.41it/s]\n",
      "100%|██████████| 9/9 [00:00<00:00, 19.79it/s]\n"
     ]
    },
    {
     "name": "stdout",
     "output_type": "stream",
     "text": [
      "Epoch [21/60] Training Loss: 0.009932108392894773\n",
      "Epoch [21/60] Validation Loss: 0.011049525688091914\n",
      "              precision    recall  f1-score   support\n",
      "\n",
      "           0       0.56      0.52      0.54       242\n",
      "           1       0.37      0.50      0.42       123\n",
      "           2       0.28      0.45      0.35       143\n",
      "           3       0.71      0.54      0.61       647\n",
      "           4       0.46      0.61      0.53       193\n",
      "           5       0.12      0.18      0.15        45\n",
      "           6       0.40      0.09      0.14        47\n",
      "\n",
      "    accuracy                           0.51      1440\n",
      "   macro avg       0.42      0.41      0.39      1440\n",
      "weighted avg       0.55      0.51      0.52      1440\n",
      "\n",
      "Epoch [21/60] Accuracy: 0.6043\n"
     ]
    },
    {
     "name": "stderr",
     "output_type": "stream",
     "text": [
      "100%|██████████| 78/78 [00:09<00:00,  8.36it/s]\n",
      "100%|██████████| 9/9 [00:00<00:00, 19.53it/s]\n"
     ]
    },
    {
     "name": "stdout",
     "output_type": "stream",
     "text": [
      "Epoch [22/60] Training Loss: 0.009947188186943066\n",
      "Epoch [22/60] Validation Loss: 0.010901278009017308\n",
      "              precision    recall  f1-score   support\n",
      "\n",
      "           0       0.47      0.57      0.52       242\n",
      "           1       0.33      0.48      0.39       123\n",
      "           2       0.28      0.40      0.33       143\n",
      "           3       0.73      0.40      0.52       647\n",
      "           4       0.46      0.55      0.50       193\n",
      "           5       0.08      0.20      0.11        45\n",
      "           6       0.22      0.30      0.25        47\n",
      "\n",
      "    accuracy                           0.45      1440\n",
      "   macro avg       0.37      0.42      0.38      1440\n",
      "weighted avg       0.54      0.45      0.47      1440\n",
      "\n",
      "Epoch [22/60] Accuracy: 0.6063\n"
     ]
    },
    {
     "name": "stderr",
     "output_type": "stream",
     "text": [
      "100%|██████████| 78/78 [00:09<00:00,  8.19it/s]\n",
      "100%|██████████| 9/9 [00:00<00:00, 18.54it/s]\n"
     ]
    },
    {
     "name": "stdout",
     "output_type": "stream",
     "text": [
      "Epoch [23/60] Training Loss: 0.009950001218830074\n",
      "Epoch [23/60] Validation Loss: 0.01106753374139468\n",
      "              precision    recall  f1-score   support\n",
      "\n",
      "           0       0.52      0.57      0.55       242\n",
      "           1       0.35      0.43      0.39       123\n",
      "           2       0.27      0.42      0.33       143\n",
      "           3       0.70      0.48      0.57       647\n",
      "           4       0.50      0.59      0.54       193\n",
      "           5       0.07      0.16      0.09        45\n",
      "           6       0.29      0.13      0.18        47\n",
      "\n",
      "    accuracy                           0.48      1440\n",
      "   macro avg       0.38      0.40      0.38      1440\n",
      "weighted avg       0.54      0.48      0.50      1440\n",
      "\n",
      "Epoch [23/60] Accuracy: 0.6032\n"
     ]
    },
    {
     "name": "stderr",
     "output_type": "stream",
     "text": [
      "100%|██████████| 78/78 [00:09<00:00,  8.36it/s]\n",
      "100%|██████████| 9/9 [00:00<00:00, 19.74it/s]\n"
     ]
    },
    {
     "name": "stdout",
     "output_type": "stream",
     "text": [
      "Epoch [24/60] Training Loss: 0.009870200284802372\n",
      "Epoch [24/60] Validation Loss: 0.010920460273822149\n",
      "              precision    recall  f1-score   support\n",
      "\n",
      "           0       0.55      0.52      0.54       242\n",
      "           1       0.37      0.55      0.44       123\n",
      "           2       0.29      0.41      0.34       143\n",
      "           3       0.68      0.55      0.61       647\n",
      "           4       0.50      0.61      0.55       193\n",
      "           5       0.12      0.09      0.10        45\n",
      "           6       0.29      0.17      0.21        47\n",
      "\n",
      "    accuracy                           0.52      1440\n",
      "   macro avg       0.40      0.42      0.40      1440\n",
      "weighted avg       0.54      0.52      0.52      1440\n",
      "\n",
      "Epoch [24/60] Accuracy: 0.6120\n"
     ]
    },
    {
     "name": "stderr",
     "output_type": "stream",
     "text": [
      "100%|██████████| 78/78 [00:09<00:00,  8.33it/s]\n",
      "100%|██████████| 9/9 [00:00<00:00, 19.62it/s]\n"
     ]
    },
    {
     "name": "stdout",
     "output_type": "stream",
     "text": [
      "Epoch [25/60] Training Loss: 0.009838233402047664\n",
      "Epoch [25/60] Validation Loss: 0.010944246749083201\n",
      "              precision    recall  f1-score   support\n",
      "\n",
      "           0       0.55      0.55      0.55       242\n",
      "           1       0.33      0.58      0.42       123\n",
      "           2       0.26      0.41      0.32       143\n",
      "           3       0.72      0.47      0.57       647\n",
      "           4       0.52      0.39      0.45       193\n",
      "           5       0.13      0.18      0.15        45\n",
      "           6       0.12      0.32      0.18        47\n",
      "\n",
      "    accuracy                           0.46      1440\n",
      "   macro avg       0.38      0.42      0.38      1440\n",
      "weighted avg       0.55      0.46      0.49      1440\n",
      "\n",
      "Epoch [25/60] Accuracy: 0.6306\n"
     ]
    },
    {
     "name": "stderr",
     "output_type": "stream",
     "text": [
      "100%|██████████| 78/78 [00:09<00:00,  8.48it/s]\n",
      "100%|██████████| 9/9 [00:00<00:00, 20.17it/s]\n"
     ]
    },
    {
     "name": "stdout",
     "output_type": "stream",
     "text": [
      "Epoch [26/60] Training Loss: 0.009857384194802334\n",
      "Epoch [26/60] Validation Loss: 0.010970654835303625\n",
      "              precision    recall  f1-score   support\n",
      "\n",
      "           0       0.55      0.53      0.54       242\n",
      "           1       0.38      0.39      0.39       123\n",
      "           2       0.27      0.36      0.31       143\n",
      "           3       0.71      0.53      0.60       647\n",
      "           4       0.43      0.66      0.52       193\n",
      "           5       0.13      0.20      0.16        45\n",
      "           6       0.19      0.19      0.19        47\n",
      "\n",
      "    accuracy                           0.50      1440\n",
      "   macro avg       0.38      0.41      0.39      1440\n",
      "weighted avg       0.54      0.50      0.51      1440\n",
      "\n",
      "Epoch [26/60] Accuracy: 0.6078\n"
     ]
    },
    {
     "name": "stderr",
     "output_type": "stream",
     "text": [
      "100%|██████████| 78/78 [00:09<00:00,  8.46it/s]\n",
      "100%|██████████| 9/9 [00:00<00:00, 20.01it/s]\n"
     ]
    },
    {
     "name": "stdout",
     "output_type": "stream",
     "text": [
      "Epoch [27/60] Training Loss: 0.00977331682304334\n",
      "Epoch [27/60] Validation Loss: 0.010872272650400798\n",
      "              precision    recall  f1-score   support\n",
      "\n",
      "           0       0.58      0.54      0.56       242\n",
      "           1       0.44      0.48      0.46       123\n",
      "           2       0.30      0.31      0.30       143\n",
      "           3       0.67      0.61      0.64       647\n",
      "           4       0.48      0.64      0.55       193\n",
      "           5       0.19      0.22      0.21        45\n",
      "           6       0.24      0.17      0.20        47\n",
      "\n",
      "    accuracy                           0.54      1440\n",
      "   macro avg       0.41      0.43      0.42      1440\n",
      "weighted avg       0.55      0.54      0.54      1440\n",
      "\n",
      "Epoch [27/60] Accuracy: 0.6298\n"
     ]
    },
    {
     "name": "stderr",
     "output_type": "stream",
     "text": [
      "100%|██████████| 78/78 [00:09<00:00,  8.42it/s]\n",
      "100%|██████████| 9/9 [00:00<00:00, 19.37it/s]\n"
     ]
    },
    {
     "name": "stdout",
     "output_type": "stream",
     "text": [
      "Epoch [28/60] Training Loss: 0.009675604886575642\n",
      "Epoch [28/60] Validation Loss: 0.010902766966157489\n",
      "              precision    recall  f1-score   support\n",
      "\n",
      "           0       0.50      0.62      0.55       242\n",
      "           1       0.39      0.43      0.41       123\n",
      "           2       0.31      0.34      0.33       143\n",
      "           3       0.70      0.49      0.57       647\n",
      "           4       0.48      0.60      0.53       193\n",
      "           5       0.16      0.13      0.15        45\n",
      "           6       0.13      0.34      0.19        47\n",
      "\n",
      "    accuracy                           0.49      1440\n",
      "   macro avg       0.38      0.42      0.39      1440\n",
      "weighted avg       0.54      0.49      0.50      1440\n",
      "\n",
      "Epoch [28/60] Accuracy: 0.6444\n"
     ]
    },
    {
     "name": "stderr",
     "output_type": "stream",
     "text": [
      "100%|██████████| 78/78 [00:09<00:00,  8.40it/s]\n",
      "100%|██████████| 9/9 [00:00<00:00, 20.08it/s]\n"
     ]
    },
    {
     "name": "stdout",
     "output_type": "stream",
     "text": [
      "Epoch [29/60] Training Loss: 0.009718201354039557\n",
      "Epoch [29/60] Validation Loss: 0.01085543359319369\n",
      "              precision    recall  f1-score   support\n",
      "\n",
      "           0       0.58      0.49      0.53       242\n",
      "           1       0.41      0.46      0.43       123\n",
      "           2       0.30      0.36      0.33       143\n",
      "           3       0.67      0.61      0.64       647\n",
      "           4       0.50      0.57      0.53       193\n",
      "           5       0.16      0.24      0.20        45\n",
      "           6       0.20      0.21      0.21        47\n",
      "\n",
      "    accuracy                           0.52      1440\n",
      "   macro avg       0.40      0.42      0.41      1440\n",
      "weighted avg       0.54      0.52      0.53      1440\n",
      "\n",
      "Epoch [29/60] Accuracy: 0.6447\n"
     ]
    },
    {
     "name": "stderr",
     "output_type": "stream",
     "text": [
      "100%|██████████| 78/78 [00:09<00:00,  8.43it/s]\n",
      "100%|██████████| 9/9 [00:00<00:00, 19.96it/s]\n"
     ]
    },
    {
     "name": "stdout",
     "output_type": "stream",
     "text": [
      "Epoch [30/60] Training Loss: 0.009659262172928564\n",
      "Epoch [30/60] Validation Loss: 0.010886236197418638\n",
      "              precision    recall  f1-score   support\n",
      "\n",
      "           0       0.53      0.57      0.55       242\n",
      "           1       0.41      0.49      0.45       123\n",
      "           2       0.27      0.47      0.34       143\n",
      "           3       0.73      0.46      0.57       647\n",
      "           4       0.48      0.64      0.55       193\n",
      "           5       0.15      0.18      0.16        45\n",
      "           6       0.18      0.23      0.20        47\n",
      "\n",
      "    accuracy                           0.49      1440\n",
      "   macro avg       0.39      0.43      0.40      1440\n",
      "weighted avg       0.55      0.49      0.50      1440\n",
      "\n",
      "Epoch [30/60] Accuracy: 0.6483\n"
     ]
    },
    {
     "name": "stderr",
     "output_type": "stream",
     "text": [
      "100%|██████████| 78/78 [00:09<00:00,  8.34it/s]\n",
      "100%|██████████| 9/9 [00:00<00:00, 19.96it/s]\n"
     ]
    },
    {
     "name": "stdout",
     "output_type": "stream",
     "text": [
      "Epoch [31/60] Training Loss: 0.009655710119793534\n",
      "Epoch [31/60] Validation Loss: 0.010898623036013709\n",
      "              precision    recall  f1-score   support\n",
      "\n",
      "           0       0.55      0.49      0.52       242\n",
      "           1       0.41      0.54      0.47       123\n",
      "           2       0.30      0.37      0.33       143\n",
      "           3       0.68      0.57      0.62       647\n",
      "           4       0.46      0.64      0.54       193\n",
      "           5       0.20      0.22      0.21        45\n",
      "           6       0.19      0.11      0.14        47\n",
      "\n",
      "    accuracy                           0.52      1440\n",
      "   macro avg       0.40      0.42      0.40      1440\n",
      "weighted avg       0.54      0.52      0.52      1440\n",
      "\n",
      "Epoch [31/60] Accuracy: 0.6463\n"
     ]
    },
    {
     "name": "stderr",
     "output_type": "stream",
     "text": [
      "100%|██████████| 78/78 [00:09<00:00,  8.48it/s]\n",
      "100%|██████████| 9/9 [00:00<00:00, 20.07it/s]\n"
     ]
    },
    {
     "name": "stdout",
     "output_type": "stream",
     "text": [
      "Epoch [32/60] Training Loss: 0.009563056762332605\n",
      "Epoch [32/60] Validation Loss: 0.01079074318210284\n",
      "              precision    recall  f1-score   support\n",
      "\n",
      "           0       0.47      0.67      0.55       242\n",
      "           1       0.43      0.54      0.48       123\n",
      "           2       0.30      0.31      0.30       143\n",
      "           3       0.71      0.48      0.57       647\n",
      "           4       0.50      0.59      0.54       193\n",
      "           5       0.14      0.24      0.18        45\n",
      "           6       0.19      0.21      0.20        47\n",
      "\n",
      "    accuracy                           0.50      1440\n",
      "   macro avg       0.39      0.44      0.40      1440\n",
      "weighted avg       0.54      0.50      0.51      1440\n",
      "\n",
      "Epoch [32/60] Accuracy: 0.6656\n"
     ]
    },
    {
     "name": "stderr",
     "output_type": "stream",
     "text": [
      "100%|██████████| 78/78 [00:09<00:00,  8.45it/s]\n",
      "100%|██████████| 9/9 [00:00<00:00, 19.63it/s]\n"
     ]
    },
    {
     "name": "stdout",
     "output_type": "stream",
     "text": [
      "Epoch [33/60] Training Loss: 0.009516673581785576\n",
      "Epoch [33/60] Validation Loss: 0.010959951662355\n",
      "              precision    recall  f1-score   support\n",
      "\n",
      "           0       0.50      0.60      0.55       242\n",
      "           1       0.36      0.59      0.45       123\n",
      "           2       0.30      0.36      0.33       143\n",
      "           3       0.73      0.55      0.62       647\n",
      "           4       0.50      0.54      0.52       193\n",
      "           5       0.13      0.16      0.14        45\n",
      "           6       0.21      0.15      0.17        47\n",
      "\n",
      "    accuracy                           0.52      1440\n",
      "   macro avg       0.39      0.42      0.40      1440\n",
      "weighted avg       0.55      0.52      0.52      1440\n",
      "\n",
      "Epoch [33/60] Accuracy: 0.6726\n"
     ]
    },
    {
     "name": "stderr",
     "output_type": "stream",
     "text": [
      "100%|██████████| 78/78 [00:09<00:00,  8.39it/s]\n",
      "100%|██████████| 9/9 [00:00<00:00, 19.76it/s]\n"
     ]
    },
    {
     "name": "stdout",
     "output_type": "stream",
     "text": [
      "Epoch [34/60] Training Loss: 0.00949903273095011\n",
      "Epoch [34/60] Validation Loss: 0.011026034255822499\n",
      "              precision    recall  f1-score   support\n",
      "\n",
      "           0       0.55      0.57      0.56       242\n",
      "           1       0.42      0.40      0.41       123\n",
      "           2       0.23      0.31      0.26       143\n",
      "           3       0.70      0.51      0.59       647\n",
      "           4       0.45      0.64      0.53       193\n",
      "           5       0.13      0.13      0.13        45\n",
      "           6       0.13      0.19      0.16        47\n",
      "\n",
      "    accuracy                           0.49      1440\n",
      "   macro avg       0.37      0.40      0.38      1440\n",
      "weighted avg       0.53      0.49      0.50      1440\n",
      "\n",
      "Epoch [34/60] Accuracy: 0.6802\n"
     ]
    },
    {
     "name": "stderr",
     "output_type": "stream",
     "text": [
      "100%|██████████| 78/78 [00:09<00:00,  8.44it/s]\n",
      "100%|██████████| 9/9 [00:00<00:00, 19.87it/s]\n"
     ]
    },
    {
     "name": "stdout",
     "output_type": "stream",
     "text": [
      "Epoch [35/60] Training Loss: 0.009497286631503279\n",
      "Epoch [35/60] Validation Loss: 0.01096128655804528\n",
      "              precision    recall  f1-score   support\n",
      "\n",
      "           0       0.52      0.57      0.54       242\n",
      "           1       0.48      0.38      0.43       123\n",
      "           2       0.29      0.37      0.33       143\n",
      "           3       0.70      0.52      0.60       647\n",
      "           4       0.43      0.67      0.53       193\n",
      "           5       0.14      0.16      0.15        45\n",
      "           6       0.16      0.21      0.18        47\n",
      "\n",
      "    accuracy                           0.50      1440\n",
      "   macro avg       0.39      0.41      0.39      1440\n",
      "weighted avg       0.54      0.50      0.51      1440\n",
      "\n",
      "Epoch [35/60] Accuracy: 0.6802\n"
     ]
    },
    {
     "name": "stderr",
     "output_type": "stream",
     "text": [
      "100%|██████████| 78/78 [00:09<00:00,  8.47it/s]\n",
      "100%|██████████| 9/9 [00:00<00:00, 20.09it/s]\n"
     ]
    },
    {
     "name": "stdout",
     "output_type": "stream",
     "text": [
      "Epoch [36/60] Training Loss: 0.009497802376365395\n",
      "Epoch [36/60] Validation Loss: 0.01081972759630945\n",
      "              precision    recall  f1-score   support\n",
      "\n",
      "           0       0.51      0.59      0.55       242\n",
      "           1       0.44      0.52      0.48       123\n",
      "           2       0.37      0.37      0.37       143\n",
      "           3       0.70      0.61      0.65       647\n",
      "           4       0.50      0.54      0.52       193\n",
      "           5       0.18      0.22      0.20        45\n",
      "           6       0.19      0.17      0.18        47\n",
      "\n",
      "    accuracy                           0.54      1440\n",
      "   macro avg       0.41      0.43      0.42      1440\n",
      "weighted avg       0.55      0.54      0.54      1440\n",
      "\n",
      "Epoch [36/60] Accuracy: 0.6783\n"
     ]
    },
    {
     "name": "stderr",
     "output_type": "stream",
     "text": [
      "100%|██████████| 78/78 [00:09<00:00,  8.46it/s]\n",
      "100%|██████████| 9/9 [00:00<00:00, 20.19it/s]\n"
     ]
    },
    {
     "name": "stdout",
     "output_type": "stream",
     "text": [
      "Epoch [37/60] Training Loss: 0.009494527512479959\n",
      "Epoch [37/60] Validation Loss: 0.0110370890961753\n",
      "              precision    recall  f1-score   support\n",
      "\n",
      "           0       0.55      0.55      0.55       242\n",
      "           1       0.45      0.33      0.38       123\n",
      "           2       0.30      0.37      0.33       143\n",
      "           3       0.68      0.58      0.63       647\n",
      "           4       0.47      0.65      0.55       193\n",
      "           5       0.11      0.18      0.14        45\n",
      "           6       0.16      0.15      0.15        47\n",
      "\n",
      "    accuracy                           0.52      1440\n",
      "   macro avg       0.39      0.40      0.39      1440\n",
      "weighted avg       0.54      0.52      0.52      1440\n",
      "\n",
      "Epoch [37/60] Accuracy: 0.6799\n"
     ]
    },
    {
     "name": "stderr",
     "output_type": "stream",
     "text": [
      "100%|██████████| 78/78 [00:09<00:00,  8.46it/s]\n",
      "100%|██████████| 9/9 [00:00<00:00, 20.07it/s]\n"
     ]
    },
    {
     "name": "stdout",
     "output_type": "stream",
     "text": [
      "Epoch [38/60] Training Loss: 0.009405157368155143\n",
      "Epoch [38/60] Validation Loss: 0.011022974633508258\n",
      "              precision    recall  f1-score   support\n",
      "\n",
      "           0       0.51      0.57      0.54       242\n",
      "           1       0.44      0.44      0.44       123\n",
      "           2       0.29      0.38      0.33       143\n",
      "           3       0.69      0.57      0.63       647\n",
      "           4       0.47      0.56      0.51       193\n",
      "           5       0.15      0.20      0.17        45\n",
      "           6       0.14      0.11      0.12        47\n",
      "\n",
      "    accuracy                           0.51      1440\n",
      "   macro avg       0.39      0.40      0.39      1440\n",
      "weighted avg       0.54      0.51      0.52      1440\n",
      "\n",
      "Epoch [38/60] Accuracy: 0.7010\n"
     ]
    },
    {
     "name": "stderr",
     "output_type": "stream",
     "text": [
      "100%|██████████| 78/78 [00:09<00:00,  8.41it/s]\n",
      "100%|██████████| 9/9 [00:00<00:00, 19.63it/s]\n"
     ]
    },
    {
     "name": "stdout",
     "output_type": "stream",
     "text": [
      "Epoch [39/60] Training Loss: 0.009376724557792801\n",
      "Epoch [39/60] Validation Loss: 0.010877715630663766\n",
      "              precision    recall  f1-score   support\n",
      "\n",
      "           0       0.55      0.57      0.56       242\n",
      "           1       0.37      0.50      0.42       123\n",
      "           2       0.25      0.38      0.30       143\n",
      "           3       0.72      0.49      0.58       647\n",
      "           4       0.47      0.61      0.53       193\n",
      "           5       0.15      0.24      0.18        45\n",
      "           6       0.19      0.17      0.18        47\n",
      "\n",
      "    accuracy                           0.49      1440\n",
      "   macro avg       0.38      0.42      0.39      1440\n",
      "weighted avg       0.54      0.49      0.50      1440\n",
      "\n",
      "Epoch [39/60] Accuracy: 0.7033\n"
     ]
    },
    {
     "name": "stderr",
     "output_type": "stream",
     "text": [
      "100%|██████████| 78/78 [00:09<00:00,  8.37it/s]\n",
      "100%|██████████| 9/9 [00:00<00:00, 19.70it/s]\n"
     ]
    },
    {
     "name": "stdout",
     "output_type": "stream",
     "text": [
      "Epoch [40/60] Training Loss: 0.009391436231127512\n",
      "Epoch [40/60] Validation Loss: 0.0109744051264392\n",
      "              precision    recall  f1-score   support\n",
      "\n",
      "           0       0.50      0.58      0.54       242\n",
      "           1       0.42      0.38      0.40       123\n",
      "           2       0.30      0.37      0.33       143\n",
      "           3       0.72      0.43      0.54       647\n",
      "           4       0.43      0.70      0.53       193\n",
      "           5       0.09      0.24      0.14        45\n",
      "           6       0.20      0.17      0.18        47\n",
      "\n",
      "    accuracy                           0.47      1440\n",
      "   macro avg       0.38      0.41      0.38      1440\n",
      "weighted avg       0.54      0.47      0.48      1440\n",
      "\n",
      "Epoch [40/60] Accuracy: 0.7084\n"
     ]
    },
    {
     "name": "stderr",
     "output_type": "stream",
     "text": [
      "100%|██████████| 78/78 [00:09<00:00,  8.46it/s]\n",
      "100%|██████████| 9/9 [00:00<00:00, 20.00it/s]\n"
     ]
    },
    {
     "name": "stdout",
     "output_type": "stream",
     "text": [
      "Epoch [41/60] Training Loss: 0.00938814507984099\n",
      "Epoch [41/60] Validation Loss: 0.010825648076004453\n",
      "              precision    recall  f1-score   support\n",
      "\n",
      "           0       0.53      0.51      0.52       242\n",
      "           1       0.33      0.61      0.43       123\n",
      "           2       0.32      0.37      0.34       143\n",
      "           3       0.72      0.51      0.60       647\n",
      "           4       0.46      0.64      0.53       193\n",
      "           5       0.19      0.20      0.19        45\n",
      "           6       0.30      0.17      0.22        47\n",
      "\n",
      "    accuracy                           0.50      1440\n",
      "   macro avg       0.40      0.43      0.40      1440\n",
      "weighted avg       0.55      0.50      0.51      1440\n",
      "\n",
      "Epoch [41/60] Accuracy: 0.7033\n"
     ]
    },
    {
     "name": "stderr",
     "output_type": "stream",
     "text": [
      "100%|██████████| 78/78 [00:09<00:00,  8.30it/s]\n",
      "100%|██████████| 9/9 [00:00<00:00, 19.87it/s]\n"
     ]
    },
    {
     "name": "stdout",
     "output_type": "stream",
     "text": [
      "Epoch [42/60] Training Loss: 0.009357313176408876\n",
      "Epoch [42/60] Validation Loss: 0.010898548861344655\n",
      "              precision    recall  f1-score   support\n",
      "\n",
      "           0       0.51      0.57      0.54       242\n",
      "           1       0.41      0.53      0.46       123\n",
      "           2       0.28      0.39      0.32       143\n",
      "           3       0.72      0.51      0.60       647\n",
      "           4       0.45      0.66      0.53       193\n",
      "           5       0.14      0.16      0.15        45\n",
      "           6       0.40      0.17      0.24        47\n",
      "\n",
      "    accuracy                           0.51      1440\n",
      "   macro avg       0.42      0.43      0.41      1440\n",
      "weighted avg       0.55      0.51      0.51      1440\n",
      "\n",
      "Epoch [42/60] Accuracy: 0.7128\n"
     ]
    },
    {
     "name": "stderr",
     "output_type": "stream",
     "text": [
      "100%|██████████| 78/78 [00:09<00:00,  8.32it/s]\n",
      "100%|██████████| 9/9 [00:00<00:00, 19.81it/s]\n"
     ]
    },
    {
     "name": "stdout",
     "output_type": "stream",
     "text": [
      "Epoch [43/60] Training Loss: 0.00936721197166352\n",
      "Epoch [43/60] Validation Loss: 0.010927000145117442\n",
      "              precision    recall  f1-score   support\n",
      "\n",
      "           0       0.45      0.62      0.52       242\n",
      "           1       0.47      0.42      0.44       123\n",
      "           2       0.28      0.36      0.32       143\n",
      "           3       0.70      0.49      0.58       647\n",
      "           4       0.46      0.63      0.53       193\n",
      "           5       0.18      0.24      0.21        45\n",
      "           6       0.20      0.17      0.18        47\n",
      "\n",
      "    accuracy                           0.49      1440\n",
      "   macro avg       0.39      0.42      0.40      1440\n",
      "weighted avg       0.53      0.49      0.50      1440\n",
      "\n",
      "Epoch [43/60] Accuracy: 0.7101\n"
     ]
    },
    {
     "name": "stderr",
     "output_type": "stream",
     "text": [
      "100%|██████████| 78/78 [00:09<00:00,  8.36it/s]\n",
      "100%|██████████| 9/9 [00:00<00:00, 19.60it/s]\n"
     ]
    },
    {
     "name": "stdout",
     "output_type": "stream",
     "text": [
      "Epoch [44/60] Training Loss: 0.009293147638441355\n",
      "Epoch [44/60] Validation Loss: 0.010968367507060369\n",
      "              precision    recall  f1-score   support\n",
      "\n",
      "           0       0.55      0.55      0.55       242\n",
      "           1       0.41      0.46      0.43       123\n",
      "           2       0.28      0.34      0.31       143\n",
      "           3       0.71      0.59      0.65       647\n",
      "           4       0.46      0.64      0.54       193\n",
      "           5       0.27      0.16      0.20        45\n",
      "           6       0.14      0.17      0.16        47\n",
      "\n",
      "    accuracy                           0.53      1440\n",
      "   macro avg       0.40      0.41      0.40      1440\n",
      "weighted avg       0.55      0.53      0.53      1440\n",
      "\n",
      "Epoch [44/60] Accuracy: 0.7221\n"
     ]
    },
    {
     "name": "stderr",
     "output_type": "stream",
     "text": [
      "100%|██████████| 78/78 [00:09<00:00,  8.34it/s]\n",
      "100%|██████████| 9/9 [00:00<00:00, 19.67it/s]\n"
     ]
    },
    {
     "name": "stdout",
     "output_type": "stream",
     "text": [
      "Epoch [45/60] Training Loss: 0.009257103688357273\n",
      "Epoch [45/60] Validation Loss: 0.011009555061658223\n",
      "              precision    recall  f1-score   support\n",
      "\n",
      "           0       0.54      0.53      0.53       242\n",
      "           1       0.44      0.46      0.45       123\n",
      "           2       0.29      0.36      0.32       143\n",
      "           3       0.69      0.60      0.64       647\n",
      "           4       0.47      0.61      0.53       193\n",
      "           5       0.16      0.18      0.17        45\n",
      "           6       0.18      0.13      0.15        47\n",
      "\n",
      "    accuracy                           0.53      1440\n",
      "   macro avg       0.40      0.41      0.40      1440\n",
      "weighted avg       0.54      0.53      0.53      1440\n",
      "\n",
      "Epoch [45/60] Accuracy: 0.7254\n"
     ]
    },
    {
     "name": "stderr",
     "output_type": "stream",
     "text": [
      "100%|██████████| 78/78 [00:09<00:00,  8.44it/s]\n",
      "100%|██████████| 9/9 [00:00<00:00, 19.50it/s]\n"
     ]
    },
    {
     "name": "stdout",
     "output_type": "stream",
     "text": [
      "Epoch [46/60] Training Loss: 0.009283391866927488\n",
      "Epoch [46/60] Validation Loss: 0.011025136295292113\n",
      "              precision    recall  f1-score   support\n",
      "\n",
      "           0       0.52      0.60      0.55       242\n",
      "           1       0.39      0.49      0.43       123\n",
      "           2       0.32      0.39      0.35       143\n",
      "           3       0.70      0.56      0.62       647\n",
      "           4       0.47      0.62      0.53       193\n",
      "           5       0.15      0.13      0.14        45\n",
      "           6       0.20      0.11      0.14        47\n",
      "\n",
      "    accuracy                           0.52      1440\n",
      "   macro avg       0.39      0.41      0.40      1440\n",
      "weighted avg       0.54      0.52      0.52      1440\n",
      "\n",
      "Epoch [46/60] Accuracy: 0.7258\n"
     ]
    },
    {
     "name": "stderr",
     "output_type": "stream",
     "text": [
      "100%|██████████| 78/78 [00:09<00:00,  8.38it/s]\n",
      "100%|██████████| 9/9 [00:00<00:00, 19.89it/s]\n"
     ]
    },
    {
     "name": "stdout",
     "output_type": "stream",
     "text": [
      "Epoch [47/60] Training Loss: 0.009233956726933066\n",
      "Epoch [47/60] Validation Loss: 0.011013471749093798\n",
      "              precision    recall  f1-score   support\n",
      "\n",
      "           0       0.51      0.58      0.54       242\n",
      "           1       0.30      0.59      0.40       123\n",
      "           2       0.35      0.33      0.34       143\n",
      "           3       0.71      0.51      0.60       647\n",
      "           4       0.46      0.61      0.52       193\n",
      "           5       0.17      0.16      0.16        45\n",
      "           6       0.21      0.11      0.14        47\n",
      "\n",
      "    accuracy                           0.50      1440\n",
      "   macro avg       0.39      0.41      0.39      1440\n",
      "weighted avg       0.54      0.50      0.51      1440\n",
      "\n",
      "Epoch [47/60] Accuracy: 0.7310\n"
     ]
    },
    {
     "name": "stderr",
     "output_type": "stream",
     "text": [
      "100%|██████████| 78/78 [00:09<00:00,  8.43it/s]\n",
      "100%|██████████| 9/9 [00:00<00:00, 20.10it/s]\n"
     ]
    },
    {
     "name": "stdout",
     "output_type": "stream",
     "text": [
      "Epoch [48/60] Training Loss: 0.009197737883049353\n",
      "Epoch [48/60] Validation Loss: 0.010971805039379333\n",
      "              precision    recall  f1-score   support\n",
      "\n",
      "           0       0.54      0.53      0.54       242\n",
      "           1       0.42      0.46      0.44       123\n",
      "           2       0.27      0.48      0.35       143\n",
      "           3       0.72      0.55      0.62       647\n",
      "           4       0.48      0.64      0.55       193\n",
      "           5       0.15      0.13      0.14        45\n",
      "           6       0.26      0.11      0.15        47\n",
      "\n",
      "    accuracy                           0.52      1440\n",
      "   macro avg       0.41      0.42      0.40      1440\n",
      "weighted avg       0.55      0.52      0.53      1440\n",
      "\n",
      "Epoch [48/60] Accuracy: 0.7359\n"
     ]
    },
    {
     "name": "stderr",
     "output_type": "stream",
     "text": [
      "100%|██████████| 78/78 [00:09<00:00,  8.36it/s]\n",
      "100%|██████████| 9/9 [00:00<00:00, 19.98it/s]\n"
     ]
    },
    {
     "name": "stdout",
     "output_type": "stream",
     "text": [
      "Epoch [49/60] Training Loss: 0.009244844991591717\n",
      "Epoch [49/60] Validation Loss: 0.0110337366660436\n",
      "              precision    recall  f1-score   support\n",
      "\n",
      "           0       0.48      0.64      0.55       242\n",
      "           1       0.41      0.38      0.39       123\n",
      "           2       0.26      0.40      0.31       143\n",
      "           3       0.72      0.49      0.58       647\n",
      "           4       0.48      0.58      0.52       193\n",
      "           5       0.14      0.22      0.17        45\n",
      "           6       0.17      0.15      0.16        47\n",
      "\n",
      "    accuracy                           0.49      1440\n",
      "   macro avg       0.38      0.41      0.38      1440\n",
      "weighted avg       0.54      0.49      0.50      1440\n",
      "\n",
      "Epoch [49/60] Accuracy: 0.7298\n"
     ]
    },
    {
     "name": "stderr",
     "output_type": "stream",
     "text": [
      "100%|██████████| 78/78 [00:09<00:00,  8.30it/s]\n",
      "100%|██████████| 9/9 [00:00<00:00, 19.68it/s]\n"
     ]
    },
    {
     "name": "stdout",
     "output_type": "stream",
     "text": [
      "Epoch [50/60] Training Loss: 0.009223081382568546\n",
      "Epoch [50/60] Validation Loss: 0.01101306171880828\n",
      "              precision    recall  f1-score   support\n",
      "\n",
      "           0       0.50      0.57      0.53       242\n",
      "           1       0.37      0.42      0.40       123\n",
      "           2       0.22      0.46      0.30       143\n",
      "           3       0.71      0.44      0.55       647\n",
      "           4       0.47      0.60      0.53       193\n",
      "           5       0.15      0.20      0.17        45\n",
      "           6       0.29      0.09      0.13        47\n",
      "\n",
      "    accuracy                           0.47      1440\n",
      "   macro avg       0.39      0.40      0.37      1440\n",
      "weighted avg       0.53      0.47      0.48      1440\n",
      "\n",
      "Epoch [50/60] Accuracy: 0.7363\n"
     ]
    },
    {
     "name": "stderr",
     "output_type": "stream",
     "text": [
      "100%|██████████| 78/78 [00:09<00:00,  8.22it/s]\n",
      "100%|██████████| 9/9 [00:00<00:00, 19.21it/s]\n"
     ]
    },
    {
     "name": "stdout",
     "output_type": "stream",
     "text": [
      "Epoch [51/60] Training Loss: 0.009217026012657762\n",
      "Epoch [51/60] Validation Loss: 0.010929603377978008\n",
      "              precision    recall  f1-score   support\n",
      "\n",
      "           0       0.54      0.58      0.56       242\n",
      "           1       0.36      0.47      0.41       123\n",
      "           2       0.25      0.42      0.31       143\n",
      "           3       0.72      0.49      0.58       647\n",
      "           4       0.49      0.62      0.54       193\n",
      "           5       0.14      0.20      0.16        45\n",
      "           6       0.27      0.15      0.19        47\n",
      "\n",
      "    accuracy                           0.49      1440\n",
      "   macro avg       0.39      0.42      0.39      1440\n",
      "weighted avg       0.55      0.49      0.51      1440\n",
      "\n",
      "Epoch [51/60] Accuracy: 0.7351\n"
     ]
    },
    {
     "name": "stderr",
     "output_type": "stream",
     "text": [
      "100%|██████████| 78/78 [00:09<00:00,  8.32it/s]\n",
      "100%|██████████| 9/9 [00:00<00:00, 19.86it/s]\n"
     ]
    },
    {
     "name": "stdout",
     "output_type": "stream",
     "text": [
      "Epoch [52/60] Training Loss: 0.00922282729323876\n",
      "Epoch [52/60] Validation Loss: 0.010921301444371541\n",
      "              precision    recall  f1-score   support\n",
      "\n",
      "           0       0.53      0.55      0.54       242\n",
      "           1       0.37      0.46      0.41       123\n",
      "           2       0.25      0.47      0.33       143\n",
      "           3       0.72      0.49      0.59       647\n",
      "           4       0.50      0.55      0.53       193\n",
      "           5       0.14      0.22      0.17        45\n",
      "           6       0.24      0.19      0.21        47\n",
      "\n",
      "    accuracy                           0.49      1440\n",
      "   macro avg       0.39      0.42      0.40      1440\n",
      "weighted avg       0.55      0.49      0.50      1440\n",
      "\n",
      "Epoch [52/60] Accuracy: 0.7394\n"
     ]
    },
    {
     "name": "stderr",
     "output_type": "stream",
     "text": [
      "100%|██████████| 78/78 [00:09<00:00,  8.47it/s]\n",
      "100%|██████████| 9/9 [00:00<00:00, 20.16it/s]\n"
     ]
    },
    {
     "name": "stdout",
     "output_type": "stream",
     "text": [
      "Epoch [53/60] Training Loss: 0.009203250238446925\n",
      "Epoch [53/60] Validation Loss: 0.010875322918097178\n",
      "              precision    recall  f1-score   support\n",
      "\n",
      "           0       0.54      0.57      0.55       242\n",
      "           1       0.36      0.47      0.41       123\n",
      "           2       0.29      0.43      0.34       143\n",
      "           3       0.71      0.59      0.64       647\n",
      "           4       0.48      0.56      0.52       193\n",
      "           5       0.24      0.18      0.20        45\n",
      "           6       0.36      0.17      0.23        47\n",
      "\n",
      "    accuracy                           0.53      1440\n",
      "   macro avg       0.43      0.42      0.41      1440\n",
      "weighted avg       0.55      0.53      0.53      1440\n",
      "\n",
      "Epoch [53/60] Accuracy: 0.7346\n"
     ]
    },
    {
     "name": "stderr",
     "output_type": "stream",
     "text": [
      "100%|██████████| 78/78 [00:09<00:00,  8.46it/s]\n",
      "100%|██████████| 9/9 [00:00<00:00, 20.02it/s]\n"
     ]
    },
    {
     "name": "stdout",
     "output_type": "stream",
     "text": [
      "Epoch [54/60] Training Loss: 0.0091404696287648\n",
      "Epoch [54/60] Validation Loss: 0.011005302353037729\n",
      "              precision    recall  f1-score   support\n",
      "\n",
      "           0       0.46      0.66      0.55       242\n",
      "           1       0.45      0.41      0.43       123\n",
      "           2       0.29      0.43      0.35       143\n",
      "           3       0.72      0.53      0.61       647\n",
      "           4       0.47      0.57      0.52       193\n",
      "           5       0.18      0.13      0.15        45\n",
      "           6       0.31      0.17      0.22        47\n",
      "\n",
      "    accuracy                           0.51      1440\n",
      "   macro avg       0.41      0.42      0.40      1440\n",
      "weighted avg       0.55      0.51      0.52      1440\n",
      "\n",
      "Epoch [54/60] Accuracy: 0.7504\n"
     ]
    },
    {
     "name": "stderr",
     "output_type": "stream",
     "text": [
      "100%|██████████| 78/78 [00:09<00:00,  8.38it/s]\n",
      "100%|██████████| 9/9 [00:00<00:00, 20.06it/s]\n"
     ]
    },
    {
     "name": "stdout",
     "output_type": "stream",
     "text": [
      "Epoch [55/60] Training Loss: 0.009116123820654971\n",
      "Epoch [55/60] Validation Loss: 0.010925648113091787\n",
      "              precision    recall  f1-score   support\n",
      "\n",
      "           0       0.56      0.58      0.57       242\n",
      "           1       0.36      0.43      0.39       123\n",
      "           2       0.26      0.40      0.31       143\n",
      "           3       0.70      0.52      0.60       647\n",
      "           4       0.54      0.56      0.55       193\n",
      "           5       0.11      0.29      0.16        45\n",
      "           6       0.27      0.13      0.17        47\n",
      "\n",
      "    accuracy                           0.50      1440\n",
      "   macro avg       0.40      0.42      0.39      1440\n",
      "weighted avg       0.55      0.50      0.51      1440\n",
      "\n",
      "Epoch [55/60] Accuracy: 0.7566\n"
     ]
    },
    {
     "name": "stderr",
     "output_type": "stream",
     "text": [
      "100%|██████████| 78/78 [00:09<00:00,  8.44it/s]\n",
      "100%|██████████| 9/9 [00:00<00:00, 19.83it/s]\n"
     ]
    },
    {
     "name": "stdout",
     "output_type": "stream",
     "text": [
      "Epoch [56/60] Training Loss: 0.009187625746331942\n",
      "Epoch [56/60] Validation Loss: 0.010785638872120116\n",
      "              precision    recall  f1-score   support\n",
      "\n",
      "           0       0.54      0.50      0.52       242\n",
      "           1       0.38      0.51      0.44       123\n",
      "           2       0.31      0.38      0.34       143\n",
      "           3       0.70      0.53      0.61       647\n",
      "           4       0.47      0.69      0.56       193\n",
      "           5       0.17      0.24      0.20        45\n",
      "           6       0.28      0.23      0.26        47\n",
      "\n",
      "    accuracy                           0.51      1440\n",
      "   macro avg       0.41      0.44      0.42      1440\n",
      "weighted avg       0.55      0.51      0.52      1440\n",
      "\n",
      "Epoch [56/60] Accuracy: 0.7348\n"
     ]
    },
    {
     "name": "stderr",
     "output_type": "stream",
     "text": [
      "100%|██████████| 78/78 [00:09<00:00,  8.31it/s]\n",
      "100%|██████████| 9/9 [00:00<00:00, 19.32it/s]\n"
     ]
    },
    {
     "name": "stdout",
     "output_type": "stream",
     "text": [
      "Epoch [57/60] Training Loss: 0.009128916184296699\n",
      "Epoch [57/60] Validation Loss: 0.010904609163602193\n",
      "              precision    recall  f1-score   support\n",
      "\n",
      "           0       0.53      0.57      0.55       242\n",
      "           1       0.49      0.39      0.43       123\n",
      "           2       0.30      0.36      0.33       143\n",
      "           3       0.71      0.58      0.64       647\n",
      "           4       0.45      0.66      0.53       193\n",
      "           5       0.17      0.20      0.18        45\n",
      "           6       0.26      0.21      0.23        47\n",
      "\n",
      "    accuracy                           0.53      1440\n",
      "   macro avg       0.41      0.43      0.41      1440\n",
      "weighted avg       0.55      0.53      0.53      1440\n",
      "\n",
      "Epoch [57/60] Accuracy: 0.7515\n"
     ]
    },
    {
     "name": "stderr",
     "output_type": "stream",
     "text": [
      "100%|██████████| 78/78 [00:09<00:00,  8.36it/s]\n",
      "100%|██████████| 9/9 [00:00<00:00, 20.09it/s]\n"
     ]
    },
    {
     "name": "stdout",
     "output_type": "stream",
     "text": [
      "Epoch [58/60] Training Loss: 0.009108558322851054\n",
      "Epoch [58/60] Validation Loss: 0.010987539920541975\n",
      "              precision    recall  f1-score   support\n",
      "\n",
      "           0       0.60      0.52      0.56       242\n",
      "           1       0.42      0.43      0.42       123\n",
      "           2       0.29      0.42      0.34       143\n",
      "           3       0.69      0.58      0.63       647\n",
      "           4       0.45      0.65      0.53       193\n",
      "           5       0.12      0.13      0.13        45\n",
      "           6       0.29      0.19      0.23        47\n",
      "\n",
      "    accuracy                           0.52      1440\n",
      "   macro avg       0.41      0.42      0.41      1440\n",
      "weighted avg       0.55      0.52      0.53      1440\n",
      "\n",
      "Epoch [58/60] Accuracy: 0.7533\n"
     ]
    },
    {
     "name": "stderr",
     "output_type": "stream",
     "text": [
      "100%|██████████| 78/78 [00:09<00:00,  8.48it/s]\n",
      "100%|██████████| 9/9 [00:00<00:00, 20.11it/s]\n"
     ]
    },
    {
     "name": "stdout",
     "output_type": "stream",
     "text": [
      "Epoch [59/60] Training Loss: 0.009089849756527284\n",
      "Epoch [59/60] Validation Loss: 0.01101765525009897\n",
      "              precision    recall  f1-score   support\n",
      "\n",
      "           0       0.56      0.54      0.55       242\n",
      "           1       0.44      0.37      0.40       123\n",
      "           2       0.26      0.44      0.33       143\n",
      "           3       0.69      0.60      0.64       647\n",
      "           4       0.52      0.56      0.54       193\n",
      "           5       0.13      0.20      0.16        45\n",
      "           6       0.28      0.11      0.15        47\n",
      "\n",
      "    accuracy                           0.52      1440\n",
      "   macro avg       0.41      0.40      0.40      1440\n",
      "weighted avg       0.55      0.52      0.53      1440\n",
      "\n",
      "Epoch [59/60] Accuracy: 0.7649\n"
     ]
    },
    {
     "name": "stderr",
     "output_type": "stream",
     "text": [
      "100%|██████████| 78/78 [00:09<00:00,  8.46it/s]\n",
      "100%|██████████| 9/9 [00:00<00:00, 20.05it/s]\n"
     ]
    },
    {
     "name": "stdout",
     "output_type": "stream",
     "text": [
      "Epoch [60/60] Training Loss: 0.009072182213538718\n",
      "Epoch [60/60] Validation Loss: 0.011087752961450153\n",
      "              precision    recall  f1-score   support\n",
      "\n",
      "           0       0.59      0.48      0.53       242\n",
      "           1       0.43      0.42      0.43       123\n",
      "           2       0.25      0.50      0.34       143\n",
      "           3       0.70      0.60      0.65       647\n",
      "           4       0.48      0.56      0.52       193\n",
      "           5       0.11      0.11      0.11        45\n",
      "           6       0.25      0.11      0.15        47\n",
      "\n",
      "    accuracy                           0.52      1440\n",
      "   macro avg       0.40      0.40      0.39      1440\n",
      "weighted avg       0.55      0.52      0.53      1440\n",
      "\n",
      "Epoch [60/60] Accuracy: 0.7610\n",
      "Training complete!\n",
      "=========================BEST MODEL DETAILS=========================\n",
      "Best model at epoch 56 with validation loss: 15.531319975852966\n",
      "Classification Report\n",
      "               precision    recall  f1-score   support\n",
      "\n",
      "           0       0.54      0.50      0.52       242\n",
      "           1       0.38      0.51      0.44       123\n",
      "           2       0.31      0.38      0.34       143\n",
      "           3       0.70      0.53      0.61       647\n",
      "           4       0.47      0.69      0.56       193\n",
      "           5       0.17      0.24      0.20        45\n",
      "           6       0.28      0.23      0.26        47\n",
      "\n",
      "    accuracy                           0.51      1440\n",
      "   macro avg       0.41      0.44      0.42      1440\n",
      "weighted avg       0.55      0.51      0.52      1440\n",
      "\n",
      "Best model saved at: /tmp/semeval24_task3/baseline_models/emotion_models/best_model.pt\n"
     ]
    }
   ],
   "source": [
    "from torch.optim import AdamW\n",
    "from tqdm import tqdm\n",
    "from sklearn.metrics import classification_report\n",
    "from transformers import get_linear_schedule_with_warmup\n",
    "\n",
    "# Define your model\n",
    "# model = EmotionClassifier(input_size=11237, hidden_size=5000, num_layers=2, num_heads=2, dropout=0.2, num_emotions=7)\n",
    "print(TEXT_EMBEDDINGS_FILEPATH)\n",
    "print(AUDIO_EMBEDDINGS_FILEPATH)\n",
    "print(VIDEO_EMBEDDINGS_FILEPATH)\n",
    "model = EmotionClassifier(input_size=768*3, hidden_size=2000, num_emotions=7, num_layers=4, dropout=0.3)\n",
    "model.to(\"cuda\")\n",
    "\n",
    "# Define your loss function and optimizer\n",
    "weights_tensor = torch.tensor(np.array(indexer.weights)).to(\"cuda\").float()\n",
    "# weights_tensor = torch.tensor(np.array([1.0, 1.0, 1.0, 0.25, 1.0, 3.0, 3.0])).to(\"cuda\").float()\n",
    "criterion = nn.CrossEntropyLoss(\n",
    "    weight=weights_tensor,\n",
    "    ignore_index=7\n",
    ")\n",
    "\n",
    "num_epochs = 60\n",
    "\n",
    "optimizer = AdamW(model.parameters(), lr=1e-4)\n",
    "\n",
    "total_steps = len(train_dataloader) * num_epochs\n",
    "\n",
    "scheduler = get_linear_schedule_with_warmup(\n",
    "    optimizer,\n",
    "    num_warmup_steps=0,\n",
    "    num_training_steps=total_steps\n",
    ")\n",
    "\n",
    "best_model_file = None\n",
    "best_val_loss = float('inf')\n",
    "best_epoch = -1\n",
    "best_classification_report = None\n",
    "\n",
    "\n",
    "# criterion = FocalLoss(gamma=2.0)\n",
    "\n",
    "# Define training parameters\n",
    "\n",
    "# Training loop\n",
    "for epoch in (range(num_epochs)):\n",
    "    model.train()  # Set the model to training mode\n",
    "    total_loss = 0.0\n",
    "    total_tokens = 0\n",
    "    total_correct = 0\n",
    "    total_predictions = 0\n",
    "\n",
    "    for batch in tqdm(train_dataloader):  # Assuming you have a DataLoader for your dataset\n",
    "        # Extract data from the batch\n",
    "        audio = batch['audio'].to('cuda')\n",
    "        video = batch['video'].to('cuda')\n",
    "        text = batch['text'].to('cuda')\n",
    "        emotion_indices = batch['emotion_labels'].to('cuda')\n",
    "        pad_mask = batch['pad_mask'].to('cuda')\n",
    "\n",
    "        # Forward pass\n",
    "        emotion_logits = model(audio, video, text)\n",
    "\n",
    "        # Reshape emotion_logits\n",
    "        emotion_logits = emotion_logits.view(-1, emotion_logits.size(-1))\n",
    "\n",
    "        # Flatten emotion_indices (assuming it's a 2D tensor with shape [batch_size, max_sequence_length])\n",
    "        emotion_indices = emotion_indices.view(-1)\n",
    "\n",
    "        # Calculate a mask to exclude padded positions from the loss\n",
    "        pad_mask = pad_mask.view(-1).float()\n",
    "\n",
    "        # Calculate the loss, excluding padded positions\n",
    "        loss = criterion(emotion_logits, emotion_indices)\n",
    "        # masked_loss = torch.sum(loss * pad_mask) / torch.sum(pad_mask)\n",
    "        masked_loss = loss# *pad_mask\n",
    "        # Backpropagation and optimization\n",
    "        optimizer.zero_grad()\n",
    "        masked_loss.backward()\n",
    "        optimizer.step()\n",
    "        \n",
    "\n",
    "        total_loss += masked_loss.item()\n",
    "        total_tokens += torch.sum(pad_mask).item()\n",
    "        \n",
    "        predicted_emotions = torch.argmax(emotion_logits, dim=1)\n",
    "        correct_predictions = ((predicted_emotions == emotion_indices) * pad_mask).sum().item()\n",
    "\n",
    "        total_correct += correct_predictions\n",
    "        total_predictions += torch.sum(pad_mask).item()  # Batch size\n",
    "    \n",
    "    scheduler.step()\n",
    "\n",
    "    model.eval()  # Set the model to evaluation mode\n",
    "    total_val_loss = 0.0\n",
    "    total_val_tokens = 0\n",
    "    total_val_correct = 0\n",
    "    total_val_predictions = 0\n",
    "    true_labels = []\n",
    "    predicted_labels = []\n",
    "    padded_labels = []\n",
    "\n",
    "    with torch.no_grad():\n",
    "        for val_batch in tqdm(validation_dataloader):\n",
    "            audio = val_batch['audio'].to('cuda')\n",
    "            video = val_batch['video'].to('cuda')\n",
    "            text = val_batch['text'].to('cuda')\n",
    "            emotion_indices = val_batch['emotion_labels'].to('cuda')\n",
    "            pad_mask = val_batch['pad_mask'].to('cuda')\n",
    "\n",
    "            emotion_logits = model(audio, video, text)\n",
    "\n",
    "            # Reshape emotion_logits\n",
    "            emotion_logits = emotion_logits.view(-1, emotion_logits.size(-1))\n",
    "\n",
    "            # Flatten emotion_indices (assuming it's a 2D tensor with shape [batch_size, max_sequence_length])\n",
    "            emotion_indices = emotion_indices.view(-1)\n",
    "\n",
    "            pad_mask = pad_mask.view(-1)   \n",
    "\n",
    "            # Calculate the loss, excluding padded positions\n",
    "            val_loss = criterion(emotion_logits, emotion_indices)\n",
    "            masked_loss = torch.sum(val_loss * pad_mask) / torch.sum(pad_mask)\n",
    "            \n",
    "            total_val_loss += masked_loss.item()\n",
    "            total_val_tokens += torch.sum(pad_mask).item()\n",
    "            \n",
    "            predicted_emotions_val = torch.argmax(emotion_logits, dim=1)\n",
    "            correct_predictions_val = ((predicted_emotions_val == emotion_indices) * pad_mask).sum().item()\n",
    "            total_val_correct += correct_predictions_val\n",
    "            total_val_predictions += torch.sum(pad_mask).item()\n",
    "\n",
    "            # Store true and predicted labels for F1 score calculation\n",
    "            true_labels.extend(emotion_indices.cpu().numpy())\n",
    "            predicted_labels.extend(predicted_emotions_val.cpu().numpy())\n",
    "            padded_labels.extend(pad_mask.cpu().numpy())\n",
    "\n",
    "    final_true_labels = [label for label, pad in zip(true_labels, padded_labels) if pad == 1]\n",
    "    final_predicted_labels = [label for label, pad in zip(predicted_labels, padded_labels) if pad == 1]\n",
    "    # print(\"=========================\")\n",
    "    # print(final_true_labels)\n",
    "    # print(final_predicted_labels)\n",
    "    # print(\"=========================\")\n",
    "    classification_rep = classification_report(final_true_labels, final_predicted_labels)\n",
    "    \n",
    "    if total_val_loss < best_val_loss:\n",
    "        best_val_loss = total_val_loss\n",
    "        best_epoch = epoch\n",
    "        best_classification_report = classification_rep\n",
    "        best_model_file = f\"/tmp/semeval24_task3/baseline_models/emotion_models/best_model.pt\"\n",
    "        torch.save(model.state_dict(), best_model_file)\n",
    "\n",
    "    # Calculate and print the average loss for this epoch\n",
    "    avg_loss = total_loss / total_tokens\n",
    "    avg_val_loss = total_val_loss / total_val_tokens\n",
    "    print(f\"Epoch [{epoch + 1}/{num_epochs}] Training Loss: {avg_loss}\")\n",
    "    print(f\"Epoch [{epoch + 1}/{num_epochs}] Validation Loss: {avg_val_loss}\")\n",
    "    print(classification_rep)\n",
    "    print(f\"Epoch [{epoch + 1}/{num_epochs}] Accuracy: {total_correct / total_predictions:.4f}\")\n",
    "\n",
    "    torch.save(model.state_dict(), f\"/tmp/semeval24_task3/baseline_models/emotion_models/emotion_model_{epoch:02}.pt\")\n",
    "\n",
    "print(\"Training complete!\")\n",
    "print(\"=========================BEST MODEL DETAILS=========================\")\n",
    "print(f\"Best model at epoch {best_epoch + 1} with validation loss: {best_val_loss}\")\n",
    "print(\"Classification Report\\n\", best_classification_report)\n",
    "print(f\"Best model saved at: {best_model_file}\")"
   ]
  },
  {
   "cell_type": "code",
   "execution_count": null,
   "metadata": {},
   "outputs": [],
   "source": []
  }
 ],
 "metadata": {
  "kernelspec": {
   "display_name": "Python 3 (ipykernel)",
   "language": "python",
   "name": "python3"
  },
  "language_info": {
   "codemirror_mode": {
    "name": "ipython",
    "version": 3
   },
   "file_extension": ".py",
   "mimetype": "text/x-python",
   "name": "python",
   "nbconvert_exporter": "python",
   "pygments_lexer": "ipython3",
   "version": "3.10.8"
  }
 },
 "nbformat": 4,
 "nbformat_minor": 4
}
