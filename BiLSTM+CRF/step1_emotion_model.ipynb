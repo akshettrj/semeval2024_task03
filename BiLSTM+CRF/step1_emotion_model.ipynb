{
 "cells": [
  {
   "cell_type": "code",
   "execution_count": 1,
   "metadata": {},
   "outputs": [
    {
     "name": "stdout",
     "output_type": "stream",
     "text": [
      "1236\n",
      "138\n"
     ]
    }
   ],
   "source": [
    "from encoder_paths import *\n",
    "import json\n",
    "from pprint import pprint\n",
    "TRAIN_FILE_PATH = \"/tmp/semeval24_task3/SemEval-2024_Task3/official_data/Training_data/text/training.json\"\n",
    "VALIDATION_FILE_PATH = \"/tmp/semeval24_task3/SemEval-2024_Task3/official_data/Training_data/text/testing.json\"\n",
    "with open(TRAIN_FILE_PATH) as f:\n",
    "    train_data = json.load(f)\n",
    "with open(VALIDATION_FILE_PATH) as f:\n",
    "    validation_data = json.load(f)\n",
    "\n",
    "pprint(len(train_data))\n",
    "pprint(len(validation_data))"
   ]
  },
  {
   "cell_type": "code",
   "execution_count": 2,
   "metadata": {},
   "outputs": [
    {
     "name": "stdout",
     "output_type": "stream",
     "text": [
      "[2059, 1024, 1472, 5282, 1647, 369, 326]\n",
      "[0.00048567265662943174, 0.0009765625, 0.0006793478260869565, 0.0001893222264293828, 0.0006071645415907711, 0.0027100271002710027, 0.003067484662576687]\n"
     ]
    }
   ],
   "source": [
    "class EmotionIndexer:\n",
    "    def __init__(self):\n",
    "        self.emotion_to_index = {\n",
    "            'joy': 0,\n",
    "            'sadness': 1,\n",
    "            'anger': 2,\n",
    "            'neutral': 3,\n",
    "            'surprise': 4,\n",
    "            'disgust': 5,\n",
    "            'fear': 6,\n",
    "            'pad': 7,\n",
    "        }\n",
    "        self.emotion_freq = [0]*7\n",
    "        self.weights = None\n",
    "\n",
    "        self.index_to_emotion = {index: emotion for emotion, index in self.emotion_to_index.items()}\n",
    "\n",
    "    def emotion_to_idx(self, emotion):\n",
    "        return self.emotion_to_index.get(emotion, None)\n",
    "\n",
    "    def idx_to_emotion(self, index):\n",
    "        return self.index_to_emotion.get(index, None)\n",
    "    \n",
    "    def compute_weights(self, data):\n",
    "        for conversation in data:\n",
    "            conversation = conversation['conversation']\n",
    "            for utterance in conversation:\n",
    "                emotion = utterance['emotion']\n",
    "                self.emotion_freq[self.emotion_to_index[emotion]] += 1\n",
    "        print(self.emotion_freq)\n",
    "        self.weights = [1/freq for freq in self.emotion_freq]\n",
    "\n",
    "# Example usage\n",
    "indexer = EmotionIndexer()\n",
    "indexer.compute_weights(train_data)\n",
    "print(indexer.weights)"
   ]
  },
  {
   "cell_type": "code",
   "execution_count": 3,
   "metadata": {},
   "outputs": [
    {
     "name": "stdout",
     "output_type": "stream",
     "text": [
      "{'joy', 'disgust', 'fear', 'sadness', 'anger', 'surprise', 'neutral'}\n"
     ]
    }
   ],
   "source": [
    "all_emotions = set()\n",
    "for conversation in train_data:\n",
    "    conversation = conversation[\"conversation\"]\n",
    "    for utterance in conversation:\n",
    "        all_emotions.add(utterance[\"emotion\"])\n",
    "pprint(all_emotions)"
   ]
  },
  {
   "cell_type": "code",
   "execution_count": null,
   "metadata": {},
   "outputs": [],
   "source": []
  },
  {
   "cell_type": "code",
   "execution_count": 4,
   "metadata": {},
   "outputs": [
    {
     "name": "stderr",
     "output_type": "stream",
     "text": [
      "/home2/suyash.mathur/anaconda3/envs/mindeye/lib/python3.10/site-packages/tqdm/auto.py:21: TqdmWarning: IProgress not found. Please update jupyter and ipywidgets. See https://ipywidgets.readthedocs.io/en/stable/user_install.html\n",
      "  from .autonotebook import tqdm as notebook_tqdm\n"
     ]
    }
   ],
   "source": [
    "import torch\n",
    "import json\n",
    "import os\n",
    "from torch.utils.data import Dataset, DataLoader\n",
    "from torchvision.io import read_video\n",
    "from torchvision.transforms import functional as F\n",
    "from PIL import Image\n",
    "import numpy as np"
   ]
  },
  {
   "cell_type": "code",
   "execution_count": 5,
   "metadata": {
    "collapsed": true,
    "jupyter": {
     "outputs_hidden": true
    },
    "tags": []
   },
   "outputs": [],
   "source": [
    "# video_id_mapping = np.load(\"/home2/akshett.jindal/research/semeval24/task3/MECPE/data/video_id_mapping.npy\", allow_pickle=True)\n",
    "# print(video_id_mapping)\n",
    "# video_id_mapping = video_id_mapping.item()"
   ]
  },
  {
   "cell_type": "code",
   "execution_count": 6,
   "metadata": {},
   "outputs": [],
   "source": [
    "import torch\n",
    "import pickle\n",
    "\n",
    "class YourAudioEncoder():\n",
    "    def __init__(self, audio_embeddings_path):\n",
    "        with open(audio_embeddings_path, \"rb\") as f:\n",
    "            self.audio_embeddings = pickle.load(f)\n",
    "\n",
    "    def lmao(self, audio_name):\n",
    "        audio_name = audio_name.split(\".\")[0]\n",
    "        audio_embedding = self.audio_embeddings[audio_name]\n",
    "        audio_embedding = audio_embedding.squeeze()\n",
    "        return torch.from_numpy(audio_embedding)\n",
    "    \n",
    "class YourVideoEncoder():\n",
    "    def __init__(self, video_embeddings_path):\n",
    "        with open(video_embeddings_path, \"rb\") as f:\n",
    "            self.video_embeddings = pickle.load(f)\n",
    "\n",
    "    def lmao(self, video_name):\n",
    "        # video_name = video_name.split(\".\")[0]\n",
    "        video_embedding = self.video_embeddings[video_name].reshape((16,-1))\n",
    "        video_embedding = np.mean(video_embedding, axis=0)\n",
    "        return torch.from_numpy(video_embedding)\n",
    "\n",
    "class YourTextEncoder():\n",
    "    def __init__(self, text_embeddings_path):\n",
    "        with open(text_embeddings_path, \"rb\") as f:\n",
    "            self.text_embeddings = pickle.load(f)\n",
    "\n",
    "    def lmao(self, video_name):\n",
    "        text_embedding = self.text_embeddings[video_name]\n",
    "        return torch.from_numpy(text_embedding)\n"
   ]
  },
  {
   "cell_type": "code",
   "execution_count": 7,
   "metadata": {},
   "outputs": [],
   "source": [
    "class ConversationDataset(Dataset):\n",
    "    def __init__(self, json_file, audio_encoder, video_encoder, text_encoder, max_seq_len):\n",
    "        self.max_seq_len = max_seq_len\n",
    "        self.data = self.load_data(json_file)\n",
    "        self.audio_encoder = audio_encoder\n",
    "        self.video_encoder = video_encoder\n",
    "        self.text_encoder = text_encoder\n",
    "\n",
    "    def load_data(self, json_file):\n",
    "        with open(json_file, 'r') as f:\n",
    "            data = json.load(f)\n",
    "        return data\n",
    "\n",
    "    def __len__(self):\n",
    "        return len(self.data)\n",
    "\n",
    "    def __getitem__(self, idx):\n",
    "        conversation = self.data[idx]['conversation']\n",
    "        emotion_labels = [utterance['emotion'] for utterance in conversation]\n",
    "        audio_paths = [utterance['video_name'].replace('mp4', 'wav') for utterance in conversation]\n",
    "        video_paths = [utterance['video_name'] for utterance in conversation]\n",
    "        texts = [utterance['video_name'] for utterance in conversation]\n",
    "\n",
    "        audio_embeddings = [self.audio_encoder.lmao(audio_path) for audio_path in audio_paths]\n",
    "        video_embeddings = [self.video_encoder.lmao(video_path) for video_path in video_paths]\n",
    "        text_embeddings = [self.text_encoder.lmao(text) for text in texts]\n",
    "\n",
    "        cause_pairs = self.data[idx]['emotion-cause_pairs']\n",
    "        useful_utterances = set([int(cause_pair[1]) for cause_pair in cause_pairs])\n",
    "        cause_labels = []\n",
    "        for utterance in conversation:\n",
    "            if utterance['utterance_ID'] in useful_utterances:\n",
    "                cause_labels.append(1)\n",
    "            else:\n",
    "                cause_labels.append(0)\n",
    "        \n",
    "        \n",
    "        # Pad or truncate conversations to the maximum sequence length\n",
    "        if len(conversation) < self.max_seq_len and False:\n",
    "            pad_length = self.max_seq_len - len(conversation)\n",
    "            audio_embeddings += [torch.zeros_like(audio_embeddings[0])] * pad_length\n",
    "            video_embeddings += [torch.zeros_like(video_embeddings[0])] * pad_length\n",
    "            text_embeddings += [torch.zeros_like(text_embeddings[0])] * pad_length\n",
    "            cause_labels += [-1] * pad_length\n",
    "            emotion_labels += ['pad'] * pad_length\n",
    "            pad_mask = [1] * len(conversation) + [0] * pad_length\n",
    "        else:\n",
    "            audio_embeddings = audio_embeddings[:self.max_seq_len]\n",
    "            video_embeddings = video_embeddings[:self.max_seq_len]\n",
    "            text_embeddings = text_embeddings[:self.max_seq_len]\n",
    "            emotion_labels = emotion_labels[:self.max_seq_len]\n",
    "            cause_labels = cause_labels[:self.max_seq_len]\n",
    "            pad_mask = [1] * self.max_seq_len\n",
    "\n",
    "        emotion_indices = [indexer.emotion_to_idx(emotion) for emotion in emotion_labels]\n",
    "        \n",
    "        audio_embeddings = torch.stack(audio_embeddings)\n",
    "        video_embeddings = torch.stack(video_embeddings)\n",
    "        text_embeddings = torch.stack(text_embeddings)\n",
    "        emotion_indices = torch.from_numpy(np.array(emotion_indices))\n",
    "        pad_mask = torch.from_numpy(np.array(pad_mask))\n",
    "        cause_labels = torch.from_numpy(np.array(cause_labels))\n",
    "        \n",
    "        return {\n",
    "            'audio': audio_embeddings,\n",
    "            'video': video_embeddings,\n",
    "            'text': text_embeddings,\n",
    "            'emotion_labels': emotion_indices,\n",
    "            'pad_mask': pad_mask,\n",
    "            'cause_labels': cause_labels,\n",
    "        }\n",
    "# Example usage\n",
    "# You need to define your audio, video, and text encoders accordingly\n",
    "\n",
    "# Define your data paths\n",
    "# DATA_DIR = \"/tmp/semeval24_task3\"\n",
    "\n",
    "# AUDIO_EMBEDDINGS_FILEPATH = os.path.join(DATA_DIR, \"audio_embeddings\", \"audio_embeddings.pkl\")\n",
    "# VIDEO_EMBEDDINGS_FILEPATH = os.path.join(DATA_DIR, \"video_embeddings\", \"train\", \"video_embeddings.pkl\")\n",
    "# TEXT_EMBEDDINGS_FILEPATH = os.path.join(DATA_DIR, \"text_embeddings\", \"text_embeddings.pkl\")\n",
    "\n",
    "audio_encoder = YourAudioEncoder(AUDIO_EMBEDDINGS_FILEPATH)\n",
    "video_encoder = YourVideoEncoder(VIDEO_EMBEDDINGS_FILEPATH)\n",
    "text_encoder = YourTextEncoder(TEXT_EMBEDDINGS_FILEPATH)\n",
    "max_seq_len = 40  # Adjust this according to your needs\n",
    "\n",
    "# Create the dataset and dataloader\n",
    "train_dataset = ConversationDataset(TRAIN_FILE_PATH, audio_encoder, video_encoder, text_encoder, max_seq_len)\n",
    "train_dataloader = DataLoader(train_dataset, batch_size=1, shuffle=True)\n",
    "\n",
    "validation_dataset = ConversationDataset(VALIDATION_FILE_PATH, audio_encoder, video_encoder, text_encoder, max_seq_len)\n",
    "validation_dataloader = DataLoader(validation_dataset, batch_size=1, shuffle=True)\n",
    "\n",
    "# Example of iterating through batches\n",
    "# for batch in dataloader:\n",
    "#     audio = batch['audio']  # Shape: (batch_size, max_seq_len, audio_embedding_size)\n",
    "#     video = batch['video']  # Shape: (batch_size, max_seq_len, video_embedding_size)\n",
    "#     text = batch['text']    # Shape: (batch_size, max_seq_len, text_embedding_size)\n",
    "#     emotions = batch['emotion_labels']  # List of emotion labels for each utterance in the batch\n"
   ]
  },
  {
   "cell_type": "code",
   "execution_count": 8,
   "metadata": {},
   "outputs": [],
   "source": [
    "# import torch\n",
    "# import torch.nn as nn\n",
    "# from torch.nn import TransformerEncoder, TransformerEncoderLayer\n",
    "\n",
    "# class EmotionClassifier(nn.Module):\n",
    "#     def __init__(self, input_size, hidden_size, num_layers, num_heads, dropout, num_emotions):\n",
    "#         super(EmotionClassifier, self).__init__()\n",
    "        \n",
    "#         self.first_linear = nn.Linear(input_size, hidden_size, dtype=torch.float32)\n",
    "\n",
    "#         self.transformer_encoder = TransformerEncoder(\n",
    "#             TransformerEncoderLayer(hidden_size, num_heads, hidden_size, dropout),\n",
    "#             num_layers\n",
    "#         )\n",
    "        \n",
    "#         self.linear = nn.Linear(hidden_size, num_emotions)\n",
    "\n",
    "#     def forward(self, audio_encoding, video_encoding, text_encoding):\n",
    "\n",
    "#         # Concatenate or combine the audio, video, and text encodings here\n",
    "#         # You can use any method like concatenation, addition, or other fusion techniques\n",
    "#         # Combine the encodings (you can customize this part)\n",
    "#         audio_encoding = audio_encoding.float()\n",
    "#         video_encoding = video_encoding.float()\n",
    "#         text_encoding = text_encoding.float().squeeze()\n",
    "#         combined_encoding = torch.cat((audio_encoding, video_encoding, text_encoding), dim=2)\n",
    "        \n",
    "#         combined_encoding = self.first_linear(combined_encoding)\n",
    "        \n",
    "        \n",
    "#         combined_encoding = combined_encoding.permute(1, 0, 2)  # Transformer expects (seq_len, batch_size, input_size)\n",
    "        \n",
    "        \n",
    "#         transformer_output = self.transformer_encoder(combined_encoding)\n",
    "\n",
    "#         # Take the output of the Transformer encoder for the last position as the summary\n",
    "#         emotion_logits = self.linear(transformer_output.permute(1, 0, 2))\n",
    "#         # Apply a softmax layer\n",
    "#         emotion_logits = torch.softmax(emotion_logits, dim=2)\n",
    "\n",
    "#         return emotion_logits"
   ]
  },
  {
   "cell_type": "code",
   "execution_count": 9,
   "metadata": {},
   "outputs": [],
   "source": [
    "import torch\n",
    "import torch.nn as nn\n",
    "from TorchCRF import CRF\n",
    "\n",
    "class EmotionClassifier(nn.Module):\n",
    "    def __init__(self, input_size, hidden_size, num_layers, dropout, num_emotions, embedding_dropout=0.2):\n",
    "        super(EmotionClassifier, self).__init__()\n",
    "        \n",
    "        self.audio_dropout = nn.Dropout(embedding_dropout)\n",
    "        self.video_dropout = nn.Dropout(embedding_dropout)\n",
    "        self.text_dropout = nn.Dropout(embedding_dropout)\n",
    "\n",
    "        self.first_linear = nn.Linear(input_size, hidden_size, dtype=torch.float32)\n",
    "        self.relu = nn.ReLU()\n",
    "        \n",
    "        self.second_linear_layer = nn.Linear(hidden_size, hidden_size, dtype=torch.float32)\n",
    "        # Replace Transformer with BiLSTM\n",
    "        self.bilstm = nn.LSTM(hidden_size, hidden_size // 2, num_layers, \n",
    "                              dropout=dropout, bidirectional=True, batch_first=True)\n",
    "        \n",
    "        self.linear = nn.Linear(hidden_size, num_emotions)\n",
    "        self.crf_model = CRF(num_emotions)\n",
    "        \n",
    "\n",
    "    def generate_emissions(self, audio_encoding, video_encoding, text_encoding):\n",
    "        # Concatenate or combine the audio, video, and text encodings\n",
    "        audio_encoding = audio_encoding.float()\n",
    "        video_encoding = video_encoding.float()\n",
    "        text_encoding = text_encoding.float()\n",
    "        \n",
    "        audio_encoding = self.audio_dropout(audio_encoding)\n",
    "        video_encoding = self.video_dropout(video_encoding)\n",
    "        text_encoding = self.text_dropout(text_encoding)\n",
    "        \n",
    "        combined_encoding = torch.cat((audio_encoding, video_encoding, text_encoding), dim=2)\n",
    "        \n",
    "        combined_encoding = self.first_linear(combined_encoding)\n",
    "        combined_encoding = self.relu(combined_encoding)\n",
    "        combined_encoding = self.second_linear_layer(combined_encoding)\n",
    "        \n",
    "        # Pass through BiLSTM\n",
    "        lstm_output, _ = self.bilstm(combined_encoding)\n",
    "\n",
    "        # Take the output of the BiLSTM\n",
    "        emotion_logits = self.linear(lstm_output)\n",
    "        # Apply a softmax layer\n",
    "        # emotion_logits = torch.softmax(emotion_logits, dim=2)\n",
    "\n",
    "        return emotion_logits\n",
    "\n",
    "    def loss(self, audio_encoding, video_encoding, text_encoding, emotion_labels, padding):\n",
    "\n",
    "        emissions = self.generate_emissions(audio_encoding, video_encoding, text_encoding)\n",
    "        emotion_labels = emotion_labels.unsqueeze(1)\n",
    "        x, y, _ = emissions.shape\n",
    "        padding = torch.ones((x, y), dtype=torch.bool).to('cuda')\n",
    "        emotion_labels = emotion_labels.squeeze(1)\n",
    "        loss = -self.crf_model(emissions, emotion_labels, padding)\n",
    "\n",
    "        return loss\n",
    "    \n",
    "    def predict(self, audio_encoding, video_encoding, text_encoding):\n",
    "        emissions = self.generate_emissions(audio_encoding, video_encoding, text_encoding)\n",
    "        x, y, _ = emissions.shape\n",
    "        padding = torch.ones((x, y), dtype=torch.bool).to('cuda')\n",
    "        label = self.crf_model.viterbi_decode(emissions, padding)\n",
    "        return label\n",
    "    \n",
    "    def init_hidden(self):\n",
    "        return (torch.randn(2, 1, self.hidden_dim).to('cuda'), torch.randn(2, 1, self.hidden_dim).to('cuda'))"
   ]
  },
  {
   "cell_type": "code",
   "execution_count": 10,
   "metadata": {},
   "outputs": [],
   "source": [
    "from typing import Optional, Sequence\n",
    "\n",
    "import torch\n",
    "from torch import Tensor\n",
    "from torch import nn\n",
    "from torch.nn import functional as F\n",
    "\n",
    "\n",
    "class FocalLoss(nn.Module):\n",
    "    \"\"\" Focal Loss, as described in https://arxiv.org/abs/1708.02002.\n",
    "\n",
    "    It is essentially an enhancement to cross entropy loss and is\n",
    "    useful for classification tasks when there is a large class imbalance.\n",
    "    x is expected to contain raw, unnormalized scores for each class.\n",
    "    y is expected to contain class labels.\n",
    "\n",
    "    Shape:\n",
    "        - x: (batch_size, C) or (batch_size, C, d1, d2, ..., dK), K > 0.\n",
    "        - y: (batch_size,) or (batch_size, d1, d2, ..., dK), K > 0.\n",
    "    \"\"\"\n",
    "\n",
    "    def __init__(self,\n",
    "                 alpha: Optional[Tensor] = None,\n",
    "                 gamma: float = 0.,\n",
    "                 reduction: str = 'mean',\n",
    "                 ignore_index: int = -100):\n",
    "        \"\"\"Constructor.\n",
    "\n",
    "        Args:\n",
    "            alpha (Tensor, optional): Weights for each class. Defaults to None.\n",
    "            gamma (float, optional): A constant, as described in the paper.\n",
    "                Defaults to 0.\n",
    "            reduction (str, optional): 'mean', 'sum' or 'none'.\n",
    "                Defaults to 'mean'.\n",
    "            ignore_index (int, optional): class label to ignore.\n",
    "                Defaults to -100.\n",
    "        \"\"\"\n",
    "        if reduction not in ('mean', 'sum', 'none'):\n",
    "            raise ValueError(\n",
    "                'Reduction must be one of: \"mean\", \"sum\", \"none\".')\n",
    "\n",
    "        super().__init__()\n",
    "        self.alpha = alpha\n",
    "        self.gamma = gamma\n",
    "        self.ignore_index = ignore_index\n",
    "        self.reduction = reduction\n",
    "\n",
    "        self.nll_loss = nn.NLLLoss(\n",
    "            weight=alpha, reduction='none', ignore_index=ignore_index)\n",
    "\n",
    "    def __repr__(self):\n",
    "        arg_keys = ['alpha', 'gamma', 'ignore_index', 'reduction']\n",
    "        arg_vals = [self.__dict__[k] for k in arg_keys]\n",
    "        arg_strs = [f'{k}={v!r}' for k, v in zip(arg_keys, arg_vals)]\n",
    "        arg_str = ', '.join(arg_strs)\n",
    "        return f'{type(self).__name__}({arg_str})'\n",
    "\n",
    "    def forward(self, x: Tensor, y: Tensor) -> Tensor:\n",
    "        if x.ndim > 2:\n",
    "            # (N, C, d1, d2, ..., dK) --> (N * d1 * ... * dK, C)\n",
    "            c = x.shape[1]\n",
    "            x = x.permute(0, *range(2, x.ndim), 1).reshape(-1, c)\n",
    "            # (N, d1, d2, ..., dK) --> (N * d1 * ... * dK,)\n",
    "            y = y.view(-1)\n",
    "\n",
    "        unignored_mask = y != self.ignore_index\n",
    "        y = y[unignored_mask]\n",
    "        if len(y) == 0:\n",
    "            return torch.tensor(0.)\n",
    "        x = x[unignored_mask]\n",
    "\n",
    "        # compute weighted cross entropy term: -alpha * log(pt)\n",
    "        # (alpha is already part of self.nll_loss)\n",
    "        log_p = F.log_softmax(x, dim=-1)\n",
    "        ce = self.nll_loss(log_p, y)\n",
    "\n",
    "        # get true class column from each row\n",
    "        all_rows = torch.arange(len(x))\n",
    "        log_pt = log_p[all_rows, y]\n",
    "\n",
    "        # compute focal term: (1 - pt)^gamma\n",
    "        pt = log_pt.exp()\n",
    "        focal_term = (1 - pt)**self.gamma\n",
    "\n",
    "        # the full loss: -alpha * ((1 - pt)^gamma) * log(pt)\n",
    "        loss = focal_term * ce\n",
    "\n",
    "        if self.reduction == 'mean':\n",
    "            loss = loss.mean()\n",
    "        elif self.reduction == 'sum':\n",
    "            loss = loss.sum()\n",
    "\n",
    "        return loss\n",
    "\n",
    "\n",
    "# def focal_loss(alpha: Optional[Sequence] = None,\n",
    "#                gamma: float = 0.,\n",
    "#                reduction: str = 'mean',\n",
    "#                ignore_index: int = -100,\n",
    "#                device='cpu',\n",
    "#                dtype=torch.float32) -> FocalLoss:\n",
    "#     \"\"\"Factory function for FocalLoss.\n",
    "\n",
    "#     Args:\n",
    "#         alpha (Sequence, optional): Weights for each class. Will be converted\n",
    "#             to a Tensor if not None. Defaults to None.\n",
    "#         gamma (float, optional): A constant, as described in the paper.\n",
    "#             Defaults to 0.\n",
    "#         reduction (str, optional): 'mean', 'sum' or 'none'.\n",
    "#             Defaults to 'mean'.\n",
    "#         ignore_index (int, optional): class label to ignore.\n",
    "#             Defaults to -100.\n",
    "#         device (str, optional): Device to move alpha to. Defaults to 'cpu'.\n",
    "#         dtype (torch.dtype, optional): dtype to cast alpha to.\n",
    "#             Defaults to torch.float32.\n",
    "\n",
    "#     Returns:\n",
    "#         A FocalLoss object\n",
    "#     \"\"\"\n",
    "#     if alpha is not None:\n",
    "#         if not isinstance(alpha, Tensor):\n",
    "#             alpha = torch.tensor(alpha)\n",
    "#         alpha = alpha.to(device=device, dtype=dtype)\n",
    "\n",
    "#     fl = FocalLoss(\n",
    "#         alpha=alpha,\n",
    "#         gamma=gamma,\n",
    "#         reduction=reduction,\n",
    "#         ignore_index=ignore_index)\n",
    "#     return fl"
   ]
  },
  {
   "cell_type": "code",
   "execution_count": 11,
   "metadata": {},
   "outputs": [],
   "source": [
    "# # Define Focal Loss\n",
    "# import torch.nn.functional as F\n",
    "\n",
    "# class FocalLoss(nn.Module):\n",
    "#     def __init__(self, gamma=2.0, reduction='mean'):\n",
    "#         super(FocalLoss, self).__init__()\n",
    "#         self.gamma = gamma\n",
    "#         self.reduction = reduction\n",
    "\n",
    "#     def forward(self, input, target):\n",
    "#         # Calculate Cross-Entropy Loss, but do not reduce (keep the same shape as input)\n",
    "#         ce_loss = F.cross_entropy(input, target, reduction='none') \n",
    "#         pt = torch.exp(-ce_loss)  # Calculate p_t\n",
    "#         focal_loss = ((1 - pt) ** self.gamma * ce_loss).mean()  # Calculate Focal Loss\n",
    "\n",
    "#         if self.reduction == 'mean':\n",
    "#             return focal_loss.mean()\n",
    "#         elif self.reduction == 'sum':\n",
    "#             return focal_loss.sum()\n",
    "#         else:\n",
    "#             return focal_loss\n",
    "\n",
    "# # Replace the loss function with Focal Loss"
   ]
  },
  {
   "cell_type": "code",
   "execution_count": 12,
   "metadata": {
    "tags": []
   },
   "outputs": [
    {
     "name": "stdout",
     "output_type": "stream",
     "text": [
      "[2059, 1024, 1472, 5282, 1647, 369, 326]\n"
     ]
    }
   ],
   "source": [
    "print(indexer.emotion_freq)"
   ]
  },
  {
   "cell_type": "code",
   "execution_count": 13,
   "metadata": {
    "tags": []
   },
   "outputs": [
    {
     "name": "stdout",
     "output_type": "stream",
     "text": [
      "{'joy': 0, 'sadness': 1, 'anger': 2, 'neutral': 3, 'surprise': 4, 'disgust': 5, 'fear': 6, 'pad': 7}\n"
     ]
    }
   ],
   "source": [
    "print(indexer.emotion_to_index)\n",
    "# 1 1 1 0.25 1 3 3"
   ]
  },
  {
   "cell_type": "code",
   "execution_count": 15,
   "metadata": {
    "collapsed": true,
    "jupyter": {
     "outputs_hidden": true
    },
    "tags": []
   },
   "outputs": [
    {
     "name": "stdout",
     "output_type": "stream",
     "text": [
      "/tmp/semeval24_task3/text_embeddings/text_embeddings_roberta_base_emotion.pkl\n",
      "/tmp/semeval24_task3/audio_embeddings/audio_embeddings_microsoft_wavlm-base-plus-sd.pkl\n",
      "/tmp/semeval24_task3/video_embeddings/final_embeddings.pkl\n"
     ]
    },
    {
     "name": "stderr",
     "output_type": "stream",
     "text": [
      "100%|██████████| 1236/1236 [01:01<00:00, 20.03it/s]\n",
      "100%|██████████| 138/138 [00:01<00:00, 79.17it/s]\n",
      "/home2/suyash.mathur/anaconda3/envs/mindeye/lib/python3.10/site-packages/sklearn/metrics/_classification.py:1471: UndefinedMetricWarning: Precision and F-score are ill-defined and being set to 0.0 in labels with no predicted samples. Use `zero_division` parameter to control this behavior.\n",
      "  _warn_prf(average, modifier, msg_start, len(result))\n",
      "/home2/suyash.mathur/anaconda3/envs/mindeye/lib/python3.10/site-packages/sklearn/metrics/_classification.py:1471: UndefinedMetricWarning: Precision and F-score are ill-defined and being set to 0.0 in labels with no predicted samples. Use `zero_division` parameter to control this behavior.\n",
      "  _warn_prf(average, modifier, msg_start, len(result))\n",
      "/home2/suyash.mathur/anaconda3/envs/mindeye/lib/python3.10/site-packages/sklearn/metrics/_classification.py:1471: UndefinedMetricWarning: Precision and F-score are ill-defined and being set to 0.0 in labels with no predicted samples. Use `zero_division` parameter to control this behavior.\n",
      "  _warn_prf(average, modifier, msg_start, len(result))\n"
     ]
    },
    {
     "name": "stdout",
     "output_type": "stream",
     "text": [
      "Epoch [1/60] Training Loss: 0.3761968681606853\n",
      "Epoch [1/60] Validation Loss: 0.36512321771486944\n",
      "              precision    recall  f1-score   support\n",
      "\n",
      "           0       0.00      0.00      0.00       242\n",
      "           1       0.29      0.57      0.38       123\n",
      "           2       0.00      0.00      0.00       143\n",
      "           3       0.56      0.79      0.66       647\n",
      "           4       0.44      0.65      0.53       193\n",
      "           5       0.00      0.00      0.00        45\n",
      "           6       0.00      0.00      0.00        47\n",
      "\n",
      "    accuracy                           0.49      1440\n",
      "   macro avg       0.18      0.29      0.22      1440\n",
      "weighted avg       0.34      0.49      0.40      1440\n",
      "\n",
      "Epoch [1/60] Accuracy: 0.0000\n"
     ]
    },
    {
     "name": "stderr",
     "output_type": "stream",
     "text": [
      "100%|██████████| 1236/1236 [00:59<00:00, 20.64it/s]\n",
      "100%|██████████| 138/138 [00:01<00:00, 79.07it/s]\n",
      "/home2/suyash.mathur/anaconda3/envs/mindeye/lib/python3.10/site-packages/sklearn/metrics/_classification.py:1471: UndefinedMetricWarning: Precision and F-score are ill-defined and being set to 0.0 in labels with no predicted samples. Use `zero_division` parameter to control this behavior.\n",
      "  _warn_prf(average, modifier, msg_start, len(result))\n",
      "/home2/suyash.mathur/anaconda3/envs/mindeye/lib/python3.10/site-packages/sklearn/metrics/_classification.py:1471: UndefinedMetricWarning: Precision and F-score are ill-defined and being set to 0.0 in labels with no predicted samples. Use `zero_division` parameter to control this behavior.\n",
      "  _warn_prf(average, modifier, msg_start, len(result))\n",
      "/home2/suyash.mathur/anaconda3/envs/mindeye/lib/python3.10/site-packages/sklearn/metrics/_classification.py:1471: UndefinedMetricWarning: Precision and F-score are ill-defined and being set to 0.0 in labels with no predicted samples. Use `zero_division` parameter to control this behavior.\n",
      "  _warn_prf(average, modifier, msg_start, len(result))\n"
     ]
    },
    {
     "name": "stdout",
     "output_type": "stream",
     "text": [
      "Epoch [2/60] Training Loss: 0.3414623186763822\n",
      "Epoch [2/60] Validation Loss: 0.3427234321616698\n",
      "              precision    recall  f1-score   support\n",
      "\n",
      "           0       0.66      0.38      0.48       242\n",
      "           1       0.00      0.00      0.00       123\n",
      "           2       0.21      0.30      0.25       143\n",
      "           3       0.59      0.80      0.68       647\n",
      "           4       0.50      0.57      0.53       193\n",
      "           5       0.00      0.00      0.00        45\n",
      "           6       0.00      0.00      0.00        47\n",
      "\n",
      "    accuracy                           0.53      1440\n",
      "   macro avg       0.28      0.29      0.28      1440\n",
      "weighted avg       0.46      0.53      0.48      1440\n",
      "\n",
      "Epoch [2/60] Accuracy: 0.0000\n"
     ]
    },
    {
     "name": "stderr",
     "output_type": "stream",
     "text": [
      "100%|██████████| 1236/1236 [01:00<00:00, 20.51it/s]\n",
      "100%|██████████| 138/138 [00:01<00:00, 78.84it/s]\n",
      "/home2/suyash.mathur/anaconda3/envs/mindeye/lib/python3.10/site-packages/sklearn/metrics/_classification.py:1471: UndefinedMetricWarning: Precision and F-score are ill-defined and being set to 0.0 in labels with no predicted samples. Use `zero_division` parameter to control this behavior.\n",
      "  _warn_prf(average, modifier, msg_start, len(result))\n",
      "/home2/suyash.mathur/anaconda3/envs/mindeye/lib/python3.10/site-packages/sklearn/metrics/_classification.py:1471: UndefinedMetricWarning: Precision and F-score are ill-defined and being set to 0.0 in labels with no predicted samples. Use `zero_division` parameter to control this behavior.\n",
      "  _warn_prf(average, modifier, msg_start, len(result))\n",
      "/home2/suyash.mathur/anaconda3/envs/mindeye/lib/python3.10/site-packages/sklearn/metrics/_classification.py:1471: UndefinedMetricWarning: Precision and F-score are ill-defined and being set to 0.0 in labels with no predicted samples. Use `zero_division` parameter to control this behavior.\n",
      "  _warn_prf(average, modifier, msg_start, len(result))\n"
     ]
    },
    {
     "name": "stdout",
     "output_type": "stream",
     "text": [
      "Epoch [3/60] Training Loss: 0.3208154139347061\n",
      "Epoch [3/60] Validation Loss: 0.33390792722719304\n",
      "              precision    recall  f1-score   support\n",
      "\n",
      "           0       0.62      0.47      0.54       242\n",
      "           1       0.28      0.40      0.33       123\n",
      "           2       0.29      0.14      0.19       143\n",
      "           3       0.62      0.81      0.70       647\n",
      "           4       0.60      0.50      0.54       193\n",
      "           5       0.00      0.00      0.00        45\n",
      "           6       0.00      0.00      0.00        47\n",
      "\n",
      "    accuracy                           0.56      1440\n",
      "   macro avg       0.34      0.33      0.33      1440\n",
      "weighted avg       0.52      0.56      0.53      1440\n",
      "\n",
      "Epoch [3/60] Accuracy: 0.0000\n"
     ]
    },
    {
     "name": "stderr",
     "output_type": "stream",
     "text": [
      "100%|██████████| 1236/1236 [01:02<00:00, 19.90it/s]\n",
      "100%|██████████| 138/138 [00:01<00:00, 79.23it/s]\n",
      "/home2/suyash.mathur/anaconda3/envs/mindeye/lib/python3.10/site-packages/sklearn/metrics/_classification.py:1471: UndefinedMetricWarning: Precision and F-score are ill-defined and being set to 0.0 in labels with no predicted samples. Use `zero_division` parameter to control this behavior.\n",
      "  _warn_prf(average, modifier, msg_start, len(result))\n",
      "/home2/suyash.mathur/anaconda3/envs/mindeye/lib/python3.10/site-packages/sklearn/metrics/_classification.py:1471: UndefinedMetricWarning: Precision and F-score are ill-defined and being set to 0.0 in labels with no predicted samples. Use `zero_division` parameter to control this behavior.\n",
      "  _warn_prf(average, modifier, msg_start, len(result))\n",
      "/home2/suyash.mathur/anaconda3/envs/mindeye/lib/python3.10/site-packages/sklearn/metrics/_classification.py:1471: UndefinedMetricWarning: Precision and F-score are ill-defined and being set to 0.0 in labels with no predicted samples. Use `zero_division` parameter to control this behavior.\n",
      "  _warn_prf(average, modifier, msg_start, len(result))\n"
     ]
    },
    {
     "name": "stdout",
     "output_type": "stream",
     "text": [
      "Epoch [4/60] Training Loss: 0.307490052065803\n",
      "Epoch [4/60] Validation Loss: 0.33359610884301905\n",
      "              precision    recall  f1-score   support\n",
      "\n",
      "           0       0.62      0.51      0.56       242\n",
      "           1       0.20      0.02      0.03       123\n",
      "           2       0.21      0.38      0.27       143\n",
      "           3       0.65      0.78      0.71       647\n",
      "           4       0.57      0.57      0.57       193\n",
      "           5       0.00      0.00      0.00        45\n",
      "           6       0.00      0.00      0.00        47\n",
      "\n",
      "    accuracy                           0.55      1440\n",
      "   macro avg       0.32      0.32      0.31      1440\n",
      "weighted avg       0.51      0.55      0.52      1440\n",
      "\n",
      "Epoch [4/60] Accuracy: 0.0000\n"
     ]
    },
    {
     "name": "stderr",
     "output_type": "stream",
     "text": [
      "100%|██████████| 1236/1236 [01:01<00:00, 20.19it/s]\n",
      "100%|██████████| 138/138 [00:01<00:00, 79.19it/s]\n",
      "/home2/suyash.mathur/anaconda3/envs/mindeye/lib/python3.10/site-packages/sklearn/metrics/_classification.py:1471: UndefinedMetricWarning: Precision and F-score are ill-defined and being set to 0.0 in labels with no predicted samples. Use `zero_division` parameter to control this behavior.\n",
      "  _warn_prf(average, modifier, msg_start, len(result))\n",
      "/home2/suyash.mathur/anaconda3/envs/mindeye/lib/python3.10/site-packages/sklearn/metrics/_classification.py:1471: UndefinedMetricWarning: Precision and F-score are ill-defined and being set to 0.0 in labels with no predicted samples. Use `zero_division` parameter to control this behavior.\n",
      "  _warn_prf(average, modifier, msg_start, len(result))\n",
      "/home2/suyash.mathur/anaconda3/envs/mindeye/lib/python3.10/site-packages/sklearn/metrics/_classification.py:1471: UndefinedMetricWarning: Precision and F-score are ill-defined and being set to 0.0 in labels with no predicted samples. Use `zero_division` parameter to control this behavior.\n",
      "  _warn_prf(average, modifier, msg_start, len(result))\n"
     ]
    },
    {
     "name": "stdout",
     "output_type": "stream",
     "text": [
      "Epoch [5/60] Training Loss: 0.29572518680087956\n",
      "Epoch [5/60] Validation Loss: 0.32448759655589643\n",
      "              precision    recall  f1-score   support\n",
      "\n",
      "           0       0.61      0.44      0.51       242\n",
      "           1       0.40      0.28      0.33       123\n",
      "           2       0.34      0.36      0.35       143\n",
      "           3       0.62      0.82      0.71       647\n",
      "           4       0.57      0.53      0.55       193\n",
      "           5       0.00      0.00      0.00        45\n",
      "           6       0.00      0.00      0.00        47\n",
      "\n",
      "    accuracy                           0.57      1440\n",
      "   macro avg       0.36      0.35      0.35      1440\n",
      "weighted avg       0.53      0.57      0.54      1440\n",
      "\n",
      "Epoch [5/60] Accuracy: 0.0000\n"
     ]
    },
    {
     "name": "stderr",
     "output_type": "stream",
     "text": [
      "100%|██████████| 1236/1236 [01:02<00:00, 19.92it/s]\n",
      "100%|██████████| 138/138 [00:01<00:00, 79.42it/s]\n",
      "/home2/suyash.mathur/anaconda3/envs/mindeye/lib/python3.10/site-packages/sklearn/metrics/_classification.py:1471: UndefinedMetricWarning: Precision and F-score are ill-defined and being set to 0.0 in labels with no predicted samples. Use `zero_division` parameter to control this behavior.\n",
      "  _warn_prf(average, modifier, msg_start, len(result))\n",
      "/home2/suyash.mathur/anaconda3/envs/mindeye/lib/python3.10/site-packages/sklearn/metrics/_classification.py:1471: UndefinedMetricWarning: Precision and F-score are ill-defined and being set to 0.0 in labels with no predicted samples. Use `zero_division` parameter to control this behavior.\n",
      "  _warn_prf(average, modifier, msg_start, len(result))\n",
      "/home2/suyash.mathur/anaconda3/envs/mindeye/lib/python3.10/site-packages/sklearn/metrics/_classification.py:1471: UndefinedMetricWarning: Precision and F-score are ill-defined and being set to 0.0 in labels with no predicted samples. Use `zero_division` parameter to control this behavior.\n",
      "  _warn_prf(average, modifier, msg_start, len(result))\n"
     ]
    },
    {
     "name": "stdout",
     "output_type": "stream",
     "text": [
      "Epoch [6/60] Training Loss: 0.2846674654934206\n",
      "Epoch [6/60] Validation Loss: 0.32044321343950605\n",
      "              precision    recall  f1-score   support\n",
      "\n",
      "           0       0.54      0.61      0.57       242\n",
      "           1       0.53      0.25      0.34       123\n",
      "           2       0.29      0.38      0.33       143\n",
      "           3       0.65      0.72      0.69       647\n",
      "           4       0.53      0.54      0.53       193\n",
      "           5       0.00      0.00      0.00        45\n",
      "           6       0.00      0.00      0.00        47\n",
      "\n",
      "    accuracy                           0.56      1440\n",
      "   macro avg       0.36      0.36      0.35      1440\n",
      "weighted avg       0.53      0.56      0.54      1440\n",
      "\n",
      "Epoch [6/60] Accuracy: 0.0000\n"
     ]
    },
    {
     "name": "stderr",
     "output_type": "stream",
     "text": [
      "100%|██████████| 1236/1236 [01:01<00:00, 19.97it/s]\n",
      "100%|██████████| 138/138 [00:01<00:00, 80.20it/s]\n",
      "/home2/suyash.mathur/anaconda3/envs/mindeye/lib/python3.10/site-packages/sklearn/metrics/_classification.py:1471: UndefinedMetricWarning: Precision and F-score are ill-defined and being set to 0.0 in labels with no predicted samples. Use `zero_division` parameter to control this behavior.\n",
      "  _warn_prf(average, modifier, msg_start, len(result))\n",
      "/home2/suyash.mathur/anaconda3/envs/mindeye/lib/python3.10/site-packages/sklearn/metrics/_classification.py:1471: UndefinedMetricWarning: Precision and F-score are ill-defined and being set to 0.0 in labels with no predicted samples. Use `zero_division` parameter to control this behavior.\n",
      "  _warn_prf(average, modifier, msg_start, len(result))\n",
      "/home2/suyash.mathur/anaconda3/envs/mindeye/lib/python3.10/site-packages/sklearn/metrics/_classification.py:1471: UndefinedMetricWarning: Precision and F-score are ill-defined and being set to 0.0 in labels with no predicted samples. Use `zero_division` parameter to control this behavior.\n",
      "  _warn_prf(average, modifier, msg_start, len(result))\n"
     ]
    },
    {
     "name": "stdout",
     "output_type": "stream",
     "text": [
      "Epoch [7/60] Training Loss: 0.2704711234130713\n",
      "Epoch [7/60] Validation Loss: 0.32434681360272394\n",
      "              precision    recall  f1-score   support\n",
      "\n",
      "           0       0.64      0.32      0.42       242\n",
      "           1       0.39      0.46      0.42       123\n",
      "           2       0.36      0.38      0.37       143\n",
      "           3       0.62      0.81      0.70       647\n",
      "           4       0.60      0.52      0.55       193\n",
      "           5       0.00      0.00      0.00        45\n",
      "           6       0.00      0.00      0.00        47\n",
      "\n",
      "    accuracy                           0.57      1440\n",
      "   macro avg       0.37      0.36      0.35      1440\n",
      "weighted avg       0.53      0.57      0.53      1440\n",
      "\n",
      "Epoch [7/60] Accuracy: 0.0000\n"
     ]
    },
    {
     "name": "stderr",
     "output_type": "stream",
     "text": [
      "100%|██████████| 1236/1236 [01:02<00:00, 19.86it/s]\n",
      "100%|██████████| 138/138 [00:01<00:00, 79.15it/s]\n",
      "/home2/suyash.mathur/anaconda3/envs/mindeye/lib/python3.10/site-packages/sklearn/metrics/_classification.py:1471: UndefinedMetricWarning: Precision and F-score are ill-defined and being set to 0.0 in labels with no predicted samples. Use `zero_division` parameter to control this behavior.\n",
      "  _warn_prf(average, modifier, msg_start, len(result))\n",
      "/home2/suyash.mathur/anaconda3/envs/mindeye/lib/python3.10/site-packages/sklearn/metrics/_classification.py:1471: UndefinedMetricWarning: Precision and F-score are ill-defined and being set to 0.0 in labels with no predicted samples. Use `zero_division` parameter to control this behavior.\n",
      "  _warn_prf(average, modifier, msg_start, len(result))\n",
      "/home2/suyash.mathur/anaconda3/envs/mindeye/lib/python3.10/site-packages/sklearn/metrics/_classification.py:1471: UndefinedMetricWarning: Precision and F-score are ill-defined and being set to 0.0 in labels with no predicted samples. Use `zero_division` parameter to control this behavior.\n",
      "  _warn_prf(average, modifier, msg_start, len(result))\n"
     ]
    },
    {
     "name": "stdout",
     "output_type": "stream",
     "text": [
      "Epoch [8/60] Training Loss: 0.2549860012497524\n",
      "Epoch [8/60] Validation Loss: 0.33878729084263676\n",
      "              precision    recall  f1-score   support\n",
      "\n",
      "           0       0.56      0.41      0.47       242\n",
      "           1       0.49      0.21      0.30       123\n",
      "           2       0.35      0.40      0.37       143\n",
      "           3       0.59      0.87      0.71       647\n",
      "           4       0.64      0.33      0.44       193\n",
      "           5       0.00      0.00      0.00        45\n",
      "           6       0.00      0.00      0.00        47\n",
      "\n",
      "    accuracy                           0.56      1440\n",
      "   macro avg       0.38      0.32      0.33      1440\n",
      "weighted avg       0.52      0.56      0.52      1440\n",
      "\n",
      "Epoch [8/60] Accuracy: 0.0000\n"
     ]
    },
    {
     "name": "stderr",
     "output_type": "stream",
     "text": [
      "100%|██████████| 1236/1236 [01:02<00:00, 19.88it/s]\n",
      "100%|██████████| 138/138 [00:01<00:00, 79.75it/s]\n",
      "/home2/suyash.mathur/anaconda3/envs/mindeye/lib/python3.10/site-packages/sklearn/metrics/_classification.py:1471: UndefinedMetricWarning: Precision and F-score are ill-defined and being set to 0.0 in labels with no predicted samples. Use `zero_division` parameter to control this behavior.\n",
      "  _warn_prf(average, modifier, msg_start, len(result))\n",
      "/home2/suyash.mathur/anaconda3/envs/mindeye/lib/python3.10/site-packages/sklearn/metrics/_classification.py:1471: UndefinedMetricWarning: Precision and F-score are ill-defined and being set to 0.0 in labels with no predicted samples. Use `zero_division` parameter to control this behavior.\n",
      "  _warn_prf(average, modifier, msg_start, len(result))\n",
      "/home2/suyash.mathur/anaconda3/envs/mindeye/lib/python3.10/site-packages/sklearn/metrics/_classification.py:1471: UndefinedMetricWarning: Precision and F-score are ill-defined and being set to 0.0 in labels with no predicted samples. Use `zero_division` parameter to control this behavior.\n",
      "  _warn_prf(average, modifier, msg_start, len(result))\n"
     ]
    },
    {
     "name": "stdout",
     "output_type": "stream",
     "text": [
      "Epoch [9/60] Training Loss: 0.24151456600543364\n",
      "Epoch [9/60] Validation Loss: 0.3326533984014953\n",
      "              precision    recall  f1-score   support\n",
      "\n",
      "           0       0.53      0.53      0.53       242\n",
      "           1       0.49      0.29      0.37       123\n",
      "           2       0.34      0.43      0.38       143\n",
      "           3       0.64      0.75      0.69       647\n",
      "           4       0.54      0.53      0.54       193\n",
      "           5       0.00      0.00      0.00        45\n",
      "           6       0.00      0.00      0.00        47\n",
      "\n",
      "    accuracy                           0.56      1440\n",
      "   macro avg       0.36      0.36      0.36      1440\n",
      "weighted avg       0.53      0.56      0.54      1440\n",
      "\n",
      "Epoch [9/60] Accuracy: 0.0000\n"
     ]
    },
    {
     "name": "stderr",
     "output_type": "stream",
     "text": [
      "100%|██████████| 1236/1236 [01:02<00:00, 19.88it/s]\n",
      "100%|██████████| 138/138 [00:01<00:00, 79.34it/s]\n",
      "/home2/suyash.mathur/anaconda3/envs/mindeye/lib/python3.10/site-packages/sklearn/metrics/_classification.py:1471: UndefinedMetricWarning: Precision and F-score are ill-defined and being set to 0.0 in labels with no predicted samples. Use `zero_division` parameter to control this behavior.\n",
      "  _warn_prf(average, modifier, msg_start, len(result))\n",
      "/home2/suyash.mathur/anaconda3/envs/mindeye/lib/python3.10/site-packages/sklearn/metrics/_classification.py:1471: UndefinedMetricWarning: Precision and F-score are ill-defined and being set to 0.0 in labels with no predicted samples. Use `zero_division` parameter to control this behavior.\n",
      "  _warn_prf(average, modifier, msg_start, len(result))\n",
      "/home2/suyash.mathur/anaconda3/envs/mindeye/lib/python3.10/site-packages/sklearn/metrics/_classification.py:1471: UndefinedMetricWarning: Precision and F-score are ill-defined and being set to 0.0 in labels with no predicted samples. Use `zero_division` parameter to control this behavior.\n",
      "  _warn_prf(average, modifier, msg_start, len(result))\n"
     ]
    },
    {
     "name": "stdout",
     "output_type": "stream",
     "text": [
      "Epoch [10/60] Training Loss: 0.22557308821905778\n",
      "Epoch [10/60] Validation Loss: 0.3350669185536495\n",
      "              precision    recall  f1-score   support\n",
      "\n",
      "           0       0.62      0.50      0.56       242\n",
      "           1       0.45      0.33      0.38       123\n",
      "           2       0.31      0.41      0.35       143\n",
      "           3       0.64      0.74      0.69       647\n",
      "           4       0.51      0.56      0.53       193\n",
      "           5       0.00      0.00      0.00        45\n",
      "           6       0.00      0.00      0.00        47\n",
      "\n",
      "    accuracy                           0.56      1440\n",
      "   macro avg       0.36      0.36      0.36      1440\n",
      "weighted avg       0.53      0.56      0.54      1440\n",
      "\n",
      "Epoch [10/60] Accuracy: 0.0000\n"
     ]
    },
    {
     "name": "stderr",
     "output_type": "stream",
     "text": [
      "100%|██████████| 1236/1236 [01:02<00:00, 19.87it/s]\n",
      "100%|██████████| 138/138 [00:01<00:00, 79.93it/s]\n"
     ]
    },
    {
     "name": "stdout",
     "output_type": "stream",
     "text": [
      "Epoch [11/60] Training Loss: 0.209943385740507\n",
      "Epoch [11/60] Validation Loss: 0.3600747441899949\n",
      "              precision    recall  f1-score   support\n",
      "\n",
      "           0       0.52      0.49      0.50       242\n",
      "           1       0.41      0.24      0.30       123\n",
      "           2       0.31      0.50      0.38       143\n",
      "           3       0.63      0.73      0.67       647\n",
      "           4       0.53      0.41      0.47       193\n",
      "           5       0.50      0.02      0.04        45\n",
      "           6       0.50      0.02      0.04        47\n",
      "\n",
      "    accuracy                           0.54      1440\n",
      "   macro avg       0.49      0.35      0.34      1440\n",
      "weighted avg       0.54      0.54      0.52      1440\n",
      "\n",
      "Epoch [11/60] Accuracy: 0.0000\n"
     ]
    },
    {
     "name": "stderr",
     "output_type": "stream",
     "text": [
      "100%|██████████| 1236/1236 [01:02<00:00, 19.88it/s]\n",
      "100%|██████████| 138/138 [00:01<00:00, 79.31it/s]\n"
     ]
    },
    {
     "name": "stdout",
     "output_type": "stream",
     "text": [
      "Epoch [12/60] Training Loss: 0.19481202872970343\n",
      "Epoch [12/60] Validation Loss: 0.36612381684607354\n",
      "              precision    recall  f1-score   support\n",
      "\n",
      "           0       0.56      0.52      0.54       242\n",
      "           1       0.45      0.30      0.36       123\n",
      "           2       0.32      0.51      0.39       143\n",
      "           3       0.68      0.65      0.67       647\n",
      "           4       0.47      0.68      0.56       193\n",
      "           5       1.00      0.04      0.09        45\n",
      "           6       0.00      0.00      0.00        47\n",
      "\n",
      "    accuracy                           0.55      1440\n",
      "   macro avg       0.50      0.39      0.37      1440\n",
      "weighted avg       0.56      0.55      0.54      1440\n",
      "\n",
      "Epoch [12/60] Accuracy: 0.0000\n"
     ]
    },
    {
     "name": "stderr",
     "output_type": "stream",
     "text": [
      "100%|██████████| 1236/1236 [00:59<00:00, 20.67it/s]\n",
      "100%|██████████| 138/138 [00:01<00:00, 81.64it/s]\n"
     ]
    },
    {
     "name": "stdout",
     "output_type": "stream",
     "text": [
      "Epoch [13/60] Training Loss: 0.17816667772323183\n",
      "Epoch [13/60] Validation Loss: 0.364941379967807\n",
      "              precision    recall  f1-score   support\n",
      "\n",
      "           0       0.55      0.49      0.52       242\n",
      "           1       0.42      0.33      0.37       123\n",
      "           2       0.37      0.45      0.40       143\n",
      "           3       0.65      0.71      0.68       647\n",
      "           4       0.50      0.60      0.54       193\n",
      "           5       0.29      0.04      0.08        45\n",
      "           6       0.00      0.00      0.00        47\n",
      "\n",
      "    accuracy                           0.56      1440\n",
      "   macro avg       0.40      0.38      0.37      1440\n",
      "weighted avg       0.53      0.56      0.54      1440\n",
      "\n",
      "Epoch [13/60] Accuracy: 0.0000\n"
     ]
    },
    {
     "name": "stderr",
     "output_type": "stream",
     "text": [
      "100%|██████████| 1236/1236 [01:01<00:00, 20.09it/s]\n",
      "100%|██████████| 138/138 [00:01<00:00, 79.21it/s]\n"
     ]
    },
    {
     "name": "stdout",
     "output_type": "stream",
     "text": [
      "Epoch [14/60] Training Loss: 0.16245377685838533\n",
      "Epoch [14/60] Validation Loss: 0.3877002864860106\n",
      "              precision    recall  f1-score   support\n",
      "\n",
      "           0       0.54      0.49      0.51       242\n",
      "           1       0.42      0.40      0.41       123\n",
      "           2       0.40      0.46      0.43       143\n",
      "           3       0.66      0.74      0.70       647\n",
      "           4       0.53      0.56      0.55       193\n",
      "           5       0.33      0.02      0.04        45\n",
      "           6       0.12      0.02      0.04        47\n",
      "\n",
      "    accuracy                           0.57      1440\n",
      "   macro avg       0.43      0.38      0.38      1440\n",
      "weighted avg       0.55      0.57      0.55      1440\n",
      "\n",
      "Epoch [14/60] Accuracy: 0.0000\n"
     ]
    },
    {
     "name": "stderr",
     "output_type": "stream",
     "text": [
      "100%|██████████| 1236/1236 [01:02<00:00, 19.90it/s]\n",
      "100%|██████████| 138/138 [00:01<00:00, 80.21it/s]\n"
     ]
    },
    {
     "name": "stdout",
     "output_type": "stream",
     "text": [
      "Epoch [15/60] Training Loss: 0.14513538542495963\n",
      "Epoch [15/60] Validation Loss: 0.42990627975567525\n",
      "              precision    recall  f1-score   support\n",
      "\n",
      "           0       0.67      0.31      0.43       242\n",
      "           1       0.38      0.41      0.40       123\n",
      "           2       0.36      0.48      0.41       143\n",
      "           3       0.63      0.77      0.69       647\n",
      "           4       0.52      0.48      0.50       193\n",
      "           5       0.08      0.07      0.07        45\n",
      "           6       0.12      0.02      0.04        47\n",
      "\n",
      "    accuracy                           0.55      1440\n",
      "   macro avg       0.40      0.36      0.36      1440\n",
      "weighted avg       0.54      0.55      0.53      1440\n",
      "\n",
      "Epoch [15/60] Accuracy: 0.0000\n"
     ]
    },
    {
     "name": "stderr",
     "output_type": "stream",
     "text": [
      "100%|██████████| 1236/1236 [00:59<00:00, 20.75it/s]\n",
      "100%|██████████| 138/138 [00:01<00:00, 82.19it/s]\n"
     ]
    },
    {
     "name": "stdout",
     "output_type": "stream",
     "text": [
      "Epoch [16/60] Training Loss: 0.13333221192450584\n",
      "Epoch [16/60] Validation Loss: 0.43066943879576697\n",
      "              precision    recall  f1-score   support\n",
      "\n",
      "           0       0.54      0.41      0.46       242\n",
      "           1       0.40      0.42      0.41       123\n",
      "           2       0.33      0.59      0.42       143\n",
      "           3       0.66      0.67      0.66       647\n",
      "           4       0.51      0.48      0.50       193\n",
      "           5       0.09      0.04      0.06        45\n",
      "           6       0.00      0.00      0.00        47\n",
      "\n",
      "    accuracy                           0.53      1440\n",
      "   macro avg       0.36      0.37      0.36      1440\n",
      "weighted avg       0.52      0.53      0.52      1440\n",
      "\n",
      "Epoch [16/60] Accuracy: 0.0000\n"
     ]
    },
    {
     "name": "stderr",
     "output_type": "stream",
     "text": [
      "100%|██████████| 1236/1236 [00:59<00:00, 20.77it/s]\n",
      "100%|██████████| 138/138 [00:01<00:00, 81.97it/s]\n"
     ]
    },
    {
     "name": "stdout",
     "output_type": "stream",
     "text": [
      "Epoch [17/60] Training Loss: 0.11838543267263564\n",
      "Epoch [17/60] Validation Loss: 0.4420639869743499\n",
      "              precision    recall  f1-score   support\n",
      "\n",
      "           0       0.51      0.42      0.46       242\n",
      "           1       0.43      0.39      0.41       123\n",
      "           2       0.36      0.41      0.38       143\n",
      "           3       0.62      0.69      0.65       647\n",
      "           4       0.52      0.56      0.54       193\n",
      "           5       0.15      0.09      0.11        45\n",
      "           6       0.05      0.02      0.03        47\n",
      "\n",
      "    accuracy                           0.53      1440\n",
      "   macro avg       0.38      0.37      0.37      1440\n",
      "weighted avg       0.51      0.53      0.52      1440\n",
      "\n",
      "Epoch [17/60] Accuracy: 0.0000\n"
     ]
    },
    {
     "name": "stderr",
     "output_type": "stream",
     "text": [
      "100%|██████████| 1236/1236 [01:00<00:00, 20.43it/s]\n",
      "100%|██████████| 138/138 [00:01<00:00, 79.28it/s]\n"
     ]
    },
    {
     "name": "stdout",
     "output_type": "stream",
     "text": [
      "Epoch [18/60] Training Loss: 0.10677198573320043\n",
      "Epoch [18/60] Validation Loss: 0.46036059251729994\n",
      "              precision    recall  f1-score   support\n",
      "\n",
      "           0       0.54      0.44      0.49       242\n",
      "           1       0.38      0.37      0.37       123\n",
      "           2       0.37      0.41      0.39       143\n",
      "           3       0.64      0.76      0.70       647\n",
      "           4       0.55      0.49      0.52       193\n",
      "           5       0.21      0.07      0.10        45\n",
      "           6       0.09      0.04      0.06        47\n",
      "\n",
      "    accuracy                           0.56      1440\n",
      "   macro avg       0.40      0.37      0.37      1440\n",
      "weighted avg       0.53      0.56      0.54      1440\n",
      "\n",
      "Epoch [18/60] Accuracy: 0.0000\n"
     ]
    },
    {
     "name": "stderr",
     "output_type": "stream",
     "text": [
      "100%|██████████| 1236/1236 [01:02<00:00, 19.90it/s]\n",
      "100%|██████████| 138/138 [00:01<00:00, 79.92it/s]\n"
     ]
    },
    {
     "name": "stdout",
     "output_type": "stream",
     "text": [
      "Epoch [19/60] Training Loss: 0.09086227321991257\n",
      "Epoch [19/60] Validation Loss: 0.535293623632279\n",
      "              precision    recall  f1-score   support\n",
      "\n",
      "           0       0.59      0.34      0.43       242\n",
      "           1       0.34      0.45      0.38       123\n",
      "           2       0.40      0.38      0.39       143\n",
      "           3       0.63      0.69      0.66       647\n",
      "           4       0.51      0.55      0.53       193\n",
      "           5       0.10      0.13      0.11        45\n",
      "           6       0.07      0.04      0.05        47\n",
      "\n",
      "    accuracy                           0.52      1440\n",
      "   macro avg       0.38      0.37      0.37      1440\n",
      "weighted avg       0.53      0.52      0.52      1440\n",
      "\n",
      "Epoch [19/60] Accuracy: 0.0000\n"
     ]
    },
    {
     "name": "stderr",
     "output_type": "stream",
     "text": [
      "100%|██████████| 1236/1236 [01:02<00:00, 19.93it/s]\n",
      "100%|██████████| 138/138 [00:01<00:00, 79.43it/s]\n"
     ]
    },
    {
     "name": "stdout",
     "output_type": "stream",
     "text": [
      "Epoch [20/60] Training Loss: 0.08214045510564036\n",
      "Epoch [20/60] Validation Loss: 0.5371475190788075\n",
      "              precision    recall  f1-score   support\n",
      "\n",
      "           0       0.55      0.45      0.49       242\n",
      "           1       0.41      0.35      0.38       123\n",
      "           2       0.31      0.46      0.37       143\n",
      "           3       0.66      0.68      0.67       647\n",
      "           4       0.53      0.60      0.56       193\n",
      "           5       0.17      0.09      0.12        45\n",
      "           6       0.11      0.04      0.06        47\n",
      "\n",
      "    accuracy                           0.54      1440\n",
      "   macro avg       0.39      0.38      0.38      1440\n",
      "weighted avg       0.54      0.54      0.53      1440\n",
      "\n",
      "Epoch [20/60] Accuracy: 0.0000\n"
     ]
    },
    {
     "name": "stderr",
     "output_type": "stream",
     "text": [
      "100%|██████████| 1236/1236 [01:02<00:00, 19.87it/s]\n",
      "100%|██████████| 138/138 [00:01<00:00, 79.61it/s]\n"
     ]
    },
    {
     "name": "stdout",
     "output_type": "stream",
     "text": [
      "Epoch [21/60] Training Loss: 0.06928222720243013\n",
      "Epoch [21/60] Validation Loss: 0.5731513927380244\n",
      "              precision    recall  f1-score   support\n",
      "\n",
      "           0       0.50      0.45      0.47       242\n",
      "           1       0.33      0.39      0.36       123\n",
      "           2       0.37      0.39      0.38       143\n",
      "           3       0.65      0.65      0.65       647\n",
      "           4       0.50      0.59      0.54       193\n",
      "           5       0.13      0.11      0.12        45\n",
      "           6       0.14      0.04      0.07        47\n",
      "\n",
      "    accuracy                           0.52      1440\n",
      "   macro avg       0.38      0.37      0.37      1440\n",
      "weighted avg       0.52      0.52      0.52      1440\n",
      "\n",
      "Epoch [21/60] Accuracy: 0.0000\n"
     ]
    },
    {
     "name": "stderr",
     "output_type": "stream",
     "text": [
      "100%|██████████| 1236/1236 [01:02<00:00, 19.93it/s]\n",
      "100%|██████████| 138/138 [00:01<00:00, 78.87it/s]\n"
     ]
    },
    {
     "name": "stdout",
     "output_type": "stream",
     "text": [
      "Epoch [22/60] Training Loss: 0.06139824975366345\n",
      "Epoch [22/60] Validation Loss: 0.5598080346549766\n",
      "              precision    recall  f1-score   support\n",
      "\n",
      "           0       0.54      0.48      0.51       242\n",
      "           1       0.42      0.31      0.36       123\n",
      "           2       0.34      0.37      0.36       143\n",
      "           3       0.67      0.67      0.67       647\n",
      "           4       0.44      0.66      0.53       193\n",
      "           5       0.18      0.16      0.17        45\n",
      "           6       0.14      0.02      0.04        47\n",
      "\n",
      "    accuracy                           0.54      1440\n",
      "   macro avg       0.39      0.38      0.37      1440\n",
      "weighted avg       0.53      0.54      0.53      1440\n",
      "\n",
      "Epoch [22/60] Accuracy: 0.0000\n"
     ]
    },
    {
     "name": "stderr",
     "output_type": "stream",
     "text": [
      "100%|██████████| 1236/1236 [00:59<00:00, 20.75it/s]\n",
      "100%|██████████| 138/138 [00:01<00:00, 83.07it/s]\n"
     ]
    },
    {
     "name": "stdout",
     "output_type": "stream",
     "text": [
      "Epoch [23/60] Training Loss: 0.05210592445335728\n",
      "Epoch [23/60] Validation Loss: 0.6321251162584277\n",
      "              precision    recall  f1-score   support\n",
      "\n",
      "           0       0.58      0.35      0.44       242\n",
      "           1       0.40      0.30      0.34       123\n",
      "           2       0.30      0.52      0.38       143\n",
      "           3       0.64      0.71      0.67       647\n",
      "           4       0.50      0.50      0.50       193\n",
      "           5       0.13      0.09      0.11        45\n",
      "           6       0.17      0.04      0.07        47\n",
      "\n",
      "    accuracy                           0.53      1440\n",
      "   macro avg       0.39      0.36      0.36      1440\n",
      "weighted avg       0.53      0.53      0.52      1440\n",
      "\n",
      "Epoch [23/60] Accuracy: 0.0000\n"
     ]
    },
    {
     "name": "stderr",
     "output_type": "stream",
     "text": [
      "100%|██████████| 1236/1236 [01:01<00:00, 20.10it/s]\n",
      "100%|██████████| 138/138 [00:01<00:00, 79.59it/s]\n"
     ]
    },
    {
     "name": "stdout",
     "output_type": "stream",
     "text": [
      "Epoch [24/60] Training Loss: 0.05185763288807715\n",
      "Epoch [24/60] Validation Loss: 0.6348541014004445\n",
      "              precision    recall  f1-score   support\n",
      "\n",
      "           0       0.54      0.37      0.44       242\n",
      "           1       0.42      0.39      0.40       123\n",
      "           2       0.33      0.43      0.37       143\n",
      "           3       0.65      0.70      0.67       647\n",
      "           4       0.50      0.59      0.54       193\n",
      "           5       0.07      0.04      0.05        45\n",
      "           6       0.15      0.06      0.09        47\n",
      "\n",
      "    accuracy                           0.53      1440\n",
      "   macro avg       0.38      0.37      0.37      1440\n",
      "weighted avg       0.52      0.53      0.52      1440\n",
      "\n",
      "Epoch [24/60] Accuracy: 0.0000\n"
     ]
    },
    {
     "name": "stderr",
     "output_type": "stream",
     "text": [
      "100%|██████████| 1236/1236 [01:02<00:00, 19.88it/s]\n",
      "100%|██████████| 138/138 [00:01<00:00, 79.19it/s]\n"
     ]
    },
    {
     "name": "stdout",
     "output_type": "stream",
     "text": [
      "Epoch [25/60] Training Loss: 0.04043891767467882\n",
      "Epoch [25/60] Validation Loss: 0.6589029116906981\n",
      "              precision    recall  f1-score   support\n",
      "\n",
      "           0       0.46      0.52      0.49       242\n",
      "           1       0.38      0.43      0.41       123\n",
      "           2       0.30      0.45      0.36       143\n",
      "           3       0.69      0.58      0.63       647\n",
      "           4       0.51      0.54      0.53       193\n",
      "           5       0.08      0.07      0.07        45\n",
      "           6       0.09      0.06      0.07        47\n",
      "\n",
      "    accuracy                           0.50      1440\n",
      "   macro avg       0.36      0.38      0.36      1440\n",
      "weighted avg       0.52      0.50      0.51      1440\n",
      "\n",
      "Epoch [25/60] Accuracy: 0.0000\n"
     ]
    },
    {
     "name": "stderr",
     "output_type": "stream",
     "text": [
      "100%|██████████| 1236/1236 [01:02<00:00, 19.87it/s]\n",
      "100%|██████████| 138/138 [00:01<00:00, 79.33it/s]\n"
     ]
    },
    {
     "name": "stdout",
     "output_type": "stream",
     "text": [
      "Epoch [26/60] Training Loss: 0.03648112467384647\n",
      "Epoch [26/60] Validation Loss: 0.6808230341776558\n",
      "              precision    recall  f1-score   support\n",
      "\n",
      "           0       0.50      0.43      0.47       242\n",
      "           1       0.36      0.39      0.38       123\n",
      "           2       0.32      0.43      0.36       143\n",
      "           3       0.63      0.66      0.64       647\n",
      "           4       0.52      0.47      0.49       193\n",
      "           5       0.06      0.04      0.05        45\n",
      "           6       0.10      0.06      0.08        47\n",
      "\n",
      "    accuracy                           0.51      1440\n",
      "   macro avg       0.36      0.35      0.35      1440\n",
      "weighted avg       0.51      0.51      0.51      1440\n",
      "\n",
      "Epoch [26/60] Accuracy: 0.0000\n"
     ]
    },
    {
     "name": "stderr",
     "output_type": "stream",
     "text": [
      "100%|██████████| 1236/1236 [01:02<00:00, 19.84it/s]\n",
      "100%|██████████| 138/138 [00:01<00:00, 77.60it/s]\n"
     ]
    },
    {
     "name": "stdout",
     "output_type": "stream",
     "text": [
      "Epoch [27/60] Training Loss: 0.03487577660666315\n",
      "Epoch [27/60] Validation Loss: 0.6865865488847097\n",
      "              precision    recall  f1-score   support\n",
      "\n",
      "           0       0.51      0.47      0.49       242\n",
      "           1       0.37      0.41      0.39       123\n",
      "           2       0.36      0.38      0.37       143\n",
      "           3       0.65      0.66      0.65       647\n",
      "           4       0.48      0.55      0.52       193\n",
      "           5       0.10      0.04      0.06        45\n",
      "           6       0.10      0.06      0.08        47\n",
      "\n",
      "    accuracy                           0.53      1440\n",
      "   macro avg       0.37      0.37      0.36      1440\n",
      "weighted avg       0.52      0.53      0.52      1440\n",
      "\n",
      "Epoch [27/60] Accuracy: 0.0000\n"
     ]
    },
    {
     "name": "stderr",
     "output_type": "stream",
     "text": [
      "100%|██████████| 1236/1236 [01:01<00:00, 19.94it/s]\n",
      "100%|██████████| 138/138 [00:01<00:00, 79.52it/s]\n"
     ]
    },
    {
     "name": "stdout",
     "output_type": "stream",
     "text": [
      "Epoch [28/60] Training Loss: 0.030472872543682174\n",
      "Epoch [28/60] Validation Loss: 0.7371255748081899\n",
      "              precision    recall  f1-score   support\n",
      "\n",
      "           0       0.49      0.47      0.48       242\n",
      "           1       0.39      0.37      0.38       123\n",
      "           2       0.28      0.35      0.31       143\n",
      "           3       0.64      0.62      0.63       647\n",
      "           4       0.47      0.55      0.51       193\n",
      "           5       0.12      0.07      0.08        45\n",
      "           6       0.03      0.02      0.02        47\n",
      "\n",
      "    accuracy                           0.50      1440\n",
      "   macro avg       0.34      0.35      0.34      1440\n",
      "weighted avg       0.50      0.50      0.50      1440\n",
      "\n",
      "Epoch [28/60] Accuracy: 0.0000\n"
     ]
    },
    {
     "name": "stderr",
     "output_type": "stream",
     "text": [
      "100%|██████████| 1236/1236 [01:02<00:00, 19.87it/s]\n",
      "100%|██████████| 138/138 [00:01<00:00, 78.45it/s]\n"
     ]
    },
    {
     "name": "stdout",
     "output_type": "stream",
     "text": [
      "Epoch [29/60] Training Loss: 0.029222958783308665\n",
      "Epoch [29/60] Validation Loss: 0.7380279117736264\n",
      "              precision    recall  f1-score   support\n",
      "\n",
      "           0       0.47      0.54      0.50       242\n",
      "           1       0.41      0.41      0.41       123\n",
      "           2       0.34      0.39      0.37       143\n",
      "           3       0.67      0.64      0.66       647\n",
      "           4       0.54      0.55      0.54       193\n",
      "           5       0.21      0.16      0.18        45\n",
      "           6       0.05      0.02      0.03        47\n",
      "\n",
      "    accuracy                           0.53      1440\n",
      "   macro avg       0.38      0.39      0.38      1440\n",
      "weighted avg       0.53      0.53      0.53      1440\n",
      "\n",
      "Epoch [29/60] Accuracy: 0.0000\n"
     ]
    },
    {
     "name": "stderr",
     "output_type": "stream",
     "text": [
      "100%|██████████| 1236/1236 [01:02<00:00, 19.87it/s]\n",
      "100%|██████████| 138/138 [00:01<00:00, 79.06it/s]\n"
     ]
    },
    {
     "name": "stdout",
     "output_type": "stream",
     "text": [
      "Epoch [30/60] Training Loss: 0.026069565488682597\n",
      "Epoch [30/60] Validation Loss: 0.71914214487525\n",
      "              precision    recall  f1-score   support\n",
      "\n",
      "           0       0.51      0.43      0.47       242\n",
      "           1       0.41      0.33      0.37       123\n",
      "           2       0.31      0.36      0.33       143\n",
      "           3       0.65      0.65      0.65       647\n",
      "           4       0.47      0.63      0.54       193\n",
      "           5       0.13      0.07      0.09        45\n",
      "           6       0.10      0.06      0.08        47\n",
      "\n",
      "    accuracy                           0.52      1440\n",
      "   macro avg       0.37      0.36      0.36      1440\n",
      "weighted avg       0.51      0.52      0.51      1440\n",
      "\n",
      "Epoch [30/60] Accuracy: 0.0000\n"
     ]
    },
    {
     "name": "stderr",
     "output_type": "stream",
     "text": [
      "100%|██████████| 1236/1236 [01:02<00:00, 19.85it/s]\n",
      "100%|██████████| 138/138 [00:01<00:00, 79.59it/s]\n"
     ]
    },
    {
     "name": "stdout",
     "output_type": "stream",
     "text": [
      "Epoch [31/60] Training Loss: 0.025301428920435673\n",
      "Epoch [31/60] Validation Loss: 0.754958274183066\n",
      "              precision    recall  f1-score   support\n",
      "\n",
      "           0       0.48      0.47      0.48       242\n",
      "           1       0.37      0.36      0.36       123\n",
      "           2       0.29      0.35      0.32       143\n",
      "           3       0.66      0.70      0.68       647\n",
      "           4       0.54      0.48      0.51       193\n",
      "           5       0.18      0.11      0.14        45\n",
      "           6       0.10      0.06      0.08        47\n",
      "\n",
      "    accuracy                           0.53      1440\n",
      "   macro avg       0.38      0.36      0.37      1440\n",
      "weighted avg       0.52      0.53      0.52      1440\n",
      "\n",
      "Epoch [31/60] Accuracy: 0.0000\n"
     ]
    },
    {
     "name": "stderr",
     "output_type": "stream",
     "text": [
      "100%|██████████| 1236/1236 [01:02<00:00, 19.83it/s]\n",
      "100%|██████████| 138/138 [00:01<00:00, 79.55it/s]\n"
     ]
    },
    {
     "name": "stdout",
     "output_type": "stream",
     "text": [
      "Epoch [32/60] Training Loss: 0.02027078200023151\n",
      "Epoch [32/60] Validation Loss: 0.7939607894938925\n",
      "              precision    recall  f1-score   support\n",
      "\n",
      "           0       0.49      0.45      0.47       242\n",
      "           1       0.41      0.37      0.39       123\n",
      "           2       0.30      0.33      0.31       143\n",
      "           3       0.66      0.64      0.65       647\n",
      "           4       0.50      0.63      0.56       193\n",
      "           5       0.06      0.07      0.06        45\n",
      "           6       0.12      0.06      0.08        47\n",
      "\n",
      "    accuracy                           0.52      1440\n",
      "   macro avg       0.36      0.37      0.36      1440\n",
      "weighted avg       0.52      0.52      0.52      1440\n",
      "\n",
      "Epoch [32/60] Accuracy: 0.0000\n"
     ]
    },
    {
     "name": "stderr",
     "output_type": "stream",
     "text": [
      "100%|██████████| 1236/1236 [01:01<00:00, 19.98it/s]\n",
      "100%|██████████| 138/138 [00:01<00:00, 79.31it/s]\n"
     ]
    },
    {
     "name": "stdout",
     "output_type": "stream",
     "text": [
      "Epoch [33/60] Training Loss: 0.02704634035675271\n",
      "Epoch [33/60] Validation Loss: 0.7645670031291851\n",
      "              precision    recall  f1-score   support\n",
      "\n",
      "           0       0.52      0.40      0.45       242\n",
      "           1       0.36      0.36      0.36       123\n",
      "           2       0.28      0.40      0.33       143\n",
      "           3       0.64      0.71      0.67       647\n",
      "           4       0.56      0.49      0.52       193\n",
      "           5       0.09      0.04      0.06        45\n",
      "           6       0.00      0.00      0.00        47\n",
      "\n",
      "    accuracy                           0.52      1440\n",
      "   macro avg       0.35      0.34      0.34      1440\n",
      "weighted avg       0.51      0.52      0.51      1440\n",
      "\n",
      "Epoch [33/60] Accuracy: 0.0000\n"
     ]
    },
    {
     "name": "stderr",
     "output_type": "stream",
     "text": [
      "100%|██████████| 1236/1236 [01:00<00:00, 20.50it/s]\n",
      "100%|██████████| 138/138 [00:01<00:00, 79.19it/s]\n"
     ]
    },
    {
     "name": "stdout",
     "output_type": "stream",
     "text": [
      "Epoch [34/60] Training Loss: 0.021876966644645123\n",
      "Epoch [34/60] Validation Loss: 0.7641923666000366\n",
      "              precision    recall  f1-score   support\n",
      "\n",
      "           0       0.54      0.38      0.45       242\n",
      "           1       0.39      0.40      0.39       123\n",
      "           2       0.34      0.42      0.37       143\n",
      "           3       0.65      0.70      0.67       647\n",
      "           4       0.54      0.59      0.56       193\n",
      "           5       0.04      0.04      0.04        45\n",
      "           6       0.14      0.04      0.07        47\n",
      "\n",
      "    accuracy                           0.53      1440\n",
      "   macro avg       0.38      0.37      0.37      1440\n",
      "weighted avg       0.53      0.53      0.53      1440\n",
      "\n",
      "Epoch [34/60] Accuracy: 0.0000\n"
     ]
    },
    {
     "name": "stderr",
     "output_type": "stream",
     "text": [
      "100%|██████████| 1236/1236 [01:02<00:00, 19.91it/s]\n",
      "100%|██████████| 138/138 [00:01<00:00, 79.67it/s]\n"
     ]
    },
    {
     "name": "stdout",
     "output_type": "stream",
     "text": [
      "Epoch [35/60] Training Loss: 0.01597109748514725\n",
      "Epoch [35/60] Validation Loss: 0.8068519275257553\n",
      "              precision    recall  f1-score   support\n",
      "\n",
      "           0       0.48      0.53      0.51       242\n",
      "           1       0.40      0.28      0.33       123\n",
      "           2       0.34      0.32      0.33       143\n",
      "           3       0.64      0.68      0.66       647\n",
      "           4       0.50      0.54      0.52       193\n",
      "           5       0.09      0.04      0.06        45\n",
      "           6       0.00      0.00      0.00        47\n",
      "\n",
      "    accuracy                           0.53      1440\n",
      "   macro avg       0.35      0.34      0.34      1440\n",
      "weighted avg       0.51      0.53      0.51      1440\n",
      "\n",
      "Epoch [35/60] Accuracy: 0.0000\n"
     ]
    },
    {
     "name": "stderr",
     "output_type": "stream",
     "text": [
      "100%|██████████| 1236/1236 [01:02<00:00, 19.87it/s]\n",
      "100%|██████████| 138/138 [00:01<00:00, 79.98it/s]\n"
     ]
    },
    {
     "name": "stdout",
     "output_type": "stream",
     "text": [
      "Epoch [36/60] Training Loss: 0.023277472533454403\n",
      "Epoch [36/60] Validation Loss: 0.7653668854547584\n",
      "              precision    recall  f1-score   support\n",
      "\n",
      "           0       0.52      0.50      0.51       242\n",
      "           1       0.38      0.39      0.38       123\n",
      "           2       0.32      0.37      0.34       143\n",
      "           3       0.66      0.66      0.66       647\n",
      "           4       0.48      0.53      0.51       193\n",
      "           5       0.07      0.04      0.05        45\n",
      "           6       0.10      0.06      0.08        47\n",
      "\n",
      "    accuracy                           0.53      1440\n",
      "   macro avg       0.36      0.37      0.36      1440\n",
      "weighted avg       0.52      0.53      0.52      1440\n",
      "\n",
      "Epoch [36/60] Accuracy: 0.0000\n"
     ]
    },
    {
     "name": "stderr",
     "output_type": "stream",
     "text": [
      "100%|██████████| 1236/1236 [01:01<00:00, 20.18it/s]\n",
      "100%|██████████| 138/138 [00:01<00:00, 79.52it/s]\n"
     ]
    },
    {
     "name": "stdout",
     "output_type": "stream",
     "text": [
      "Epoch [37/60] Training Loss: 0.018975727457830435\n",
      "Epoch [37/60] Validation Loss: 0.7496713332939839\n",
      "              precision    recall  f1-score   support\n",
      "\n",
      "           0       0.48      0.46      0.47       242\n",
      "           1       0.42      0.36      0.39       123\n",
      "           2       0.32      0.38      0.35       143\n",
      "           3       0.63      0.67      0.65       647\n",
      "           4       0.57      0.50      0.53       193\n",
      "           5       0.04      0.04      0.04        45\n",
      "           6       0.03      0.02      0.03        47\n",
      "\n",
      "    accuracy                           0.52      1440\n",
      "   macro avg       0.36      0.35      0.35      1440\n",
      "weighted avg       0.51      0.52      0.51      1440\n",
      "\n",
      "Epoch [37/60] Accuracy: 0.0000\n"
     ]
    },
    {
     "name": "stderr",
     "output_type": "stream",
     "text": [
      "100%|██████████| 1236/1236 [01:02<00:00, 19.90it/s]\n",
      "100%|██████████| 138/138 [00:01<00:00, 79.24it/s]\n"
     ]
    },
    {
     "name": "stdout",
     "output_type": "stream",
     "text": [
      "Epoch [38/60] Training Loss: 0.015213822546900284\n",
      "Epoch [38/60] Validation Loss: 0.8224450331667196\n",
      "              precision    recall  f1-score   support\n",
      "\n",
      "           0       0.53      0.45      0.49       242\n",
      "           1       0.48      0.37      0.42       123\n",
      "           2       0.36      0.42      0.39       143\n",
      "           3       0.64      0.73      0.69       647\n",
      "           4       0.54      0.50      0.52       193\n",
      "           5       0.05      0.04      0.05        45\n",
      "           6       0.11      0.04      0.06        47\n",
      "\n",
      "    accuracy                           0.55      1440\n",
      "   macro avg       0.39      0.36      0.37      1440\n",
      "weighted avg       0.53      0.55      0.54      1440\n",
      "\n",
      "Epoch [38/60] Accuracy: 0.0000\n"
     ]
    },
    {
     "name": "stderr",
     "output_type": "stream",
     "text": [
      "100%|██████████| 1236/1236 [00:59<00:00, 20.66it/s]\n",
      "100%|██████████| 138/138 [00:01<00:00, 81.94it/s]\n"
     ]
    },
    {
     "name": "stdout",
     "output_type": "stream",
     "text": [
      "Epoch [39/60] Training Loss: 0.017775254969072188\n",
      "Epoch [39/60] Validation Loss: 0.8050975954619006\n",
      "              precision    recall  f1-score   support\n",
      "\n",
      "           0       0.53      0.43      0.47       242\n",
      "           1       0.40      0.34      0.37       123\n",
      "           2       0.32      0.35      0.33       143\n",
      "           3       0.64      0.73      0.69       647\n",
      "           4       0.53      0.51      0.52       193\n",
      "           5       0.09      0.07      0.08        45\n",
      "           6       0.06      0.04      0.05        47\n",
      "\n",
      "    accuracy                           0.54      1440\n",
      "   macro avg       0.37      0.35      0.36      1440\n",
      "weighted avg       0.52      0.54      0.53      1440\n",
      "\n",
      "Epoch [39/60] Accuracy: 0.0000\n"
     ]
    },
    {
     "name": "stderr",
     "output_type": "stream",
     "text": [
      "100%|██████████| 1236/1236 [01:02<00:00, 19.86it/s]\n",
      "100%|██████████| 138/138 [00:01<00:00, 80.17it/s]\n"
     ]
    },
    {
     "name": "stdout",
     "output_type": "stream",
     "text": [
      "Epoch [40/60] Training Loss: 0.017825904763439326\n",
      "Epoch [40/60] Validation Loss: 0.7992713996465656\n",
      "              precision    recall  f1-score   support\n",
      "\n",
      "           0       0.46      0.50      0.48       242\n",
      "           1       0.40      0.37      0.39       123\n",
      "           2       0.33      0.41      0.37       143\n",
      "           3       0.67      0.64      0.65       647\n",
      "           4       0.50      0.52      0.51       193\n",
      "           5       0.11      0.07      0.08        45\n",
      "           6       0.13      0.09      0.10        47\n",
      "\n",
      "    accuracy                           0.52      1440\n",
      "   macro avg       0.37      0.37      0.37      1440\n",
      "weighted avg       0.52      0.52      0.52      1440\n",
      "\n",
      "Epoch [40/60] Accuracy: 0.0000\n"
     ]
    },
    {
     "name": "stderr",
     "output_type": "stream",
     "text": [
      "100%|██████████| 1236/1236 [01:02<00:00, 19.90it/s]\n",
      "100%|██████████| 138/138 [00:01<00:00, 79.26it/s]\n"
     ]
    },
    {
     "name": "stdout",
     "output_type": "stream",
     "text": [
      "Epoch [41/60] Training Loss: 0.015141127381509948\n",
      "Epoch [41/60] Validation Loss: 0.8681388907242512\n",
      "              precision    recall  f1-score   support\n",
      "\n",
      "           0       0.53      0.43      0.48       242\n",
      "           1       0.37      0.41      0.39       123\n",
      "           2       0.34      0.44      0.39       143\n",
      "           3       0.65      0.66      0.65       647\n",
      "           4       0.51      0.58      0.54       193\n",
      "           5       0.04      0.02      0.03        45\n",
      "           6       0.12      0.04      0.06        47\n",
      "\n",
      "    accuracy                           0.53      1440\n",
      "   macro avg       0.36      0.37      0.36      1440\n",
      "weighted avg       0.52      0.53      0.52      1440\n",
      "\n",
      "Epoch [41/60] Accuracy: 0.0000\n"
     ]
    },
    {
     "name": "stderr",
     "output_type": "stream",
     "text": [
      "100%|██████████| 1236/1236 [01:02<00:00, 19.93it/s]\n",
      "100%|██████████| 138/138 [00:01<00:00, 79.36it/s]\n"
     ]
    },
    {
     "name": "stdout",
     "output_type": "stream",
     "text": [
      "Epoch [42/60] Training Loss: 0.013661584123052826\n",
      "Epoch [42/60] Validation Loss: 0.8411800282156986\n",
      "              precision    recall  f1-score   support\n",
      "\n",
      "           0       0.47      0.37      0.42       242\n",
      "           1       0.31      0.39      0.34       123\n",
      "           2       0.33      0.41      0.37       143\n",
      "           3       0.63      0.67      0.65       647\n",
      "           4       0.53      0.47      0.49       193\n",
      "           5       0.03      0.02      0.03        45\n",
      "           6       0.06      0.02      0.03        47\n",
      "\n",
      "    accuracy                           0.50      1440\n",
      "   macro avg       0.34      0.34      0.33      1440\n",
      "weighted avg       0.49      0.50      0.50      1440\n",
      "\n",
      "Epoch [42/60] Accuracy: 0.0000\n"
     ]
    },
    {
     "name": "stderr",
     "output_type": "stream",
     "text": [
      "100%|██████████| 1236/1236 [01:02<00:00, 19.90it/s]\n",
      "100%|██████████| 138/138 [00:01<00:00, 79.00it/s]\n"
     ]
    },
    {
     "name": "stdout",
     "output_type": "stream",
     "text": [
      "Epoch [43/60] Training Loss: 0.01329639929687321\n",
      "Epoch [43/60] Validation Loss: 0.8399592591368634\n",
      "              precision    recall  f1-score   support\n",
      "\n",
      "           0       0.49      0.49      0.49       242\n",
      "           1       0.39      0.38      0.39       123\n",
      "           2       0.31      0.28      0.30       143\n",
      "           3       0.65      0.65      0.65       647\n",
      "           4       0.48      0.58      0.52       193\n",
      "           5       0.08      0.07      0.07        45\n",
      "           6       0.04      0.02      0.03        47\n",
      "\n",
      "    accuracy                           0.52      1440\n",
      "   macro avg       0.35      0.35      0.35      1440\n",
      "weighted avg       0.50      0.52      0.51      1440\n",
      "\n",
      "Epoch [43/60] Accuracy: 0.0000\n"
     ]
    },
    {
     "name": "stderr",
     "output_type": "stream",
     "text": [
      "100%|██████████| 1236/1236 [01:00<00:00, 20.59it/s]\n",
      "100%|██████████| 138/138 [00:01<00:00, 82.36it/s]\n"
     ]
    },
    {
     "name": "stdout",
     "output_type": "stream",
     "text": [
      "Epoch [44/60] Training Loss: 0.01601172475367302\n",
      "Epoch [44/60] Validation Loss: 0.8421205163002015\n",
      "              precision    recall  f1-score   support\n",
      "\n",
      "           0       0.53      0.36      0.43       242\n",
      "           1       0.40      0.39      0.40       123\n",
      "           2       0.31      0.48      0.38       143\n",
      "           3       0.64      0.72      0.68       647\n",
      "           4       0.53      0.49      0.51       193\n",
      "           5       0.06      0.02      0.03        45\n",
      "           6       0.00      0.00      0.00        47\n",
      "\n",
      "    accuracy                           0.53      1440\n",
      "   macro avg       0.35      0.35      0.35      1440\n",
      "weighted avg       0.52      0.53      0.52      1440\n",
      "\n",
      "Epoch [44/60] Accuracy: 0.0000\n"
     ]
    },
    {
     "name": "stderr",
     "output_type": "stream",
     "text": [
      "100%|██████████| 1236/1236 [01:01<00:00, 20.06it/s]\n",
      "100%|██████████| 138/138 [00:01<00:00, 79.38it/s]\n"
     ]
    },
    {
     "name": "stdout",
     "output_type": "stream",
     "text": [
      "Epoch [45/60] Training Loss: 0.015704304312618034\n",
      "Epoch [45/60] Validation Loss: 0.8385419045237528\n",
      "              precision    recall  f1-score   support\n",
      "\n",
      "           0       0.49      0.45      0.47       242\n",
      "           1       0.38      0.45      0.41       123\n",
      "           2       0.33      0.35      0.34       143\n",
      "           3       0.62      0.71      0.66       647\n",
      "           4       0.54      0.43      0.48       193\n",
      "           5       0.06      0.02      0.03        45\n",
      "           6       0.00      0.00      0.00        47\n",
      "\n",
      "    accuracy                           0.53      1440\n",
      "   macro avg       0.35      0.34      0.34      1440\n",
      "weighted avg       0.50      0.53      0.51      1440\n",
      "\n",
      "Epoch [45/60] Accuracy: 0.0000\n"
     ]
    },
    {
     "name": "stderr",
     "output_type": "stream",
     "text": [
      "100%|██████████| 1236/1236 [01:01<00:00, 19.98it/s]\n",
      "100%|██████████| 138/138 [00:01<00:00, 78.94it/s]\n"
     ]
    },
    {
     "name": "stdout",
     "output_type": "stream",
     "text": [
      "Epoch [46/60] Training Loss: 0.01093502736207351\n",
      "Epoch [46/60] Validation Loss: 0.8801745533943176\n",
      "              precision    recall  f1-score   support\n",
      "\n",
      "           0       0.50      0.41      0.45       242\n",
      "           1       0.45      0.33      0.38       123\n",
      "           2       0.29      0.42      0.34       143\n",
      "           3       0.63      0.71      0.67       647\n",
      "           4       0.55      0.51      0.53       193\n",
      "           5       0.04      0.02      0.03        45\n",
      "           6       0.08      0.02      0.03        47\n",
      "\n",
      "    accuracy                           0.53      1440\n",
      "   macro avg       0.36      0.35      0.35      1440\n",
      "weighted avg       0.51      0.53      0.52      1440\n",
      "\n",
      "Epoch [46/60] Accuracy: 0.0000\n"
     ]
    },
    {
     "name": "stderr",
     "output_type": "stream",
     "text": [
      "100%|██████████| 1236/1236 [01:01<00:00, 19.96it/s]\n",
      "100%|██████████| 138/138 [00:01<00:00, 79.27it/s]\n"
     ]
    },
    {
     "name": "stdout",
     "output_type": "stream",
     "text": [
      "Epoch [47/60] Training Loss: 0.011734316457050904\n",
      "Epoch [47/60] Validation Loss: 0.8691010802120402\n",
      "              precision    recall  f1-score   support\n",
      "\n",
      "           0       0.53      0.49      0.51       242\n",
      "           1       0.39      0.37      0.38       123\n",
      "           2       0.35      0.36      0.36       143\n",
      "           3       0.66      0.67      0.66       647\n",
      "           4       0.48      0.56      0.52       193\n",
      "           5       0.03      0.02      0.03        45\n",
      "           6       0.06      0.04      0.05        47\n",
      "\n",
      "    accuracy                           0.53      1440\n",
      "   macro avg       0.36      0.36      0.36      1440\n",
      "weighted avg       0.52      0.53      0.52      1440\n",
      "\n",
      "Epoch [47/60] Accuracy: 0.0000\n"
     ]
    },
    {
     "name": "stderr",
     "output_type": "stream",
     "text": [
      "100%|██████████| 1236/1236 [01:02<00:00, 19.88it/s]\n",
      "100%|██████████| 138/138 [00:01<00:00, 80.04it/s]\n"
     ]
    },
    {
     "name": "stdout",
     "output_type": "stream",
     "text": [
      "Epoch [48/60] Training Loss: 0.013701470287872363\n",
      "Epoch [48/60] Validation Loss: 0.8776061029105947\n",
      "              precision    recall  f1-score   support\n",
      "\n",
      "           0       0.53      0.39      0.45       242\n",
      "           1       0.34      0.43      0.38       123\n",
      "           2       0.28      0.38      0.32       143\n",
      "           3       0.65      0.66      0.66       647\n",
      "           4       0.50      0.51      0.51       193\n",
      "           5       0.02      0.02      0.02        45\n",
      "           6       0.05      0.02      0.03        47\n",
      "\n",
      "    accuracy                           0.51      1440\n",
      "   macro avg       0.34      0.35      0.34      1440\n",
      "weighted avg       0.51      0.51      0.51      1440\n",
      "\n",
      "Epoch [48/60] Accuracy: 0.0000\n"
     ]
    },
    {
     "name": "stderr",
     "output_type": "stream",
     "text": [
      "100%|██████████| 1236/1236 [00:59<00:00, 20.66it/s]\n",
      "100%|██████████| 138/138 [00:01<00:00, 80.91it/s]\n"
     ]
    },
    {
     "name": "stdout",
     "output_type": "stream",
     "text": [
      "Epoch [49/60] Training Loss: 0.012776051915000558\n",
      "Epoch [49/60] Validation Loss: 0.8731857971004818\n",
      "              precision    recall  f1-score   support\n",
      "\n",
      "           0       0.45      0.49      0.47       242\n",
      "           1       0.37      0.35      0.36       123\n",
      "           2       0.32      0.40      0.36       143\n",
      "           3       0.62      0.62      0.62       647\n",
      "           4       0.52      0.45      0.48       193\n",
      "           5       0.06      0.04      0.05        45\n",
      "           6       0.06      0.04      0.05        47\n",
      "\n",
      "    accuracy                           0.49      1440\n",
      "   macro avg       0.34      0.34      0.34      1440\n",
      "weighted avg       0.49      0.49      0.49      1440\n",
      "\n",
      "Epoch [49/60] Accuracy: 0.0000\n"
     ]
    },
    {
     "name": "stderr",
     "output_type": "stream",
     "text": [
      "100%|██████████| 1236/1236 [00:59<00:00, 20.67it/s]\n",
      "100%|██████████| 138/138 [00:01<00:00, 81.67it/s]\n"
     ]
    },
    {
     "name": "stdout",
     "output_type": "stream",
     "text": [
      "Epoch [50/60] Training Loss: 0.010515734427955158\n",
      "Epoch [50/60] Validation Loss: 0.9141707204390264\n",
      "              precision    recall  f1-score   support\n",
      "\n",
      "           0       0.50      0.43      0.46       242\n",
      "           1       0.36      0.30      0.33       123\n",
      "           2       0.30      0.41      0.35       143\n",
      "           3       0.65      0.67      0.66       647\n",
      "           4       0.50      0.59      0.54       193\n",
      "           5       0.05      0.02      0.03        45\n",
      "           6       0.04      0.02      0.03        47\n",
      "\n",
      "    accuracy                           0.52      1440\n",
      "   macro avg       0.34      0.35      0.34      1440\n",
      "weighted avg       0.51      0.52      0.51      1440\n",
      "\n",
      "Epoch [50/60] Accuracy: 0.0000\n"
     ]
    },
    {
     "name": "stderr",
     "output_type": "stream",
     "text": [
      "100%|██████████| 1236/1236 [01:00<00:00, 20.43it/s]\n",
      "100%|██████████| 138/138 [00:01<00:00, 78.98it/s]\n"
     ]
    },
    {
     "name": "stdout",
     "output_type": "stream",
     "text": [
      "Epoch [51/60] Training Loss: 0.009975051132413561\n",
      "Epoch [51/60] Validation Loss: 0.9208292267460754\n",
      "              precision    recall  f1-score   support\n",
      "\n",
      "           0       0.49      0.49      0.49       242\n",
      "           1       0.29      0.40      0.34       123\n",
      "           2       0.27      0.43      0.33       143\n",
      "           3       0.65      0.54      0.59       647\n",
      "           4       0.52      0.55      0.53       193\n",
      "           5       0.02      0.02      0.02        45\n",
      "           6       0.04      0.02      0.03        47\n",
      "\n",
      "    accuracy                           0.48      1440\n",
      "   macro avg       0.33      0.35      0.33      1440\n",
      "weighted avg       0.50      0.48      0.48      1440\n",
      "\n",
      "Epoch [51/60] Accuracy: 0.0000\n"
     ]
    },
    {
     "name": "stderr",
     "output_type": "stream",
     "text": [
      "100%|██████████| 1236/1236 [01:01<00:00, 20.20it/s]\n",
      "100%|██████████| 138/138 [00:01<00:00, 80.03it/s]\n"
     ]
    },
    {
     "name": "stdout",
     "output_type": "stream",
     "text": [
      "Epoch [52/60] Training Loss: 0.013445877213887026\n",
      "Epoch [52/60] Validation Loss: 0.8666719937670058\n",
      "              precision    recall  f1-score   support\n",
      "\n",
      "           0       0.48      0.39      0.43       242\n",
      "           1       0.33      0.41      0.36       123\n",
      "           2       0.29      0.39      0.33       143\n",
      "           3       0.64      0.68      0.66       647\n",
      "           4       0.53      0.48      0.51       193\n",
      "           5       0.11      0.04      0.06        45\n",
      "           6       0.11      0.04      0.06        47\n",
      "\n",
      "    accuracy                           0.51      1440\n",
      "   macro avg       0.36      0.35      0.35      1440\n",
      "weighted avg       0.50      0.51      0.50      1440\n",
      "\n",
      "Epoch [52/60] Accuracy: 0.0000\n"
     ]
    },
    {
     "name": "stderr",
     "output_type": "stream",
     "text": [
      "100%|██████████| 1236/1236 [01:02<00:00, 19.86it/s]\n",
      "100%|██████████| 138/138 [00:01<00:00, 79.35it/s]\n"
     ]
    },
    {
     "name": "stdout",
     "output_type": "stream",
     "text": [
      "Epoch [53/60] Training Loss: 0.009253000451137333\n",
      "Epoch [53/60] Validation Loss: 0.9416443023128785\n",
      "              precision    recall  f1-score   support\n",
      "\n",
      "           0       0.49      0.36      0.42       242\n",
      "           1       0.36      0.39      0.37       123\n",
      "           2       0.27      0.39      0.32       143\n",
      "           3       0.63      0.66      0.64       647\n",
      "           4       0.53      0.51      0.52       193\n",
      "           5       0.06      0.04      0.05        45\n",
      "           6       0.12      0.06      0.08        47\n",
      "\n",
      "    accuracy                           0.50      1440\n",
      "   macro avg       0.35      0.35      0.34      1440\n",
      "weighted avg       0.50      0.50      0.50      1440\n",
      "\n",
      "Epoch [53/60] Accuracy: 0.0000\n"
     ]
    },
    {
     "name": "stderr",
     "output_type": "stream",
     "text": [
      "100%|██████████| 1236/1236 [01:01<00:00, 20.10it/s]\n",
      "100%|██████████| 138/138 [00:01<00:00, 79.29it/s]\n"
     ]
    },
    {
     "name": "stdout",
     "output_type": "stream",
     "text": [
      "Epoch [54/60] Training Loss: 0.012491225376484078\n",
      "Epoch [54/60] Validation Loss: 0.833915243546168\n",
      "              precision    recall  f1-score   support\n",
      "\n",
      "           0       0.46      0.43      0.45       242\n",
      "           1       0.35      0.41      0.38       123\n",
      "           2       0.34      0.34      0.34       143\n",
      "           3       0.63      0.71      0.67       647\n",
      "           4       0.59      0.45      0.51       193\n",
      "           5       0.09      0.07      0.08        45\n",
      "           6       0.00      0.00      0.00        47\n",
      "\n",
      "    accuracy                           0.52      1440\n",
      "   macro avg       0.35      0.34      0.35      1440\n",
      "weighted avg       0.51      0.52      0.51      1440\n",
      "\n",
      "Epoch [54/60] Accuracy: 0.0000\n"
     ]
    },
    {
     "name": "stderr",
     "output_type": "stream",
     "text": [
      "100%|██████████| 1236/1236 [01:02<00:00, 19.86it/s]\n",
      "100%|██████████| 138/138 [00:01<00:00, 79.51it/s]\n"
     ]
    },
    {
     "name": "stdout",
     "output_type": "stream",
     "text": [
      "Epoch [55/60] Training Loss: 0.008366388685302055\n",
      "Epoch [55/60] Validation Loss: 0.9241684932639633\n",
      "              precision    recall  f1-score   support\n",
      "\n",
      "           0       0.56      0.40      0.46       242\n",
      "           1       0.34      0.34      0.34       123\n",
      "           2       0.31      0.33      0.32       143\n",
      "           3       0.63      0.70      0.66       647\n",
      "           4       0.51      0.54      0.53       193\n",
      "           5       0.10      0.11      0.11        45\n",
      "           6       0.08      0.04      0.06        47\n",
      "\n",
      "    accuracy                           0.52      1440\n",
      "   macro avg       0.36      0.35      0.35      1440\n",
      "weighted avg       0.51      0.52      0.51      1440\n",
      "\n",
      "Epoch [55/60] Accuracy: 0.0000\n"
     ]
    },
    {
     "name": "stderr",
     "output_type": "stream",
     "text": [
      "100%|██████████| 1236/1236 [01:02<00:00, 19.85it/s]\n",
      "100%|██████████| 138/138 [00:01<00:00, 79.76it/s]\n"
     ]
    },
    {
     "name": "stdout",
     "output_type": "stream",
     "text": [
      "Epoch [56/60] Training Loss: 0.012721998357849986\n",
      "Epoch [56/60] Validation Loss: 0.8694719284340955\n",
      "              precision    recall  f1-score   support\n",
      "\n",
      "           0       0.51      0.41      0.45       242\n",
      "           1       0.39      0.41      0.40       123\n",
      "           2       0.32      0.36      0.34       143\n",
      "           3       0.63      0.68      0.65       647\n",
      "           4       0.50      0.52      0.51       193\n",
      "           5       0.09      0.07      0.07        45\n",
      "           6       0.09      0.04      0.06        47\n",
      "\n",
      "    accuracy                           0.52      1440\n",
      "   macro avg       0.36      0.36      0.36      1440\n",
      "weighted avg       0.51      0.52      0.51      1440\n",
      "\n",
      "Epoch [56/60] Accuracy: 0.0000\n"
     ]
    },
    {
     "name": "stderr",
     "output_type": "stream",
     "text": [
      "100%|██████████| 1236/1236 [01:00<00:00, 20.50it/s]\n",
      "100%|██████████| 138/138 [00:01<00:00, 79.20it/s]\n"
     ]
    },
    {
     "name": "stdout",
     "output_type": "stream",
     "text": [
      "Epoch [57/60] Training Loss: 0.007438511331490328\n",
      "Epoch [57/60] Validation Loss: 0.8922556704369144\n",
      "              precision    recall  f1-score   support\n",
      "\n",
      "           0       0.47      0.43      0.45       242\n",
      "           1       0.43      0.40      0.41       123\n",
      "           2       0.34      0.38      0.36       143\n",
      "           3       0.62      0.66      0.64       647\n",
      "           4       0.53      0.53      0.53       193\n",
      "           5       0.09      0.09      0.09        45\n",
      "           6       0.10      0.04      0.06        47\n",
      "\n",
      "    accuracy                           0.51      1440\n",
      "   macro avg       0.37      0.36      0.36      1440\n",
      "weighted avg       0.50      0.51      0.51      1440\n",
      "\n",
      "Epoch [57/60] Accuracy: 0.0000\n"
     ]
    },
    {
     "name": "stderr",
     "output_type": "stream",
     "text": [
      "100%|██████████| 1236/1236 [01:02<00:00, 19.91it/s]\n",
      "100%|██████████| 138/138 [00:01<00:00, 79.34it/s]\n"
     ]
    },
    {
     "name": "stdout",
     "output_type": "stream",
     "text": [
      "Epoch [58/60] Training Loss: 0.00903950504307608\n",
      "Epoch [58/60] Validation Loss: 0.8870307347912719\n",
      "              precision    recall  f1-score   support\n",
      "\n",
      "           0       0.53      0.50      0.52       242\n",
      "           1       0.39      0.46      0.42       123\n",
      "           2       0.30      0.41      0.35       143\n",
      "           3       0.65      0.61      0.63       647\n",
      "           4       0.51      0.56      0.53       193\n",
      "           5       0.05      0.02      0.03        45\n",
      "           6       0.00      0.00      0.00        47\n",
      "\n",
      "    accuracy                           0.52      1440\n",
      "   macro avg       0.35      0.37      0.35      1440\n",
      "weighted avg       0.51      0.52      0.51      1440\n",
      "\n",
      "Epoch [58/60] Accuracy: 0.0000\n"
     ]
    },
    {
     "name": "stderr",
     "output_type": "stream",
     "text": [
      "100%|██████████| 1236/1236 [01:01<00:00, 20.00it/s]\n",
      "100%|██████████| 138/138 [00:01<00:00, 79.22it/s]\n"
     ]
    },
    {
     "name": "stdout",
     "output_type": "stream",
     "text": [
      "Epoch [59/60] Training Loss: 0.011876105191638169\n",
      "Epoch [59/60] Validation Loss: 0.8911981464728065\n",
      "              precision    recall  f1-score   support\n",
      "\n",
      "           0       0.50      0.45      0.48       242\n",
      "           1       0.37      0.37      0.37       123\n",
      "           2       0.34      0.43      0.38       143\n",
      "           3       0.64      0.65      0.65       647\n",
      "           4       0.50      0.55      0.53       193\n",
      "           5       0.13      0.07      0.09        45\n",
      "           6       0.06      0.02      0.03        47\n",
      "\n",
      "    accuracy                           0.52      1440\n",
      "   macro avg       0.36      0.37      0.36      1440\n",
      "weighted avg       0.51      0.52      0.51      1440\n",
      "\n",
      "Epoch [59/60] Accuracy: 0.0000\n"
     ]
    },
    {
     "name": "stderr",
     "output_type": "stream",
     "text": [
      "100%|██████████| 1236/1236 [01:00<00:00, 20.30it/s]\n",
      "100%|██████████| 138/138 [00:01<00:00, 80.02it/s]\n"
     ]
    },
    {
     "name": "stdout",
     "output_type": "stream",
     "text": [
      "Epoch [60/60] Training Loss: 0.009797847097359815\n",
      "Epoch [60/60] Validation Loss: 0.9052893411422122\n",
      "              precision    recall  f1-score   support\n",
      "\n",
      "           0       0.49      0.44      0.46       242\n",
      "           1       0.38      0.37      0.37       123\n",
      "           2       0.37      0.31      0.34       143\n",
      "           3       0.63      0.71      0.67       647\n",
      "           4       0.53      0.59      0.55       193\n",
      "           5       0.16      0.09      0.11        45\n",
      "           6       0.12      0.04      0.06        47\n",
      "\n",
      "    accuracy                           0.54      1440\n",
      "   macro avg       0.38      0.36      0.37      1440\n",
      "weighted avg       0.51      0.54      0.52      1440\n",
      "\n",
      "Epoch [60/60] Accuracy: 0.0000\n",
      "Training complete!\n",
      "=========================BEST MODEL DETAILS=========================\n",
      "Best model at epoch 6 with validation loss: 1768.8465381860733\n",
      "Classification Report\n",
      "               precision    recall  f1-score   support\n",
      "\n",
      "           0       0.54      0.61      0.57       242\n",
      "           1       0.53      0.25      0.34       123\n",
      "           2       0.29      0.38      0.33       143\n",
      "           3       0.65      0.72      0.69       647\n",
      "           4       0.53      0.54      0.53       193\n",
      "           5       0.00      0.00      0.00        45\n",
      "           6       0.00      0.00      0.00        47\n",
      "\n",
      "    accuracy                           0.56      1440\n",
      "   macro avg       0.36      0.36      0.35      1440\n",
      "weighted avg       0.53      0.56      0.54      1440\n",
      "\n",
      "Best model saved at: /tmp/semeval24_task3/baseline_models/emotion_models/best_model.pt\n"
     ]
    }
   ],
   "source": [
    "from torch.optim import AdamW\n",
    "from tqdm import tqdm\n",
    "from sklearn.metrics import classification_report\n",
    "from transformers import get_linear_schedule_with_warmup\n",
    "\n",
    "# Define your model\n",
    "# model = EmotionClassifier(input_size=11237, hidden_size=5000, num_layers=2, num_heads=2, dropout=0.2, num_emotions=7)\n",
    "print(TEXT_EMBEDDINGS_FILEPATH)\n",
    "print(AUDIO_EMBEDDINGS_FILEPATH)\n",
    "print(VIDEO_EMBEDDINGS_FILEPATH)\n",
    "model = EmotionClassifier(input_size=768*3, hidden_size=2000, num_emotions=7, num_layers=4, dropout=0.3)\n",
    "model.to(\"cuda\")\n",
    "\n",
    "# Define your loss function and optimizer\n",
    "weights_tensor = torch.tensor(np.array(indexer.weights)).to(\"cuda\").float()\n",
    "# weights_tensor = torch.tensor(np.array([1.0, 1.0, 1.0, 0.25, 1.0, 3.0, 3.0])).to(\"cuda\").float()\n",
    "criterion = nn.CrossEntropyLoss(\n",
    "    weight=weights_tensor,\n",
    "    ignore_index=7\n",
    ")\n",
    "\n",
    "num_epochs = 60\n",
    "\n",
    "optimizer = AdamW(model.parameters(), lr=1e-4)\n",
    "\n",
    "total_steps = len(train_dataloader) * num_epochs\n",
    "\n",
    "scheduler = get_linear_schedule_with_warmup(\n",
    "    optimizer,\n",
    "    num_warmup_steps=0,\n",
    "    num_training_steps=total_steps\n",
    ")\n",
    "\n",
    "best_model_file = None\n",
    "best_val_loss = float('inf')\n",
    "best_epoch = -1\n",
    "best_classification_report = None\n",
    "\n",
    "\n",
    "# criterion = FocalLoss(gamma=2.0)\n",
    "\n",
    "# Define training parameters\n",
    "\n",
    "# Training loop\n",
    "for epoch in (range(num_epochs)):\n",
    "    model.train()  # Set the model to training mode\n",
    "    total_loss = 0.0\n",
    "    total_tokens = 0\n",
    "    total_correct = 0\n",
    "    total_predictions = 0\n",
    "\n",
    "    for batch in tqdm(train_dataloader):  # Assuming you have a DataLoader for your dataset\n",
    "        # Extract data from the batch\n",
    "        audio = batch['audio'].to('cuda')\n",
    "        video = batch['video'].to('cuda')\n",
    "        text = batch['text'].to('cuda')\n",
    "        emotion_indices = batch['emotion_labels'].to('cuda')\n",
    "        pad_mask = batch['pad_mask'].to('cuda')\n",
    "\n",
    "        # Forward pass\n",
    "        # emotion_logits = emotion_model(audio_copy, video_copy, text_copy)\n",
    "\n",
    "        # Reshape emotion_logits\n",
    "        # emotion_logits = emotion_logits.view(-1, emotion_logits.size(-1))\n",
    "\n",
    "        # Flatten emotion_indices (assuming it's a 2D tensor with shape [batch_size, max_sequence_length])\n",
    "        # emotion_indices = emotion_indices.view(-1)\n",
    "\n",
    "        # Calculate a mask to exclude padded positions from the loss\n",
    "        pad_mask = pad_mask.view(-1).float()\n",
    "\n",
    "        # Calculate the loss, excluding padded positions\n",
    "        emotion_loss = model.loss(audio, video, text, emotion_indices, pad_mask)\n",
    "        # masked_loss = torch.sum(loss * pad_mask) / torch.sum(pad_mask)\n",
    "        masked_loss = emotion_loss# *pad_mask\n",
    "        # Backpropagation and optimization\n",
    "        \n",
    "        \n",
    "        # Backpropagation and optimization\n",
    "        optimizer.zero_grad()\n",
    "        masked_loss.backward()\n",
    "        optimizer.step()\n",
    "        \n",
    "\n",
    "        total_loss += masked_loss.item()\n",
    "        total_tokens += torch.sum(pad_mask).item()\n",
    "        \n",
    "        predicted_emotions = model.predict(audio, video, text)\n",
    "        correct_predictions = ((predicted_emotions == emotion_indices) * pad_mask).sum().item()\n",
    "\n",
    "        total_correct += correct_predictions\n",
    "        total_predictions += torch.sum(pad_mask).item()  # Batch size\n",
    "    \n",
    "    scheduler.step()\n",
    "\n",
    "    model.eval()  # Set the model to evaluation mode\n",
    "    total_val_loss = 0.0\n",
    "    total_val_tokens = 0\n",
    "    total_val_correct = 0\n",
    "    total_val_predictions = 0\n",
    "    true_labels = []\n",
    "    predicted_labels = []\n",
    "    padded_labels = []\n",
    "\n",
    "    with torch.no_grad():\n",
    "        for val_batch in tqdm(validation_dataloader):\n",
    "            audio = val_batch['audio'].to('cuda')\n",
    "            video = val_batch['video'].to('cuda')\n",
    "            text = val_batch['text'].to('cuda')\n",
    "            emotion_indices = val_batch['emotion_labels'].to('cuda')\n",
    "            pad_mask = val_batch['pad_mask'].to('cuda')\n",
    "            \n",
    "            pad_mask = pad_mask.view(-1)   \n",
    "            # Calculate the loss, excluding padded positions\n",
    "            val_loss = model.loss(audio, video, text, emotion_indices, pad_mask)\n",
    "            masked_loss = torch.sum(val_loss * pad_mask) / torch.sum(pad_mask)\n",
    "            \n",
    "            total_val_loss += masked_loss.item()\n",
    "            total_val_tokens += torch.sum(pad_mask).item()\n",
    "            \n",
    "            predicted_emotions_val = model.predict(audio, video, text)\n",
    "            correct_predictions_val = ((predicted_emotions_val == emotion_indices) * pad_mask).sum().item()\n",
    "            total_val_correct += correct_predictions_val\n",
    "            total_val_predictions += torch.sum(pad_mask).item()\n",
    "\n",
    "            # Store true and predicted labels for F1 score calculation\n",
    "            emotion_indices = emotion_indices.cpu().squeeze(0).numpy()\n",
    "            true_labels.extend(emotion_indices)\n",
    "            predicted_labels.extend(predicted_emotions_val[0])\n",
    "            padded_labels.extend(pad_mask.cpu().numpy())\n",
    "\n",
    "    final_true_labels = [label for label, pad in zip(true_labels, padded_labels) if pad == 1]\n",
    "    final_predicted_labels = [label for label, pad in zip(predicted_labels, padded_labels) if pad == 1]\n",
    "    # print(\"=========================\")\n",
    "    # print(final_true_labels)\n",
    "    # print(final_predicted_labels)\n",
    "    # print(\"=========================\")\n",
    "    classification_rep = classification_report(final_true_labels, final_predicted_labels)\n",
    "    \n",
    "    if total_val_loss < best_val_loss:\n",
    "        best_val_loss = total_val_loss\n",
    "        best_epoch = epoch\n",
    "        best_classification_report = classification_rep\n",
    "        best_model_file = f\"/tmp/semeval24_task3/baseline_models/emotion_models/best_model.pt\"\n",
    "        torch.save(model.state_dict(), best_model_file)\n",
    "\n",
    "    # Calculate and print the average loss for this epoch\n",
    "    avg_loss = total_loss / total_tokens\n",
    "    avg_val_loss = total_val_loss / total_val_tokens\n",
    "    print(f\"Epoch [{epoch + 1}/{num_epochs}] Training Loss: {avg_loss}\")\n",
    "    print(f\"Epoch [{epoch + 1}/{num_epochs}] Validation Loss: {avg_val_loss}\")\n",
    "    print(classification_rep)\n",
    "    print(f\"Epoch [{epoch + 1}/{num_epochs}] Accuracy: {total_correct / total_predictions:.4f}\")\n",
    "\n",
    "    torch.save(model.state_dict(), f\"/tmp/semeval24_task3/baseline_models/emotion_models/emotion_model_{epoch:02}.pt\")\n",
    "\n",
    "print(\"Training complete!\")\n",
    "print(\"=========================BEST MODEL DETAILS=========================\")\n",
    "print(f\"Best model at epoch {best_epoch + 1} with validation loss: {best_val_loss}\")\n",
    "print(\"Classification Report\\n\", best_classification_report)\n",
    "print(f\"Best model saved at: {best_model_file}\")"
   ]
  },
  {
   "cell_type": "code",
   "execution_count": null,
   "metadata": {},
   "outputs": [],
   "source": []
  }
 ],
 "metadata": {
  "kernelspec": {
   "display_name": "Python 3 (ipykernel)",
   "language": "python",
   "name": "python3"
  },
  "language_info": {
   "codemirror_mode": {
    "name": "ipython",
    "version": 3
   },
   "file_extension": ".py",
   "mimetype": "text/x-python",
   "name": "python",
   "nbconvert_exporter": "python",
   "pygments_lexer": "ipython3",
   "version": "3.10.8"
  }
 },
 "nbformat": 4,
 "nbformat_minor": 4
}
