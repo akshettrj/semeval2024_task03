{
 "cells": [
  {
   "cell_type": "code",
   "execution_count": 10,
   "metadata": {},
   "outputs": [
    {
     "name": "stdout",
     "output_type": "stream",
     "text": [
      "1236\n",
      "138\n"
     ]
    }
   ],
   "source": [
    "import json\n",
    "from pprint import pprint\n",
    "TRAIN_FILE_PATH = \"/tmp/semeval24_task3/SemEval-2024_Task3/official_data/Training_data/text/training.json\"\n",
    "VALIDATION_FILE_PATH = \"/tmp/semeval24_task3/SemEval-2024_Task3/official_data/Training_data/text/testing.json\"\n",
    "with open(TRAIN_FILE_PATH) as f:\n",
    "    train_data = json.load(f)\n",
    "with open(VALIDATION_FILE_PATH) as f:\n",
    "    validation_data = json.load(f)\n",
    "\n",
    "pprint(len(train_data))\n",
    "pprint(len(validation_data))"
   ]
  },
  {
   "cell_type": "code",
   "execution_count": 11,
   "metadata": {},
   "outputs": [
    {
     "name": "stdout",
     "output_type": "stream",
     "text": [
      "[2059, 1024, 1472, 5282, 1647, 369, 326]\n",
      "[0.00048567265662943174, 0.0009765625, 0.0006793478260869565, 0.0001893222264293828, 0.0006071645415907711, 0.0027100271002710027, 0.003067484662576687]\n"
     ]
    }
   ],
   "source": [
    "class EmotionIndexer:\n",
    "    def __init__(self):\n",
    "        self.emotion_to_index = {\n",
    "            'joy': 0,\n",
    "            'sadness': 1,\n",
    "            'anger': 2,\n",
    "            'neutral': 3,\n",
    "            'surprise': 4,\n",
    "            'disgust': 5,\n",
    "            'fear': 6,\n",
    "            'pad': 7,\n",
    "        }\n",
    "        self.emotion_freq = [0]*7\n",
    "        self.weights = None\n",
    "\n",
    "        self.index_to_emotion = {index: emotion for emotion, index in self.emotion_to_index.items()}\n",
    "\n",
    "    def emotion_to_idx(self, emotion):\n",
    "        return self.emotion_to_index.get(emotion, None)\n",
    "\n",
    "    def idx_to_emotion(self, index):\n",
    "        return self.index_to_emotion.get(index, None)\n",
    "    \n",
    "    def compute_weights(self, data):\n",
    "        for conversation in data:\n",
    "            conversation = conversation['conversation']\n",
    "            for utterance in conversation:\n",
    "                emotion = utterance['emotion']\n",
    "                self.emotion_freq[self.emotion_to_index[emotion]] += 1\n",
    "        print(self.emotion_freq)\n",
    "        self.weights = [1/freq for freq in self.emotion_freq]\n",
    "\n",
    "# Example usage\n",
    "indexer = EmotionIndexer()\n",
    "indexer.compute_weights(train_data)\n",
    "print(indexer.weights)"
   ]
  },
  {
   "cell_type": "code",
   "execution_count": 12,
   "metadata": {},
   "outputs": [
    {
     "name": "stdout",
     "output_type": "stream",
     "text": [
      "{'joy', 'surprise', 'sadness', 'anger', 'fear', 'disgust', 'neutral'}\n"
     ]
    }
   ],
   "source": [
    "all_emotions = set()\n",
    "for conversation in train_data:\n",
    "    conversation = conversation[\"conversation\"]\n",
    "    for utterance in conversation:\n",
    "        all_emotions.add(utterance[\"emotion\"])\n",
    "pprint(all_emotions)"
   ]
  },
  {
   "cell_type": "code",
   "execution_count": null,
   "metadata": {},
   "outputs": [],
   "source": []
  },
  {
   "cell_type": "code",
   "execution_count": 13,
   "metadata": {},
   "outputs": [],
   "source": [
    "import torch\n",
    "import json\n",
    "import os\n",
    "from torch.utils.data import Dataset, DataLoader\n",
    "from torchvision.io import read_video\n",
    "from torchvision.transforms import functional as F\n",
    "from PIL import Image\n",
    "import numpy as np"
   ]
  },
  {
   "cell_type": "code",
   "execution_count": 14,
   "metadata": {
    "collapsed": true,
    "jupyter": {
     "outputs_hidden": true
    },
    "tags": []
   },
   "outputs": [],
   "source": [
    "# video_id_mapping = np.load(\"/home2/akshett.jindal/research/semeval24/task3/MECPE/data/video_id_mapping.npy\", allow_pickle=True)\n",
    "# print(video_id_mapping)\n",
    "# video_id_mapping = video_id_mapping.item()"
   ]
  },
  {
   "cell_type": "code",
   "execution_count": 15,
   "metadata": {},
   "outputs": [],
   "source": [
    "import torch\n",
    "import pickle\n",
    "\n",
    "VID_ID_MAPPING = np.load(\"/home2/suyash.mathur/semeval24/task3/MECPE/data/video_id_mapping.npy\", allow_pickle=True).item()\n",
    "\n",
    "class YourAudioEncoder():\n",
    "    def __init__(self, audio_embeddings_path):\n",
    "        self.audio_embeddings = np.load(audio_embeddings_path)\n",
    "        # with open(audio_embeddings_path, \"rb\") as f:\n",
    "            # self.audio_embeddings = pickle.load(f)\n",
    "\n",
    "    def lmao(self, audio_name):\n",
    "        audio_name = audio_name.split(\".\")[0]\n",
    "        audio_name = VID_ID_MAPPING[audio_name]\n",
    "        audio_embedding = self.audio_embeddings[audio_name]\n",
    "        return torch.from_numpy(audio_embedding)\n",
    "    \n",
    "class YourVideoEncoder():\n",
    "    def __init__(self, video_embeddings_path):\n",
    "        self.video_embeddings = np.load(video_embeddings_path)\n",
    "        # with open(video_embeddings_path, \"rb\") as f:\n",
    "        #     self.video_embeddings = pickle.load(f)\n",
    "\n",
    "    def lmao(self, video_name):\n",
    "        video_name = video_name.split(\".\")[0]\n",
    "        video_name = VID_ID_MAPPING[video_name]\n",
    "        video_embedding = self.video_embeddings[video_name]\n",
    "        # video_embedding = video_embedding.reshape((16,-1))\n",
    "        # video_embedding = np.mean(video_embedding, axis=0)\n",
    "        return torch.from_numpy(video_embedding)\n",
    "\n",
    "class YourTextEncoder():\n",
    "    def __init__(self, text_embeddings_path):\n",
    "        with open(text_embeddings_path, \"rb\") as f:\n",
    "            self.text_embeddings = pickle.load(f)\n",
    "\n",
    "    def lmao(self, video_name):\n",
    "        text_embedding = self.text_embeddings[video_name]\n",
    "        return torch.from_numpy(text_embedding)\n"
   ]
  },
  {
   "cell_type": "code",
   "execution_count": 16,
   "metadata": {},
   "outputs": [],
   "source": [
    "class ConversationDataset(Dataset):\n",
    "    def __init__(self, json_file, audio_encoder, video_encoder, text_encoder, max_seq_len):\n",
    "        self.max_seq_len = max_seq_len\n",
    "        self.data = self.load_data(json_file)\n",
    "        self.audio_encoder = audio_encoder\n",
    "        self.video_encoder = video_encoder\n",
    "        self.text_encoder = text_encoder\n",
    "\n",
    "    def load_data(self, json_file):\n",
    "        with open(json_file, 'r') as f:\n",
    "            data = json.load(f)\n",
    "        return data\n",
    "\n",
    "    def __len__(self):\n",
    "        return len(self.data)\n",
    "\n",
    "    def __getitem__(self, idx):\n",
    "        conversation = self.data[idx]['conversation']\n",
    "        emotion_labels = [utterance['emotion'] for utterance in conversation]\n",
    "        audio_paths = [utterance['video_name'].replace('mp4', 'wav') for utterance in conversation]\n",
    "        video_paths = [utterance['video_name'] for utterance in conversation]\n",
    "        texts = [utterance['video_name'] for utterance in conversation]\n",
    "\n",
    "        audio_embeddings = [self.audio_encoder.lmao(audio_path) for audio_path in audio_paths]\n",
    "        video_embeddings = [self.video_encoder.lmao(video_path) for video_path in video_paths]\n",
    "        text_embeddings = [self.text_encoder.lmao(text) for text in texts]\n",
    "\n",
    "        # Pad or truncate conversations to the maximum sequence length\n",
    "        if len(conversation) < self.max_seq_len:\n",
    "            pad_length = self.max_seq_len - len(conversation)\n",
    "            audio_embeddings += [torch.zeros_like(audio_embeddings[0])] * pad_length\n",
    "            video_embeddings += [torch.zeros_like(video_embeddings[0])] * pad_length\n",
    "            text_embeddings += [torch.zeros_like(text_embeddings[0])] * pad_length\n",
    "            emotion_labels += ['pad'] * pad_length\n",
    "            pad_mask = [1] * len(conversation) + [0] * pad_length\n",
    "        else:\n",
    "            audio_embeddings = audio_embeddings[:self.max_seq_len]\n",
    "            video_embeddings = video_embeddings[:self.max_seq_len]\n",
    "            text_embeddings = text_embeddings[:self.max_seq_len]\n",
    "            emotion_labels = emotion_labels[:self.max_seq_len]\n",
    "            pad_mask = [1] * self.max_seq_len\n",
    "\n",
    "        emotion_indices = [indexer.emotion_to_idx(emotion) for emotion in emotion_labels]\n",
    "        \n",
    "        audio_embeddings = torch.stack(audio_embeddings)\n",
    "        video_embeddings = torch.stack(video_embeddings)\n",
    "        text_embeddings = torch.stack(text_embeddings)\n",
    "        emotion_indices = torch.from_numpy(np.array(emotion_indices))\n",
    "        pad_mask = torch.from_numpy(np.array(pad_mask))\n",
    "        \n",
    "        return {\n",
    "            'audio': audio_embeddings,\n",
    "            'video': video_embeddings,\n",
    "            'text': text_embeddings,\n",
    "            'emotion_labels': emotion_indices,\n",
    "            'pad_mask': pad_mask,\n",
    "        }\n",
    "# Example usage\n",
    "# You need to define your audio, video, and text encoders accordingly\n",
    "\n",
    "# Define your data paths\n",
    "DATA_DIR = \"/tmp/semeval24_task3\"\n",
    "\n",
    "AUDIO_EMBEDDINGS_FILEPATH = \"/tmp/semeval24_task3/og_paper_embeddings/audio_embedding_6373.npy\"\n",
    "VIDEO_EMBEDDINGS_FILEPATH = \"/tmp/semeval24_task3/og_paper_embeddings/video_embedding_4096.npy\"\n",
    "TEXT_EMBEDDINGS_FILEPATH = os.path.join(DATA_DIR, \"text_embeddings\", \"text_embeddings_bert_base.pkl\")\n",
    "\n",
    "audio_encoder = YourAudioEncoder(AUDIO_EMBEDDINGS_FILEPATH)\n",
    "video_encoder = YourVideoEncoder(VIDEO_EMBEDDINGS_FILEPATH)\n",
    "text_encoder = YourTextEncoder(TEXT_EMBEDDINGS_FILEPATH)\n",
    "max_seq_len = 40  # Adjust this according to your needs\n",
    "\n",
    "# Create the dataset and dataloader\n",
    "train_dataset = ConversationDataset(TRAIN_FILE_PATH, audio_encoder, video_encoder, text_encoder, max_seq_len)\n",
    "train_dataloader = DataLoader(train_dataset, batch_size=16, shuffle=True)\n",
    "\n",
    "validation_dataset = ConversationDataset(VALIDATION_FILE_PATH, audio_encoder, video_encoder, text_encoder, max_seq_len)\n",
    "validation_dataloader = DataLoader(validation_dataset, batch_size=16, shuffle=True)\n",
    "\n",
    "# Example of iterating through batches\n",
    "# for batch in dataloader:\n",
    "#     audio = batch['audio']  # Shape: (batch_size, max_seq_len, audio_embedding_size)\n",
    "#     video = batch['video']  # Shape: (batch_size, max_seq_len, video_embedding_size)\n",
    "#     text = batch['text']    # Shape: (batch_size, max_seq_len, text_embedding_size)\n",
    "#     emotions = batch['emotion_labels']  # List of emotion labels for each utterance in the batch\n"
   ]
  },
  {
   "cell_type": "code",
   "execution_count": 17,
   "metadata": {},
   "outputs": [],
   "source": [
    "# import torch\n",
    "# import torch.nn as nn\n",
    "# from torch.nn import TransformerEncoder, TransformerEncoderLayer\n",
    "\n",
    "# class EmotionClassifier(nn.Module):\n",
    "#     def __init__(self, input_size, hidden_size, num_layers, num_heads, dropout, num_emotions):\n",
    "#         super(EmotionClassifier, self).__init__()\n",
    "        \n",
    "#         self.first_linear = nn.Linear(input_size, hidden_size, dtype=torch.float32)\n",
    "\n",
    "#         self.transformer_encoder = TransformerEncoder(\n",
    "#             TransformerEncoderLayer(hidden_size, num_heads, hidden_size, dropout),\n",
    "#             num_layers\n",
    "#         )\n",
    "        \n",
    "#         self.linear = nn.Linear(hidden_size, num_emotions)\n",
    "\n",
    "#     def forward(self, audio_encoding, video_encoding, text_encoding):\n",
    "\n",
    "#         # Concatenate or combine the audio, video, and text encodings here\n",
    "#         # You can use any method like concatenation, addition, or other fusion techniques\n",
    "#         # Combine the encodings (you can customize this part)\n",
    "#         audio_encoding = audio_encoding.float()\n",
    "#         video_encoding = video_encoding.float()\n",
    "#         text_encoding = text_encoding.float().squeeze()\n",
    "#         combined_encoding = torch.cat((audio_encoding, video_encoding, text_encoding), dim=2)\n",
    "        \n",
    "#         combined_encoding = self.first_linear(combined_encoding)\n",
    "        \n",
    "        \n",
    "#         combined_encoding = combined_encoding.permute(1, 0, 2)  # Transformer expects (seq_len, batch_size, input_size)\n",
    "        \n",
    "        \n",
    "#         transformer_output = self.transformer_encoder(combined_encoding)\n",
    "\n",
    "#         # Take the output of the Transformer encoder for the last position as the summary\n",
    "#         emotion_logits = self.linear(transformer_output.permute(1, 0, 2))\n",
    "#         # Apply a softmax layer\n",
    "#         emotion_logits = torch.softmax(emotion_logits, dim=2)\n",
    "\n",
    "#         return emotion_logits"
   ]
  },
  {
   "cell_type": "code",
   "execution_count": 18,
   "metadata": {},
   "outputs": [],
   "source": [
    "import torch\n",
    "import torch.nn as nn\n",
    "\n",
    "class EmotionClassifier(nn.Module):\n",
    "    def __init__(self, input_size, hidden_size, num_layers, dropout, num_emotions, embedding_dropout=0.2):\n",
    "        super(EmotionClassifier, self).__init__()\n",
    "        \n",
    "        self.audio_dropout = nn.Dropout(embedding_dropout)\n",
    "        self.video_dropout = nn.Dropout(embedding_dropout)\n",
    "        self.text_dropout = nn.Dropout(embedding_dropout)\n",
    "\n",
    "        self.first_linear = nn.Linear(input_size, hidden_size, dtype=torch.float32)\n",
    "        self.relu = nn.ReLU()\n",
    "        \n",
    "        self.second_linear_layer = nn.Linear(hidden_size, hidden_size, dtype=torch.float32)\n",
    "        # Replace Transformer with BiLSTM\n",
    "        self.bilstm = nn.LSTM(hidden_size, hidden_size // 2, num_layers, \n",
    "                              dropout=dropout, bidirectional=True, batch_first=True)\n",
    "        \n",
    "        self.linear = nn.Linear(hidden_size, num_emotions)\n",
    "\n",
    "    def forward(self, audio_encoding, video_encoding, text_encoding):\n",
    "        # Concatenate or combine the audio, video, and text encodings\n",
    "        audio_encoding = audio_encoding.float()\n",
    "        video_encoding = video_encoding.float()\n",
    "        text_encoding = text_encoding.float().squeeze()\n",
    "        \n",
    "        audio_encoding = self.audio_dropout(audio_encoding)\n",
    "        video_encoding = self.video_dropout(video_encoding)\n",
    "        text_encoding = self.text_dropout(text_encoding)\n",
    "        \n",
    "        combined_encoding = torch.cat((audio_encoding, video_encoding, text_encoding), dim=2)\n",
    "        \n",
    "        combined_encoding = self.first_linear(combined_encoding)\n",
    "        combined_encoding = self.relu(combined_encoding)\n",
    "        combined_encoding = self.second_linear_layer(combined_encoding)\n",
    "        \n",
    "        # Pass through BiLSTM\n",
    "        lstm_output, _ = self.bilstm(combined_encoding)\n",
    "\n",
    "        # Take the output of the BiLSTM\n",
    "        emotion_logits = self.linear(lstm_output)\n",
    "        # Apply a softmax layer\n",
    "        emotion_logits = torch.softmax(emotion_logits, dim=2)\n",
    "\n",
    "        return emotion_logits"
   ]
  },
  {
   "cell_type": "code",
   "execution_count": 19,
   "metadata": {},
   "outputs": [],
   "source": [
    "from typing import Optional, Sequence\n",
    "\n",
    "import torch\n",
    "from torch import Tensor\n",
    "from torch import nn\n",
    "from torch.nn import functional as F\n",
    "\n",
    "\n",
    "class FocalLoss(nn.Module):\n",
    "    \"\"\" Focal Loss, as described in https://arxiv.org/abs/1708.02002.\n",
    "\n",
    "    It is essentially an enhancement to cross entropy loss and is\n",
    "    useful for classification tasks when there is a large class imbalance.\n",
    "    x is expected to contain raw, unnormalized scores for each class.\n",
    "    y is expected to contain class labels.\n",
    "\n",
    "    Shape:\n",
    "        - x: (batch_size, C) or (batch_size, C, d1, d2, ..., dK), K > 0.\n",
    "        - y: (batch_size,) or (batch_size, d1, d2, ..., dK), K > 0.\n",
    "    \"\"\"\n",
    "\n",
    "    def __init__(self,\n",
    "                 alpha: Optional[Tensor] = None,\n",
    "                 gamma: float = 0.,\n",
    "                 reduction: str = 'mean',\n",
    "                 ignore_index: int = -100):\n",
    "        \"\"\"Constructor.\n",
    "\n",
    "        Args:\n",
    "            alpha (Tensor, optional): Weights for each class. Defaults to None.\n",
    "            gamma (float, optional): A constant, as described in the paper.\n",
    "                Defaults to 0.\n",
    "            reduction (str, optional): 'mean', 'sum' or 'none'.\n",
    "                Defaults to 'mean'.\n",
    "            ignore_index (int, optional): class label to ignore.\n",
    "                Defaults to -100.\n",
    "        \"\"\"\n",
    "        if reduction not in ('mean', 'sum', 'none'):\n",
    "            raise ValueError(\n",
    "                'Reduction must be one of: \"mean\", \"sum\", \"none\".')\n",
    "\n",
    "        super().__init__()\n",
    "        self.alpha = alpha\n",
    "        self.gamma = gamma\n",
    "        self.ignore_index = ignore_index\n",
    "        self.reduction = reduction\n",
    "\n",
    "        self.nll_loss = nn.NLLLoss(\n",
    "            weight=alpha, reduction='none', ignore_index=ignore_index)\n",
    "\n",
    "    def __repr__(self):\n",
    "        arg_keys = ['alpha', 'gamma', 'ignore_index', 'reduction']\n",
    "        arg_vals = [self.__dict__[k] for k in arg_keys]\n",
    "        arg_strs = [f'{k}={v!r}' for k, v in zip(arg_keys, arg_vals)]\n",
    "        arg_str = ', '.join(arg_strs)\n",
    "        return f'{type(self).__name__}({arg_str})'\n",
    "\n",
    "    def forward(self, x: Tensor, y: Tensor) -> Tensor:\n",
    "        if x.ndim > 2:\n",
    "            # (N, C, d1, d2, ..., dK) --> (N * d1 * ... * dK, C)\n",
    "            c = x.shape[1]\n",
    "            x = x.permute(0, *range(2, x.ndim), 1).reshape(-1, c)\n",
    "            # (N, d1, d2, ..., dK) --> (N * d1 * ... * dK,)\n",
    "            y = y.view(-1)\n",
    "\n",
    "        unignored_mask = y != self.ignore_index\n",
    "        y = y[unignored_mask]\n",
    "        if len(y) == 0:\n",
    "            return torch.tensor(0.)\n",
    "        x = x[unignored_mask]\n",
    "\n",
    "        # compute weighted cross entropy term: -alpha * log(pt)\n",
    "        # (alpha is already part of self.nll_loss)\n",
    "        log_p = F.log_softmax(x, dim=-1)\n",
    "        ce = self.nll_loss(log_p, y)\n",
    "\n",
    "        # get true class column from each row\n",
    "        all_rows = torch.arange(len(x))\n",
    "        log_pt = log_p[all_rows, y]\n",
    "\n",
    "        # compute focal term: (1 - pt)^gamma\n",
    "        pt = log_pt.exp()\n",
    "        focal_term = (1 - pt)**self.gamma\n",
    "\n",
    "        # the full loss: -alpha * ((1 - pt)^gamma) * log(pt)\n",
    "        loss = focal_term * ce\n",
    "\n",
    "        if self.reduction == 'mean':\n",
    "            loss = loss.mean()\n",
    "        elif self.reduction == 'sum':\n",
    "            loss = loss.sum()\n",
    "\n",
    "        return loss\n",
    "\n",
    "\n",
    "# def focal_loss(alpha: Optional[Sequence] = None,\n",
    "#                gamma: float = 0.,\n",
    "#                reduction: str = 'mean',\n",
    "#                ignore_index: int = -100,\n",
    "#                device='cpu',\n",
    "#                dtype=torch.float32) -> FocalLoss:\n",
    "#     \"\"\"Factory function for FocalLoss.\n",
    "\n",
    "#     Args:\n",
    "#         alpha (Sequence, optional): Weights for each class. Will be converted\n",
    "#             to a Tensor if not None. Defaults to None.\n",
    "#         gamma (float, optional): A constant, as described in the paper.\n",
    "#             Defaults to 0.\n",
    "#         reduction (str, optional): 'mean', 'sum' or 'none'.\n",
    "#             Defaults to 'mean'.\n",
    "#         ignore_index (int, optional): class label to ignore.\n",
    "#             Defaults to -100.\n",
    "#         device (str, optional): Device to move alpha to. Defaults to 'cpu'.\n",
    "#         dtype (torch.dtype, optional): dtype to cast alpha to.\n",
    "#             Defaults to torch.float32.\n",
    "\n",
    "#     Returns:\n",
    "#         A FocalLoss object\n",
    "#     \"\"\"\n",
    "#     if alpha is not None:\n",
    "#         if not isinstance(alpha, Tensor):\n",
    "#             alpha = torch.tensor(alpha)\n",
    "#         alpha = alpha.to(device=device, dtype=dtype)\n",
    "\n",
    "#     fl = FocalLoss(\n",
    "#         alpha=alpha,\n",
    "#         gamma=gamma,\n",
    "#         reduction=reduction,\n",
    "#         ignore_index=ignore_index)\n",
    "#     return fl"
   ]
  },
  {
   "cell_type": "code",
   "execution_count": 20,
   "metadata": {},
   "outputs": [],
   "source": [
    "# # Define Focal Loss\n",
    "# import torch.nn.functional as F\n",
    "\n",
    "# class FocalLoss(nn.Module):\n",
    "#     def __init__(self, gamma=2.0, reduction='mean'):\n",
    "#         super(FocalLoss, self).__init__()\n",
    "#         self.gamma = gamma\n",
    "#         self.reduction = reduction\n",
    "\n",
    "#     def forward(self, input, target):\n",
    "#         # Calculate Cross-Entropy Loss, but do not reduce (keep the same shape as input)\n",
    "#         ce_loss = F.cross_entropy(input, target, reduction='none') \n",
    "#         pt = torch.exp(-ce_loss)  # Calculate p_t\n",
    "#         focal_loss = ((1 - pt) ** self.gamma * ce_loss).mean()  # Calculate Focal Loss\n",
    "\n",
    "#         if self.reduction == 'mean':\n",
    "#             return focal_loss.mean()\n",
    "#         elif self.reduction == 'sum':\n",
    "#             return focal_loss.sum()\n",
    "#         else:\n",
    "#             return focal_loss\n",
    "\n",
    "# # Replace the loss function with Focal Loss"
   ]
  },
  {
   "cell_type": "code",
   "execution_count": 21,
   "metadata": {
    "tags": []
   },
   "outputs": [
    {
     "name": "stdout",
     "output_type": "stream",
     "text": [
      "[2059, 1024, 1472, 5282, 1647, 369, 326]\n"
     ]
    }
   ],
   "source": [
    "print(indexer.emotion_freq)"
   ]
  },
  {
   "cell_type": "code",
   "execution_count": 22,
   "metadata": {
    "tags": []
   },
   "outputs": [
    {
     "name": "stdout",
     "output_type": "stream",
     "text": [
      "{'joy': 0, 'sadness': 1, 'anger': 2, 'neutral': 3, 'surprise': 4, 'disgust': 5, 'fear': 6, 'pad': 7}\n"
     ]
    }
   ],
   "source": [
    "print(indexer.emotion_to_index)\n",
    "# 1 1 1 0.25 1 3 3"
   ]
  },
  {
   "cell_type": "code",
   "execution_count": 26,
   "metadata": {
    "collapsed": true,
    "jupyter": {
     "outputs_hidden": true
    },
    "tags": []
   },
   "outputs": [
    {
     "name": "stderr",
     "output_type": "stream",
     "text": [
      "100%|██████████| 78/78 [00:07<00:00, 10.69it/s]\n",
      "100%|██████████| 9/9 [00:00<00:00, 20.49it/s]\n",
      "/home2/suyash.mathur/anaconda3/envs/mindeye/lib/python3.10/site-packages/sklearn/metrics/_classification.py:1471: UndefinedMetricWarning: Precision and F-score are ill-defined and being set to 0.0 in labels with no predicted samples. Use `zero_division` parameter to control this behavior.\n",
      "  _warn_prf(average, modifier, msg_start, len(result))\n",
      "/home2/suyash.mathur/anaconda3/envs/mindeye/lib/python3.10/site-packages/sklearn/metrics/_classification.py:1471: UndefinedMetricWarning: Precision and F-score are ill-defined and being set to 0.0 in labels with no predicted samples. Use `zero_division` parameter to control this behavior.\n",
      "  _warn_prf(average, modifier, msg_start, len(result))\n",
      "/home2/suyash.mathur/anaconda3/envs/mindeye/lib/python3.10/site-packages/sklearn/metrics/_classification.py:1471: UndefinedMetricWarning: Precision and F-score are ill-defined and being set to 0.0 in labels with no predicted samples. Use `zero_division` parameter to control this behavior.\n",
      "  _warn_prf(average, modifier, msg_start, len(result))\n"
     ]
    },
    {
     "name": "stdout",
     "output_type": "stream",
     "text": [
      "Epoch [1/100] Training Loss: 0.012474661096973327\n",
      "Epoch [1/100] Validation Loss: 0.012160217761993409\n",
      "              precision    recall  f1-score   support\n",
      "\n",
      "           0       0.13      0.01      0.02       242\n",
      "           1       0.00      0.00      0.00       123\n",
      "           2       0.00      0.00      0.00       143\n",
      "           3       0.45      0.67      0.54       647\n",
      "           4       0.00      0.00      0.00       193\n",
      "           5       0.00      0.00      0.00        45\n",
      "           6       0.04      0.43      0.08        47\n",
      "\n",
      "    accuracy                           0.32      1440\n",
      "   macro avg       0.09      0.16      0.09      1440\n",
      "weighted avg       0.23      0.32      0.25      1440\n",
      "\n",
      "Epoch [1/100] Accuracy: 0.1434\n"
     ]
    },
    {
     "name": "stderr",
     "output_type": "stream",
     "text": [
      "100%|██████████| 78/78 [00:07<00:00, 10.57it/s]\n",
      "100%|██████████| 9/9 [00:00<00:00, 21.89it/s]\n",
      "/home2/suyash.mathur/anaconda3/envs/mindeye/lib/python3.10/site-packages/sklearn/metrics/_classification.py:1471: UndefinedMetricWarning: Precision and F-score are ill-defined and being set to 0.0 in labels with no predicted samples. Use `zero_division` parameter to control this behavior.\n",
      "  _warn_prf(average, modifier, msg_start, len(result))\n",
      "/home2/suyash.mathur/anaconda3/envs/mindeye/lib/python3.10/site-packages/sklearn/metrics/_classification.py:1471: UndefinedMetricWarning: Precision and F-score are ill-defined and being set to 0.0 in labels with no predicted samples. Use `zero_division` parameter to control this behavior.\n",
      "  _warn_prf(average, modifier, msg_start, len(result))\n",
      "/home2/suyash.mathur/anaconda3/envs/mindeye/lib/python3.10/site-packages/sklearn/metrics/_classification.py:1471: UndefinedMetricWarning: Precision and F-score are ill-defined and being set to 0.0 in labels with no predicted samples. Use `zero_division` parameter to control this behavior.\n",
      "  _warn_prf(average, modifier, msg_start, len(result))\n"
     ]
    },
    {
     "name": "stdout",
     "output_type": "stream",
     "text": [
      "Epoch [2/100] Training Loss: 0.01247099064696118\n",
      "Epoch [2/100] Validation Loss: 0.012173629469341703\n",
      "              precision    recall  f1-score   support\n",
      "\n",
      "           0       0.00      0.00      0.00       242\n",
      "           1       0.00      0.00      0.00       123\n",
      "           2       0.00      0.00      0.00       143\n",
      "           3       0.45      0.83      0.58       647\n",
      "           4       0.00      0.00      0.00       193\n",
      "           5       0.04      0.22      0.07        45\n",
      "           6       0.00      0.00      0.00        47\n",
      "\n",
      "    accuracy                           0.38      1440\n",
      "   macro avg       0.07      0.15      0.09      1440\n",
      "weighted avg       0.20      0.38      0.26      1440\n",
      "\n",
      "Epoch [2/100] Accuracy: 0.2203\n"
     ]
    },
    {
     "name": "stderr",
     "output_type": "stream",
     "text": [
      "100%|██████████| 78/78 [00:07<00:00, 10.89it/s]\n",
      "100%|██████████| 9/9 [00:00<00:00, 19.73it/s]\n",
      "/home2/suyash.mathur/anaconda3/envs/mindeye/lib/python3.10/site-packages/sklearn/metrics/_classification.py:1471: UndefinedMetricWarning: Precision and F-score are ill-defined and being set to 0.0 in labels with no predicted samples. Use `zero_division` parameter to control this behavior.\n",
      "  _warn_prf(average, modifier, msg_start, len(result))\n",
      "/home2/suyash.mathur/anaconda3/envs/mindeye/lib/python3.10/site-packages/sklearn/metrics/_classification.py:1471: UndefinedMetricWarning: Precision and F-score are ill-defined and being set to 0.0 in labels with no predicted samples. Use `zero_division` parameter to control this behavior.\n",
      "  _warn_prf(average, modifier, msg_start, len(result))\n",
      "/home2/suyash.mathur/anaconda3/envs/mindeye/lib/python3.10/site-packages/sklearn/metrics/_classification.py:1471: UndefinedMetricWarning: Precision and F-score are ill-defined and being set to 0.0 in labels with no predicted samples. Use `zero_division` parameter to control this behavior.\n",
      "  _warn_prf(average, modifier, msg_start, len(result))\n"
     ]
    },
    {
     "name": "stdout",
     "output_type": "stream",
     "text": [
      "Epoch [3/100] Training Loss: 0.012467453364071485\n",
      "Epoch [3/100] Validation Loss: 0.012149175918764538\n",
      "              precision    recall  f1-score   support\n",
      "\n",
      "           0       0.00      0.00      0.00       242\n",
      "           1       0.00      0.00      0.00       123\n",
      "           2       0.00      0.00      0.00       143\n",
      "           3       0.45      0.41      0.43       647\n",
      "           4       0.00      0.00      0.00       193\n",
      "           5       0.00      0.00      0.00        45\n",
      "           6       0.04      0.66      0.07        47\n",
      "\n",
      "    accuracy                           0.21      1440\n",
      "   macro avg       0.07      0.15      0.07      1440\n",
      "weighted avg       0.20      0.21      0.20      1440\n",
      "\n",
      "Epoch [3/100] Accuracy: 0.1989\n"
     ]
    },
    {
     "name": "stderr",
     "output_type": "stream",
     "text": [
      "100%|██████████| 78/78 [00:07<00:00, 10.54it/s]\n",
      "100%|██████████| 9/9 [00:00<00:00, 22.38it/s]\n",
      "/home2/suyash.mathur/anaconda3/envs/mindeye/lib/python3.10/site-packages/sklearn/metrics/_classification.py:1471: UndefinedMetricWarning: Precision and F-score are ill-defined and being set to 0.0 in labels with no predicted samples. Use `zero_division` parameter to control this behavior.\n",
      "  _warn_prf(average, modifier, msg_start, len(result))\n",
      "/home2/suyash.mathur/anaconda3/envs/mindeye/lib/python3.10/site-packages/sklearn/metrics/_classification.py:1471: UndefinedMetricWarning: Precision and F-score are ill-defined and being set to 0.0 in labels with no predicted samples. Use `zero_division` parameter to control this behavior.\n",
      "  _warn_prf(average, modifier, msg_start, len(result))\n",
      "/home2/suyash.mathur/anaconda3/envs/mindeye/lib/python3.10/site-packages/sklearn/metrics/_classification.py:1471: UndefinedMetricWarning: Precision and F-score are ill-defined and being set to 0.0 in labels with no predicted samples. Use `zero_division` parameter to control this behavior.\n",
      "  _warn_prf(average, modifier, msg_start, len(result))\n"
     ]
    },
    {
     "name": "stdout",
     "output_type": "stream",
     "text": [
      "Epoch [4/100] Training Loss: 0.012462820998161372\n",
      "Epoch [4/100] Validation Loss: 0.012173944049411349\n",
      "              precision    recall  f1-score   support\n",
      "\n",
      "           0       0.15      0.68      0.25       242\n",
      "           1       0.00      0.00      0.00       123\n",
      "           2       0.00      0.00      0.00       143\n",
      "           3       0.00      0.00      0.00       647\n",
      "           4       0.13      0.05      0.07       193\n",
      "           5       0.04      0.27      0.07        45\n",
      "           6       0.00      0.00      0.00        47\n",
      "\n",
      "    accuracy                           0.13      1440\n",
      "   macro avg       0.05      0.14      0.06      1440\n",
      "weighted avg       0.04      0.13      0.05      1440\n",
      "\n",
      "Epoch [4/100] Accuracy: 0.1748\n"
     ]
    },
    {
     "name": "stderr",
     "output_type": "stream",
     "text": [
      "100%|██████████| 78/78 [00:07<00:00, 10.96it/s]\n",
      "100%|██████████| 9/9 [00:00<00:00, 22.64it/s]\n",
      "/home2/suyash.mathur/anaconda3/envs/mindeye/lib/python3.10/site-packages/sklearn/metrics/_classification.py:1471: UndefinedMetricWarning: Precision and F-score are ill-defined and being set to 0.0 in labels with no predicted samples. Use `zero_division` parameter to control this behavior.\n",
      "  _warn_prf(average, modifier, msg_start, len(result))\n",
      "/home2/suyash.mathur/anaconda3/envs/mindeye/lib/python3.10/site-packages/sklearn/metrics/_classification.py:1471: UndefinedMetricWarning: Precision and F-score are ill-defined and being set to 0.0 in labels with no predicted samples. Use `zero_division` parameter to control this behavior.\n",
      "  _warn_prf(average, modifier, msg_start, len(result))\n",
      "/home2/suyash.mathur/anaconda3/envs/mindeye/lib/python3.10/site-packages/sklearn/metrics/_classification.py:1471: UndefinedMetricWarning: Precision and F-score are ill-defined and being set to 0.0 in labels with no predicted samples. Use `zero_division` parameter to control this behavior.\n",
      "  _warn_prf(average, modifier, msg_start, len(result))\n"
     ]
    },
    {
     "name": "stdout",
     "output_type": "stream",
     "text": [
      "Epoch [5/100] Training Loss: 0.012458211350435107\n",
      "Epoch [5/100] Validation Loss: 0.012188101725445852\n",
      "              precision    recall  f1-score   support\n",
      "\n",
      "           0       0.00      0.00      0.00       242\n",
      "           1       0.09      0.67      0.15       123\n",
      "           2       0.08      0.13      0.10       143\n",
      "           3       0.45      0.09      0.15       647\n",
      "           4       0.00      0.00      0.00       193\n",
      "           5       0.04      0.11      0.05        45\n",
      "           6       0.00      0.00      0.00        47\n",
      "\n",
      "    accuracy                           0.11      1440\n",
      "   macro avg       0.09      0.14      0.07      1440\n",
      "weighted avg       0.22      0.11      0.09      1440\n",
      "\n",
      "Epoch [5/100] Accuracy: 0.1971\n"
     ]
    },
    {
     "name": "stderr",
     "output_type": "stream",
     "text": [
      "100%|██████████| 78/78 [00:07<00:00, 10.49it/s]\n",
      "100%|██████████| 9/9 [00:00<00:00, 21.31it/s]\n",
      "/home2/suyash.mathur/anaconda3/envs/mindeye/lib/python3.10/site-packages/sklearn/metrics/_classification.py:1471: UndefinedMetricWarning: Precision and F-score are ill-defined and being set to 0.0 in labels with no predicted samples. Use `zero_division` parameter to control this behavior.\n",
      "  _warn_prf(average, modifier, msg_start, len(result))\n",
      "/home2/suyash.mathur/anaconda3/envs/mindeye/lib/python3.10/site-packages/sklearn/metrics/_classification.py:1471: UndefinedMetricWarning: Precision and F-score are ill-defined and being set to 0.0 in labels with no predicted samples. Use `zero_division` parameter to control this behavior.\n",
      "  _warn_prf(average, modifier, msg_start, len(result))\n",
      "/home2/suyash.mathur/anaconda3/envs/mindeye/lib/python3.10/site-packages/sklearn/metrics/_classification.py:1471: UndefinedMetricWarning: Precision and F-score are ill-defined and being set to 0.0 in labels with no predicted samples. Use `zero_division` parameter to control this behavior.\n",
      "  _warn_prf(average, modifier, msg_start, len(result))\n"
     ]
    },
    {
     "name": "stdout",
     "output_type": "stream",
     "text": [
      "Epoch [6/100] Training Loss: 0.012456278102485424\n",
      "Epoch [6/100] Validation Loss: 0.012198401242494583\n",
      "              precision    recall  f1-score   support\n",
      "\n",
      "           0       0.17      0.18      0.18       242\n",
      "           1       0.00      0.00      0.00       123\n",
      "           2       0.00      0.00      0.00       143\n",
      "           3       0.00      0.00      0.00       647\n",
      "           4       0.13      0.80      0.23       193\n",
      "           5       0.00      0.00      0.00        45\n",
      "           6       0.00      0.00      0.00        47\n",
      "\n",
      "    accuracy                           0.14      1440\n",
      "   macro avg       0.04      0.14      0.06      1440\n",
      "weighted avg       0.05      0.14      0.06      1440\n",
      "\n",
      "Epoch [6/100] Accuracy: 0.1995\n"
     ]
    },
    {
     "name": "stderr",
     "output_type": "stream",
     "text": [
      "100%|██████████| 78/78 [00:07<00:00, 10.78it/s]\n",
      "100%|██████████| 9/9 [00:00<00:00, 22.11it/s]\n",
      "/home2/suyash.mathur/anaconda3/envs/mindeye/lib/python3.10/site-packages/sklearn/metrics/_classification.py:1471: UndefinedMetricWarning: Precision and F-score are ill-defined and being set to 0.0 in labels with no predicted samples. Use `zero_division` parameter to control this behavior.\n",
      "  _warn_prf(average, modifier, msg_start, len(result))\n",
      "/home2/suyash.mathur/anaconda3/envs/mindeye/lib/python3.10/site-packages/sklearn/metrics/_classification.py:1471: UndefinedMetricWarning: Precision and F-score are ill-defined and being set to 0.0 in labels with no predicted samples. Use `zero_division` parameter to control this behavior.\n",
      "  _warn_prf(average, modifier, msg_start, len(result))\n",
      "/home2/suyash.mathur/anaconda3/envs/mindeye/lib/python3.10/site-packages/sklearn/metrics/_classification.py:1471: UndefinedMetricWarning: Precision and F-score are ill-defined and being set to 0.0 in labels with no predicted samples. Use `zero_division` parameter to control this behavior.\n",
      "  _warn_prf(average, modifier, msg_start, len(result))\n"
     ]
    },
    {
     "name": "stdout",
     "output_type": "stream",
     "text": [
      "Epoch [7/100] Training Loss: 0.012463782463806663\n",
      "Epoch [7/100] Validation Loss: 0.01216865446832445\n",
      "              precision    recall  f1-score   support\n",
      "\n",
      "           0       0.29      0.03      0.06       242\n",
      "           1       0.00      0.00      0.00       123\n",
      "           2       0.09      0.10      0.10       143\n",
      "           3       0.45      0.77      0.57       647\n",
      "           4       0.00      0.00      0.00       193\n",
      "           5       0.04      0.11      0.06        45\n",
      "           6       0.00      0.00      0.00        47\n",
      "\n",
      "    accuracy                           0.37      1440\n",
      "   macro avg       0.12      0.15      0.11      1440\n",
      "weighted avg       0.26      0.37      0.28      1440\n",
      "\n",
      "Epoch [7/100] Accuracy: 0.1723\n"
     ]
    },
    {
     "name": "stderr",
     "output_type": "stream",
     "text": [
      "100%|██████████| 78/78 [00:07<00:00, 10.83it/s]\n",
      "100%|██████████| 9/9 [00:00<00:00, 22.20it/s]\n",
      "/home2/suyash.mathur/anaconda3/envs/mindeye/lib/python3.10/site-packages/sklearn/metrics/_classification.py:1471: UndefinedMetricWarning: Precision and F-score are ill-defined and being set to 0.0 in labels with no predicted samples. Use `zero_division` parameter to control this behavior.\n",
      "  _warn_prf(average, modifier, msg_start, len(result))\n",
      "/home2/suyash.mathur/anaconda3/envs/mindeye/lib/python3.10/site-packages/sklearn/metrics/_classification.py:1471: UndefinedMetricWarning: Precision and F-score are ill-defined and being set to 0.0 in labels with no predicted samples. Use `zero_division` parameter to control this behavior.\n",
      "  _warn_prf(average, modifier, msg_start, len(result))\n",
      "/home2/suyash.mathur/anaconda3/envs/mindeye/lib/python3.10/site-packages/sklearn/metrics/_classification.py:1471: UndefinedMetricWarning: Precision and F-score are ill-defined and being set to 0.0 in labels with no predicted samples. Use `zero_division` parameter to control this behavior.\n",
      "  _warn_prf(average, modifier, msg_start, len(result))\n"
     ]
    },
    {
     "name": "stdout",
     "output_type": "stream",
     "text": [
      "Epoch [8/100] Training Loss: 0.01245662895698776\n",
      "Epoch [8/100] Validation Loss: 0.012173499829239315\n",
      "              precision    recall  f1-score   support\n",
      "\n",
      "           0       0.16      0.09      0.12       242\n",
      "           1       0.09      0.36      0.15       123\n",
      "           2       0.08      0.29      0.12       143\n",
      "           3       0.00      0.00      0.00       647\n",
      "           4       0.15      0.22      0.18       193\n",
      "           5       0.00      0.00      0.00        45\n",
      "           6       0.00      0.00      0.00        47\n",
      "\n",
      "    accuracy                           0.10      1440\n",
      "   macro avg       0.07      0.14      0.08      1440\n",
      "weighted avg       0.06      0.10      0.07      1440\n",
      "\n",
      "Epoch [8/100] Accuracy: 0.2032\n"
     ]
    },
    {
     "name": "stderr",
     "output_type": "stream",
     "text": [
      "100%|██████████| 78/78 [00:07<00:00, 10.44it/s]\n",
      "100%|██████████| 9/9 [00:00<00:00, 21.42it/s]\n",
      "/home2/suyash.mathur/anaconda3/envs/mindeye/lib/python3.10/site-packages/sklearn/metrics/_classification.py:1471: UndefinedMetricWarning: Precision and F-score are ill-defined and being set to 0.0 in labels with no predicted samples. Use `zero_division` parameter to control this behavior.\n",
      "  _warn_prf(average, modifier, msg_start, len(result))\n",
      "/home2/suyash.mathur/anaconda3/envs/mindeye/lib/python3.10/site-packages/sklearn/metrics/_classification.py:1471: UndefinedMetricWarning: Precision and F-score are ill-defined and being set to 0.0 in labels with no predicted samples. Use `zero_division` parameter to control this behavior.\n",
      "  _warn_prf(average, modifier, msg_start, len(result))\n",
      "/home2/suyash.mathur/anaconda3/envs/mindeye/lib/python3.10/site-packages/sklearn/metrics/_classification.py:1471: UndefinedMetricWarning: Precision and F-score are ill-defined and being set to 0.0 in labels with no predicted samples. Use `zero_division` parameter to control this behavior.\n",
      "  _warn_prf(average, modifier, msg_start, len(result))\n"
     ]
    },
    {
     "name": "stdout",
     "output_type": "stream",
     "text": [
      "Epoch [9/100] Training Loss: 0.012455972782231794\n",
      "Epoch [9/100] Validation Loss: 0.012152238852447934\n",
      "              precision    recall  f1-score   support\n",
      "\n",
      "           0       0.17      0.24      0.20       242\n",
      "           1       0.00      0.00      0.00       123\n",
      "           2       0.17      0.01      0.03       143\n",
      "           3       0.55      0.06      0.10       647\n",
      "           4       0.15      0.40      0.21       193\n",
      "           5       0.04      0.40      0.08        45\n",
      "           6       0.05      0.06      0.05        47\n",
      "\n",
      "    accuracy                           0.13      1440\n",
      "   macro avg       0.16      0.17      0.10      1440\n",
      "weighted avg       0.32      0.13      0.11      1440\n",
      "\n",
      "Epoch [9/100] Accuracy: 0.1838\n"
     ]
    },
    {
     "name": "stderr",
     "output_type": "stream",
     "text": [
      "100%|██████████| 78/78 [00:07<00:00, 10.80it/s]\n",
      "100%|██████████| 9/9 [00:00<00:00, 22.61it/s]\n",
      "/home2/suyash.mathur/anaconda3/envs/mindeye/lib/python3.10/site-packages/sklearn/metrics/_classification.py:1471: UndefinedMetricWarning: Precision and F-score are ill-defined and being set to 0.0 in labels with no predicted samples. Use `zero_division` parameter to control this behavior.\n",
      "  _warn_prf(average, modifier, msg_start, len(result))\n",
      "/home2/suyash.mathur/anaconda3/envs/mindeye/lib/python3.10/site-packages/sklearn/metrics/_classification.py:1471: UndefinedMetricWarning: Precision and F-score are ill-defined and being set to 0.0 in labels with no predicted samples. Use `zero_division` parameter to control this behavior.\n",
      "  _warn_prf(average, modifier, msg_start, len(result))\n",
      "/home2/suyash.mathur/anaconda3/envs/mindeye/lib/python3.10/site-packages/sklearn/metrics/_classification.py:1471: UndefinedMetricWarning: Precision and F-score are ill-defined and being set to 0.0 in labels with no predicted samples. Use `zero_division` parameter to control this behavior.\n",
      "  _warn_prf(average, modifier, msg_start, len(result))\n"
     ]
    },
    {
     "name": "stdout",
     "output_type": "stream",
     "text": [
      "Epoch [10/100] Training Loss: 0.0124546800676517\n",
      "Epoch [10/100] Validation Loss: 0.012153070585595237\n",
      "              precision    recall  f1-score   support\n",
      "\n",
      "           0       0.12      0.02      0.04       242\n",
      "           1       0.08      0.20      0.11       123\n",
      "           2       0.00      0.00      0.00       143\n",
      "           3       0.45      0.31      0.37       647\n",
      "           4       0.00      0.00      0.00       193\n",
      "           5       0.03      0.47      0.06        45\n",
      "           6       0.00      0.00      0.00        47\n",
      "\n",
      "    accuracy                           0.18      1440\n",
      "   macro avg       0.10      0.14      0.08      1440\n",
      "weighted avg       0.23      0.18      0.18      1440\n",
      "\n",
      "Epoch [10/100] Accuracy: 0.1337\n"
     ]
    },
    {
     "name": "stderr",
     "output_type": "stream",
     "text": [
      "100%|██████████| 78/78 [00:07<00:00, 10.71it/s]\n",
      "100%|██████████| 9/9 [00:00<00:00, 22.25it/s]\n",
      "/home2/suyash.mathur/anaconda3/envs/mindeye/lib/python3.10/site-packages/sklearn/metrics/_classification.py:1471: UndefinedMetricWarning: Precision and F-score are ill-defined and being set to 0.0 in labels with no predicted samples. Use `zero_division` parameter to control this behavior.\n",
      "  _warn_prf(average, modifier, msg_start, len(result))\n",
      "/home2/suyash.mathur/anaconda3/envs/mindeye/lib/python3.10/site-packages/sklearn/metrics/_classification.py:1471: UndefinedMetricWarning: Precision and F-score are ill-defined and being set to 0.0 in labels with no predicted samples. Use `zero_division` parameter to control this behavior.\n",
      "  _warn_prf(average, modifier, msg_start, len(result))\n",
      "/home2/suyash.mathur/anaconda3/envs/mindeye/lib/python3.10/site-packages/sklearn/metrics/_classification.py:1471: UndefinedMetricWarning: Precision and F-score are ill-defined and being set to 0.0 in labels with no predicted samples. Use `zero_division` parameter to control this behavior.\n",
      "  _warn_prf(average, modifier, msg_start, len(result))\n"
     ]
    },
    {
     "name": "stdout",
     "output_type": "stream",
     "text": [
      "Epoch [11/100] Training Loss: 0.012450015263972842\n",
      "Epoch [11/100] Validation Loss: 0.012146226151121988\n",
      "              precision    recall  f1-score   support\n",
      "\n",
      "           0       0.17      0.11      0.13       242\n",
      "           1       0.00      0.00      0.00       123\n",
      "           2       0.00      0.00      0.00       143\n",
      "           3       0.00      0.00      0.00       647\n",
      "           4       0.14      0.68      0.24       193\n",
      "           5       0.04      0.36      0.08        45\n",
      "           6       0.00      0.00      0.00        47\n",
      "\n",
      "    accuracy                           0.12      1440\n",
      "   macro avg       0.05      0.16      0.06      1440\n",
      "weighted avg       0.05      0.12      0.06      1440\n",
      "\n",
      "Epoch [11/100] Accuracy: 0.2121\n"
     ]
    },
    {
     "name": "stderr",
     "output_type": "stream",
     "text": [
      "100%|██████████| 78/78 [00:07<00:00, 10.99it/s]\n",
      "100%|██████████| 9/9 [00:00<00:00, 21.19it/s]\n",
      "/home2/suyash.mathur/anaconda3/envs/mindeye/lib/python3.10/site-packages/sklearn/metrics/_classification.py:1471: UndefinedMetricWarning: Precision and F-score are ill-defined and being set to 0.0 in labels with no predicted samples. Use `zero_division` parameter to control this behavior.\n",
      "  _warn_prf(average, modifier, msg_start, len(result))\n",
      "/home2/suyash.mathur/anaconda3/envs/mindeye/lib/python3.10/site-packages/sklearn/metrics/_classification.py:1471: UndefinedMetricWarning: Precision and F-score are ill-defined and being set to 0.0 in labels with no predicted samples. Use `zero_division` parameter to control this behavior.\n",
      "  _warn_prf(average, modifier, msg_start, len(result))\n",
      "/home2/suyash.mathur/anaconda3/envs/mindeye/lib/python3.10/site-packages/sklearn/metrics/_classification.py:1471: UndefinedMetricWarning: Precision and F-score are ill-defined and being set to 0.0 in labels with no predicted samples. Use `zero_division` parameter to control this behavior.\n",
      "  _warn_prf(average, modifier, msg_start, len(result))\n"
     ]
    },
    {
     "name": "stdout",
     "output_type": "stream",
     "text": [
      "Epoch [12/100] Training Loss: 0.012456459593465542\n",
      "Epoch [12/100] Validation Loss: 0.012164634631739722\n",
      "              precision    recall  f1-score   support\n",
      "\n",
      "           0       0.18      0.20      0.19       242\n",
      "           1       0.13      0.05      0.07       123\n",
      "           2       0.09      0.61      0.16       143\n",
      "           3       0.47      0.11      0.18       647\n",
      "           4       0.00      0.00      0.00       193\n",
      "           5       0.00      0.00      0.00        45\n",
      "           6       0.11      0.04      0.06        47\n",
      "\n",
      "    accuracy                           0.15      1440\n",
      "   macro avg       0.14      0.15      0.09      1440\n",
      "weighted avg       0.27      0.15      0.14      1440\n",
      "\n",
      "Epoch [12/100] Accuracy: 0.1215\n"
     ]
    },
    {
     "name": "stderr",
     "output_type": "stream",
     "text": [
      "100%|██████████| 78/78 [00:07<00:00, 10.79it/s]\n",
      "100%|██████████| 9/9 [00:00<00:00, 23.06it/s]\n",
      "/home2/suyash.mathur/anaconda3/envs/mindeye/lib/python3.10/site-packages/sklearn/metrics/_classification.py:1471: UndefinedMetricWarning: Precision and F-score are ill-defined and being set to 0.0 in labels with no predicted samples. Use `zero_division` parameter to control this behavior.\n",
      "  _warn_prf(average, modifier, msg_start, len(result))\n",
      "/home2/suyash.mathur/anaconda3/envs/mindeye/lib/python3.10/site-packages/sklearn/metrics/_classification.py:1471: UndefinedMetricWarning: Precision and F-score are ill-defined and being set to 0.0 in labels with no predicted samples. Use `zero_division` parameter to control this behavior.\n",
      "  _warn_prf(average, modifier, msg_start, len(result))\n",
      "/home2/suyash.mathur/anaconda3/envs/mindeye/lib/python3.10/site-packages/sklearn/metrics/_classification.py:1471: UndefinedMetricWarning: Precision and F-score are ill-defined and being set to 0.0 in labels with no predicted samples. Use `zero_division` parameter to control this behavior.\n",
      "  _warn_prf(average, modifier, msg_start, len(result))\n"
     ]
    },
    {
     "name": "stdout",
     "output_type": "stream",
     "text": [
      "Epoch [13/100] Training Loss: 0.012448219979315401\n",
      "Epoch [13/100] Validation Loss: 0.01215900323457188\n",
      "              precision    recall  f1-score   support\n",
      "\n",
      "           0       0.16      0.26      0.20       242\n",
      "           1       0.10      0.30      0.15       123\n",
      "           2       0.09      0.22      0.12       143\n",
      "           3       0.38      0.05      0.09       647\n",
      "           4       0.00      0.00      0.00       193\n",
      "           5       0.04      0.22      0.07        45\n",
      "           6       0.00      0.00      0.00        47\n",
      "\n",
      "    accuracy                           0.12      1440\n",
      "   macro avg       0.11      0.15      0.09      1440\n",
      "weighted avg       0.22      0.12      0.10      1440\n",
      "\n",
      "Epoch [13/100] Accuracy: 0.1756\n"
     ]
    },
    {
     "name": "stderr",
     "output_type": "stream",
     "text": [
      "100%|██████████| 78/78 [00:07<00:00, 10.90it/s]\n",
      "100%|██████████| 9/9 [00:00<00:00, 23.21it/s]\n",
      "/home2/suyash.mathur/anaconda3/envs/mindeye/lib/python3.10/site-packages/sklearn/metrics/_classification.py:1471: UndefinedMetricWarning: Precision and F-score are ill-defined and being set to 0.0 in labels with no predicted samples. Use `zero_division` parameter to control this behavior.\n",
      "  _warn_prf(average, modifier, msg_start, len(result))\n",
      "/home2/suyash.mathur/anaconda3/envs/mindeye/lib/python3.10/site-packages/sklearn/metrics/_classification.py:1471: UndefinedMetricWarning: Precision and F-score are ill-defined and being set to 0.0 in labels with no predicted samples. Use `zero_division` parameter to control this behavior.\n",
      "  _warn_prf(average, modifier, msg_start, len(result))\n",
      "/home2/suyash.mathur/anaconda3/envs/mindeye/lib/python3.10/site-packages/sklearn/metrics/_classification.py:1471: UndefinedMetricWarning: Precision and F-score are ill-defined and being set to 0.0 in labels with no predicted samples. Use `zero_division` parameter to control this behavior.\n",
      "  _warn_prf(average, modifier, msg_start, len(result))\n"
     ]
    },
    {
     "name": "stdout",
     "output_type": "stream",
     "text": [
      "Epoch [14/100] Training Loss: 0.012446540869636013\n",
      "Epoch [14/100] Validation Loss: 0.012158544444375568\n",
      "              precision    recall  f1-score   support\n",
      "\n",
      "           0       0.18      0.20      0.19       242\n",
      "           1       0.00      0.00      0.00       123\n",
      "           2       0.09      0.41      0.15       143\n",
      "           3       0.00      0.00      0.00       647\n",
      "           4       0.12      0.24      0.16       193\n",
      "           5       0.04      0.11      0.06        45\n",
      "           6       0.00      0.00      0.00        47\n",
      "\n",
      "    accuracy                           0.11      1440\n",
      "   macro avg       0.06      0.14      0.08      1440\n",
      "weighted avg       0.06      0.11      0.07      1440\n",
      "\n",
      "Epoch [14/100] Accuracy: 0.1284\n"
     ]
    },
    {
     "name": "stderr",
     "output_type": "stream",
     "text": [
      "100%|██████████| 78/78 [00:07<00:00, 10.85it/s]\n",
      "100%|██████████| 9/9 [00:00<00:00, 22.46it/s]\n",
      "/home2/suyash.mathur/anaconda3/envs/mindeye/lib/python3.10/site-packages/sklearn/metrics/_classification.py:1471: UndefinedMetricWarning: Precision and F-score are ill-defined and being set to 0.0 in labels with no predicted samples. Use `zero_division` parameter to control this behavior.\n",
      "  _warn_prf(average, modifier, msg_start, len(result))\n",
      "/home2/suyash.mathur/anaconda3/envs/mindeye/lib/python3.10/site-packages/sklearn/metrics/_classification.py:1471: UndefinedMetricWarning: Precision and F-score are ill-defined and being set to 0.0 in labels with no predicted samples. Use `zero_division` parameter to control this behavior.\n",
      "  _warn_prf(average, modifier, msg_start, len(result))\n",
      "/home2/suyash.mathur/anaconda3/envs/mindeye/lib/python3.10/site-packages/sklearn/metrics/_classification.py:1471: UndefinedMetricWarning: Precision and F-score are ill-defined and being set to 0.0 in labels with no predicted samples. Use `zero_division` parameter to control this behavior.\n",
      "  _warn_prf(average, modifier, msg_start, len(result))\n"
     ]
    },
    {
     "name": "stdout",
     "output_type": "stream",
     "text": [
      "Epoch [15/100] Training Loss: 0.012452985512347964\n",
      "Epoch [15/100] Validation Loss: 0.012174260119597118\n",
      "              precision    recall  f1-score   support\n",
      "\n",
      "           0       0.16      0.33      0.22       242\n",
      "           1       0.08      0.17      0.11       123\n",
      "           2       0.08      0.27      0.12       143\n",
      "           3       0.00      0.00      0.00       647\n",
      "           4       0.12      0.11      0.11       193\n",
      "           5       0.00      0.00      0.00        45\n",
      "           6       0.00      0.00      0.00        47\n",
      "\n",
      "    accuracy                           0.11      1440\n",
      "   macro avg       0.06      0.13      0.08      1440\n",
      "weighted avg       0.06      0.11      0.07      1440\n",
      "\n",
      "Epoch [15/100] Accuracy: 0.1324\n"
     ]
    },
    {
     "name": "stderr",
     "output_type": "stream",
     "text": [
      "100%|██████████| 78/78 [00:07<00:00, 10.74it/s]\n",
      "100%|██████████| 9/9 [00:00<00:00, 21.42it/s]\n",
      "/home2/suyash.mathur/anaconda3/envs/mindeye/lib/python3.10/site-packages/sklearn/metrics/_classification.py:1471: UndefinedMetricWarning: Precision and F-score are ill-defined and being set to 0.0 in labels with no predicted samples. Use `zero_division` parameter to control this behavior.\n",
      "  _warn_prf(average, modifier, msg_start, len(result))\n",
      "/home2/suyash.mathur/anaconda3/envs/mindeye/lib/python3.10/site-packages/sklearn/metrics/_classification.py:1471: UndefinedMetricWarning: Precision and F-score are ill-defined and being set to 0.0 in labels with no predicted samples. Use `zero_division` parameter to control this behavior.\n",
      "  _warn_prf(average, modifier, msg_start, len(result))\n",
      "/home2/suyash.mathur/anaconda3/envs/mindeye/lib/python3.10/site-packages/sklearn/metrics/_classification.py:1471: UndefinedMetricWarning: Precision and F-score are ill-defined and being set to 0.0 in labels with no predicted samples. Use `zero_division` parameter to control this behavior.\n",
      "  _warn_prf(average, modifier, msg_start, len(result))\n"
     ]
    },
    {
     "name": "stdout",
     "output_type": "stream",
     "text": [
      "Epoch [16/100] Training Loss: 0.012455962827732453\n",
      "Epoch [16/100] Validation Loss: 0.012159382137987349\n",
      "              precision    recall  f1-score   support\n",
      "\n",
      "           0       0.16      0.24      0.19       242\n",
      "           1       0.00      0.00      0.00       123\n",
      "           2       0.09      0.26      0.13       143\n",
      "           3       0.00      0.00      0.00       647\n",
      "           4       0.14      0.38      0.20       193\n",
      "           5       0.05      0.11      0.06        45\n",
      "           6       0.00      0.00      0.00        47\n",
      "\n",
      "    accuracy                           0.12      1440\n",
      "   macro avg       0.06      0.14      0.08      1440\n",
      "weighted avg       0.06      0.12      0.07      1440\n",
      "\n",
      "Epoch [16/100] Accuracy: 0.1688\n"
     ]
    },
    {
     "name": "stderr",
     "output_type": "stream",
     "text": [
      "100%|██████████| 78/78 [00:07<00:00, 10.94it/s]\n",
      "100%|██████████| 9/9 [00:00<00:00, 22.97it/s]\n",
      "/home2/suyash.mathur/anaconda3/envs/mindeye/lib/python3.10/site-packages/sklearn/metrics/_classification.py:1471: UndefinedMetricWarning: Precision and F-score are ill-defined and being set to 0.0 in labels with no predicted samples. Use `zero_division` parameter to control this behavior.\n",
      "  _warn_prf(average, modifier, msg_start, len(result))\n",
      "/home2/suyash.mathur/anaconda3/envs/mindeye/lib/python3.10/site-packages/sklearn/metrics/_classification.py:1471: UndefinedMetricWarning: Precision and F-score are ill-defined and being set to 0.0 in labels with no predicted samples. Use `zero_division` parameter to control this behavior.\n",
      "  _warn_prf(average, modifier, msg_start, len(result))\n",
      "/home2/suyash.mathur/anaconda3/envs/mindeye/lib/python3.10/site-packages/sklearn/metrics/_classification.py:1471: UndefinedMetricWarning: Precision and F-score are ill-defined and being set to 0.0 in labels with no predicted samples. Use `zero_division` parameter to control this behavior.\n",
      "  _warn_prf(average, modifier, msg_start, len(result))\n"
     ]
    },
    {
     "name": "stdout",
     "output_type": "stream",
     "text": [
      "Epoch [17/100] Training Loss: 0.012442379947640116\n",
      "Epoch [17/100] Validation Loss: 0.012159827434354358\n",
      "              precision    recall  f1-score   support\n",
      "\n",
      "           0       0.18      0.21      0.19       242\n",
      "           1       0.08      0.11      0.09       123\n",
      "           2       0.10      0.25      0.14       143\n",
      "           3       0.00      0.00      0.00       647\n",
      "           4       0.13      0.20      0.16       193\n",
      "           5       0.04      0.29      0.07        45\n",
      "           6       0.00      0.00      0.00        47\n",
      "\n",
      "    accuracy                           0.10      1440\n",
      "   macro avg       0.08      0.15      0.09      1440\n",
      "weighted avg       0.07      0.10      0.08      1440\n",
      "\n",
      "Epoch [17/100] Accuracy: 0.1474\n"
     ]
    },
    {
     "name": "stderr",
     "output_type": "stream",
     "text": [
      "100%|██████████| 78/78 [00:07<00:00, 10.96it/s]\n",
      "100%|██████████| 9/9 [00:00<00:00, 22.81it/s]\n",
      "/home2/suyash.mathur/anaconda3/envs/mindeye/lib/python3.10/site-packages/sklearn/metrics/_classification.py:1471: UndefinedMetricWarning: Precision and F-score are ill-defined and being set to 0.0 in labels with no predicted samples. Use `zero_division` parameter to control this behavior.\n",
      "  _warn_prf(average, modifier, msg_start, len(result))\n",
      "/home2/suyash.mathur/anaconda3/envs/mindeye/lib/python3.10/site-packages/sklearn/metrics/_classification.py:1471: UndefinedMetricWarning: Precision and F-score are ill-defined and being set to 0.0 in labels with no predicted samples. Use `zero_division` parameter to control this behavior.\n",
      "  _warn_prf(average, modifier, msg_start, len(result))\n",
      "/home2/suyash.mathur/anaconda3/envs/mindeye/lib/python3.10/site-packages/sklearn/metrics/_classification.py:1471: UndefinedMetricWarning: Precision and F-score are ill-defined and being set to 0.0 in labels with no predicted samples. Use `zero_division` parameter to control this behavior.\n",
      "  _warn_prf(average, modifier, msg_start, len(result))\n"
     ]
    },
    {
     "name": "stdout",
     "output_type": "stream",
     "text": [
      "Epoch [18/100] Training Loss: 0.012442088409033557\n",
      "Epoch [18/100] Validation Loss: 0.012146578398015764\n",
      "              precision    recall  f1-score   support\n",
      "\n",
      "           0       0.18      0.20      0.19       242\n",
      "           1       0.09      0.28      0.13       123\n",
      "           2       0.09      0.05      0.06       143\n",
      "           3       0.00      0.00      0.00       647\n",
      "           4       0.13      0.29      0.18       193\n",
      "           5       0.04      0.27      0.08        45\n",
      "           6       0.00      0.00      0.00        47\n",
      "\n",
      "    accuracy                           0.11      1440\n",
      "   macro avg       0.08      0.15      0.09      1440\n",
      "weighted avg       0.07      0.11      0.08      1440\n",
      "\n",
      "Epoch [18/100] Accuracy: 0.1666\n"
     ]
    },
    {
     "name": "stderr",
     "output_type": "stream",
     "text": [
      "100%|██████████| 78/78 [00:07<00:00, 10.56it/s]\n",
      "100%|██████████| 9/9 [00:00<00:00, 21.95it/s]\n",
      "/home2/suyash.mathur/anaconda3/envs/mindeye/lib/python3.10/site-packages/sklearn/metrics/_classification.py:1471: UndefinedMetricWarning: Precision and F-score are ill-defined and being set to 0.0 in labels with no predicted samples. Use `zero_division` parameter to control this behavior.\n",
      "  _warn_prf(average, modifier, msg_start, len(result))\n",
      "/home2/suyash.mathur/anaconda3/envs/mindeye/lib/python3.10/site-packages/sklearn/metrics/_classification.py:1471: UndefinedMetricWarning: Precision and F-score are ill-defined and being set to 0.0 in labels with no predicted samples. Use `zero_division` parameter to control this behavior.\n",
      "  _warn_prf(average, modifier, msg_start, len(result))\n",
      "/home2/suyash.mathur/anaconda3/envs/mindeye/lib/python3.10/site-packages/sklearn/metrics/_classification.py:1471: UndefinedMetricWarning: Precision and F-score are ill-defined and being set to 0.0 in labels with no predicted samples. Use `zero_division` parameter to control this behavior.\n",
      "  _warn_prf(average, modifier, msg_start, len(result))\n"
     ]
    },
    {
     "name": "stdout",
     "output_type": "stream",
     "text": [
      "Epoch [19/100] Training Loss: 0.012447594470681791\n",
      "Epoch [19/100] Validation Loss: 0.012164161602656046\n",
      "              precision    recall  f1-score   support\n",
      "\n",
      "           0       0.20      0.17      0.18       242\n",
      "           1       0.08      0.20      0.12       123\n",
      "           2       0.07      0.05      0.06       143\n",
      "           3       0.45      0.40      0.42       647\n",
      "           4       0.09      0.02      0.03       193\n",
      "           5       0.05      0.27      0.09        45\n",
      "           6       0.00      0.00      0.00        47\n",
      "\n",
      "    accuracy                           0.24      1440\n",
      "   macro avg       0.13      0.16      0.13      1440\n",
      "weighted avg       0.26      0.24      0.24      1440\n",
      "\n",
      "Epoch [19/100] Accuracy: 0.1116\n"
     ]
    },
    {
     "name": "stderr",
     "output_type": "stream",
     "text": [
      "100%|██████████| 78/78 [00:07<00:00, 11.04it/s]\n",
      "100%|██████████| 9/9 [00:00<00:00, 23.64it/s]\n",
      "/home2/suyash.mathur/anaconda3/envs/mindeye/lib/python3.10/site-packages/sklearn/metrics/_classification.py:1471: UndefinedMetricWarning: Precision and F-score are ill-defined and being set to 0.0 in labels with no predicted samples. Use `zero_division` parameter to control this behavior.\n",
      "  _warn_prf(average, modifier, msg_start, len(result))\n",
      "/home2/suyash.mathur/anaconda3/envs/mindeye/lib/python3.10/site-packages/sklearn/metrics/_classification.py:1471: UndefinedMetricWarning: Precision and F-score are ill-defined and being set to 0.0 in labels with no predicted samples. Use `zero_division` parameter to control this behavior.\n",
      "  _warn_prf(average, modifier, msg_start, len(result))\n",
      "/home2/suyash.mathur/anaconda3/envs/mindeye/lib/python3.10/site-packages/sklearn/metrics/_classification.py:1471: UndefinedMetricWarning: Precision and F-score are ill-defined and being set to 0.0 in labels with no predicted samples. Use `zero_division` parameter to control this behavior.\n",
      "  _warn_prf(average, modifier, msg_start, len(result))\n"
     ]
    },
    {
     "name": "stdout",
     "output_type": "stream",
     "text": [
      "Epoch [20/100] Training Loss: 0.012442359911396111\n",
      "Epoch [20/100] Validation Loss: 0.012159985966152614\n",
      "              precision    recall  f1-score   support\n",
      "\n",
      "           0       0.16      0.26      0.20       242\n",
      "           1       0.10      0.19      0.13       123\n",
      "           2       0.10      0.24      0.14       143\n",
      "           3       0.00      0.00      0.00       647\n",
      "           4       0.13      0.15      0.14       193\n",
      "           5       0.05      0.22      0.08        45\n",
      "           6       0.00      0.00      0.00        47\n",
      "\n",
      "    accuracy                           0.11      1440\n",
      "   macro avg       0.08      0.15      0.10      1440\n",
      "weighted avg       0.06      0.11      0.08      1440\n",
      "\n",
      "Epoch [20/100] Accuracy: 0.1375\n"
     ]
    },
    {
     "name": "stderr",
     "output_type": "stream",
     "text": [
      "100%|██████████| 78/78 [00:07<00:00, 10.98it/s]\n",
      "100%|██████████| 9/9 [00:00<00:00, 21.61it/s]\n",
      "/home2/suyash.mathur/anaconda3/envs/mindeye/lib/python3.10/site-packages/sklearn/metrics/_classification.py:1471: UndefinedMetricWarning: Precision and F-score are ill-defined and being set to 0.0 in labels with no predicted samples. Use `zero_division` parameter to control this behavior.\n",
      "  _warn_prf(average, modifier, msg_start, len(result))\n",
      "/home2/suyash.mathur/anaconda3/envs/mindeye/lib/python3.10/site-packages/sklearn/metrics/_classification.py:1471: UndefinedMetricWarning: Precision and F-score are ill-defined and being set to 0.0 in labels with no predicted samples. Use `zero_division` parameter to control this behavior.\n",
      "  _warn_prf(average, modifier, msg_start, len(result))\n",
      "/home2/suyash.mathur/anaconda3/envs/mindeye/lib/python3.10/site-packages/sklearn/metrics/_classification.py:1471: UndefinedMetricWarning: Precision and F-score are ill-defined and being set to 0.0 in labels with no predicted samples. Use `zero_division` parameter to control this behavior.\n",
      "  _warn_prf(average, modifier, msg_start, len(result))\n"
     ]
    },
    {
     "name": "stdout",
     "output_type": "stream",
     "text": [
      "Epoch [21/100] Training Loss: 0.012445809845267008\n",
      "Epoch [21/100] Validation Loss: 0.01216865587565634\n",
      "              precision    recall  f1-score   support\n",
      "\n",
      "           0       0.16      0.26      0.20       242\n",
      "           1       0.10      0.03      0.05       123\n",
      "           2       0.09      0.43      0.15       143\n",
      "           3       0.00      0.00      0.00       647\n",
      "           4       0.13      0.12      0.13       193\n",
      "           5       0.04      0.13      0.06        45\n",
      "           6       0.00      0.00      0.00        47\n",
      "\n",
      "    accuracy                           0.11      1440\n",
      "   macro avg       0.07      0.14      0.08      1440\n",
      "weighted avg       0.06      0.11      0.07      1440\n",
      "\n",
      "Epoch [21/100] Accuracy: 0.1466\n"
     ]
    },
    {
     "name": "stderr",
     "output_type": "stream",
     "text": [
      "100%|██████████| 78/78 [00:07<00:00, 10.54it/s]\n",
      "100%|██████████| 9/9 [00:00<00:00, 22.04it/s]\n"
     ]
    },
    {
     "name": "stdout",
     "output_type": "stream",
     "text": [
      "Epoch [22/100] Training Loss: 0.012437467612659552\n",
      "Epoch [22/100] Validation Loss: 0.012148368606964747\n",
      "              precision    recall  f1-score   support\n",
      "\n",
      "           0       0.18      0.21      0.19       242\n",
      "           1       0.10      0.37      0.15       123\n",
      "           2       0.06      0.08      0.07       143\n",
      "           3       0.52      0.07      0.12       647\n",
      "           4       0.13      0.13      0.13       193\n",
      "           5       0.05      0.22      0.08        45\n",
      "           6       0.05      0.04      0.05        47\n",
      "\n",
      "    accuracy                           0.13      1440\n",
      "   macro avg       0.16      0.16      0.11      1440\n",
      "weighted avg       0.30      0.13      0.13      1440\n",
      "\n",
      "Epoch [22/100] Accuracy: 0.1322\n"
     ]
    },
    {
     "name": "stderr",
     "output_type": "stream",
     "text": [
      "100%|██████████| 78/78 [00:07<00:00, 10.95it/s]\n",
      "100%|██████████| 9/9 [00:00<00:00, 22.54it/s]\n",
      "/home2/suyash.mathur/anaconda3/envs/mindeye/lib/python3.10/site-packages/sklearn/metrics/_classification.py:1471: UndefinedMetricWarning: Precision and F-score are ill-defined and being set to 0.0 in labels with no predicted samples. Use `zero_division` parameter to control this behavior.\n",
      "  _warn_prf(average, modifier, msg_start, len(result))\n",
      "/home2/suyash.mathur/anaconda3/envs/mindeye/lib/python3.10/site-packages/sklearn/metrics/_classification.py:1471: UndefinedMetricWarning: Precision and F-score are ill-defined and being set to 0.0 in labels with no predicted samples. Use `zero_division` parameter to control this behavior.\n",
      "  _warn_prf(average, modifier, msg_start, len(result))\n",
      "/home2/suyash.mathur/anaconda3/envs/mindeye/lib/python3.10/site-packages/sklearn/metrics/_classification.py:1471: UndefinedMetricWarning: Precision and F-score are ill-defined and being set to 0.0 in labels with no predicted samples. Use `zero_division` parameter to control this behavior.\n",
      "  _warn_prf(average, modifier, msg_start, len(result))\n"
     ]
    },
    {
     "name": "stdout",
     "output_type": "stream",
     "text": [
      "Epoch [23/100] Training Loss: 0.01243463981052721\n",
      "Epoch [23/100] Validation Loss: 0.012154595885011886\n",
      "              precision    recall  f1-score   support\n",
      "\n",
      "           0       0.16      0.26      0.20       242\n",
      "           1       0.10      0.21      0.14       123\n",
      "           2       0.11      0.25      0.15       143\n",
      "           3       0.00      0.00      0.00       647\n",
      "           4       0.17      0.03      0.05       193\n",
      "           5       0.04      0.40      0.08        45\n",
      "           6       0.00      0.00      0.00        47\n",
      "\n",
      "    accuracy                           0.10      1440\n",
      "   macro avg       0.08      0.17      0.09      1440\n",
      "weighted avg       0.07      0.10      0.07      1440\n",
      "\n",
      "Epoch [23/100] Accuracy: 0.1209\n"
     ]
    },
    {
     "name": "stderr",
     "output_type": "stream",
     "text": [
      "100%|██████████| 78/78 [00:07<00:00, 10.84it/s]\n",
      "100%|██████████| 9/9 [00:00<00:00, 22.90it/s]\n",
      "/home2/suyash.mathur/anaconda3/envs/mindeye/lib/python3.10/site-packages/sklearn/metrics/_classification.py:1471: UndefinedMetricWarning: Precision and F-score are ill-defined and being set to 0.0 in labels with no predicted samples. Use `zero_division` parameter to control this behavior.\n",
      "  _warn_prf(average, modifier, msg_start, len(result))\n",
      "/home2/suyash.mathur/anaconda3/envs/mindeye/lib/python3.10/site-packages/sklearn/metrics/_classification.py:1471: UndefinedMetricWarning: Precision and F-score are ill-defined and being set to 0.0 in labels with no predicted samples. Use `zero_division` parameter to control this behavior.\n",
      "  _warn_prf(average, modifier, msg_start, len(result))\n",
      "/home2/suyash.mathur/anaconda3/envs/mindeye/lib/python3.10/site-packages/sklearn/metrics/_classification.py:1471: UndefinedMetricWarning: Precision and F-score are ill-defined and being set to 0.0 in labels with no predicted samples. Use `zero_division` parameter to control this behavior.\n",
      "  _warn_prf(average, modifier, msg_start, len(result))\n"
     ]
    },
    {
     "name": "stdout",
     "output_type": "stream",
     "text": [
      "Epoch [24/100] Training Loss: 0.01243675807317359\n",
      "Epoch [24/100] Validation Loss: 0.01214769325322575\n",
      "              precision    recall  f1-score   support\n",
      "\n",
      "           0       0.18      0.21      0.19       242\n",
      "           1       0.08      0.20      0.12       123\n",
      "           2       0.08      0.15      0.10       143\n",
      "           3       0.00      0.00      0.00       647\n",
      "           4       0.14      0.28      0.19       193\n",
      "           5       0.03      0.07      0.04        45\n",
      "           6       0.05      0.13      0.07        47\n",
      "\n",
      "    accuracy                           0.11      1440\n",
      "   macro avg       0.08      0.15      0.10      1440\n",
      "weighted avg       0.07      0.11      0.08      1440\n",
      "\n",
      "Epoch [24/100] Accuracy: 0.1197\n"
     ]
    },
    {
     "name": "stderr",
     "output_type": "stream",
     "text": [
      "100%|██████████| 78/78 [00:07<00:00, 11.07it/s]\n",
      "100%|██████████| 9/9 [00:00<00:00, 23.14it/s]\n",
      "/home2/suyash.mathur/anaconda3/envs/mindeye/lib/python3.10/site-packages/sklearn/metrics/_classification.py:1471: UndefinedMetricWarning: Precision and F-score are ill-defined and being set to 0.0 in labels with no predicted samples. Use `zero_division` parameter to control this behavior.\n",
      "  _warn_prf(average, modifier, msg_start, len(result))\n",
      "/home2/suyash.mathur/anaconda3/envs/mindeye/lib/python3.10/site-packages/sklearn/metrics/_classification.py:1471: UndefinedMetricWarning: Precision and F-score are ill-defined and being set to 0.0 in labels with no predicted samples. Use `zero_division` parameter to control this behavior.\n",
      "  _warn_prf(average, modifier, msg_start, len(result))\n",
      "/home2/suyash.mathur/anaconda3/envs/mindeye/lib/python3.10/site-packages/sklearn/metrics/_classification.py:1471: UndefinedMetricWarning: Precision and F-score are ill-defined and being set to 0.0 in labels with no predicted samples. Use `zero_division` parameter to control this behavior.\n",
      "  _warn_prf(average, modifier, msg_start, len(result))\n"
     ]
    },
    {
     "name": "stdout",
     "output_type": "stream",
     "text": [
      "Epoch [25/100] Training Loss: 0.012440625792585655\n",
      "Epoch [25/100] Validation Loss: 0.012157120555639268\n",
      "              precision    recall  f1-score   support\n",
      "\n",
      "           0       0.16      0.25      0.19       242\n",
      "           1       0.12      0.16      0.14       123\n",
      "           2       0.09      0.30      0.14       143\n",
      "           3       0.00      0.00      0.00       647\n",
      "           4       0.14      0.11      0.12       193\n",
      "           5       0.05      0.20      0.08        45\n",
      "           6       0.06      0.13      0.08        47\n",
      "\n",
      "    accuracy                           0.11      1440\n",
      "   macro avg       0.09      0.16      0.11      1440\n",
      "weighted avg       0.07      0.11      0.08      1440\n",
      "\n",
      "Epoch [25/100] Accuracy: 0.1526\n"
     ]
    },
    {
     "name": "stderr",
     "output_type": "stream",
     "text": [
      "100%|██████████| 78/78 [00:07<00:00, 10.96it/s]\n",
      "100%|██████████| 9/9 [00:00<00:00, 22.51it/s]\n"
     ]
    },
    {
     "name": "stdout",
     "output_type": "stream",
     "text": [
      "Epoch [26/100] Training Loss: 0.012435829397668704\n",
      "Epoch [26/100] Validation Loss: 0.012142855591244167\n",
      "              precision    recall  f1-score   support\n",
      "\n",
      "           0       0.34      0.10      0.15       242\n",
      "           1       0.09      0.50      0.15       123\n",
      "           2       0.08      0.13      0.10       143\n",
      "           3       0.48      0.15      0.23       647\n",
      "           4       0.12      0.02      0.03       193\n",
      "           5       0.03      0.09      0.05        45\n",
      "           6       0.07      0.19      0.10        47\n",
      "\n",
      "    accuracy                           0.15      1440\n",
      "   macro avg       0.17      0.17      0.12      1440\n",
      "weighted avg       0.31      0.15      0.16      1440\n",
      "\n",
      "Epoch [26/100] Accuracy: 0.1358\n"
     ]
    },
    {
     "name": "stderr",
     "output_type": "stream",
     "text": [
      "100%|██████████| 78/78 [00:07<00:00, 10.94it/s]\n",
      "100%|██████████| 9/9 [00:00<00:00, 23.15it/s]\n",
      "/home2/suyash.mathur/anaconda3/envs/mindeye/lib/python3.10/site-packages/sklearn/metrics/_classification.py:1471: UndefinedMetricWarning: Precision and F-score are ill-defined and being set to 0.0 in labels with no predicted samples. Use `zero_division` parameter to control this behavior.\n",
      "  _warn_prf(average, modifier, msg_start, len(result))\n",
      "/home2/suyash.mathur/anaconda3/envs/mindeye/lib/python3.10/site-packages/sklearn/metrics/_classification.py:1471: UndefinedMetricWarning: Precision and F-score are ill-defined and being set to 0.0 in labels with no predicted samples. Use `zero_division` parameter to control this behavior.\n",
      "  _warn_prf(average, modifier, msg_start, len(result))\n",
      "/home2/suyash.mathur/anaconda3/envs/mindeye/lib/python3.10/site-packages/sklearn/metrics/_classification.py:1471: UndefinedMetricWarning: Precision and F-score are ill-defined and being set to 0.0 in labels with no predicted samples. Use `zero_division` parameter to control this behavior.\n",
      "  _warn_prf(average, modifier, msg_start, len(result))\n"
     ]
    },
    {
     "name": "stdout",
     "output_type": "stream",
     "text": [
      "Epoch [27/100] Training Loss: 0.012441216670915757\n",
      "Epoch [27/100] Validation Loss: 0.012151135918166902\n",
      "              precision    recall  f1-score   support\n",
      "\n",
      "           0       0.18      0.20      0.19       242\n",
      "           1       0.09      0.25      0.13       123\n",
      "           2       0.09      0.15      0.11       143\n",
      "           3       0.00      0.00      0.00       647\n",
      "           4       0.14      0.17      0.15       193\n",
      "           5       0.04      0.11      0.05        45\n",
      "           6       0.06      0.26      0.10        47\n",
      "\n",
      "    accuracy                           0.10      1440\n",
      "   macro avg       0.08      0.16      0.11      1440\n",
      "weighted avg       0.07      0.10      0.08      1440\n",
      "\n",
      "Epoch [27/100] Accuracy: 0.1512\n"
     ]
    },
    {
     "name": "stderr",
     "output_type": "stream",
     "text": [
      "100%|██████████| 78/78 [00:07<00:00, 11.05it/s]\n",
      "100%|██████████| 9/9 [00:00<00:00, 22.79it/s]\n",
      "/home2/suyash.mathur/anaconda3/envs/mindeye/lib/python3.10/site-packages/sklearn/metrics/_classification.py:1471: UndefinedMetricWarning: Precision and F-score are ill-defined and being set to 0.0 in labels with no predicted samples. Use `zero_division` parameter to control this behavior.\n",
      "  _warn_prf(average, modifier, msg_start, len(result))\n",
      "/home2/suyash.mathur/anaconda3/envs/mindeye/lib/python3.10/site-packages/sklearn/metrics/_classification.py:1471: UndefinedMetricWarning: Precision and F-score are ill-defined and being set to 0.0 in labels with no predicted samples. Use `zero_division` parameter to control this behavior.\n",
      "  _warn_prf(average, modifier, msg_start, len(result))\n",
      "/home2/suyash.mathur/anaconda3/envs/mindeye/lib/python3.10/site-packages/sklearn/metrics/_classification.py:1471: UndefinedMetricWarning: Precision and F-score are ill-defined and being set to 0.0 in labels with no predicted samples. Use `zero_division` parameter to control this behavior.\n",
      "  _warn_prf(average, modifier, msg_start, len(result))\n"
     ]
    },
    {
     "name": "stdout",
     "output_type": "stream",
     "text": [
      "Epoch [28/100] Training Loss: 0.012435910374633354\n",
      "Epoch [28/100] Validation Loss: 0.012138913323481878\n",
      "              precision    recall  f1-score   support\n",
      "\n",
      "           0       0.18      0.20      0.19       242\n",
      "           1       0.10      0.40      0.16       123\n",
      "           2       0.10      0.05      0.07       143\n",
      "           3       0.00      0.00      0.00       647\n",
      "           4       0.14      0.14      0.14       193\n",
      "           5       0.03      0.02      0.02        45\n",
      "           6       0.04      0.36      0.08        47\n",
      "\n",
      "    accuracy                           0.10      1440\n",
      "   macro avg       0.09      0.17      0.09      1440\n",
      "weighted avg       0.07      0.10      0.07      1440\n",
      "\n",
      "Epoch [28/100] Accuracy: 0.1231\n"
     ]
    },
    {
     "name": "stderr",
     "output_type": "stream",
     "text": [
      "100%|██████████| 78/78 [00:07<00:00, 10.96it/s]\n",
      "100%|██████████| 9/9 [00:00<00:00, 22.63it/s]\n",
      "/home2/suyash.mathur/anaconda3/envs/mindeye/lib/python3.10/site-packages/sklearn/metrics/_classification.py:1471: UndefinedMetricWarning: Precision and F-score are ill-defined and being set to 0.0 in labels with no predicted samples. Use `zero_division` parameter to control this behavior.\n",
      "  _warn_prf(average, modifier, msg_start, len(result))\n",
      "/home2/suyash.mathur/anaconda3/envs/mindeye/lib/python3.10/site-packages/sklearn/metrics/_classification.py:1471: UndefinedMetricWarning: Precision and F-score are ill-defined and being set to 0.0 in labels with no predicted samples. Use `zero_division` parameter to control this behavior.\n",
      "  _warn_prf(average, modifier, msg_start, len(result))\n",
      "/home2/suyash.mathur/anaconda3/envs/mindeye/lib/python3.10/site-packages/sklearn/metrics/_classification.py:1471: UndefinedMetricWarning: Precision and F-score are ill-defined and being set to 0.0 in labels with no predicted samples. Use `zero_division` parameter to control this behavior.\n",
      "  _warn_prf(average, modifier, msg_start, len(result))\n"
     ]
    },
    {
     "name": "stdout",
     "output_type": "stream",
     "text": [
      "Epoch [29/100] Training Loss: 0.012433725592048408\n",
      "Epoch [29/100] Validation Loss: 0.01215720267759429\n",
      "              precision    recall  f1-score   support\n",
      "\n",
      "           0       0.16      0.24      0.19       242\n",
      "           1       0.08      0.15      0.11       123\n",
      "           2       0.10      0.27      0.14       143\n",
      "           3       0.00      0.00      0.00       647\n",
      "           4       0.12      0.16      0.14       193\n",
      "           5       0.05      0.20      0.08        45\n",
      "           6       0.10      0.04      0.06        47\n",
      "\n",
      "    accuracy                           0.11      1440\n",
      "   macro avg       0.09      0.15      0.10      1440\n",
      "weighted avg       0.07      0.11      0.08      1440\n",
      "\n",
      "Epoch [29/100] Accuracy: 0.1137\n"
     ]
    },
    {
     "name": "stderr",
     "output_type": "stream",
     "text": [
      "100%|██████████| 78/78 [00:07<00:00, 10.65it/s]\n",
      "100%|██████████| 9/9 [00:00<00:00, 21.93it/s]\n"
     ]
    },
    {
     "name": "stdout",
     "output_type": "stream",
     "text": [
      "Epoch [30/100] Training Loss: 0.012430274121445558\n",
      "Epoch [30/100] Validation Loss: 0.012171035839451684\n",
      "              precision    recall  f1-score   support\n",
      "\n",
      "           0       0.18      0.19      0.18       242\n",
      "           1       0.11      0.13      0.12       123\n",
      "           2       0.10      0.47      0.16       143\n",
      "           3       0.47      0.01      0.03       647\n",
      "           4       0.14      0.12      0.13       193\n",
      "           5       0.07      0.11      0.08        45\n",
      "           6       0.09      0.17      0.12        47\n",
      "\n",
      "    accuracy                           0.12      1440\n",
      "   macro avg       0.16      0.17      0.12      1440\n",
      "weighted avg       0.29      0.12      0.09      1440\n",
      "\n",
      "Epoch [30/100] Accuracy: 0.1975\n"
     ]
    },
    {
     "name": "stderr",
     "output_type": "stream",
     "text": [
      "100%|██████████| 78/78 [00:07<00:00, 11.00it/s]\n",
      "100%|██████████| 9/9 [00:00<00:00, 22.98it/s]\n"
     ]
    },
    {
     "name": "stdout",
     "output_type": "stream",
     "text": [
      "Epoch [31/100] Training Loss: 0.012435899088952193\n",
      "Epoch [31/100] Validation Loss: 0.012152548962169224\n",
      "              precision    recall  f1-score   support\n",
      "\n",
      "           0       0.18      0.18      0.18       242\n",
      "           1       0.08      0.12      0.10       123\n",
      "           2       0.10      0.27      0.15       143\n",
      "           3       0.52      0.04      0.07       647\n",
      "           4       0.14      0.24      0.17       193\n",
      "           5       0.03      0.09      0.05        45\n",
      "           6       0.05      0.13      0.07        47\n",
      "\n",
      "    accuracy                           0.12      1440\n",
      "   macro avg       0.16      0.15      0.11      1440\n",
      "weighted avg       0.30      0.12      0.11      1440\n",
      "\n",
      "Epoch [31/100] Accuracy: 0.1254\n"
     ]
    },
    {
     "name": "stderr",
     "output_type": "stream",
     "text": [
      "100%|██████████| 78/78 [00:07<00:00, 11.07it/s]\n",
      "100%|██████████| 9/9 [00:00<00:00, 22.90it/s]\n"
     ]
    },
    {
     "name": "stdout",
     "output_type": "stream",
     "text": [
      "Epoch [32/100] Training Loss: 0.012441235238944519\n",
      "Epoch [32/100] Validation Loss: 0.01216571976741155\n",
      "              precision    recall  f1-score   support\n",
      "\n",
      "           0       0.19      0.17      0.18       242\n",
      "           1       0.12      0.17      0.14       123\n",
      "           2       0.09      0.41      0.15       143\n",
      "           3       0.50      0.11      0.18       647\n",
      "           4       0.12      0.07      0.09       193\n",
      "           5       0.04      0.09      0.05        45\n",
      "           6       0.07      0.06      0.07        47\n",
      "\n",
      "    accuracy                           0.15      1440\n",
      "   macro avg       0.16      0.15      0.12      1440\n",
      "weighted avg       0.30      0.15      0.15      1440\n",
      "\n",
      "Epoch [32/100] Accuracy: 0.1486\n"
     ]
    },
    {
     "name": "stderr",
     "output_type": "stream",
     "text": [
      "100%|██████████| 78/78 [00:07<00:00, 10.98it/s]\n",
      "100%|██████████| 9/9 [00:00<00:00, 22.54it/s]\n"
     ]
    },
    {
     "name": "stdout",
     "output_type": "stream",
     "text": [
      "Epoch [33/100] Training Loss: 0.012432060469566224\n",
      "Epoch [33/100] Validation Loss: 0.012146676662895414\n",
      "              precision    recall  f1-score   support\n",
      "\n",
      "           0       0.16      0.25      0.19       242\n",
      "           1       0.06      0.11      0.08       123\n",
      "           2       0.09      0.08      0.08       143\n",
      "           3       0.62      0.02      0.04       647\n",
      "           4       0.14      0.30      0.19       193\n",
      "           5       0.03      0.13      0.05        45\n",
      "           6       0.05      0.13      0.07        47\n",
      "\n",
      "    accuracy                           0.12      1440\n",
      "   macro avg       0.17      0.15      0.10      1440\n",
      "weighted avg       0.34      0.12      0.10      1440\n",
      "\n",
      "Epoch [33/100] Accuracy: 0.1177\n"
     ]
    },
    {
     "name": "stderr",
     "output_type": "stream",
     "text": [
      "100%|██████████| 78/78 [00:07<00:00, 11.03it/s]\n",
      "100%|██████████| 9/9 [00:00<00:00, 23.06it/s]\n"
     ]
    },
    {
     "name": "stdout",
     "output_type": "stream",
     "text": [
      "Epoch [34/100] Training Loss: 0.012435159480418073\n",
      "Epoch [34/100] Validation Loss: 0.012144792245493995\n",
      "              precision    recall  f1-score   support\n",
      "\n",
      "           0       0.19      0.17      0.18       242\n",
      "           1       0.10      0.28      0.15       123\n",
      "           2       0.10      0.27      0.15       143\n",
      "           3       0.50      0.04      0.07       647\n",
      "           4       0.13      0.09      0.10       193\n",
      "           5       0.04      0.16      0.07        45\n",
      "           6       0.07      0.21      0.11        47\n",
      "\n",
      "    accuracy                           0.12      1440\n",
      "   macro avg       0.16      0.17      0.12      1440\n",
      "weighted avg       0.30      0.12      0.11      1440\n",
      "\n",
      "Epoch [34/100] Accuracy: 0.1355\n"
     ]
    },
    {
     "name": "stderr",
     "output_type": "stream",
     "text": [
      "100%|██████████| 78/78 [00:07<00:00, 11.05it/s]\n",
      "100%|██████████| 9/9 [00:00<00:00, 22.04it/s]\n"
     ]
    },
    {
     "name": "stdout",
     "output_type": "stream",
     "text": [
      "Epoch [35/100] Training Loss: 0.012436989698810172\n",
      "Epoch [35/100] Validation Loss: 0.012150915463765462\n",
      "              precision    recall  f1-score   support\n",
      "\n",
      "           0       0.17      0.21      0.18       242\n",
      "           1       0.11      0.24      0.15       123\n",
      "           2       0.10      0.29      0.14       143\n",
      "           3       0.61      0.03      0.06       647\n",
      "           4       0.10      0.05      0.06       193\n",
      "           5       0.04      0.20      0.07        45\n",
      "           6       0.07      0.19      0.10        47\n",
      "\n",
      "    accuracy                           0.12      1440\n",
      "   macro avg       0.17      0.17      0.11      1440\n",
      "weighted avg       0.34      0.12      0.10      1440\n",
      "\n",
      "Epoch [35/100] Accuracy: 0.1194\n"
     ]
    },
    {
     "name": "stderr",
     "output_type": "stream",
     "text": [
      "100%|██████████| 78/78 [00:07<00:00, 10.91it/s]\n",
      "100%|██████████| 9/9 [00:00<00:00, 21.90it/s]\n"
     ]
    },
    {
     "name": "stdout",
     "output_type": "stream",
     "text": [
      "Epoch [36/100] Training Loss: 0.01243340984746656\n",
      "Epoch [36/100] Validation Loss: 0.012142259958717557\n",
      "              precision    recall  f1-score   support\n",
      "\n",
      "           0       0.16      0.24      0.19       242\n",
      "           1       0.08      0.07      0.08       123\n",
      "           2       0.10      0.26      0.15       143\n",
      "           3       0.40      0.00      0.01       647\n",
      "           4       0.13      0.13      0.13       193\n",
      "           5       0.04      0.22      0.07        45\n",
      "           6       0.06      0.23      0.10        47\n",
      "\n",
      "    accuracy                           0.11      1440\n",
      "   macro avg       0.14      0.17      0.10      1440\n",
      "weighted avg       0.25      0.11      0.08      1440\n",
      "\n",
      "Epoch [36/100] Accuracy: 0.1210\n"
     ]
    },
    {
     "name": "stderr",
     "output_type": "stream",
     "text": [
      "100%|██████████| 78/78 [00:07<00:00, 10.88it/s]\n",
      "100%|██████████| 9/9 [00:00<00:00, 23.08it/s]\n"
     ]
    },
    {
     "name": "stdout",
     "output_type": "stream",
     "text": [
      "Epoch [37/100] Training Loss: 0.012432429197142107\n",
      "Epoch [37/100] Validation Loss: 0.01214073896408081\n",
      "              precision    recall  f1-score   support\n",
      "\n",
      "           0       0.18      0.17      0.18       242\n",
      "           1       0.07      0.20      0.11       123\n",
      "           2       0.10      0.05      0.06       143\n",
      "           3       0.49      0.03      0.05       647\n",
      "           4       0.13      0.17      0.15       193\n",
      "           5       0.06      0.18      0.09        45\n",
      "           6       0.04      0.34      0.08        47\n",
      "\n",
      "    accuracy                           0.10      1440\n",
      "   macro avg       0.15      0.16      0.10      1440\n",
      "weighted avg       0.29      0.10      0.09      1440\n",
      "\n",
      "Epoch [37/100] Accuracy: 0.1477\n"
     ]
    },
    {
     "name": "stderr",
     "output_type": "stream",
     "text": [
      "100%|██████████| 78/78 [00:07<00:00, 10.89it/s]\n",
      "100%|██████████| 9/9 [00:00<00:00, 22.82it/s]\n"
     ]
    },
    {
     "name": "stdout",
     "output_type": "stream",
     "text": [
      "Epoch [38/100] Training Loss: 0.012438847842656173\n",
      "Epoch [38/100] Validation Loss: 0.012144711365302404\n",
      "              precision    recall  f1-score   support\n",
      "\n",
      "           0       0.17      0.19      0.18       242\n",
      "           1       0.09      0.37      0.15       123\n",
      "           2       0.07      0.03      0.05       143\n",
      "           3       0.49      0.04      0.08       647\n",
      "           4       0.09      0.02      0.03       193\n",
      "           5       0.04      0.27      0.08        45\n",
      "           6       0.06      0.28      0.10        47\n",
      "\n",
      "    accuracy                           0.11      1440\n",
      "   macro avg       0.15      0.17      0.09      1440\n",
      "weighted avg       0.28      0.11      0.09      1440\n",
      "\n",
      "Epoch [38/100] Accuracy: 0.1255\n"
     ]
    },
    {
     "name": "stderr",
     "output_type": "stream",
     "text": [
      "100%|██████████| 78/78 [00:07<00:00, 10.97it/s]\n",
      "100%|██████████| 9/9 [00:00<00:00, 22.86it/s]\n"
     ]
    },
    {
     "name": "stdout",
     "output_type": "stream",
     "text": [
      "Epoch [39/100] Training Loss: 0.012440675095253482\n",
      "Epoch [39/100] Validation Loss: 0.012160248806079228\n",
      "              precision    recall  f1-score   support\n",
      "\n",
      "           0       0.21      0.10      0.14       242\n",
      "           1       0.09      0.45      0.15       123\n",
      "           2       0.09      0.22      0.13       143\n",
      "           3       0.47      0.13      0.20       647\n",
      "           4       0.14      0.02      0.03       193\n",
      "           5       0.05      0.18      0.08        45\n",
      "           6       0.08      0.04      0.05        47\n",
      "\n",
      "    accuracy                           0.14      1440\n",
      "   macro avg       0.16      0.16      0.11      1440\n",
      "weighted avg       0.29      0.14      0.15      1440\n",
      "\n",
      "Epoch [39/100] Accuracy: 0.1522\n"
     ]
    },
    {
     "name": "stderr",
     "output_type": "stream",
     "text": [
      "100%|██████████| 78/78 [00:07<00:00, 10.98it/s]\n",
      "100%|██████████| 9/9 [00:00<00:00, 22.67it/s]\n"
     ]
    },
    {
     "name": "stdout",
     "output_type": "stream",
     "text": [
      "Epoch [40/100] Training Loss: 0.012433312357974489\n",
      "Epoch [40/100] Validation Loss: 0.012147204743491279\n",
      "              precision    recall  f1-score   support\n",
      "\n",
      "           0       0.17      0.14      0.16       242\n",
      "           1       0.09      0.28      0.14       123\n",
      "           2       0.10      0.22      0.14       143\n",
      "           3       0.45      0.05      0.09       647\n",
      "           4       0.12      0.04      0.06       193\n",
      "           5       0.05      0.24      0.08        45\n",
      "           6       0.06      0.19      0.09        47\n",
      "\n",
      "    accuracy                           0.11      1440\n",
      "   macro avg       0.15      0.17      0.11      1440\n",
      "weighted avg       0.27      0.11      0.11      1440\n",
      "\n",
      "Epoch [40/100] Accuracy: 0.1269\n"
     ]
    },
    {
     "name": "stderr",
     "output_type": "stream",
     "text": [
      "100%|██████████| 78/78 [00:07<00:00, 11.07it/s]\n",
      "100%|██████████| 9/9 [00:00<00:00, 22.12it/s]\n"
     ]
    },
    {
     "name": "stdout",
     "output_type": "stream",
     "text": [
      "Epoch [41/100] Training Loss: 0.012430832101966136\n",
      "Epoch [41/100] Validation Loss: 0.012148448990450965\n",
      "              precision    recall  f1-score   support\n",
      "\n",
      "           0       0.18      0.15      0.16       242\n",
      "           1       0.10      0.35      0.15       123\n",
      "           2       0.09      0.14      0.11       143\n",
      "           3       0.48      0.05      0.09       647\n",
      "           4       0.15      0.11      0.13       193\n",
      "           5       0.04      0.31      0.07        45\n",
      "           6       0.07      0.04      0.05        47\n",
      "\n",
      "    accuracy                           0.12      1440\n",
      "   macro avg       0.16      0.17      0.11      1440\n",
      "weighted avg       0.29      0.12      0.12      1440\n",
      "\n",
      "Epoch [41/100] Accuracy: 0.1480\n"
     ]
    },
    {
     "name": "stderr",
     "output_type": "stream",
     "text": [
      "100%|██████████| 78/78 [00:07<00:00, 10.56it/s]\n",
      "100%|██████████| 9/9 [00:00<00:00, 21.84it/s]\n"
     ]
    },
    {
     "name": "stdout",
     "output_type": "stream",
     "text": [
      "Epoch [42/100] Training Loss: 0.012428073961752977\n",
      "Epoch [42/100] Validation Loss: 0.012145000861750709\n",
      "              precision    recall  f1-score   support\n",
      "\n",
      "           0       0.18      0.19      0.18       242\n",
      "           1       0.09      0.33      0.14       123\n",
      "           2       0.11      0.24      0.15       143\n",
      "           3       0.60      0.03      0.06       647\n",
      "           4       0.02      0.01      0.01       193\n",
      "           5       0.03      0.07      0.04        45\n",
      "           6       0.06      0.30      0.10        47\n",
      "\n",
      "    accuracy                           0.11      1440\n",
      "   macro avg       0.16      0.17      0.10      1440\n",
      "weighted avg       0.32      0.11      0.09      1440\n",
      "\n",
      "Epoch [42/100] Accuracy: 0.1361\n"
     ]
    },
    {
     "name": "stderr",
     "output_type": "stream",
     "text": [
      "100%|██████████| 78/78 [00:07<00:00, 10.99it/s]\n",
      "100%|██████████| 9/9 [00:00<00:00, 23.19it/s]\n"
     ]
    },
    {
     "name": "stdout",
     "output_type": "stream",
     "text": [
      "Epoch [43/100] Training Loss: 0.012434463008047765\n",
      "Epoch [43/100] Validation Loss: 0.012158681203921636\n",
      "              precision    recall  f1-score   support\n",
      "\n",
      "           0       0.17      0.17      0.17       242\n",
      "           1       0.08      0.32      0.13       123\n",
      "           2       0.11      0.19      0.14       143\n",
      "           3       0.40      0.04      0.07       647\n",
      "           4       0.00      0.00      0.00       193\n",
      "           5       0.04      0.29      0.07        45\n",
      "           6       0.06      0.13      0.09        47\n",
      "\n",
      "    accuracy                           0.10      1440\n",
      "   macro avg       0.12      0.16      0.09      1440\n",
      "weighted avg       0.23      0.10      0.09      1440\n",
      "\n",
      "Epoch [43/100] Accuracy: 0.1388\n"
     ]
    },
    {
     "name": "stderr",
     "output_type": "stream",
     "text": [
      "100%|██████████| 78/78 [00:07<00:00, 11.03it/s]\n",
      "100%|██████████| 9/9 [00:00<00:00, 22.83it/s]\n"
     ]
    },
    {
     "name": "stdout",
     "output_type": "stream",
     "text": [
      "Epoch [44/100] Training Loss: 0.012426069661973684\n",
      "Epoch [44/100] Validation Loss: 0.012151108682155609\n",
      "              precision    recall  f1-score   support\n",
      "\n",
      "           0       0.17      0.26      0.20       242\n",
      "           1       0.09      0.20      0.13       123\n",
      "           2       0.11      0.20      0.14       143\n",
      "           3       0.62      0.02      0.05       647\n",
      "           4       0.15      0.10      0.12       193\n",
      "           5       0.04      0.16      0.07        45\n",
      "           6       0.05      0.21      0.08        47\n",
      "\n",
      "    accuracy                           0.12      1440\n",
      "   macro avg       0.18      0.17      0.11      1440\n",
      "weighted avg       0.35      0.12      0.10      1440\n",
      "\n",
      "Epoch [44/100] Accuracy: 0.1230\n"
     ]
    },
    {
     "name": "stderr",
     "output_type": "stream",
     "text": [
      "100%|██████████| 78/78 [00:07<00:00, 11.04it/s]\n",
      "100%|██████████| 9/9 [00:00<00:00, 23.23it/s]\n"
     ]
    },
    {
     "name": "stdout",
     "output_type": "stream",
     "text": [
      "Epoch [45/100] Training Loss: 0.012434150043286775\n",
      "Epoch [45/100] Validation Loss: 0.01215241476893425\n",
      "              precision    recall  f1-score   support\n",
      "\n",
      "           0       0.16      0.28      0.20       242\n",
      "           1       0.07      0.11      0.09       123\n",
      "           2       0.11      0.31      0.16       143\n",
      "           3       0.54      0.02      0.04       647\n",
      "           4       0.15      0.07      0.09       193\n",
      "           5       0.04      0.11      0.06        45\n",
      "           6       0.05      0.17      0.07        47\n",
      "\n",
      "    accuracy                           0.12      1440\n",
      "   macro avg       0.16      0.15      0.10      1440\n",
      "weighted avg       0.31      0.12      0.09      1440\n",
      "\n",
      "Epoch [45/100] Accuracy: 0.1649\n"
     ]
    },
    {
     "name": "stderr",
     "output_type": "stream",
     "text": [
      "100%|██████████| 78/78 [00:07<00:00, 11.09it/s]\n",
      "100%|██████████| 9/9 [00:00<00:00, 23.06it/s]\n"
     ]
    },
    {
     "name": "stdout",
     "output_type": "stream",
     "text": [
      "Epoch [46/100] Training Loss: 0.012430111178917997\n",
      "Epoch [46/100] Validation Loss: 0.01213981236020724\n",
      "              precision    recall  f1-score   support\n",
      "\n",
      "           0       0.16      0.26      0.20       242\n",
      "           1       0.09      0.32      0.14       123\n",
      "           2       0.09      0.08      0.08       143\n",
      "           3       0.57      0.01      0.01       647\n",
      "           4       0.15      0.02      0.04       193\n",
      "           5       0.04      0.18      0.07        45\n",
      "           6       0.05      0.28      0.08        47\n",
      "\n",
      "    accuracy                           0.10      1440\n",
      "   macro avg       0.17      0.16      0.09      1440\n",
      "weighted avg       0.32      0.10      0.07      1440\n",
      "\n",
      "Epoch [46/100] Accuracy: 0.1564\n"
     ]
    },
    {
     "name": "stderr",
     "output_type": "stream",
     "text": [
      "100%|██████████| 78/78 [00:07<00:00, 11.02it/s]\n",
      "100%|██████████| 9/9 [00:00<00:00, 21.87it/s]\n"
     ]
    },
    {
     "name": "stdout",
     "output_type": "stream",
     "text": [
      "Epoch [47/100] Training Loss: 0.012428175914619383\n",
      "Epoch [47/100] Validation Loss: 0.012139132453335656\n",
      "              precision    recall  f1-score   support\n",
      "\n",
      "           0       0.16      0.15      0.16       242\n",
      "           1       0.09      0.28      0.13       123\n",
      "           2       0.11      0.27      0.16       143\n",
      "           3       0.49      0.05      0.09       647\n",
      "           4       0.06      0.01      0.02       193\n",
      "           5       0.05      0.24      0.08        45\n",
      "           6       0.08      0.23      0.12        47\n",
      "\n",
      "    accuracy                           0.12      1440\n",
      "   macro avg       0.15      0.18      0.11      1440\n",
      "weighted avg       0.28      0.12      0.10      1440\n",
      "\n",
      "Epoch [47/100] Accuracy: 0.1182\n"
     ]
    },
    {
     "name": "stderr",
     "output_type": "stream",
     "text": [
      "100%|██████████| 78/78 [00:07<00:00, 10.94it/s]\n",
      "100%|██████████| 9/9 [00:00<00:00, 23.27it/s]\n"
     ]
    },
    {
     "name": "stdout",
     "output_type": "stream",
     "text": [
      "Epoch [48/100] Training Loss: 0.012426306103356259\n",
      "Epoch [48/100] Validation Loss: 0.01213485954536332\n",
      "              precision    recall  f1-score   support\n",
      "\n",
      "           0       0.17      0.21      0.19       242\n",
      "           1       0.09      0.19      0.12       123\n",
      "           2       0.12      0.22      0.15       143\n",
      "           3       0.56      0.04      0.07       647\n",
      "           4       0.15      0.12      0.13       193\n",
      "           5       0.04      0.20      0.07        45\n",
      "           6       0.05      0.23      0.09        47\n",
      "\n",
      "    accuracy                           0.12      1440\n",
      "   macro avg       0.17      0.17      0.12      1440\n",
      "weighted avg       0.32      0.12      0.11      1440\n",
      "\n",
      "Epoch [48/100] Accuracy: 0.1357\n"
     ]
    },
    {
     "name": "stderr",
     "output_type": "stream",
     "text": [
      "100%|██████████| 78/78 [00:07<00:00, 11.09it/s]\n",
      "100%|██████████| 9/9 [00:00<00:00, 23.02it/s]\n"
     ]
    },
    {
     "name": "stdout",
     "output_type": "stream",
     "text": [
      "Epoch [49/100] Training Loss: 0.012425755806495447\n",
      "Epoch [49/100] Validation Loss: 0.012161665658156077\n",
      "              precision    recall  f1-score   support\n",
      "\n",
      "           0       0.16      0.14      0.15       242\n",
      "           1       0.09      0.28      0.13       123\n",
      "           2       0.11      0.18      0.13       143\n",
      "           3       0.41      0.05      0.08       647\n",
      "           4       0.04      0.01      0.01       193\n",
      "           5       0.04      0.31      0.07        45\n",
      "           6       0.06      0.15      0.08        47\n",
      "\n",
      "    accuracy                           0.10      1440\n",
      "   macro avg       0.13      0.16      0.09      1440\n",
      "weighted avg       0.24      0.10      0.09      1440\n",
      "\n",
      "Epoch [49/100] Accuracy: 0.1379\n"
     ]
    },
    {
     "name": "stderr",
     "output_type": "stream",
     "text": [
      "100%|██████████| 78/78 [00:07<00:00, 10.93it/s]\n",
      "100%|██████████| 9/9 [00:00<00:00, 22.83it/s]\n"
     ]
    },
    {
     "name": "stdout",
     "output_type": "stream",
     "text": [
      "Epoch [50/100] Training Loss: 0.012416037200403405\n",
      "Epoch [50/100] Validation Loss: 0.012149961955017514\n",
      "              precision    recall  f1-score   support\n",
      "\n",
      "           0       0.17      0.16      0.16       242\n",
      "           1       0.09      0.25      0.13       123\n",
      "           2       0.11      0.19      0.14       143\n",
      "           3       0.43      0.12      0.19       647\n",
      "           4       0.13      0.04      0.06       193\n",
      "           5       0.04      0.13      0.06        45\n",
      "           6       0.06      0.26      0.09        47\n",
      "\n",
      "    accuracy                           0.14      1440\n",
      "   macro avg       0.15      0.16      0.12      1440\n",
      "weighted avg       0.26      0.14      0.15      1440\n",
      "\n",
      "Epoch [50/100] Accuracy: 0.1410\n"
     ]
    },
    {
     "name": "stderr",
     "output_type": "stream",
     "text": [
      "100%|██████████| 78/78 [00:07<00:00, 11.10it/s]\n",
      "100%|██████████| 9/9 [00:00<00:00, 23.17it/s]\n"
     ]
    },
    {
     "name": "stdout",
     "output_type": "stream",
     "text": [
      "Epoch [51/100] Training Loss: 0.012425299367741007\n",
      "Epoch [51/100] Validation Loss: 0.012157178256246778\n",
      "              precision    recall  f1-score   support\n",
      "\n",
      "           0       0.16      0.16      0.16       242\n",
      "           1       0.08      0.28      0.13       123\n",
      "           2       0.11      0.27      0.15       143\n",
      "           3       0.51      0.04      0.08       647\n",
      "           4       0.04      0.01      0.01       193\n",
      "           5       0.04      0.18      0.07        45\n",
      "           6       0.06      0.21      0.10        47\n",
      "\n",
      "    accuracy                           0.11      1440\n",
      "   macro avg       0.14      0.17      0.10      1440\n",
      "weighted avg       0.28      0.11      0.10      1440\n",
      "\n",
      "Epoch [51/100] Accuracy: 0.1338\n"
     ]
    },
    {
     "name": "stderr",
     "output_type": "stream",
     "text": [
      "100%|██████████| 78/78 [00:07<00:00, 11.08it/s]\n",
      "100%|██████████| 9/9 [00:00<00:00, 23.05it/s]\n"
     ]
    },
    {
     "name": "stdout",
     "output_type": "stream",
     "text": [
      "Epoch [52/100] Training Loss: 0.012423954609824633\n",
      "Epoch [52/100] Validation Loss: 0.012165304356151157\n",
      "              precision    recall  f1-score   support\n",
      "\n",
      "           0       0.17      0.23      0.20       242\n",
      "           1       0.08      0.12      0.10       123\n",
      "           2       0.11      0.27      0.15       143\n",
      "           3       0.60      0.03      0.06       647\n",
      "           4       0.14      0.12      0.13       193\n",
      "           5       0.04      0.16      0.07        45\n",
      "           6       0.06      0.23      0.09        47\n",
      "\n",
      "    accuracy                           0.12      1440\n",
      "   macro avg       0.17      0.17      0.11      1440\n",
      "weighted avg       0.34      0.12      0.11      1440\n",
      "\n",
      "Epoch [52/100] Accuracy: 0.1595\n"
     ]
    },
    {
     "name": "stderr",
     "output_type": "stream",
     "text": [
      "100%|██████████| 78/78 [00:07<00:00, 10.94it/s]\n",
      "100%|██████████| 9/9 [00:00<00:00, 21.65it/s]\n"
     ]
    },
    {
     "name": "stdout",
     "output_type": "stream",
     "text": [
      "Epoch [53/100] Training Loss: 0.01242487001266373\n",
      "Epoch [53/100] Validation Loss: 0.012142334464523527\n",
      "              precision    recall  f1-score   support\n",
      "\n",
      "           0       0.17      0.16      0.16       242\n",
      "           1       0.09      0.25      0.13       123\n",
      "           2       0.11      0.15      0.13       143\n",
      "           3       0.48      0.08      0.13       647\n",
      "           4       0.12      0.05      0.07       193\n",
      "           5       0.04      0.24      0.07        45\n",
      "           6       0.04      0.15      0.06        47\n",
      "\n",
      "    accuracy                           0.12      1440\n",
      "   macro avg       0.15      0.15      0.11      1440\n",
      "weighted avg       0.28      0.12      0.12      1440\n",
      "\n",
      "Epoch [53/100] Accuracy: 0.1441\n"
     ]
    },
    {
     "name": "stderr",
     "output_type": "stream",
     "text": [
      "100%|██████████| 78/78 [00:07<00:00, 10.86it/s]\n",
      "100%|██████████| 9/9 [00:00<00:00, 22.21it/s]\n"
     ]
    },
    {
     "name": "stdout",
     "output_type": "stream",
     "text": [
      "Epoch [54/100] Training Loss: 0.012413674724621768\n",
      "Epoch [54/100] Validation Loss: 0.012144737939039866\n",
      "              precision    recall  f1-score   support\n",
      "\n",
      "           0       0.16      0.19      0.17       242\n",
      "           1       0.07      0.10      0.08       123\n",
      "           2       0.10      0.20      0.14       143\n",
      "           3       0.46      0.10      0.17       647\n",
      "           4       0.14      0.11      0.13       193\n",
      "           5       0.03      0.11      0.05        45\n",
      "           6       0.05      0.28      0.09        47\n",
      "\n",
      "    accuracy                           0.13      1440\n",
      "   macro avg       0.14      0.16      0.12      1440\n",
      "weighted avg       0.27      0.13      0.15      1440\n",
      "\n",
      "Epoch [54/100] Accuracy: 0.1383\n"
     ]
    },
    {
     "name": "stderr",
     "output_type": "stream",
     "text": [
      "100%|██████████| 78/78 [00:07<00:00, 10.98it/s]\n",
      "100%|██████████| 9/9 [00:00<00:00, 22.64it/s]\n"
     ]
    },
    {
     "name": "stdout",
     "output_type": "stream",
     "text": [
      "Epoch [55/100] Training Loss: 0.012424017527741804\n",
      "Epoch [55/100] Validation Loss: 0.012151074906190237\n",
      "              precision    recall  f1-score   support\n",
      "\n",
      "           0       0.15      0.25      0.19       242\n",
      "           1       0.08      0.23      0.12       123\n",
      "           2       0.12      0.02      0.04       143\n",
      "           3       0.46      0.08      0.13       647\n",
      "           4       0.09      0.02      0.03       193\n",
      "           5       0.05      0.16      0.07        45\n",
      "           6       0.04      0.34      0.07        47\n",
      "\n",
      "    accuracy                           0.12      1440\n",
      "   macro avg       0.14      0.16      0.09      1440\n",
      "weighted avg       0.27      0.12      0.11      1440\n",
      "\n",
      "Epoch [55/100] Accuracy: 0.1351\n"
     ]
    },
    {
     "name": "stderr",
     "output_type": "stream",
     "text": [
      "100%|██████████| 78/78 [00:07<00:00, 10.99it/s]\n",
      "100%|██████████| 9/9 [00:00<00:00, 22.59it/s]\n"
     ]
    },
    {
     "name": "stdout",
     "output_type": "stream",
     "text": [
      "Epoch [56/100] Training Loss: 0.012421694693771702\n",
      "Epoch [56/100] Validation Loss: 0.01216397351688809\n",
      "              precision    recall  f1-score   support\n",
      "\n",
      "           0       0.16      0.23      0.19       242\n",
      "           1       0.09      0.21      0.12       123\n",
      "           2       0.11      0.10      0.10       143\n",
      "           3       0.41      0.03      0.05       647\n",
      "           4       0.23      0.02      0.03       193\n",
      "           5       0.04      0.29      0.07        45\n",
      "           6       0.03      0.15      0.04        47\n",
      "\n",
      "    accuracy                           0.10      1440\n",
      "   macro avg       0.15      0.15      0.09      1440\n",
      "weighted avg       0.26      0.10      0.08      1440\n",
      "\n",
      "Epoch [56/100] Accuracy: 0.1763\n"
     ]
    },
    {
     "name": "stderr",
     "output_type": "stream",
     "text": [
      "100%|██████████| 78/78 [00:07<00:00, 10.99it/s]\n",
      "100%|██████████| 9/9 [00:00<00:00, 22.65it/s]\n"
     ]
    },
    {
     "name": "stdout",
     "output_type": "stream",
     "text": [
      "Epoch [57/100] Training Loss: 0.012422373410525683\n",
      "Epoch [57/100] Validation Loss: 0.0121497071451611\n",
      "              precision    recall  f1-score   support\n",
      "\n",
      "           0       0.17      0.17      0.17       242\n",
      "           1       0.09      0.21      0.12       123\n",
      "           2       0.11      0.21      0.14       143\n",
      "           3       0.50      0.09      0.16       647\n",
      "           4       0.06      0.01      0.02       193\n",
      "           5       0.04      0.20      0.06        45\n",
      "           6       0.04      0.23      0.08        47\n",
      "\n",
      "    accuracy                           0.12      1440\n",
      "   macro avg       0.14      0.16      0.11      1440\n",
      "weighted avg       0.28      0.12      0.13      1440\n",
      "\n",
      "Epoch [57/100] Accuracy: 0.1369\n"
     ]
    },
    {
     "name": "stderr",
     "output_type": "stream",
     "text": [
      "100%|██████████| 78/78 [00:07<00:00, 10.97it/s]\n",
      "100%|██████████| 9/9 [00:00<00:00, 22.47it/s]\n"
     ]
    },
    {
     "name": "stdout",
     "output_type": "stream",
     "text": [
      "Epoch [58/100] Training Loss: 0.012412212636731354\n",
      "Epoch [58/100] Validation Loss: 0.012151318374607298\n",
      "              precision    recall  f1-score   support\n",
      "\n",
      "           0       0.17      0.23      0.19       242\n",
      "           1       0.07      0.11      0.09       123\n",
      "           2       0.09      0.08      0.08       143\n",
      "           3       0.47      0.17      0.25       647\n",
      "           4       0.13      0.06      0.08       193\n",
      "           5       0.04      0.22      0.07        45\n",
      "           6       0.06      0.30      0.10        47\n",
      "\n",
      "    accuracy                           0.16      1440\n",
      "   macro avg       0.15      0.17      0.12      1440\n",
      "weighted avg       0.28      0.16      0.18      1440\n",
      "\n",
      "Epoch [58/100] Accuracy: 0.1453\n"
     ]
    },
    {
     "name": "stderr",
     "output_type": "stream",
     "text": [
      "100%|██████████| 78/78 [00:07<00:00, 10.98it/s]\n",
      "100%|██████████| 9/9 [00:00<00:00, 22.70it/s]\n"
     ]
    },
    {
     "name": "stdout",
     "output_type": "stream",
     "text": [
      "Epoch [59/100] Training Loss: 0.012416661201669368\n",
      "Epoch [59/100] Validation Loss: 0.012149646629889805\n",
      "              precision    recall  f1-score   support\n",
      "\n",
      "           0       0.16      0.18      0.17       242\n",
      "           1       0.07      0.15      0.10       123\n",
      "           2       0.11      0.18      0.13       143\n",
      "           3       0.48      0.15      0.22       647\n",
      "           4       0.05      0.02      0.02       193\n",
      "           5       0.05      0.16      0.07        45\n",
      "           6       0.05      0.23      0.08        47\n",
      "\n",
      "    accuracy                           0.14      1440\n",
      "   macro avg       0.14      0.15      0.11      1440\n",
      "weighted avg       0.27      0.14      0.16      1440\n",
      "\n",
      "Epoch [59/100] Accuracy: 0.1530\n"
     ]
    },
    {
     "name": "stderr",
     "output_type": "stream",
     "text": [
      "100%|██████████| 78/78 [00:07<00:00, 10.84it/s]\n",
      "100%|██████████| 9/9 [00:00<00:00, 22.23it/s]\n"
     ]
    },
    {
     "name": "stdout",
     "output_type": "stream",
     "text": [
      "Epoch [60/100] Training Loss: 0.012412142152611634\n",
      "Epoch [60/100] Validation Loss: 0.01215617780884107\n",
      "              precision    recall  f1-score   support\n",
      "\n",
      "           0       0.17      0.23      0.20       242\n",
      "           1       0.06      0.08      0.07       123\n",
      "           2       0.08      0.15      0.11       143\n",
      "           3       0.44      0.16      0.23       647\n",
      "           4       0.14      0.09      0.11       193\n",
      "           5       0.03      0.11      0.05        45\n",
      "           6       0.05      0.23      0.09        47\n",
      "\n",
      "    accuracy                           0.15      1440\n",
      "   macro avg       0.14      0.15      0.12      1440\n",
      "weighted avg       0.26      0.15      0.17      1440\n",
      "\n",
      "Epoch [60/100] Accuracy: 0.1376\n"
     ]
    },
    {
     "name": "stderr",
     "output_type": "stream",
     "text": [
      "100%|██████████| 78/78 [00:07<00:00, 10.98it/s]\n",
      "100%|██████████| 9/9 [00:00<00:00, 22.49it/s]\n"
     ]
    },
    {
     "name": "stdout",
     "output_type": "stream",
     "text": [
      "Epoch [61/100] Training Loss: 0.01243529716964347\n",
      "Epoch [61/100] Validation Loss: 0.012164883646700117\n",
      "              precision    recall  f1-score   support\n",
      "\n",
      "           0       0.17      0.18      0.18       242\n",
      "           1       0.04      0.07      0.06       123\n",
      "           2       0.11      0.20      0.14       143\n",
      "           3       0.52      0.06      0.11       647\n",
      "           4       0.10      0.10      0.10       193\n",
      "           5       0.04      0.29      0.07        45\n",
      "           6       0.03      0.11      0.05        47\n",
      "\n",
      "    accuracy                           0.11      1440\n",
      "   macro avg       0.15      0.14      0.10      1440\n",
      "weighted avg       0.29      0.11      0.11      1440\n",
      "\n",
      "Epoch [61/100] Accuracy: 0.1335\n"
     ]
    },
    {
     "name": "stderr",
     "output_type": "stream",
     "text": [
      "100%|██████████| 78/78 [00:07<00:00, 11.01it/s]\n",
      "100%|██████████| 9/9 [00:00<00:00, 23.14it/s]\n"
     ]
    },
    {
     "name": "stdout",
     "output_type": "stream",
     "text": [
      "Epoch [62/100] Training Loss: 0.012416320448487896\n",
      "Epoch [62/100] Validation Loss: 0.012149906158447266\n",
      "              precision    recall  f1-score   support\n",
      "\n",
      "           0       0.17      0.20      0.19       242\n",
      "           1       0.02      0.02      0.02       123\n",
      "           2       0.11      0.19      0.14       143\n",
      "           3       0.45      0.08      0.13       647\n",
      "           4       0.13      0.12      0.13       193\n",
      "           5       0.04      0.31      0.08        45\n",
      "           6       0.05      0.17      0.08        47\n",
      "\n",
      "    accuracy                           0.12      1440\n",
      "   macro avg       0.14      0.16      0.11      1440\n",
      "weighted avg       0.26      0.12      0.13      1440\n",
      "\n",
      "Epoch [62/100] Accuracy: 0.1608\n"
     ]
    },
    {
     "name": "stderr",
     "output_type": "stream",
     "text": [
      "100%|██████████| 78/78 [00:07<00:00, 11.03it/s]\n",
      "100%|██████████| 9/9 [00:00<00:00, 23.49it/s]\n"
     ]
    },
    {
     "name": "stdout",
     "output_type": "stream",
     "text": [
      "Epoch [63/100] Training Loss: 0.012410986060353861\n",
      "Epoch [63/100] Validation Loss: 0.012155909256802665\n",
      "              precision    recall  f1-score   support\n",
      "\n",
      "           0       0.17      0.21      0.19       242\n",
      "           1       0.05      0.11      0.07       123\n",
      "           2       0.07      0.06      0.06       143\n",
      "           3       0.47      0.04      0.08       647\n",
      "           4       0.08      0.02      0.03       193\n",
      "           5       0.05      0.44      0.08        45\n",
      "           6       0.02      0.11      0.04        47\n",
      "\n",
      "    accuracy                           0.09      1440\n",
      "   macro avg       0.13      0.14      0.08      1440\n",
      "weighted avg       0.26      0.09      0.09      1440\n",
      "\n",
      "Epoch [63/100] Accuracy: 0.1540\n"
     ]
    },
    {
     "name": "stderr",
     "output_type": "stream",
     "text": [
      "100%|██████████| 78/78 [00:07<00:00, 11.12it/s]\n",
      "100%|██████████| 9/9 [00:00<00:00, 23.22it/s]\n"
     ]
    },
    {
     "name": "stdout",
     "output_type": "stream",
     "text": [
      "Epoch [64/100] Training Loss: 0.012411362960994592\n",
      "Epoch [64/100] Validation Loss: 0.012162777036428452\n",
      "              precision    recall  f1-score   support\n",
      "\n",
      "           0       0.19      0.14      0.16       242\n",
      "           1       0.05      0.05      0.05       123\n",
      "           2       0.10      0.21      0.13       143\n",
      "           3       0.46      0.19      0.27       647\n",
      "           4       0.13      0.05      0.07       193\n",
      "           5       0.04      0.31      0.07        45\n",
      "           6       0.05      0.15      0.08        47\n",
      "\n",
      "    accuracy                           0.15      1440\n",
      "   macro avg       0.15      0.16      0.12      1440\n",
      "weighted avg       0.27      0.15      0.18      1440\n",
      "\n",
      "Epoch [64/100] Accuracy: 0.1265\n"
     ]
    },
    {
     "name": "stderr",
     "output_type": "stream",
     "text": [
      "100%|██████████| 78/78 [00:07<00:00, 11.07it/s]\n",
      "100%|██████████| 9/9 [00:00<00:00, 23.15it/s]\n"
     ]
    },
    {
     "name": "stdout",
     "output_type": "stream",
     "text": [
      "Epoch [65/100] Training Loss: 0.012411324043502576\n",
      "Epoch [65/100] Validation Loss: 0.012167123125659094\n",
      "              precision    recall  f1-score   support\n",
      "\n",
      "           0       0.17      0.22      0.19       242\n",
      "           1       0.04      0.05      0.04       123\n",
      "           2       0.10      0.22      0.14       143\n",
      "           3       0.54      0.06      0.11       647\n",
      "           4       0.20      0.01      0.01       193\n",
      "           5       0.04      0.36      0.07        45\n",
      "           6       0.04      0.13      0.06        47\n",
      "\n",
      "    accuracy                           0.11      1440\n",
      "   macro avg       0.16      0.15      0.09      1440\n",
      "weighted avg       0.31      0.11      0.10      1440\n",
      "\n",
      "Epoch [65/100] Accuracy: 0.1729\n"
     ]
    },
    {
     "name": "stderr",
     "output_type": "stream",
     "text": [
      "100%|██████████| 78/78 [00:07<00:00, 11.10it/s]\n",
      "100%|██████████| 9/9 [00:00<00:00, 23.63it/s]\n"
     ]
    },
    {
     "name": "stdout",
     "output_type": "stream",
     "text": [
      "Epoch [66/100] Training Loss: 0.012417025358201796\n",
      "Epoch [66/100] Validation Loss: 0.012157849305205875\n",
      "              precision    recall  f1-score   support\n",
      "\n",
      "           0       0.16      0.23      0.19       242\n",
      "           1       0.05      0.08      0.06       123\n",
      "           2       0.11      0.21      0.15       143\n",
      "           3       0.57      0.06      0.10       647\n",
      "           4       0.07      0.02      0.03       193\n",
      "           5       0.05      0.31      0.08        45\n",
      "           6       0.04      0.15      0.06        47\n",
      "\n",
      "    accuracy                           0.11      1440\n",
      "   macro avg       0.15      0.15      0.09      1440\n",
      "weighted avg       0.31      0.11      0.11      1440\n",
      "\n",
      "Epoch [66/100] Accuracy: 0.1370\n"
     ]
    },
    {
     "name": "stderr",
     "output_type": "stream",
     "text": [
      "100%|██████████| 78/78 [00:06<00:00, 11.15it/s]\n",
      "100%|██████████| 9/9 [00:00<00:00, 23.14it/s]\n"
     ]
    },
    {
     "name": "stdout",
     "output_type": "stream",
     "text": [
      "Epoch [67/100] Training Loss: 0.012411425957216575\n",
      "Epoch [67/100] Validation Loss: 0.01215842349661721\n",
      "              precision    recall  f1-score   support\n",
      "\n",
      "           0       0.16      0.20      0.18       242\n",
      "           1       0.05      0.09      0.07       123\n",
      "           2       0.10      0.10      0.10       143\n",
      "           3       0.46      0.14      0.22       647\n",
      "           4       0.07      0.02      0.03       193\n",
      "           5       0.04      0.38      0.08        45\n",
      "           6       0.05      0.15      0.07        47\n",
      "\n",
      "    accuracy                           0.13      1440\n",
      "   macro avg       0.13      0.15      0.10      1440\n",
      "weighted avg       0.26      0.13      0.15      1440\n",
      "\n",
      "Epoch [67/100] Accuracy: 0.1514\n"
     ]
    },
    {
     "name": "stderr",
     "output_type": "stream",
     "text": [
      "100%|██████████| 78/78 [00:07<00:00, 11.05it/s]\n",
      "100%|██████████| 9/9 [00:00<00:00, 23.12it/s]\n"
     ]
    },
    {
     "name": "stdout",
     "output_type": "stream",
     "text": [
      "Epoch [68/100] Training Loss: 0.012408058155306318\n",
      "Epoch [68/100] Validation Loss: 0.012159692247708638\n",
      "              precision    recall  f1-score   support\n",
      "\n",
      "           0       0.18      0.24      0.20       242\n",
      "           1       0.04      0.04      0.04       123\n",
      "           2       0.10      0.16      0.12       143\n",
      "           3       0.47      0.14      0.22       647\n",
      "           4       0.13      0.07      0.09       193\n",
      "           5       0.04      0.27      0.07        45\n",
      "           6       0.06      0.17      0.08        47\n",
      "\n",
      "    accuracy                           0.15      1440\n",
      "   macro avg       0.14      0.16      0.12      1440\n",
      "weighted avg       0.28      0.15      0.16      1440\n",
      "\n",
      "Epoch [68/100] Accuracy: 0.1604\n"
     ]
    },
    {
     "name": "stderr",
     "output_type": "stream",
     "text": [
      "100%|██████████| 78/78 [00:06<00:00, 11.14it/s]\n",
      "100%|██████████| 9/9 [00:00<00:00, 22.90it/s]\n"
     ]
    },
    {
     "name": "stdout",
     "output_type": "stream",
     "text": [
      "Epoch [69/100] Training Loss: 0.012407639537776512\n",
      "Epoch [69/100] Validation Loss: 0.012146209842628902\n",
      "              precision    recall  f1-score   support\n",
      "\n",
      "           0       0.18      0.16      0.17       242\n",
      "           1       0.07      0.12      0.09       123\n",
      "           2       0.09      0.13      0.11       143\n",
      "           3       0.57      0.06      0.10       647\n",
      "           4       0.17      0.11      0.14       193\n",
      "           5       0.04      0.38      0.07        45\n",
      "           6       0.05      0.17      0.08        47\n",
      "\n",
      "    accuracy                           0.11      1440\n",
      "   macro avg       0.17      0.16      0.11      1440\n",
      "weighted avg       0.33      0.11      0.11      1440\n",
      "\n",
      "Epoch [69/100] Accuracy: 0.1332\n"
     ]
    },
    {
     "name": "stderr",
     "output_type": "stream",
     "text": [
      "100%|██████████| 78/78 [00:07<00:00, 10.82it/s]\n",
      "100%|██████████| 9/9 [00:00<00:00, 22.56it/s]\n"
     ]
    },
    {
     "name": "stdout",
     "output_type": "stream",
     "text": [
      "Epoch [70/100] Training Loss: 0.012409868092751873\n",
      "Epoch [70/100] Validation Loss: 0.012157688538233439\n",
      "              precision    recall  f1-score   support\n",
      "\n",
      "           0       0.18      0.19      0.18       242\n",
      "           1       0.07      0.11      0.08       123\n",
      "           2       0.11      0.15      0.13       143\n",
      "           3       0.47      0.05      0.09       647\n",
      "           4       0.12      0.07      0.09       193\n",
      "           5       0.03      0.36      0.06        45\n",
      "           6       0.05      0.15      0.07        47\n",
      "\n",
      "    accuracy                           0.10      1440\n",
      "   macro avg       0.15      0.15      0.10      1440\n",
      "weighted avg       0.28      0.10      0.11      1440\n",
      "\n",
      "Epoch [70/100] Accuracy: 0.1570\n"
     ]
    },
    {
     "name": "stderr",
     "output_type": "stream",
     "text": [
      "100%|██████████| 78/78 [00:07<00:00, 10.98it/s]\n",
      "100%|██████████| 9/9 [00:00<00:00, 22.48it/s]\n"
     ]
    },
    {
     "name": "stdout",
     "output_type": "stream",
     "text": [
      "Epoch [71/100] Training Loss: 0.012408730588099064\n",
      "Epoch [71/100] Validation Loss: 0.012162199368079503\n",
      "              precision    recall  f1-score   support\n",
      "\n",
      "           0       0.16      0.20      0.18       242\n",
      "           1       0.05      0.07      0.06       123\n",
      "           2       0.10      0.20      0.13       143\n",
      "           3       0.53      0.09      0.15       647\n",
      "           4       0.22      0.01      0.02       193\n",
      "           5       0.04      0.38      0.07        45\n",
      "           6       0.03      0.11      0.05        47\n",
      "\n",
      "    accuracy                           0.11      1440\n",
      "   macro avg       0.16      0.15      0.09      1440\n",
      "weighted avg       0.31      0.11      0.12      1440\n",
      "\n",
      "Epoch [71/100] Accuracy: 0.1331\n"
     ]
    },
    {
     "name": "stderr",
     "output_type": "stream",
     "text": [
      "100%|██████████| 78/78 [00:07<00:00, 10.97it/s]\n",
      "100%|██████████| 9/9 [00:00<00:00, 22.66it/s]\n"
     ]
    },
    {
     "name": "stdout",
     "output_type": "stream",
     "text": [
      "Epoch [72/100] Training Loss: 0.01240720590529883\n",
      "Epoch [72/100] Validation Loss: 0.012168180859751172\n",
      "              precision    recall  f1-score   support\n",
      "\n",
      "           0       0.17      0.23      0.20       242\n",
      "           1       0.04      0.09      0.06       123\n",
      "           2       0.11      0.20      0.14       143\n",
      "           3       0.53      0.04      0.08       647\n",
      "           4       0.11      0.04      0.06       193\n",
      "           5       0.04      0.27      0.07        45\n",
      "           6       0.04      0.17      0.07        47\n",
      "\n",
      "    accuracy                           0.10      1440\n",
      "   macro avg       0.15      0.15      0.10      1440\n",
      "weighted avg       0.30      0.10      0.10      1440\n",
      "\n",
      "Epoch [72/100] Accuracy: 0.1692\n"
     ]
    },
    {
     "name": "stderr",
     "output_type": "stream",
     "text": [
      "100%|██████████| 78/78 [00:07<00:00, 10.95it/s]\n",
      "100%|██████████| 9/9 [00:00<00:00, 21.87it/s]\n"
     ]
    },
    {
     "name": "stdout",
     "output_type": "stream",
     "text": [
      "Epoch [73/100] Training Loss: 0.012399237382410978\n",
      "Epoch [73/100] Validation Loss: 0.012140567766295539\n",
      "              precision    recall  f1-score   support\n",
      "\n",
      "           0       0.16      0.19      0.18       242\n",
      "           1       0.05      0.11      0.07       123\n",
      "           2       0.10      0.13      0.11       143\n",
      "           3       0.60      0.03      0.06       647\n",
      "           4       0.16      0.10      0.12       193\n",
      "           5       0.04      0.33      0.07        45\n",
      "           6       0.03      0.11      0.05        47\n",
      "\n",
      "    accuracy                           0.10      1440\n",
      "   macro avg       0.16      0.14      0.09      1440\n",
      "weighted avg       0.33      0.10      0.09      1440\n",
      "\n",
      "Epoch [73/100] Accuracy: 0.1557\n"
     ]
    },
    {
     "name": "stderr",
     "output_type": "stream",
     "text": [
      "100%|██████████| 78/78 [00:07<00:00, 10.94it/s]\n",
      "100%|██████████| 9/9 [00:00<00:00, 20.35it/s]\n",
      "/home2/suyash.mathur/anaconda3/envs/mindeye/lib/python3.10/site-packages/sklearn/metrics/_classification.py:1471: UndefinedMetricWarning: Precision and F-score are ill-defined and being set to 0.0 in labels with no predicted samples. Use `zero_division` parameter to control this behavior.\n",
      "  _warn_prf(average, modifier, msg_start, len(result))\n",
      "/home2/suyash.mathur/anaconda3/envs/mindeye/lib/python3.10/site-packages/sklearn/metrics/_classification.py:1471: UndefinedMetricWarning: Precision and F-score are ill-defined and being set to 0.0 in labels with no predicted samples. Use `zero_division` parameter to control this behavior.\n",
      "  _warn_prf(average, modifier, msg_start, len(result))\n",
      "/home2/suyash.mathur/anaconda3/envs/mindeye/lib/python3.10/site-packages/sklearn/metrics/_classification.py:1471: UndefinedMetricWarning: Precision and F-score are ill-defined and being set to 0.0 in labels with no predicted samples. Use `zero_division` parameter to control this behavior.\n",
      "  _warn_prf(average, modifier, msg_start, len(result))\n"
     ]
    },
    {
     "name": "stdout",
     "output_type": "stream",
     "text": [
      "Epoch [74/100] Training Loss: 0.01240226259097666\n",
      "Epoch [74/100] Validation Loss: 0.012197483993238873\n",
      "              precision    recall  f1-score   support\n",
      "\n",
      "           0       0.19      0.23      0.20       242\n",
      "           1       0.09      0.43      0.15       123\n",
      "           2       0.09      0.09      0.09       143\n",
      "           3       0.43      0.08      0.13       647\n",
      "           4       0.12      0.13      0.13       193\n",
      "           5       0.04      0.09      0.06        45\n",
      "           6       0.00      0.00      0.00        47\n",
      "\n",
      "    accuracy                           0.14      1440\n",
      "   macro avg       0.14      0.15      0.11      1440\n",
      "weighted avg       0.26      0.14      0.13      1440\n",
      "\n",
      "Epoch [74/100] Accuracy: 0.1498\n"
     ]
    },
    {
     "name": "stderr",
     "output_type": "stream",
     "text": [
      "100%|██████████| 78/78 [00:07<00:00, 10.93it/s]\n",
      "100%|██████████| 9/9 [00:00<00:00, 22.23it/s]\n"
     ]
    },
    {
     "name": "stdout",
     "output_type": "stream",
     "text": [
      "Epoch [75/100] Training Loss: 0.012450765688359244\n",
      "Epoch [75/100] Validation Loss: 0.012156946377621757\n",
      "              precision    recall  f1-score   support\n",
      "\n",
      "           0       0.18      0.19      0.19       242\n",
      "           1       0.09      0.30      0.14       123\n",
      "           2       0.09      0.16      0.12       143\n",
      "           3       0.60      0.03      0.06       647\n",
      "           4       0.13      0.11      0.12       193\n",
      "           5       0.05      0.11      0.07        45\n",
      "           6       0.05      0.21      0.08        47\n",
      "\n",
      "    accuracy                           0.11      1440\n",
      "   macro avg       0.17      0.16      0.11      1440\n",
      "weighted avg       0.34      0.11      0.10      1440\n",
      "\n",
      "Epoch [75/100] Accuracy: 0.1503\n"
     ]
    },
    {
     "name": "stderr",
     "output_type": "stream",
     "text": [
      "100%|██████████| 78/78 [00:07<00:00, 10.77it/s]\n",
      "100%|██████████| 9/9 [00:00<00:00, 22.05it/s]\n"
     ]
    },
    {
     "name": "stdout",
     "output_type": "stream",
     "text": [
      "Epoch [76/100] Training Loss: 0.012410612252753242\n",
      "Epoch [76/100] Validation Loss: 0.012154269384013282\n",
      "              precision    recall  f1-score   support\n",
      "\n",
      "           0       0.16      0.24      0.19       242\n",
      "           1       0.08      0.15      0.10       123\n",
      "           2       0.12      0.15      0.13       143\n",
      "           3       0.56      0.07      0.12       647\n",
      "           4       0.13      0.03      0.05       193\n",
      "           5       0.05      0.22      0.08        45\n",
      "           6       0.04      0.28      0.07        47\n",
      "\n",
      "    accuracy                           0.12      1440\n",
      "   macro avg       0.16      0.16      0.11      1440\n",
      "weighted avg       0.32      0.12      0.12      1440\n",
      "\n",
      "Epoch [76/100] Accuracy: 0.1182\n"
     ]
    },
    {
     "name": "stderr",
     "output_type": "stream",
     "text": [
      "100%|██████████| 78/78 [00:07<00:00,  9.77it/s]\n",
      "100%|██████████| 9/9 [00:00<00:00, 22.24it/s]\n"
     ]
    },
    {
     "name": "stdout",
     "output_type": "stream",
     "text": [
      "Epoch [77/100] Training Loss: 0.012417151918355658\n",
      "Epoch [77/100] Validation Loss: 0.012158146335019005\n",
      "              precision    recall  f1-score   support\n",
      "\n",
      "           0       0.18      0.20      0.19       242\n",
      "           1       0.07      0.20      0.10       123\n",
      "           2       0.10      0.16      0.12       143\n",
      "           3       0.49      0.10      0.17       647\n",
      "           4       0.11      0.04      0.05       193\n",
      "           5       0.04      0.20      0.07        45\n",
      "           6       0.05      0.17      0.08        47\n",
      "\n",
      "    accuracy                           0.13      1440\n",
      "   macro avg       0.15      0.15      0.11      1440\n",
      "weighted avg       0.28      0.13      0.14      1440\n",
      "\n",
      "Epoch [77/100] Accuracy: 0.1205\n"
     ]
    },
    {
     "name": "stderr",
     "output_type": "stream",
     "text": [
      "100%|██████████| 78/78 [00:07<00:00, 10.91it/s]\n",
      "100%|██████████| 9/9 [00:00<00:00, 22.27it/s]\n"
     ]
    },
    {
     "name": "stdout",
     "output_type": "stream",
     "text": [
      "Epoch [78/100] Training Loss: 0.012406787620564479\n",
      "Epoch [78/100] Validation Loss: 0.012149037503533893\n",
      "              precision    recall  f1-score   support\n",
      "\n",
      "           0       0.19      0.24      0.21       242\n",
      "           1       0.08      0.28      0.12       123\n",
      "           2       0.10      0.06      0.07       143\n",
      "           3       0.62      0.02      0.05       647\n",
      "           4       0.20      0.06      0.09       193\n",
      "           5       0.04      0.24      0.06        45\n",
      "           6       0.06      0.28      0.10        47\n",
      "\n",
      "    accuracy                           0.10      1440\n",
      "   macro avg       0.18      0.17      0.10      1440\n",
      "weighted avg       0.35      0.10      0.09      1440\n",
      "\n",
      "Epoch [78/100] Accuracy: 0.1310\n"
     ]
    },
    {
     "name": "stderr",
     "output_type": "stream",
     "text": [
      "100%|██████████| 78/78 [00:07<00:00, 10.90it/s]\n",
      "100%|██████████| 9/9 [00:00<00:00, 22.87it/s]\n"
     ]
    },
    {
     "name": "stdout",
     "output_type": "stream",
     "text": [
      "Epoch [79/100] Training Loss: 0.012395948364930607\n",
      "Epoch [79/100] Validation Loss: 0.012131288399298985\n",
      "              precision    recall  f1-score   support\n",
      "\n",
      "           0       0.18      0.15      0.16       242\n",
      "           1       0.06      0.15      0.09       123\n",
      "           2       0.11      0.14      0.12       143\n",
      "           3       0.44      0.11      0.18       647\n",
      "           4       0.12      0.04      0.06       193\n",
      "           5       0.04      0.29      0.07        45\n",
      "           6       0.06      0.26      0.10        47\n",
      "\n",
      "    accuracy                           0.12      1440\n",
      "   macro avg       0.15      0.16      0.11      1440\n",
      "weighted avg       0.27      0.12      0.14      1440\n",
      "\n",
      "Epoch [79/100] Accuracy: 0.1372\n"
     ]
    },
    {
     "name": "stderr",
     "output_type": "stream",
     "text": [
      "100%|██████████| 78/78 [00:07<00:00, 10.84it/s]\n",
      "100%|██████████| 9/9 [00:00<00:00, 22.43it/s]\n"
     ]
    },
    {
     "name": "stdout",
     "output_type": "stream",
     "text": [
      "Epoch [80/100] Training Loss: 0.012401026383107182\n",
      "Epoch [80/100] Validation Loss: 0.012150570253531138\n",
      "              precision    recall  f1-score   support\n",
      "\n",
      "           0       0.16      0.21      0.18       242\n",
      "           1       0.07      0.15      0.10       123\n",
      "           2       0.12      0.08      0.10       143\n",
      "           3       0.50      0.13      0.21       647\n",
      "           4       0.12      0.05      0.07       193\n",
      "           5       0.04      0.22      0.07        45\n",
      "           6       0.04      0.21      0.07        47\n",
      "\n",
      "    accuracy                           0.14      1440\n",
      "   macro avg       0.15      0.15      0.11      1440\n",
      "weighted avg       0.29      0.14      0.16      1440\n",
      "\n",
      "Epoch [80/100] Accuracy: 0.1357\n"
     ]
    },
    {
     "name": "stderr",
     "output_type": "stream",
     "text": [
      "100%|██████████| 78/78 [00:07<00:00, 10.96it/s]\n",
      "100%|██████████| 9/9 [00:00<00:00, 22.54it/s]\n"
     ]
    },
    {
     "name": "stdout",
     "output_type": "stream",
     "text": [
      "Epoch [81/100] Training Loss: 0.012400586965861446\n",
      "Epoch [81/100] Validation Loss: 0.012145770010020998\n",
      "              precision    recall  f1-score   support\n",
      "\n",
      "           0       0.19      0.11      0.14       242\n",
      "           1       0.06      0.13      0.08       123\n",
      "           2       0.10      0.18      0.13       143\n",
      "           3       0.48      0.12      0.19       647\n",
      "           4       0.16      0.08      0.11       193\n",
      "           5       0.03      0.27      0.06        45\n",
      "           6       0.06      0.21      0.10        47\n",
      "\n",
      "    accuracy                           0.13      1440\n",
      "   macro avg       0.16      0.16      0.12      1440\n",
      "weighted avg       0.29      0.13      0.15      1440\n",
      "\n",
      "Epoch [81/100] Accuracy: 0.1522\n"
     ]
    },
    {
     "name": "stderr",
     "output_type": "stream",
     "text": [
      "100%|██████████| 78/78 [00:07<00:00, 10.90it/s]\n",
      "100%|██████████| 9/9 [00:00<00:00, 21.79it/s]\n"
     ]
    },
    {
     "name": "stdout",
     "output_type": "stream",
     "text": [
      "Epoch [82/100] Training Loss: 0.012397726461681614\n",
      "Epoch [82/100] Validation Loss: 0.01214023878177007\n",
      "              precision    recall  f1-score   support\n",
      "\n",
      "           0       0.15      0.17      0.16       242\n",
      "           1       0.05      0.08      0.06       123\n",
      "           2       0.12      0.23      0.16       143\n",
      "           3       0.49      0.11      0.18       647\n",
      "           4       0.18      0.07      0.10       193\n",
      "           5       0.03      0.18      0.05        45\n",
      "           6       0.05      0.23      0.09        47\n",
      "\n",
      "    accuracy                           0.13      1440\n",
      "   macro avg       0.15      0.15      0.12      1440\n",
      "weighted avg       0.29      0.13      0.15      1440\n",
      "\n",
      "Epoch [82/100] Accuracy: 0.1523\n"
     ]
    },
    {
     "name": "stderr",
     "output_type": "stream",
     "text": [
      "100%|██████████| 78/78 [00:07<00:00, 10.88it/s]\n",
      "100%|██████████| 9/9 [00:00<00:00, 22.66it/s]\n"
     ]
    },
    {
     "name": "stdout",
     "output_type": "stream",
     "text": [
      "Epoch [83/100] Training Loss: 0.012393090953790884\n",
      "Epoch [83/100] Validation Loss: 0.012161280049218072\n",
      "              precision    recall  f1-score   support\n",
      "\n",
      "           0       0.16      0.18      0.17       242\n",
      "           1       0.07      0.15      0.09       123\n",
      "           2       0.11      0.09      0.10       143\n",
      "           3       0.50      0.12      0.19       647\n",
      "           4       0.14      0.07      0.09       193\n",
      "           5       0.03      0.20      0.06        45\n",
      "           6       0.03      0.17      0.06        47\n",
      "\n",
      "    accuracy                           0.13      1440\n",
      "   macro avg       0.15      0.14      0.11      1440\n",
      "weighted avg       0.29      0.13      0.15      1440\n",
      "\n",
      "Epoch [83/100] Accuracy: 0.1650\n"
     ]
    },
    {
     "name": "stderr",
     "output_type": "stream",
     "text": [
      "100%|██████████| 78/78 [00:07<00:00, 10.88it/s]\n",
      "100%|██████████| 9/9 [00:00<00:00, 22.42it/s]\n"
     ]
    },
    {
     "name": "stdout",
     "output_type": "stream",
     "text": [
      "Epoch [84/100] Training Loss: 0.01239066498259408\n",
      "Epoch [84/100] Validation Loss: 0.012156344287925296\n",
      "              precision    recall  f1-score   support\n",
      "\n",
      "           0       0.15      0.21      0.17       242\n",
      "           1       0.08      0.15      0.10       123\n",
      "           2       0.11      0.09      0.10       143\n",
      "           3       0.50      0.15      0.24       647\n",
      "           4       0.13      0.07      0.09       193\n",
      "           5       0.04      0.20      0.06        45\n",
      "           6       0.04      0.17      0.06        47\n",
      "\n",
      "    accuracy                           0.15      1440\n",
      "   macro avg       0.15      0.15      0.12      1440\n",
      "weighted avg       0.29      0.15      0.17      1440\n",
      "\n",
      "Epoch [84/100] Accuracy: 0.1416\n"
     ]
    },
    {
     "name": "stderr",
     "output_type": "stream",
     "text": [
      "100%|██████████| 78/78 [00:07<00:00, 11.02it/s]\n",
      "100%|██████████| 9/9 [00:00<00:00, 22.71it/s]\n"
     ]
    },
    {
     "name": "stdout",
     "output_type": "stream",
     "text": [
      "Epoch [85/100] Training Loss: 0.012398824647530242\n",
      "Epoch [85/100] Validation Loss: 0.012151363492012023\n",
      "              precision    recall  f1-score   support\n",
      "\n",
      "           0       0.17      0.15      0.16       242\n",
      "           1       0.06      0.13      0.08       123\n",
      "           2       0.10      0.15      0.12       143\n",
      "           3       0.46      0.13      0.21       647\n",
      "           4       0.18      0.10      0.13       193\n",
      "           5       0.03      0.22      0.06        45\n",
      "           6       0.05      0.17      0.08        47\n",
      "\n",
      "    accuracy                           0.14      1440\n",
      "   macro avg       0.15      0.15      0.12      1440\n",
      "weighted avg       0.28      0.14      0.16      1440\n",
      "\n",
      "Epoch [85/100] Accuracy: 0.1546\n"
     ]
    },
    {
     "name": "stderr",
     "output_type": "stream",
     "text": [
      "100%|██████████| 78/78 [00:07<00:00, 10.97it/s]\n",
      "100%|██████████| 9/9 [00:00<00:00, 22.62it/s]\n"
     ]
    },
    {
     "name": "stdout",
     "output_type": "stream",
     "text": [
      "Epoch [86/100] Training Loss: 0.012388399428594621\n",
      "Epoch [86/100] Validation Loss: 0.012152421391672559\n",
      "              precision    recall  f1-score   support\n",
      "\n",
      "           0       0.15      0.10      0.12       242\n",
      "           1       0.06      0.13      0.08       123\n",
      "           2       0.12      0.14      0.13       143\n",
      "           3       0.45      0.15      0.22       647\n",
      "           4       0.15      0.11      0.13       193\n",
      "           5       0.04      0.27      0.06        45\n",
      "           6       0.04      0.15      0.07        47\n",
      "\n",
      "    accuracy                           0.14      1440\n",
      "   macro avg       0.15      0.15      0.12      1440\n",
      "weighted avg       0.27      0.14      0.16      1440\n",
      "\n",
      "Epoch [86/100] Accuracy: 0.1535\n"
     ]
    },
    {
     "name": "stderr",
     "output_type": "stream",
     "text": [
      "100%|██████████| 78/78 [00:07<00:00, 10.88it/s]\n",
      "100%|██████████| 9/9 [00:00<00:00, 21.67it/s]\n"
     ]
    },
    {
     "name": "stdout",
     "output_type": "stream",
     "text": [
      "Epoch [87/100] Training Loss: 0.01239023487383298\n",
      "Epoch [87/100] Validation Loss: 0.012168501896990671\n",
      "              precision    recall  f1-score   support\n",
      "\n",
      "           0       0.19      0.10      0.13       242\n",
      "           1       0.07      0.15      0.09       123\n",
      "           2       0.11      0.08      0.10       143\n",
      "           3       0.46      0.18      0.26       647\n",
      "           4       0.17      0.12      0.14       193\n",
      "           5       0.04      0.33      0.08        45\n",
      "           6       0.04      0.13      0.06        47\n",
      "\n",
      "    accuracy                           0.15      1440\n",
      "   macro avg       0.15      0.16      0.12      1440\n",
      "weighted avg       0.28      0.15      0.18      1440\n",
      "\n",
      "Epoch [87/100] Accuracy: 0.1532\n"
     ]
    },
    {
     "name": "stderr",
     "output_type": "stream",
     "text": [
      "100%|██████████| 78/78 [00:07<00:00, 10.92it/s]\n",
      "100%|██████████| 9/9 [00:00<00:00, 22.53it/s]\n"
     ]
    },
    {
     "name": "stdout",
     "output_type": "stream",
     "text": [
      "Epoch [88/100] Training Loss: 0.012390660568160253\n",
      "Epoch [88/100] Validation Loss: 0.01216286246975263\n",
      "              precision    recall  f1-score   support\n",
      "\n",
      "           0       0.16      0.17      0.16       242\n",
      "           1       0.08      0.22      0.11       123\n",
      "           2       0.11      0.14      0.13       143\n",
      "           3       0.51      0.11      0.19       647\n",
      "           4       0.15      0.08      0.10       193\n",
      "           5       0.04      0.18      0.06        45\n",
      "           6       0.04      0.19      0.07        47\n",
      "\n",
      "    accuracy                           0.13      1440\n",
      "   macro avg       0.16      0.16      0.12      1440\n",
      "weighted avg       0.29      0.13      0.15      1440\n",
      "\n",
      "Epoch [88/100] Accuracy: 0.1568\n"
     ]
    },
    {
     "name": "stderr",
     "output_type": "stream",
     "text": [
      "100%|██████████| 78/78 [00:07<00:00, 10.97it/s]\n",
      "100%|██████████| 9/9 [00:00<00:00, 21.32it/s]\n"
     ]
    },
    {
     "name": "stdout",
     "output_type": "stream",
     "text": [
      "Epoch [89/100] Training Loss: 0.012378347410397318\n",
      "Epoch [89/100] Validation Loss: 0.01216264706518915\n",
      "              precision    recall  f1-score   support\n",
      "\n",
      "           0       0.16      0.17      0.17       242\n",
      "           1       0.07      0.15      0.10       123\n",
      "           2       0.12      0.24      0.16       143\n",
      "           3       0.49      0.08      0.13       647\n",
      "           4       0.14      0.09      0.11       193\n",
      "           5       0.02      0.11      0.04        45\n",
      "           6       0.05      0.21      0.08        47\n",
      "\n",
      "    accuracy                           0.12      1440\n",
      "   macro avg       0.15      0.15      0.11      1440\n",
      "weighted avg       0.29      0.12      0.13      1440\n",
      "\n",
      "Epoch [89/100] Accuracy: 0.1633\n"
     ]
    },
    {
     "name": "stderr",
     "output_type": "stream",
     "text": [
      "100%|██████████| 78/78 [00:07<00:00, 10.94it/s]\n",
      "100%|██████████| 9/9 [00:00<00:00, 22.56it/s]\n"
     ]
    },
    {
     "name": "stdout",
     "output_type": "stream",
     "text": [
      "Epoch [90/100] Training Loss: 0.012383870092242092\n",
      "Epoch [90/100] Validation Loss: 0.012167946911520428\n",
      "              precision    recall  f1-score   support\n",
      "\n",
      "           0       0.16      0.17      0.16       242\n",
      "           1       0.06      0.12      0.08       123\n",
      "           2       0.12      0.20      0.15       143\n",
      "           3       0.52      0.13      0.21       647\n",
      "           4       0.17      0.09      0.12       193\n",
      "           5       0.04      0.22      0.07        45\n",
      "           6       0.05      0.19      0.07        47\n",
      "\n",
      "    accuracy                           0.14      1440\n",
      "   macro avg       0.16      0.16      0.12      1440\n",
      "weighted avg       0.30      0.14      0.16      1440\n",
      "\n",
      "Epoch [90/100] Accuracy: 0.1508\n"
     ]
    },
    {
     "name": "stderr",
     "output_type": "stream",
     "text": [
      "100%|██████████| 78/78 [00:07<00:00, 10.86it/s]\n",
      "100%|██████████| 9/9 [00:00<00:00, 21.79it/s]\n"
     ]
    },
    {
     "name": "stdout",
     "output_type": "stream",
     "text": [
      "Epoch [91/100] Training Loss: 0.012383310173677393\n",
      "Epoch [91/100] Validation Loss: 0.012144764843914245\n",
      "              precision    recall  f1-score   support\n",
      "\n",
      "           0       0.15      0.13      0.14       242\n",
      "           1       0.07      0.12      0.09       123\n",
      "           2       0.13      0.24      0.17       143\n",
      "           3       0.46      0.12      0.19       647\n",
      "           4       0.21      0.08      0.12       193\n",
      "           5       0.04      0.33      0.07        45\n",
      "           6       0.05      0.17      0.08        47\n",
      "\n",
      "    accuracy                           0.14      1440\n",
      "   macro avg       0.16      0.17      0.12      1440\n",
      "weighted avg       0.28      0.14      0.15      1440\n",
      "\n",
      "Epoch [91/100] Accuracy: 0.1440\n"
     ]
    },
    {
     "name": "stderr",
     "output_type": "stream",
     "text": [
      "100%|██████████| 78/78 [00:07<00:00, 11.04it/s]\n",
      "100%|██████████| 9/9 [00:00<00:00, 22.20it/s]\n"
     ]
    },
    {
     "name": "stdout",
     "output_type": "stream",
     "text": [
      "Epoch [92/100] Training Loss: 0.012378752148399036\n",
      "Epoch [92/100] Validation Loss: 0.012156472355127335\n",
      "              precision    recall  f1-score   support\n",
      "\n",
      "           0       0.14      0.14      0.14       242\n",
      "           1       0.07      0.15      0.09       123\n",
      "           2       0.12      0.13      0.12       143\n",
      "           3       0.48      0.17      0.25       647\n",
      "           4       0.14      0.06      0.08       193\n",
      "           5       0.04      0.22      0.06        45\n",
      "           6       0.05      0.21      0.09        47\n",
      "\n",
      "    accuracy                           0.15      1440\n",
      "   macro avg       0.15      0.16      0.12      1440\n",
      "weighted avg       0.28      0.15      0.17      1440\n",
      "\n",
      "Epoch [92/100] Accuracy: 0.1524\n"
     ]
    },
    {
     "name": "stderr",
     "output_type": "stream",
     "text": [
      "100%|██████████| 78/78 [00:07<00:00, 11.00it/s]\n",
      "100%|██████████| 9/9 [00:00<00:00, 22.86it/s]\n"
     ]
    },
    {
     "name": "stdout",
     "output_type": "stream",
     "text": [
      "Epoch [93/100] Training Loss: 0.012392102130401584\n",
      "Epoch [93/100] Validation Loss: 0.012153050386243397\n",
      "              precision    recall  f1-score   support\n",
      "\n",
      "           0       0.15      0.12      0.13       242\n",
      "           1       0.07      0.20      0.10       123\n",
      "           2       0.11      0.15      0.12       143\n",
      "           3       0.43      0.11      0.17       647\n",
      "           4       0.11      0.06      0.07       193\n",
      "           5       0.04      0.20      0.06        45\n",
      "           6       0.05      0.17      0.07        47\n",
      "\n",
      "    accuracy                           0.12      1440\n",
      "   macro avg       0.14      0.14      0.11      1440\n",
      "weighted avg       0.25      0.12      0.13      1440\n",
      "\n",
      "Epoch [93/100] Accuracy: 0.1654\n"
     ]
    },
    {
     "name": "stderr",
     "output_type": "stream",
     "text": [
      "100%|██████████| 78/78 [00:07<00:00, 10.93it/s]\n",
      "100%|██████████| 9/9 [00:00<00:00, 22.80it/s]\n"
     ]
    },
    {
     "name": "stdout",
     "output_type": "stream",
     "text": [
      "Epoch [94/100] Training Loss: 0.012386026420815648\n",
      "Epoch [94/100] Validation Loss: 0.012183041953378253\n",
      "              precision    recall  f1-score   support\n",
      "\n",
      "           0       0.15      0.19      0.17       242\n",
      "           1       0.07      0.15      0.10       123\n",
      "           2       0.11      0.15      0.12       143\n",
      "           3       0.43      0.11      0.17       647\n",
      "           4       0.10      0.05      0.07       193\n",
      "           5       0.04      0.16      0.06        45\n",
      "           6       0.04      0.19      0.07        47\n",
      "\n",
      "    accuracy                           0.13      1440\n",
      "   macro avg       0.13      0.14      0.11      1440\n",
      "weighted avg       0.25      0.13      0.14      1440\n",
      "\n",
      "Epoch [94/100] Accuracy: 0.1666\n"
     ]
    },
    {
     "name": "stderr",
     "output_type": "stream",
     "text": [
      "100%|██████████| 78/78 [00:07<00:00, 11.11it/s]\n",
      "100%|██████████| 9/9 [00:00<00:00, 23.15it/s]\n"
     ]
    },
    {
     "name": "stdout",
     "output_type": "stream",
     "text": [
      "Epoch [95/100] Training Loss: 0.012383741633196516\n",
      "Epoch [95/100] Validation Loss: 0.012166540738609103\n",
      "              precision    recall  f1-score   support\n",
      "\n",
      "           0       0.14      0.18      0.16       242\n",
      "           1       0.06      0.10      0.07       123\n",
      "           2       0.11      0.17      0.14       143\n",
      "           3       0.41      0.07      0.12       647\n",
      "           4       0.10      0.06      0.08       193\n",
      "           5       0.05      0.27      0.09        45\n",
      "           6       0.04      0.21      0.07        47\n",
      "\n",
      "    accuracy                           0.11      1440\n",
      "   macro avg       0.13      0.15      0.10      1440\n",
      "weighted avg       0.24      0.11      0.11      1440\n",
      "\n",
      "Epoch [95/100] Accuracy: 0.1572\n"
     ]
    },
    {
     "name": "stderr",
     "output_type": "stream",
     "text": [
      "100%|██████████| 78/78 [00:07<00:00, 11.01it/s]\n",
      "100%|██████████| 9/9 [00:00<00:00, 22.82it/s]\n"
     ]
    },
    {
     "name": "stdout",
     "output_type": "stream",
     "text": [
      "Epoch [96/100] Training Loss: 0.012377663946414055\n",
      "Epoch [96/100] Validation Loss: 0.01217144669757949\n",
      "              precision    recall  f1-score   support\n",
      "\n",
      "           0       0.14      0.13      0.14       242\n",
      "           1       0.06      0.13      0.08       123\n",
      "           2       0.12      0.19      0.15       143\n",
      "           3       0.47      0.11      0.18       647\n",
      "           4       0.15      0.11      0.13       193\n",
      "           5       0.04      0.22      0.07        45\n",
      "           6       0.03      0.13      0.05        47\n",
      "\n",
      "    accuracy                           0.13      1440\n",
      "   macro avg       0.15      0.15      0.11      1440\n",
      "weighted avg       0.28      0.13      0.14      1440\n",
      "\n",
      "Epoch [96/100] Accuracy: 0.1572\n"
     ]
    },
    {
     "name": "stderr",
     "output_type": "stream",
     "text": [
      "100%|██████████| 78/78 [00:07<00:00, 10.80it/s]\n",
      "100%|██████████| 9/9 [00:00<00:00, 21.62it/s]\n"
     ]
    },
    {
     "name": "stdout",
     "output_type": "stream",
     "text": [
      "Epoch [97/100] Training Loss: 0.012374980792847356\n",
      "Epoch [97/100] Validation Loss: 0.012178502976894379\n",
      "              precision    recall  f1-score   support\n",
      "\n",
      "           0       0.16      0.18      0.17       242\n",
      "           1       0.07      0.16      0.10       123\n",
      "           2       0.10      0.13      0.11       143\n",
      "           3       0.46      0.07      0.12       647\n",
      "           4       0.13      0.11      0.12       193\n",
      "           5       0.03      0.18      0.05        45\n",
      "           6       0.05      0.17      0.08        47\n",
      "\n",
      "    accuracy                           0.12      1440\n",
      "   macro avg       0.14      0.14      0.11      1440\n",
      "weighted avg       0.27      0.12      0.12      1440\n",
      "\n",
      "Epoch [97/100] Accuracy: 0.1677\n"
     ]
    },
    {
     "name": "stderr",
     "output_type": "stream",
     "text": [
      "100%|██████████| 78/78 [00:07<00:00, 10.90it/s]\n",
      "100%|██████████| 9/9 [00:00<00:00, 22.52it/s]\n"
     ]
    },
    {
     "name": "stdout",
     "output_type": "stream",
     "text": [
      "Epoch [98/100] Training Loss: 0.012368319647115815\n",
      "Epoch [98/100] Validation Loss: 0.012170134319199456\n",
      "              precision    recall  f1-score   support\n",
      "\n",
      "           0       0.15      0.16      0.16       242\n",
      "           1       0.06      0.13      0.08       123\n",
      "           2       0.12      0.13      0.13       143\n",
      "           3       0.44      0.06      0.11       647\n",
      "           4       0.15      0.15      0.15       193\n",
      "           5       0.03      0.20      0.05        45\n",
      "           6       0.04      0.15      0.06        47\n",
      "\n",
      "    accuracy                           0.11      1440\n",
      "   macro avg       0.14      0.14      0.10      1440\n",
      "weighted avg       0.26      0.11      0.12      1440\n",
      "\n",
      "Epoch [98/100] Accuracy: 0.1516\n"
     ]
    },
    {
     "name": "stderr",
     "output_type": "stream",
     "text": [
      "100%|██████████| 78/78 [00:07<00:00, 10.95it/s]\n",
      "100%|██████████| 9/9 [00:00<00:00, 22.49it/s]\n"
     ]
    },
    {
     "name": "stdout",
     "output_type": "stream",
     "text": [
      "Epoch [99/100] Training Loss: 0.01236772110470215\n",
      "Epoch [99/100] Validation Loss: 0.012167895088593166\n",
      "              precision    recall  f1-score   support\n",
      "\n",
      "           0       0.16      0.18      0.17       242\n",
      "           1       0.08      0.15      0.10       123\n",
      "           2       0.12      0.14      0.13       143\n",
      "           3       0.45      0.06      0.10       647\n",
      "           4       0.14      0.16      0.15       193\n",
      "           5       0.04      0.24      0.06        45\n",
      "           6       0.05      0.17      0.08        47\n",
      "\n",
      "    accuracy                           0.12      1440\n",
      "   macro avg       0.15      0.16      0.11      1440\n",
      "weighted avg       0.27      0.12      0.12      1440\n",
      "\n",
      "Epoch [99/100] Accuracy: 0.1576\n"
     ]
    },
    {
     "name": "stderr",
     "output_type": "stream",
     "text": [
      "100%|██████████| 78/78 [00:07<00:00, 10.94it/s]\n",
      "100%|██████████| 9/9 [00:00<00:00, 22.36it/s]\n"
     ]
    },
    {
     "name": "stdout",
     "output_type": "stream",
     "text": [
      "Epoch [100/100] Training Loss: 0.012367958270404244\n",
      "Epoch [100/100] Validation Loss: 0.012174929678440093\n",
      "              precision    recall  f1-score   support\n",
      "\n",
      "           0       0.15      0.19      0.17       242\n",
      "           1       0.06      0.09      0.07       123\n",
      "           2       0.12      0.18      0.14       143\n",
      "           3       0.51      0.08      0.13       647\n",
      "           4       0.14      0.12      0.13       193\n",
      "           5       0.04      0.24      0.07        45\n",
      "           6       0.06      0.17      0.08        47\n",
      "\n",
      "    accuracy                           0.12      1440\n",
      "   macro avg       0.15      0.15      0.11      1440\n",
      "weighted avg       0.29      0.12      0.13      1440\n",
      "\n",
      "Epoch [100/100] Accuracy: 0.1548\n",
      "Training complete!\n",
      "=========================BEST MODEL DETAILS=========================\n",
      "Best model at epoch 79 with validation loss: 17.46905529499054\n",
      "              precision    recall  f1-score   support\n",
      "\n",
      "           0       0.18      0.15      0.16       242\n",
      "           1       0.06      0.15      0.09       123\n",
      "           2       0.11      0.14      0.12       143\n",
      "           3       0.44      0.11      0.18       647\n",
      "           4       0.12      0.04      0.06       193\n",
      "           5       0.04      0.29      0.07        45\n",
      "           6       0.06      0.26      0.10        47\n",
      "\n",
      "    accuracy                           0.12      1440\n",
      "   macro avg       0.15      0.16      0.11      1440\n",
      "weighted avg       0.27      0.12      0.14      1440\n",
      "\n",
      "Best model saved at: /tmp/semeval24_task3/final_models/emotion_models/best_model.pt\n"
     ]
    }
   ],
   "source": [
    "from torch.optim import AdamW\n",
    "from tqdm import tqdm\n",
    "from sklearn.metrics import classification_report\n",
    "from transformers import get_linear_schedule_with_warmup\n",
    "\n",
    "# Define your model\n",
    "# model = EmotionClassifier(input_size=11237, hidden_size=5000, num_layers=2, num_heads=2, dropout=0.2, num_emotions=7)\n",
    "model = EmotionClassifier(input_size=768+6373+4096, hidden_size=2000, num_layers=3, dropout=0.6, num_emotions=7)\n",
    "model.to(\"cuda\")\n",
    "\n",
    "# Define your loss function and optimizer\n",
    "weights_tensor = torch.tensor(np.array(indexer.weights)).to(\"cuda\").float()\n",
    "# weights_tensor = torch.tensor(np.array([1.0, 1.0, 1.0, 0.25, 1.0, 3.0, 3.0])).to(\"cuda\").float()\n",
    "criterion = nn.CrossEntropyLoss(\n",
    "    weight=weights_tensor,\n",
    "    ignore_index=7\n",
    ")\n",
    "\n",
    "num_epochs = 100\n",
    "\n",
    "optimizer = AdamW(model.parameters(), lr=1e-4)\n",
    "\n",
    "total_steps = len(train_dataloader) * num_epochs\n",
    "\n",
    "scheduler = get_linear_schedule_with_warmup(\n",
    "    optimizer,\n",
    "    num_warmup_steps=0,\n",
    "    num_training_steps=total_steps\n",
    ")\n",
    "\n",
    "best_model_file = None\n",
    "best_val_loss = float('inf')\n",
    "best_epoch = -1\n",
    "best_classification_report = None\n",
    "\n",
    "\n",
    "# criterion = FocalLoss(gamma=2.0)\n",
    "\n",
    "# Define training parameters\n",
    "\n",
    "# Training loop\n",
    "for epoch in (range(num_epochs)):\n",
    "    model.train()  # Set the model to training mode\n",
    "    total_loss = 0.0\n",
    "    total_tokens = 0\n",
    "    total_correct = 0\n",
    "    total_predictions = 0\n",
    "\n",
    "    for batch in tqdm(train_dataloader):  # Assuming you have a DataLoader for your dataset\n",
    "        # Extract data from the batch\n",
    "        audio = batch['audio'].to('cuda')\n",
    "        video = batch['video'].to('cuda')\n",
    "        text = batch['text'].to('cuda')\n",
    "        emotion_indices = batch['emotion_labels'].to('cuda')\n",
    "        pad_mask = batch['pad_mask'].to('cuda')\n",
    "\n",
    "        # Forward pass\n",
    "        emotion_logits = model(audio, video, text)\n",
    "\n",
    "        # Reshape emotion_logits\n",
    "        emotion_logits = emotion_logits.view(-1, emotion_logits.size(-1))\n",
    "\n",
    "        # Flatten emotion_indices (assuming it's a 2D tensor with shape [batch_size, max_sequence_length])\n",
    "        emotion_indices = emotion_indices.view(-1)\n",
    "\n",
    "        # Calculate a mask to exclude padded positions from the loss\n",
    "        pad_mask = pad_mask.view(-1).float()\n",
    "\n",
    "        # Calculate the loss, excluding padded positions\n",
    "        loss = criterion(emotion_logits, emotion_indices)\n",
    "        # masked_loss = torch.sum(loss * pad_mask) / torch.sum(pad_mask)\n",
    "        masked_loss = loss# *pad_mask\n",
    "        # Backpropagation and optimization\n",
    "        optimizer.zero_grad()\n",
    "        masked_loss.backward()\n",
    "        optimizer.step()\n",
    "        \n",
    "\n",
    "        total_loss += masked_loss.item()\n",
    "        total_tokens += torch.sum(pad_mask).item()\n",
    "        \n",
    "        predicted_emotions = torch.argmax(emotion_logits, dim=1)\n",
    "        correct_predictions = ((predicted_emotions == emotion_indices) * pad_mask).sum().item()\n",
    "\n",
    "        total_correct += correct_predictions\n",
    "        total_predictions += torch.sum(pad_mask).item()  # Batch size\n",
    "    \n",
    "    scheduler.step()\n",
    "\n",
    "    model.eval()  # Set the model to evaluation mode\n",
    "    total_val_loss = 0.0\n",
    "    total_val_tokens = 0\n",
    "    total_val_correct = 0\n",
    "    total_val_predictions = 0\n",
    "    true_labels = []\n",
    "    predicted_labels = []\n",
    "    padded_labels = []\n",
    "\n",
    "    with torch.no_grad():\n",
    "        for val_batch in tqdm(validation_dataloader):\n",
    "            audio = val_batch['audio'].to('cuda')\n",
    "            video = val_batch['video'].to('cuda')\n",
    "            text = val_batch['text'].to('cuda')\n",
    "            emotion_indices = val_batch['emotion_labels'].to('cuda')\n",
    "            pad_mask = val_batch['pad_mask'].to('cuda')\n",
    "\n",
    "            emotion_logits = model(audio, video, text)\n",
    "\n",
    "            # Reshape emotion_logits\n",
    "            emotion_logits = emotion_logits.view(-1, emotion_logits.size(-1))\n",
    "\n",
    "            # Flatten emotion_indices (assuming it's a 2D tensor with shape [batch_size, max_sequence_length])\n",
    "            emotion_indices = emotion_indices.view(-1)\n",
    "\n",
    "            pad_mask = pad_mask.view(-1)   \n",
    "\n",
    "            # Calculate the loss, excluding padded positions\n",
    "            val_loss = criterion(emotion_logits, emotion_indices)\n",
    "            masked_loss = torch.sum(val_loss * pad_mask) / torch.sum(pad_mask)\n",
    "            \n",
    "            total_val_loss += masked_loss.item()\n",
    "            total_val_tokens += torch.sum(pad_mask).item()\n",
    "            \n",
    "            predicted_emotions_val = torch.argmax(emotion_logits, dim=1)\n",
    "            correct_predictions_val = ((predicted_emotions_val == emotion_indices) * pad_mask).sum().item()\n",
    "            total_val_correct += correct_predictions_val\n",
    "            total_val_predictions += torch.sum(pad_mask).item()\n",
    "\n",
    "            # Store true and predicted labels for F1 score calculation\n",
    "            true_labels.extend(emotion_indices.cpu().numpy())\n",
    "            predicted_labels.extend(predicted_emotions_val.cpu().numpy())\n",
    "            padded_labels.extend(pad_mask.cpu().numpy())\n",
    "\n",
    "    final_true_labels = [label for label, pad in zip(true_labels, padded_labels) if pad == 1]\n",
    "    final_predicted_labels = [label for label, pad in zip(predicted_labels, padded_labels) if pad == 1]\n",
    "    # print(\"=========================\")\n",
    "    # print(final_true_labels)\n",
    "    # print(final_predicted_labels)\n",
    "    # print(\"=========================\")\n",
    "    classification_rep = classification_report(final_true_labels, final_predicted_labels)\n",
    "    \n",
    "    if total_val_loss < best_val_loss:\n",
    "        best_val_loss = total_val_loss\n",
    "        best_epoch = epoch\n",
    "        best_classification_report = classification_rep\n",
    "        best_model_file = f\"/tmp/semeval24_task3/final_models/emotion_models/best_model.pt\"\n",
    "        torch.save(model.state_dict(), best_model_file)\n",
    "\n",
    "    # Calculate and print the average loss for this epoch\n",
    "    avg_loss = total_loss / total_tokens\n",
    "    avg_val_loss = total_val_loss / total_val_tokens\n",
    "    print(f\"Epoch [{epoch + 1}/{num_epochs}] Training Loss: {avg_loss}\")\n",
    "    print(f\"Epoch [{epoch + 1}/{num_epochs}] Validation Loss: {avg_val_loss}\")\n",
    "    print(classification_rep)\n",
    "    print(f\"Epoch [{epoch + 1}/{num_epochs}] Accuracy: {total_correct / total_predictions:.4f}\")\n",
    "\n",
    "    torch.save(model.state_dict(), f\"/tmp/semeval24_task3/final_models/emotion_models/emotion_model_{epoch:02}.pt\")\n",
    "\n",
    "print(\"Training complete!\")\n",
    "print(\"=========================BEST MODEL DETAILS=========================\")\n",
    "print(f\"Best model at epoch {best_epoch + 1} with validation loss: {best_val_loss}\")\n",
    "print(\"Classification Report\\n\", best_classification_report)\n",
    "print(f\"Best model saved at: {best_model_file}\")"
   ]
  },
  {
   "cell_type": "code",
   "execution_count": null,
   "metadata": {},
   "outputs": [],
   "source": []
  }
 ],
 "metadata": {
  "kernelspec": {
   "display_name": "Python 3 (ipykernel)",
   "language": "python",
   "name": "python3"
  },
  "language_info": {
   "codemirror_mode": {
    "name": "ipython",
    "version": 3
   },
   "file_extension": ".py",
   "mimetype": "text/x-python",
   "name": "python",
   "nbconvert_exporter": "python",
   "pygments_lexer": "ipython3",
   "version": "3.10.8"
  }
 },
 "nbformat": 4,
 "nbformat_minor": 4
}
