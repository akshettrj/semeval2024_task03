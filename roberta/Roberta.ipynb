{
 "cells": [
  {
   "cell_type": "code",
   "execution_count": 15,
   "id": "2442d215-c260-4865-8026-ab36c7af7cf1",
   "metadata": {
    "tags": []
   },
   "outputs": [],
   "source": [
    "import transformers"
   ]
  },
  {
   "cell_type": "code",
   "execution_count": 16,
   "id": "cd1a8f77-7a65-4c31-bd59-f74bf5571b5c",
   "metadata": {
    "tags": []
   },
   "outputs": [],
   "source": [
    "TRAIN_FILE = \"/tmp/semeval24_task3/SemEval-2024_Task3/official_data/Training_data/text/training.json\"\n",
    "VAL_FILE = \"/tmp/semeval24_task3/SemEval-2024_Task3/official_data/Training_data/text/testing.json\"\n",
    "TEST_FILE = \"/tmp/semeval24_task3/SemEval-2024_Task3/official_data/Evaluation_Data/Subtask_2_test.json\""
   ]
  },
  {
   "cell_type": "code",
   "execution_count": 17,
   "id": "00f4f882-f74f-476c-b323-534865cae845",
   "metadata": {
    "tags": []
   },
   "outputs": [],
   "source": [
    "CACHE_DIR = \"/tmp/akshett.jindal/.huggingface_cache/\""
   ]
  },
  {
   "cell_type": "code",
   "execution_count": 18,
   "id": "3dbdbad8-ebd6-4403-9d31-6e1cea9f98cf",
   "metadata": {
    "tags": []
   },
   "outputs": [],
   "source": [
    "import json\n",
    "\n",
    "with open(TRAIN_FILE) as f:\n",
    "    train_data = json.load(f)\n",
    "with open(VAL_FILE) as f:\n",
    "    val_data = json.load(f)\n",
    "with open(TEST_FILE) as f:\n",
    "    test_data = json.load(f)"
   ]
  },
  {
   "cell_type": "code",
   "execution_count": 19,
   "id": "1e826985-d7aa-4c6b-8728-c8ecad86b10e",
   "metadata": {
    "tags": []
   },
   "outputs": [
    {
     "data": {
      "text/plain": [
       "(1236, 665, 138)"
      ]
     },
     "execution_count": 19,
     "metadata": {},
     "output_type": "execute_result"
    }
   ],
   "source": [
    "len(train_data), len(test_data), len(val_data)"
   ]
  },
  {
   "cell_type": "code",
   "execution_count": 20,
   "id": "2cfaf998-8158-487a-9140-3e83124aa4cc",
   "metadata": {
    "tags": []
   },
   "outputs": [],
   "source": [
    "# ROBERTA_CONFIG = \"/scratch/semeval24_task3/finetuned_models/deberta-v3-base-seq-classifier-finetuned-emotion/checkpoint-27585\"\n",
    "# ROBERTA_CONFIG = \"SamLowe/roberta-base-go_emotions\"\n",
    "ROBERTA_CONFIG = \"FacebookAI/roberta-large\""
   ]
  },
  {
   "cell_type": "code",
   "execution_count": 21,
   "id": "f3e42c04-604d-4f06-a343-c3dab7c523d3",
   "metadata": {
    "tags": []
   },
   "outputs": [],
   "source": [
    "from transformers import AutoTokenizer, AutoModel\n",
    "\n",
    "tokenizer = AutoTokenizer.from_pretrained(ROBERTA_CONFIG, cache_dir=CACHE_DIR)\n",
    "model = AutoModel.from_pretrained(ROBERTA_CONFIG, cache_dir=CACHE_DIR)"
   ]
  },
  {
   "cell_type": "code",
   "execution_count": 22,
   "id": "98841ea5-3e27-4376-9655-9453f74fe7e9",
   "metadata": {
    "tags": []
   },
   "outputs": [],
   "source": [
    "import torch\n",
    "\n",
    "device = torch.device(\"cuda:3\")"
   ]
  },
  {
   "cell_type": "code",
   "execution_count": 23,
   "id": "461f2288-8d9f-4aff-9471-288b899e3324",
   "metadata": {
    "tags": []
   },
   "outputs": [],
   "source": [
    "_ = model.to(device)"
   ]
  },
  {
   "cell_type": "code",
   "execution_count": 24,
   "id": "f7d3b6f7-339c-4cd5-9a1d-8fe7e76e93f8",
   "metadata": {
    "tags": []
   },
   "outputs": [],
   "source": [
    "final_embeddings = {}"
   ]
  },
  {
   "cell_type": "code",
   "execution_count": 25,
   "id": "cd0c6b69-a9b8-43e5-9de1-c3b41a1261aa",
   "metadata": {
    "tags": []
   },
   "outputs": [
    {
     "name": "stderr",
     "output_type": "stream",
     "text": [
      "100%|██████████| 1236/1236 [03:37<00:00,  5.68it/s]\n",
      "100%|██████████| 138/138 [00:25<00:00,  5.35it/s]\n",
      "100%|██████████| 665/665 [01:53<00:00,  5.86it/s]\n"
     ]
    }
   ],
   "source": [
    "from tqdm.auto import tqdm\n",
    "\n",
    "for data in [train_data, val_data, test_data]:\n",
    "    for conversation in tqdm(data):\n",
    "        for utterance in conversation[\"conversation\"]:\n",
    "            text = utterance[\"text\"]\n",
    "            video_id = utterance[\"video_name\"]\n",
    "            # if video_id in final_embeddings:\n",
    "            #     print(\"dhoka hua!!!!!!!!!!!!!!!\")\n",
    "\n",
    "            inputs = tokenizer(\n",
    "                text, return_tensors=\"pt\",\n",
    "                padding=False, truncation=True,\n",
    "                max_length=512\n",
    "            )\n",
    "            inputs.to(device)\n",
    "\n",
    "            with torch.no_grad():\n",
    "                outputs = model(**inputs)\n",
    "\n",
    "            embeddings = torch.mean(outputs.last_hidden_state, dim=1)\n",
    "\n",
    "            final_embeddings[video_id] = embeddings.cpu()"
   ]
  },
  {
   "cell_type": "code",
   "execution_count": 26,
   "id": "e3d977ca-8c9d-486e-8c44-2b10d1ed7ab9",
   "metadata": {
    "tags": []
   },
   "outputs": [
    {
     "data": {
      "text/plain": [
       "(19920, torch.Size([1, 768]))"
      ]
     },
     "execution_count": 26,
     "metadata": {},
     "output_type": "execute_result"
    }
   ],
   "source": [
    "len(final_embeddings), list(final_embeddings.items())[0][1].shape"
   ]
  },
  {
   "cell_type": "code",
   "execution_count": 27,
   "id": "f95cf3d7-ee43-465b-8bf9-37b3786e89a4",
   "metadata": {
    "tags": []
   },
   "outputs": [],
   "source": [
    "for k, v in final_embeddings.items():\n",
    "    final_embeddings[k] = v.squeeze().cpu().numpy()\n",
    "    # print(v.squeeze().cpu().numpy())\n",
    "    # break"
   ]
  },
  {
   "cell_type": "code",
   "execution_count": 28,
   "id": "4945728c-9273-466d-8ef4-6bd0019041fd",
   "metadata": {
    "tags": []
   },
   "outputs": [],
   "source": [
    "import pickle\n",
    "\n",
    "with open(\"/tmp/semeval24_task3/text_embeddings/text_embeddings_roberta_large.pkl\", \"wb\") as f:\n",
    "    pickle.dump(final_embeddings, f)"
   ]
  },
  {
   "cell_type": "code",
   "execution_count": null,
   "id": "bcc19f8c",
   "metadata": {},
   "outputs": [],
   "source": []
  }
 ],
 "metadata": {
  "kernelspec": {
   "display_name": "Python 3 (ipykernel)",
   "language": "python",
   "name": "python3"
  },
  "language_info": {
   "codemirror_mode": {
    "name": "ipython",
    "version": 3
   },
   "file_extension": ".py",
   "mimetype": "text/x-python",
   "name": "python",
   "nbconvert_exporter": "python",
   "pygments_lexer": "ipython3",
   "version": "3.10.8"
  }
 },
 "nbformat": 4,
 "nbformat_minor": 5
}
